{
 "cells": [
  {
   "cell_type": "code",
   "execution_count": 1,
   "metadata": {
    "cell_id": "00000-5137fe46-5bca-4a55-a07b-834a3e54163a",
    "deepnote_cell_type": "code",
    "deepnote_to_be_reexecuted": false,
    "execution_millis": 1878,
    "execution_start": 1634165630282,
    "source_hash": "7dd0b950"
   },
   "outputs": [],
   "source": [
    " #Importaremos la mayoria de modulos que se utilizaran a lo largo de la práctica\n",
    "\n",
    "# Modulos basicos\n",
    "import pandas as pd\n",
    "import numpy as np\n",
    "import csv\n",
    "import seaborn as sns\n",
    "import matplotlib.pyplot as plt\n",
    "%matplotlib inline\n",
    "plt.style.use('seaborn-darkgrid')\n",
    "\n",
    "# Modulos de scikit-learn\n",
    "from sklearn.linear_model import LogisticRegression\n",
    "from sklearn.neighbors import KNeighborsClassifier\n",
    "from sklearn.metrics import confusion_matrix, classification_report, precision_score, accuracy_score \n",
    "from sklearn import preprocessing\n",
    "\n",
    "from sklearn.discriminant_analysis import LinearDiscriminantAnalysis\n",
    "from sklearn.discriminant_analysis import QuadraticDiscriminantAnalysis\n",
    "from sklearn.naive_bayes import GaussianNB\n",
    "from sklearn.metrics import  roc_auc_score, roc_curve, make_scorer, mean_squared_error\n",
    "from sklearn.inspection import permutation_importance\n",
    "from sklearn.model_selection import train_test_split\n",
    "from sklearn.impute import SimpleImputer\n",
    "from sklearn.mixture import GaussianMixture\n",
    "from sklearn.preprocessing import StandardScaler\n",
    "from sklearn.decomposition import KernelPCA\n",
    "from sklearn.decomposition import FastICA\n",
    "from sklearn.naive_bayes import GaussianNB\n",
    "from sklearn.linear_model import LinearRegression, Ridge, RidgeCV, Lasso, LassoCV\n",
    "from sklearn.pipeline import make_pipeline, Pipeline\n",
    "from sklearn.decomposition import PCA\n",
    "from sklearn.feature_selection import SelectKBest\n",
    "from sklearn.manifold import TSNE\n",
    "from sklearn.feature_selection import chi2\n",
    "from sklearn import feature_selection\n",
    "from sklearn.metrics import r2_score \n",
    "from sklearn.model_selection import GridSearchCV\n",
    "\n",
    "#Balanceo\n",
    "from imblearn.over_sampling import SMOTE\n",
    "\n",
    "# Statmodels\n",
    "import statsmodels.formula.api as smf\n",
    "from statsmodels.gam.api import GLMGam, BSplines"
   ]
  },
  {
   "cell_type": "code",
   "execution_count": 2,
   "metadata": {
    "cell_id": "00001-69da0b0c-fc15-4f2e-be69-7007dd4211a9",
    "deepnote_cell_type": "code",
    "deepnote_to_be_reexecuted": false,
    "execution_millis": 2,
    "execution_start": 1634165632163,
    "source_hash": "57d20f9e"
   },
   "outputs": [],
   "source": [
    "\n",
    "f= open(\"risk_factors_cervical_cancer.csv\")\n",
    "reader = csv.reader(f)\n"
   ]
  },
  {
   "cell_type": "code",
   "execution_count": 3,
   "metadata": {
    "cell_id": "00002-56219d9e-19ce-4cdd-807d-9b08cb13804f",
    "deepnote_cell_type": "code",
    "deepnote_to_be_reexecuted": false,
    "execution_millis": 45,
    "execution_start": 1634165632182,
    "scrolled": false,
    "source_hash": "33675ebd"
   },
   "outputs": [],
   "source": [
    "data = pd.read_csv(f, sep=',', na_values='?')"
   ]
  },
  {
   "cell_type": "markdown",
   "metadata": {
    "cell_id": "00011-f32bbbc3-8114-4b07-a7dc-895111a353b6",
    "deepnote_cell_type": "markdown"
   },
   "source": [
    "## Analisis exploratorio de datos"
   ]
  },
  {
   "cell_type": "markdown",
   "metadata": {
    "cell_id": "00004-b099afa2-0ff5-4946-8cea-76a7573d1399",
    "deepnote_cell_type": "markdown",
    "tags": []
   },
   "source": [
    "Inicialmente miramos la cantidad de datos perdidos con la que cuenta nuestra base de datos para cada una de las variebles, donde es necesario hacer una imputación."
   ]
  },
  {
   "cell_type": "code",
   "execution_count": 4,
   "metadata": {
    "cell_id": "00004-7c664d13-0673-4e13-80f9-33db50a3daf1",
    "deepnote_cell_type": "code",
    "deepnote_to_be_reexecuted": false,
    "execution_millis": 7,
    "execution_start": 1634165632227,
    "source_hash": "c70742ad",
    "tags": []
   },
   "outputs": [
    {
     "data": {
      "text/plain": [
       "Age                                     0\n",
       "Number of sexual partners              26\n",
       "First sexual intercourse                7\n",
       "Num of pregnancies                     56\n",
       "Smokes                                 13\n",
       "Smokes (years)                         13\n",
       "Smokes (packs/year)                    13\n",
       "Hormonal Contraceptives               108\n",
       "Hormonal Contraceptives (years)       108\n",
       "IUD                                   117\n",
       "IUD (years)                           117\n",
       "STDs                                  105\n",
       "STDs (number)                         105\n",
       "STDs:condylomatosis                   105\n",
       "STDs:cervical condylomatosis          105\n",
       "STDs:vaginal condylomatosis           105\n",
       "STDs:vulvo-perineal condylomatosis    105\n",
       "STDs:syphilis                         105\n",
       "STDs:pelvic inflammatory disease      105\n",
       "STDs:genital herpes                   105\n",
       "STDs:molluscum contagiosum            105\n",
       "STDs:AIDS                             105\n",
       "STDs:HIV                              105\n",
       "STDs:Hepatitis B                      105\n",
       "STDs:HPV                              105\n",
       "STDs: Number of diagnosis               0\n",
       "STDs: Time since first diagnosis      787\n",
       "STDs: Time since last diagnosis       787\n",
       "Dx:Cancer                               0\n",
       "Dx:CIN                                  0\n",
       "Dx:HPV                                  0\n",
       "Dx                                      0\n",
       "Hinselmann                              0\n",
       "Schiller                                0\n",
       "Citology                                0\n",
       "Biopsy                                  0\n",
       "dtype: int64"
      ]
     },
     "execution_count": 4,
     "metadata": {},
     "output_type": "execute_result"
    }
   ],
   "source": [
    "data.isna().sum()"
   ]
  },
  {
   "cell_type": "markdown",
   "metadata": {
    "cell_id": "00014-da891ccb-1260-4a31-8fa0-9e3b59456d86",
    "deepnote_cell_type": "text-cell-p",
    "is_collapsed": false,
    "tags": []
   },
   "source": [
    "Eliminamos&nbsp;las&nbsp;columnas&nbsp;menos&nbsp;relevantes&nbsp;debido a que tienen muchos valores NaNs o a que representan poca relevancia para los resultados. "
   ]
  },
  {
   "cell_type": "code",
   "execution_count": 5,
   "metadata": {
    "cell_id": "00012-5573e9ef-6ff9-4c7d-979f-1028ba081c9d",
    "deepnote_cell_type": "code",
    "deepnote_to_be_reexecuted": false,
    "execution_millis": 47,
    "execution_start": 1634165632229,
    "source_hash": "e86d2947"
   },
   "outputs": [],
   "source": [
    "del(data['STDs: Time since first diagnosis'])\n",
    "del(data['STDs: Time since last diagnosis'])\n",
    "del(data['STDs:AIDS'])\n",
    "del(data['STDs:cervical condylomatosis'])"
   ]
  },
  {
   "cell_type": "code",
   "execution_count": 6,
   "metadata": {
    "cell_id": "00013-2a718bdc-8f3b-418b-8751-200142842ee3",
    "deepnote_cell_type": "code",
    "deepnote_to_be_reexecuted": false,
    "execution_millis": 259,
    "execution_start": 1634165632276,
    "scrolled": true,
    "source_hash": "6f8fe57c"
   },
   "outputs": [
    {
     "data": {
      "text/html": [
       "<div>\n",
       "<style scoped>\n",
       "    .dataframe tbody tr th:only-of-type {\n",
       "        vertical-align: middle;\n",
       "    }\n",
       "\n",
       "    .dataframe tbody tr th {\n",
       "        vertical-align: top;\n",
       "    }\n",
       "\n",
       "    .dataframe thead th {\n",
       "        text-align: right;\n",
       "    }\n",
       "</style>\n",
       "<table border=\"1\" class=\"dataframe\">\n",
       "  <thead>\n",
       "    <tr style=\"text-align: right;\">\n",
       "      <th></th>\n",
       "      <th>Age</th>\n",
       "      <th>Number of sexual partners</th>\n",
       "      <th>First sexual intercourse</th>\n",
       "      <th>Num of pregnancies</th>\n",
       "      <th>Smokes</th>\n",
       "      <th>Smokes (years)</th>\n",
       "      <th>Smokes (packs/year)</th>\n",
       "      <th>Hormonal Contraceptives</th>\n",
       "      <th>Hormonal Contraceptives (years)</th>\n",
       "      <th>IUD</th>\n",
       "      <th>IUD (years)</th>\n",
       "      <th>STDs</th>\n",
       "      <th>STDs (number)</th>\n",
       "      <th>STDs:condylomatosis</th>\n",
       "      <th>STDs:vaginal condylomatosis</th>\n",
       "      <th>STDs:vulvo-perineal condylomatosis</th>\n",
       "      <th>STDs:syphilis</th>\n",
       "      <th>STDs:pelvic inflammatory disease</th>\n",
       "      <th>STDs:genital herpes</th>\n",
       "      <th>STDs:molluscum contagiosum</th>\n",
       "      <th>STDs:HIV</th>\n",
       "      <th>STDs:Hepatitis B</th>\n",
       "      <th>STDs:HPV</th>\n",
       "      <th>STDs: Number of diagnosis</th>\n",
       "      <th>Dx:Cancer</th>\n",
       "      <th>Dx:CIN</th>\n",
       "      <th>Dx:HPV</th>\n",
       "      <th>Dx</th>\n",
       "      <th>Hinselmann</th>\n",
       "      <th>Schiller</th>\n",
       "      <th>Citology</th>\n",
       "      <th>Biopsy</th>\n",
       "    </tr>\n",
       "  </thead>\n",
       "  <tbody>\n",
       "    <tr>\n",
       "      <th>0</th>\n",
       "      <td>18</td>\n",
       "      <td>4.0</td>\n",
       "      <td>15.0</td>\n",
       "      <td>1.0</td>\n",
       "      <td>0.0</td>\n",
       "      <td>0.0</td>\n",
       "      <td>0.0</td>\n",
       "      <td>0.0</td>\n",
       "      <td>0.00</td>\n",
       "      <td>0.0</td>\n",
       "      <td>0.0</td>\n",
       "      <td>0.0</td>\n",
       "      <td>0.0</td>\n",
       "      <td>0.0</td>\n",
       "      <td>0.0</td>\n",
       "      <td>0.0</td>\n",
       "      <td>0.0</td>\n",
       "      <td>0.0</td>\n",
       "      <td>0.0</td>\n",
       "      <td>0.0</td>\n",
       "      <td>0.0</td>\n",
       "      <td>0.0</td>\n",
       "      <td>0.0</td>\n",
       "      <td>0</td>\n",
       "      <td>0</td>\n",
       "      <td>0</td>\n",
       "      <td>0</td>\n",
       "      <td>0</td>\n",
       "      <td>0</td>\n",
       "      <td>0</td>\n",
       "      <td>0</td>\n",
       "      <td>0</td>\n",
       "    </tr>\n",
       "    <tr>\n",
       "      <th>1</th>\n",
       "      <td>15</td>\n",
       "      <td>1.0</td>\n",
       "      <td>14.0</td>\n",
       "      <td>1.0</td>\n",
       "      <td>0.0</td>\n",
       "      <td>0.0</td>\n",
       "      <td>0.0</td>\n",
       "      <td>0.0</td>\n",
       "      <td>0.00</td>\n",
       "      <td>0.0</td>\n",
       "      <td>0.0</td>\n",
       "      <td>0.0</td>\n",
       "      <td>0.0</td>\n",
       "      <td>0.0</td>\n",
       "      <td>0.0</td>\n",
       "      <td>0.0</td>\n",
       "      <td>0.0</td>\n",
       "      <td>0.0</td>\n",
       "      <td>0.0</td>\n",
       "      <td>0.0</td>\n",
       "      <td>0.0</td>\n",
       "      <td>0.0</td>\n",
       "      <td>0.0</td>\n",
       "      <td>0</td>\n",
       "      <td>0</td>\n",
       "      <td>0</td>\n",
       "      <td>0</td>\n",
       "      <td>0</td>\n",
       "      <td>0</td>\n",
       "      <td>0</td>\n",
       "      <td>0</td>\n",
       "      <td>0</td>\n",
       "    </tr>\n",
       "    <tr>\n",
       "      <th>2</th>\n",
       "      <td>34</td>\n",
       "      <td>1.0</td>\n",
       "      <td>NaN</td>\n",
       "      <td>1.0</td>\n",
       "      <td>0.0</td>\n",
       "      <td>0.0</td>\n",
       "      <td>0.0</td>\n",
       "      <td>0.0</td>\n",
       "      <td>0.00</td>\n",
       "      <td>0.0</td>\n",
       "      <td>0.0</td>\n",
       "      <td>0.0</td>\n",
       "      <td>0.0</td>\n",
       "      <td>0.0</td>\n",
       "      <td>0.0</td>\n",
       "      <td>0.0</td>\n",
       "      <td>0.0</td>\n",
       "      <td>0.0</td>\n",
       "      <td>0.0</td>\n",
       "      <td>0.0</td>\n",
       "      <td>0.0</td>\n",
       "      <td>0.0</td>\n",
       "      <td>0.0</td>\n",
       "      <td>0</td>\n",
       "      <td>0</td>\n",
       "      <td>0</td>\n",
       "      <td>0</td>\n",
       "      <td>0</td>\n",
       "      <td>0</td>\n",
       "      <td>0</td>\n",
       "      <td>0</td>\n",
       "      <td>0</td>\n",
       "    </tr>\n",
       "    <tr>\n",
       "      <th>3</th>\n",
       "      <td>52</td>\n",
       "      <td>5.0</td>\n",
       "      <td>16.0</td>\n",
       "      <td>4.0</td>\n",
       "      <td>1.0</td>\n",
       "      <td>37.0</td>\n",
       "      <td>37.0</td>\n",
       "      <td>1.0</td>\n",
       "      <td>3.00</td>\n",
       "      <td>0.0</td>\n",
       "      <td>0.0</td>\n",
       "      <td>0.0</td>\n",
       "      <td>0.0</td>\n",
       "      <td>0.0</td>\n",
       "      <td>0.0</td>\n",
       "      <td>0.0</td>\n",
       "      <td>0.0</td>\n",
       "      <td>0.0</td>\n",
       "      <td>0.0</td>\n",
       "      <td>0.0</td>\n",
       "      <td>0.0</td>\n",
       "      <td>0.0</td>\n",
       "      <td>0.0</td>\n",
       "      <td>0</td>\n",
       "      <td>1</td>\n",
       "      <td>0</td>\n",
       "      <td>1</td>\n",
       "      <td>0</td>\n",
       "      <td>0</td>\n",
       "      <td>0</td>\n",
       "      <td>0</td>\n",
       "      <td>0</td>\n",
       "    </tr>\n",
       "    <tr>\n",
       "      <th>4</th>\n",
       "      <td>46</td>\n",
       "      <td>3.0</td>\n",
       "      <td>21.0</td>\n",
       "      <td>4.0</td>\n",
       "      <td>0.0</td>\n",
       "      <td>0.0</td>\n",
       "      <td>0.0</td>\n",
       "      <td>1.0</td>\n",
       "      <td>15.00</td>\n",
       "      <td>0.0</td>\n",
       "      <td>0.0</td>\n",
       "      <td>0.0</td>\n",
       "      <td>0.0</td>\n",
       "      <td>0.0</td>\n",
       "      <td>0.0</td>\n",
       "      <td>0.0</td>\n",
       "      <td>0.0</td>\n",
       "      <td>0.0</td>\n",
       "      <td>0.0</td>\n",
       "      <td>0.0</td>\n",
       "      <td>0.0</td>\n",
       "      <td>0.0</td>\n",
       "      <td>0.0</td>\n",
       "      <td>0</td>\n",
       "      <td>0</td>\n",
       "      <td>0</td>\n",
       "      <td>0</td>\n",
       "      <td>0</td>\n",
       "      <td>0</td>\n",
       "      <td>0</td>\n",
       "      <td>0</td>\n",
       "      <td>0</td>\n",
       "    </tr>\n",
       "    <tr>\n",
       "      <th>...</th>\n",
       "      <td>...</td>\n",
       "      <td>...</td>\n",
       "      <td>...</td>\n",
       "      <td>...</td>\n",
       "      <td>...</td>\n",
       "      <td>...</td>\n",
       "      <td>...</td>\n",
       "      <td>...</td>\n",
       "      <td>...</td>\n",
       "      <td>...</td>\n",
       "      <td>...</td>\n",
       "      <td>...</td>\n",
       "      <td>...</td>\n",
       "      <td>...</td>\n",
       "      <td>...</td>\n",
       "      <td>...</td>\n",
       "      <td>...</td>\n",
       "      <td>...</td>\n",
       "      <td>...</td>\n",
       "      <td>...</td>\n",
       "      <td>...</td>\n",
       "      <td>...</td>\n",
       "      <td>...</td>\n",
       "      <td>...</td>\n",
       "      <td>...</td>\n",
       "      <td>...</td>\n",
       "      <td>...</td>\n",
       "      <td>...</td>\n",
       "      <td>...</td>\n",
       "      <td>...</td>\n",
       "      <td>...</td>\n",
       "      <td>...</td>\n",
       "    </tr>\n",
       "    <tr>\n",
       "      <th>853</th>\n",
       "      <td>34</td>\n",
       "      <td>3.0</td>\n",
       "      <td>18.0</td>\n",
       "      <td>0.0</td>\n",
       "      <td>0.0</td>\n",
       "      <td>0.0</td>\n",
       "      <td>0.0</td>\n",
       "      <td>0.0</td>\n",
       "      <td>0.00</td>\n",
       "      <td>0.0</td>\n",
       "      <td>0.0</td>\n",
       "      <td>0.0</td>\n",
       "      <td>0.0</td>\n",
       "      <td>0.0</td>\n",
       "      <td>0.0</td>\n",
       "      <td>0.0</td>\n",
       "      <td>0.0</td>\n",
       "      <td>0.0</td>\n",
       "      <td>0.0</td>\n",
       "      <td>0.0</td>\n",
       "      <td>0.0</td>\n",
       "      <td>0.0</td>\n",
       "      <td>0.0</td>\n",
       "      <td>0</td>\n",
       "      <td>0</td>\n",
       "      <td>0</td>\n",
       "      <td>0</td>\n",
       "      <td>0</td>\n",
       "      <td>0</td>\n",
       "      <td>0</td>\n",
       "      <td>0</td>\n",
       "      <td>0</td>\n",
       "    </tr>\n",
       "    <tr>\n",
       "      <th>854</th>\n",
       "      <td>32</td>\n",
       "      <td>2.0</td>\n",
       "      <td>19.0</td>\n",
       "      <td>1.0</td>\n",
       "      <td>0.0</td>\n",
       "      <td>0.0</td>\n",
       "      <td>0.0</td>\n",
       "      <td>1.0</td>\n",
       "      <td>8.00</td>\n",
       "      <td>0.0</td>\n",
       "      <td>0.0</td>\n",
       "      <td>0.0</td>\n",
       "      <td>0.0</td>\n",
       "      <td>0.0</td>\n",
       "      <td>0.0</td>\n",
       "      <td>0.0</td>\n",
       "      <td>0.0</td>\n",
       "      <td>0.0</td>\n",
       "      <td>0.0</td>\n",
       "      <td>0.0</td>\n",
       "      <td>0.0</td>\n",
       "      <td>0.0</td>\n",
       "      <td>0.0</td>\n",
       "      <td>0</td>\n",
       "      <td>0</td>\n",
       "      <td>0</td>\n",
       "      <td>0</td>\n",
       "      <td>0</td>\n",
       "      <td>0</td>\n",
       "      <td>0</td>\n",
       "      <td>0</td>\n",
       "      <td>0</td>\n",
       "    </tr>\n",
       "    <tr>\n",
       "      <th>855</th>\n",
       "      <td>25</td>\n",
       "      <td>2.0</td>\n",
       "      <td>17.0</td>\n",
       "      <td>0.0</td>\n",
       "      <td>0.0</td>\n",
       "      <td>0.0</td>\n",
       "      <td>0.0</td>\n",
       "      <td>1.0</td>\n",
       "      <td>0.08</td>\n",
       "      <td>0.0</td>\n",
       "      <td>0.0</td>\n",
       "      <td>0.0</td>\n",
       "      <td>0.0</td>\n",
       "      <td>0.0</td>\n",
       "      <td>0.0</td>\n",
       "      <td>0.0</td>\n",
       "      <td>0.0</td>\n",
       "      <td>0.0</td>\n",
       "      <td>0.0</td>\n",
       "      <td>0.0</td>\n",
       "      <td>0.0</td>\n",
       "      <td>0.0</td>\n",
       "      <td>0.0</td>\n",
       "      <td>0</td>\n",
       "      <td>0</td>\n",
       "      <td>0</td>\n",
       "      <td>0</td>\n",
       "      <td>0</td>\n",
       "      <td>0</td>\n",
       "      <td>0</td>\n",
       "      <td>1</td>\n",
       "      <td>0</td>\n",
       "    </tr>\n",
       "    <tr>\n",
       "      <th>856</th>\n",
       "      <td>33</td>\n",
       "      <td>2.0</td>\n",
       "      <td>24.0</td>\n",
       "      <td>2.0</td>\n",
       "      <td>0.0</td>\n",
       "      <td>0.0</td>\n",
       "      <td>0.0</td>\n",
       "      <td>1.0</td>\n",
       "      <td>0.08</td>\n",
       "      <td>0.0</td>\n",
       "      <td>0.0</td>\n",
       "      <td>0.0</td>\n",
       "      <td>0.0</td>\n",
       "      <td>0.0</td>\n",
       "      <td>0.0</td>\n",
       "      <td>0.0</td>\n",
       "      <td>0.0</td>\n",
       "      <td>0.0</td>\n",
       "      <td>0.0</td>\n",
       "      <td>0.0</td>\n",
       "      <td>0.0</td>\n",
       "      <td>0.0</td>\n",
       "      <td>0.0</td>\n",
       "      <td>0</td>\n",
       "      <td>0</td>\n",
       "      <td>0</td>\n",
       "      <td>0</td>\n",
       "      <td>0</td>\n",
       "      <td>0</td>\n",
       "      <td>0</td>\n",
       "      <td>0</td>\n",
       "      <td>0</td>\n",
       "    </tr>\n",
       "    <tr>\n",
       "      <th>857</th>\n",
       "      <td>29</td>\n",
       "      <td>2.0</td>\n",
       "      <td>20.0</td>\n",
       "      <td>1.0</td>\n",
       "      <td>0.0</td>\n",
       "      <td>0.0</td>\n",
       "      <td>0.0</td>\n",
       "      <td>1.0</td>\n",
       "      <td>0.50</td>\n",
       "      <td>0.0</td>\n",
       "      <td>0.0</td>\n",
       "      <td>0.0</td>\n",
       "      <td>0.0</td>\n",
       "      <td>0.0</td>\n",
       "      <td>0.0</td>\n",
       "      <td>0.0</td>\n",
       "      <td>0.0</td>\n",
       "      <td>0.0</td>\n",
       "      <td>0.0</td>\n",
       "      <td>0.0</td>\n",
       "      <td>0.0</td>\n",
       "      <td>0.0</td>\n",
       "      <td>0.0</td>\n",
       "      <td>0</td>\n",
       "      <td>0</td>\n",
       "      <td>0</td>\n",
       "      <td>0</td>\n",
       "      <td>0</td>\n",
       "      <td>0</td>\n",
       "      <td>0</td>\n",
       "      <td>0</td>\n",
       "      <td>0</td>\n",
       "    </tr>\n",
       "  </tbody>\n",
       "</table>\n",
       "<p>858 rows × 32 columns</p>\n",
       "</div>"
      ],
      "text/plain": [
       "     Age  Number of sexual partners  First sexual intercourse  \\\n",
       "0     18                        4.0                      15.0   \n",
       "1     15                        1.0                      14.0   \n",
       "2     34                        1.0                       NaN   \n",
       "3     52                        5.0                      16.0   \n",
       "4     46                        3.0                      21.0   \n",
       "..   ...                        ...                       ...   \n",
       "853   34                        3.0                      18.0   \n",
       "854   32                        2.0                      19.0   \n",
       "855   25                        2.0                      17.0   \n",
       "856   33                        2.0                      24.0   \n",
       "857   29                        2.0                      20.0   \n",
       "\n",
       "     Num of pregnancies  Smokes  Smokes (years)  Smokes (packs/year)  \\\n",
       "0                   1.0     0.0             0.0                  0.0   \n",
       "1                   1.0     0.0             0.0                  0.0   \n",
       "2                   1.0     0.0             0.0                  0.0   \n",
       "3                   4.0     1.0            37.0                 37.0   \n",
       "4                   4.0     0.0             0.0                  0.0   \n",
       "..                  ...     ...             ...                  ...   \n",
       "853                 0.0     0.0             0.0                  0.0   \n",
       "854                 1.0     0.0             0.0                  0.0   \n",
       "855                 0.0     0.0             0.0                  0.0   \n",
       "856                 2.0     0.0             0.0                  0.0   \n",
       "857                 1.0     0.0             0.0                  0.0   \n",
       "\n",
       "     Hormonal Contraceptives  Hormonal Contraceptives (years)  IUD  \\\n",
       "0                        0.0                             0.00  0.0   \n",
       "1                        0.0                             0.00  0.0   \n",
       "2                        0.0                             0.00  0.0   \n",
       "3                        1.0                             3.00  0.0   \n",
       "4                        1.0                            15.00  0.0   \n",
       "..                       ...                              ...  ...   \n",
       "853                      0.0                             0.00  0.0   \n",
       "854                      1.0                             8.00  0.0   \n",
       "855                      1.0                             0.08  0.0   \n",
       "856                      1.0                             0.08  0.0   \n",
       "857                      1.0                             0.50  0.0   \n",
       "\n",
       "     IUD (years)  STDs  STDs (number)  STDs:condylomatosis  \\\n",
       "0            0.0   0.0            0.0                  0.0   \n",
       "1            0.0   0.0            0.0                  0.0   \n",
       "2            0.0   0.0            0.0                  0.0   \n",
       "3            0.0   0.0            0.0                  0.0   \n",
       "4            0.0   0.0            0.0                  0.0   \n",
       "..           ...   ...            ...                  ...   \n",
       "853          0.0   0.0            0.0                  0.0   \n",
       "854          0.0   0.0            0.0                  0.0   \n",
       "855          0.0   0.0            0.0                  0.0   \n",
       "856          0.0   0.0            0.0                  0.0   \n",
       "857          0.0   0.0            0.0                  0.0   \n",
       "\n",
       "     STDs:vaginal condylomatosis  STDs:vulvo-perineal condylomatosis  \\\n",
       "0                            0.0                                 0.0   \n",
       "1                            0.0                                 0.0   \n",
       "2                            0.0                                 0.0   \n",
       "3                            0.0                                 0.0   \n",
       "4                            0.0                                 0.0   \n",
       "..                           ...                                 ...   \n",
       "853                          0.0                                 0.0   \n",
       "854                          0.0                                 0.0   \n",
       "855                          0.0                                 0.0   \n",
       "856                          0.0                                 0.0   \n",
       "857                          0.0                                 0.0   \n",
       "\n",
       "     STDs:syphilis  STDs:pelvic inflammatory disease  STDs:genital herpes  \\\n",
       "0              0.0                               0.0                  0.0   \n",
       "1              0.0                               0.0                  0.0   \n",
       "2              0.0                               0.0                  0.0   \n",
       "3              0.0                               0.0                  0.0   \n",
       "4              0.0                               0.0                  0.0   \n",
       "..             ...                               ...                  ...   \n",
       "853            0.0                               0.0                  0.0   \n",
       "854            0.0                               0.0                  0.0   \n",
       "855            0.0                               0.0                  0.0   \n",
       "856            0.0                               0.0                  0.0   \n",
       "857            0.0                               0.0                  0.0   \n",
       "\n",
       "     STDs:molluscum contagiosum  STDs:HIV  STDs:Hepatitis B  STDs:HPV  \\\n",
       "0                           0.0       0.0               0.0       0.0   \n",
       "1                           0.0       0.0               0.0       0.0   \n",
       "2                           0.0       0.0               0.0       0.0   \n",
       "3                           0.0       0.0               0.0       0.0   \n",
       "4                           0.0       0.0               0.0       0.0   \n",
       "..                          ...       ...               ...       ...   \n",
       "853                         0.0       0.0               0.0       0.0   \n",
       "854                         0.0       0.0               0.0       0.0   \n",
       "855                         0.0       0.0               0.0       0.0   \n",
       "856                         0.0       0.0               0.0       0.0   \n",
       "857                         0.0       0.0               0.0       0.0   \n",
       "\n",
       "     STDs: Number of diagnosis  Dx:Cancer  Dx:CIN  Dx:HPV  Dx  Hinselmann  \\\n",
       "0                            0          0       0       0   0           0   \n",
       "1                            0          0       0       0   0           0   \n",
       "2                            0          0       0       0   0           0   \n",
       "3                            0          1       0       1   0           0   \n",
       "4                            0          0       0       0   0           0   \n",
       "..                         ...        ...     ...     ...  ..         ...   \n",
       "853                          0          0       0       0   0           0   \n",
       "854                          0          0       0       0   0           0   \n",
       "855                          0          0       0       0   0           0   \n",
       "856                          0          0       0       0   0           0   \n",
       "857                          0          0       0       0   0           0   \n",
       "\n",
       "     Schiller  Citology  Biopsy  \n",
       "0           0         0       0  \n",
       "1           0         0       0  \n",
       "2           0         0       0  \n",
       "3           0         0       0  \n",
       "4           0         0       0  \n",
       "..        ...       ...     ...  \n",
       "853         0         0       0  \n",
       "854         0         0       0  \n",
       "855         0         1       0  \n",
       "856         0         0       0  \n",
       "857         0         0       0  \n",
       "\n",
       "[858 rows x 32 columns]"
      ]
     },
     "execution_count": 6,
     "metadata": {},
     "output_type": "execute_result"
    }
   ],
   "source": [
    "pd.set_option(\"max_columns\", None)\n",
    "data"
   ]
  },
  {
   "cell_type": "markdown",
   "metadata": {
    "cell_id": "00010-631f224b-bf5f-42ac-b1ce-c1f10f0fd16d",
    "deepnote_cell_type": "markdown",
    "tags": []
   },
   "source": [
    "Observamos que nuestra variable respuesta Biopsy esta muy desbalanceada debido a que la cantidad de 0's es 803 y la cantidad de 1's es 55, por lo cual procederemos a hacer una imputacion y utilizaremos el SMOTE para balancear los datos y obtener mejores resultados."
   ]
  },
  {
   "cell_type": "code",
   "execution_count": 7,
   "metadata": {
    "cell_id": "00010-9c5ca99e-f578-42c8-951a-0d496f2700f2",
    "deepnote_cell_type": "code",
    "deepnote_to_be_reexecuted": false,
    "execution_millis": 13,
    "execution_start": 1634165632571,
    "source_hash": "c8a8c27a",
    "tags": []
   },
   "outputs": [
    {
     "data": {
      "text/plain": [
       "Index(['Age', 'Number of sexual partners', 'First sexual intercourse',\n",
       "       'Num of pregnancies', 'Smokes', 'Smokes (years)', 'Smokes (packs/year)',\n",
       "       'Hormonal Contraceptives', 'Hormonal Contraceptives (years)', 'IUD',\n",
       "       'IUD (years)', 'STDs', 'STDs (number)', 'STDs:condylomatosis',\n",
       "       'STDs:vaginal condylomatosis', 'STDs:vulvo-perineal condylomatosis',\n",
       "       'STDs:syphilis', 'STDs:pelvic inflammatory disease',\n",
       "       'STDs:genital herpes', 'STDs:molluscum contagiosum', 'STDs:HIV',\n",
       "       'STDs:Hepatitis B', 'STDs:HPV', 'STDs: Number of diagnosis',\n",
       "       'Dx:Cancer', 'Dx:CIN', 'Dx:HPV', 'Dx', 'Hinselmann', 'Schiller',\n",
       "       'Citology', 'Biopsy'],\n",
       "      dtype='object')"
      ]
     },
     "execution_count": 7,
     "metadata": {},
     "output_type": "execute_result"
    }
   ],
   "source": [
    "data.columns"
   ]
  },
  {
   "cell_type": "code",
   "execution_count": 8,
   "metadata": {
    "cell_id": "00015-52d46ca7-4d9a-4d6c-933c-efc475387528",
    "deepnote_cell_type": "code",
    "deepnote_to_be_reexecuted": false,
    "execution_millis": 12,
    "execution_start": 1634165632572,
    "source_hash": "e948a021"
   },
   "outputs": [
    {
     "data": {
      "text/plain": [
       "0    803\n",
       "1     55\n",
       "Name: Biopsy, dtype: int64"
      ]
     },
     "execution_count": 8,
     "metadata": {},
     "output_type": "execute_result"
    }
   ],
   "source": [
    "data['Biopsy'].value_counts()"
   ]
  },
  {
   "cell_type": "markdown",
   "metadata": {
    "cell_id": "00011-6cb66757-7c45-4b95-a4cd-456beabfb029",
    "deepnote_cell_type": "markdown",
    "tags": []
   },
   "source": [
    "Realizamos la imputación, es decir, cambiamos todos los valores de NaNs por la media de cada columna."
   ]
  },
  {
   "cell_type": "code",
   "execution_count": 9,
   "metadata": {
    "cell_id": "00012-35ba4c38-8951-42f9-ba03-093533da41be",
    "deepnote_cell_type": "code",
    "deepnote_to_be_reexecuted": false,
    "execution_millis": 10,
    "execution_start": 1634165632619,
    "source_hash": "83fe13d0",
    "tags": []
   },
   "outputs": [
    {
     "name": "stdout",
     "output_type": "stream",
     "text": [
      "[[18.  4. 15. ...  0.  0.  0.]\n",
      " [15.  1. 14. ...  0.  0.  0.]\n",
      " [34.  1. 17. ...  0.  0.  0.]\n",
      " ...\n",
      " [25.  2. 17. ...  0.  1.  0.]\n",
      " [33.  2. 24. ...  0.  0.  0.]\n",
      " [29.  2. 20. ...  0.  0.  0.]]\n"
     ]
    }
   ],
   "source": [
    "imputer = SimpleImputer(strategy='median')\n",
    "\n",
    "Newdata = imputer.fit_transform(data) # Ajusta y transforma\n",
    "print(Newdata)\n",
    "Newdata2 = pd.DataFrame(Newdata, columns=data.columns)"
   ]
  },
  {
   "cell_type": "markdown",
   "metadata": {
    "cell_id": "00013-448d90f7-8d71-4228-a3e6-2c9a100bafc8",
    "deepnote_cell_type": "markdown",
    "tags": []
   },
   "source": [
    "Ahora procedemos a verificar que todos los NaN se hayan eliminado, la sumatoria de NaNs en cada uno deberia dar 0:"
   ]
  },
  {
   "cell_type": "code",
   "execution_count": 10,
   "metadata": {
    "cell_id": "00013-4af9f66b-3b57-45c4-84fe-ac0119147e63",
    "deepnote_cell_type": "code",
    "deepnote_to_be_reexecuted": false,
    "execution_millis": 9,
    "execution_start": 1634165632620,
    "source_hash": "90dcdc25",
    "tags": []
   },
   "outputs": [
    {
     "data": {
      "text/plain": [
       "Age                                   0\n",
       "Number of sexual partners             0\n",
       "First sexual intercourse              0\n",
       "Num of pregnancies                    0\n",
       "Smokes                                0\n",
       "Smokes (years)                        0\n",
       "Smokes (packs/year)                   0\n",
       "Hormonal Contraceptives               0\n",
       "Hormonal Contraceptives (years)       0\n",
       "IUD                                   0\n",
       "IUD (years)                           0\n",
       "STDs                                  0\n",
       "STDs (number)                         0\n",
       "STDs:condylomatosis                   0\n",
       "STDs:vaginal condylomatosis           0\n",
       "STDs:vulvo-perineal condylomatosis    0\n",
       "STDs:syphilis                         0\n",
       "STDs:pelvic inflammatory disease      0\n",
       "STDs:genital herpes                   0\n",
       "STDs:molluscum contagiosum            0\n",
       "STDs:HIV                              0\n",
       "STDs:Hepatitis B                      0\n",
       "STDs:HPV                              0\n",
       "STDs: Number of diagnosis             0\n",
       "Dx:Cancer                             0\n",
       "Dx:CIN                                0\n",
       "Dx:HPV                                0\n",
       "Dx                                    0\n",
       "Hinselmann                            0\n",
       "Schiller                              0\n",
       "Citology                              0\n",
       "Biopsy                                0\n",
       "dtype: int64"
      ]
     },
     "execution_count": 10,
     "metadata": {},
     "output_type": "execute_result"
    }
   ],
   "source": [
    "Newdata2.isna().sum()"
   ]
  },
  {
   "cell_type": "markdown",
   "metadata": {
    "cell_id": "00025-be54d257-1437-4513-8fee-e3df4e86e8ff",
    "deepnote_cell_type": "markdown",
    "tags": []
   },
   "source": [
    "#### Matriz de correlación de la base de datos Original. \n",
    "Encontramos que las variables Dx:Cancer y Dx:HPV estan correlacionadas positivamente, la variable STPs: Número de diagnostico con las variables STDs y STDs: número se encuentrasn correlacionadas positivamente, la varible STDs:Condylomatosis esta correlacionada posivamente con STDs: número y STDs: vulvo perineal. Por ultimo demonos cuenta que las variables que no cuentan con alguna relación son el número de parejas sexuales y la primera relación sexual."
   ]
  },
  {
   "cell_type": "code",
   "execution_count": 11,
   "metadata": {
    "cell_id": "00023-c02174c8-45b9-424a-96a5-beaf48764ea2",
    "deepnote_cell_type": "code",
    "deepnote_to_be_reexecuted": false,
    "execution_millis": 2954,
    "execution_start": 1634165632662,
    "source_hash": "b1070325",
    "tags": []
   },
   "outputs": [
    {
     "data": {
      "image/png": "[encoded data removed]",
      "text/plain": [
       "<Figure size 936x504 with 2 Axes>"
      ]
     },
     "metadata": {},
     "output_type": "display_data"
    }
   ],
   "source": [
    "# Grafica de correlación base de datos balanceada \n",
    "f,ax = plt.subplots(figsize=(13,7))\n",
    "sns.heatmap(Newdata2.corr(),cmap = 'ocean_r', annot=False, cbar=True )\n",
    "ax.set_title('Correlation matrix')\n",
    "\n",
    "ax.set_xticklabels(\n",
    "    ax.get_xticklabels(),\n",
    "    rotation = 45,\n",
    "    horizontalalignment = 'right',\n",
    ")\n",
    "\n",
    "ax.tick_params(labelsize = 10)\n",
    "\n",
    "plt.show()"
   ]
  },
  {
   "cell_type": "code",
   "execution_count": null,
   "metadata": {
    "cell_id": "00018-3fef1dc8-ab00-4db3-bf11-1ffa8b7ddb4c",
    "deepnote_cell_type": "code",
    "deepnote_to_be_reexecuted": false,
    "execution_millis": 36423,
    "execution_start": 1634165635626,
    "source_hash": "14ada18b",
    "tags": []
   },
   "outputs": [],
   "source": [
    "\n",
    "\n",
    "sns.pairplot(Newdata2, x_vars=[ 'STDs', 'STDs (number)', 'STDs:condylomatosis',\n",
    "         'STDs:vulvo-perineal condylomatosis',\n",
    "         'STDs: Number of diagnosis',\n",
    "       'Dx:Cancer',   'Dx:HPV', 'Biopsy'], y_vars=[ 'STDs', 'STDs (number)', 'STDs:condylomatosis',\n",
    "         'STDs:vulvo-perineal condylomatosis',\n",
    "         'STDs: Number of diagnosis',\n",
    "       'Dx:Cancer',   'Dx:HPV'], height=5, aspect=0.7,hue=\"Biopsy\")\n",
    "plt.show()"
   ]
  },
  {
   "cell_type": "markdown",
   "metadata": {
    "cell_id": "00016-6a150bb6-557d-4ad9-a598-2f1c7d2f498b",
    "deepnote_cell_type": "text-cell-h3",
    "is_collapsed": false,
    "tags": []
   },
   "source": [
    "### Partición de la base de datos (Train y Test)"
   ]
  },
  {
   "cell_type": "markdown",
   "metadata": {
    "cell_id": "00017-f05c8bf6-04ad-4b24-bb20-ac529cc606b2",
    "deepnote_cell_type": "markdown",
    "tags": []
   },
   "source": [
    "Se realiza una partición dos dataFrame de entrenamiento y prueba, donde con el de entrenamiento realizaremos un balanceo de la base de datos, recordemos que separaremos un test con 5 filas en donde la variable respuesta Biopsy sea 1."
   ]
  },
  {
   "cell_type": "code",
   "execution_count": null,
   "metadata": {
    "cell_id": "00017-cac499b8-3312-48ec-b92f-6024b10c15a4",
    "deepnote_cell_type": "code",
    "deepnote_to_be_reexecuted": false,
    "execution_millis": 596,
    "execution_start": 1634165671942,
    "source_hash": "f95dc978",
    "tags": []
   },
   "outputs": [],
   "source": [
    "Newdata_0=[]\n",
    "Newdata_1=[]\n",
    "for i in range(len(Newdata2[\"Biopsy\"])):\n",
    "    if Newdata2[\"Biopsy\"][i]==0:\n",
    "        Newdata_0.append(Newdata2.iloc[i])\n",
    "    else:\n",
    "        Newdata_1.append(Newdata2.iloc[i])\n",
    "\n",
    "Newdata_0 = pd.DataFrame(Newdata_0, columns=data.columns)\n",
    "Newdata_1 = pd.DataFrame(Newdata_1, columns=data.columns)"
   ]
  },
  {
   "cell_type": "code",
   "execution_count": null,
   "metadata": {
    "cell_id": "00018-490a374b-05f5-4391-9c1c-2649c91178ae",
    "deepnote_cell_type": "code",
    "deepnote_to_be_reexecuted": false,
    "execution_millis": 6,
    "execution_start": 1634165672546,
    "source_hash": "3a49de52"
   },
   "outputs": [],
   "source": [
    "#Particion de los datos usando como variable de respuesta Biopsy y como descriptores el resto de la base de datos.\n",
    "y_0=Newdata_0[\"Biopsy\"]\n",
    "del(Newdata_0[\"Biopsy\"])\n",
    "X_0=Newdata_0\n",
    "\n",
    "y_1=Newdata_1[\"Biopsy\"]\n",
    "del(Newdata_1[\"Biopsy\"])\n",
    "X_1=Newdata_1"
   ]
  },
  {
   "cell_type": "code",
   "execution_count": null,
   "metadata": {
    "cell_id": "00016-296d885a-bc91-4939-a82a-4fb4113fbedb",
    "deepnote_cell_type": "code",
    "deepnote_to_be_reexecuted": false,
    "execution_millis": 7,
    "execution_start": 1634165672561,
    "source_hash": "11c70304",
    "tags": []
   },
   "outputs": [],
   "source": [
    "X_train_0, X_test_0, y_train_0, y_test_0 = train_test_split( X_0,y_0, test_size=0.25, random_state=123)\n",
    "X_train_1, X_test_1, y_train_1, y_test_1 = train_test_split( X_1,y_1, test_size=0.09, random_state=123)"
   ]
  },
  {
   "cell_type": "code",
   "execution_count": null,
   "metadata": {
    "cell_id": "00019-9590876e-9a82-48a1-8a37-56ee9d5e21db",
    "deepnote_cell_type": "code",
    "deepnote_to_be_reexecuted": false,
    "execution_millis": 18,
    "execution_start": 1634165672596,
    "source_hash": "37454a06",
    "tags": []
   },
   "outputs": [],
   "source": [
    "len(X_train_1)"
   ]
  },
  {
   "cell_type": "code",
   "execution_count": null,
   "metadata": {
    "cell_id": "00019-80410aa4-67b7-4ee5-a560-45e16e219844",
    "deepnote_cell_type": "code",
    "deepnote_to_be_reexecuted": false,
    "execution_millis": 11,
    "execution_start": 1634165672615,
    "source_hash": "1b48e826",
    "tags": []
   },
   "outputs": [],
   "source": [
    "X_train = [] \n",
    "X_train=X_train_0 \n",
    "X_train=X_train.append(X_train_1,ignore_index=True) \n",
    "\n",
    "y_train = [] \n",
    "y_train=y_train_0 \n",
    "y_train=y_train.append(y_train_1,ignore_index=True) \n",
    "\n",
    "X_test = [] \n",
    "X_test=X_test_0 \n",
    "X_test=X_test.append(X_test_1,ignore_index=True) \n",
    "\n",
    "y_test = [] \n",
    "y_test=y_test_0 \n",
    "y_test=y_test.append(y_test_1,ignore_index=True) \n"
   ]
  },
  {
   "cell_type": "markdown",
   "metadata": {
    "cell_id": "00023-1d497abe-9fc3-4edc-9038-7aae500e435b",
    "deepnote_cell_type": "text-cell-h3",
    "is_collapsed": false,
    "tags": []
   },
   "source": [
    "### Balanceo (SMOTE)"
   ]
  },
  {
   "cell_type": "markdown",
   "metadata": {
    "cell_id": "00018-7cea5f92-982b-4829-bf31-c2c0b447e7b2",
    "deepnote_cell_type": "markdown",
    "tags": []
   },
   "source": [
    "Se va a realizar el balanceo con que la cantidad de las valores minoritarios de la variable respuesta en esta caso los 1's aumenten hasta cumplir que sea el 25% de la cantidade de los 0's."
   ]
  },
  {
   "cell_type": "code",
   "execution_count": null,
   "metadata": {
    "cell_id": "00013-7a0f026c-f856-4d12-918d-dedd02876487",
    "deepnote_cell_type": "code",
    "deepnote_to_be_reexecuted": false,
    "execution_millis": 25,
    "execution_start": 1634165672629,
    "source_hash": "f4094a07",
    "tags": []
   },
   "outputs": [],
   "source": [
    "sm = SMOTE(random_state=42, sampling_strategy=0.35)\n",
    "X_res1, y_res = sm.fit_resample(X_train, y_train)\n",
    "X_res = X_res1"
   ]
  },
  {
   "cell_type": "code",
   "execution_count": null,
   "metadata": {
    "cell_id": "00019-c448b8bb-2db4-40cf-8e9f-a94c4e653b5a",
    "deepnote_cell_type": "code",
    "deepnote_to_be_reexecuted": false,
    "execution_millis": 51,
    "execution_start": 1634165672658,
    "source_hash": "6aa5dbc2",
    "tags": []
   },
   "outputs": [],
   "source": [
    "y_res.value_counts()\n"
   ]
  },
  {
   "cell_type": "code",
   "execution_count": null,
   "metadata": {
    "cell_id": "00024-09bd7cd7-d213-4d8c-a556-c326e6db05b3",
    "deepnote_cell_type": "code",
    "deepnote_to_be_reexecuted": false,
    "execution_millis": 21,
    "execution_start": 1634165672706,
    "source_hash": "c77b3759",
    "tags": []
   },
   "outputs": [],
   "source": [
    "X_n= X_res1.assign(Biopsy = y_res)\n",
    "dft = pd.DataFrame(X_n )"
   ]
  },
  {
   "cell_type": "code",
   "execution_count": null,
   "metadata": {
    "cell_id": "00031-943d44c2-e645-496c-9168-fc256bfabe32",
    "deepnote_cell_type": "code",
    "deepnote_to_be_reexecuted": false,
    "execution_millis": 305,
    "execution_start": 1634165672731,
    "source_hash": "d52c9d66",
    "tags": []
   },
   "outputs": [],
   "source": [
    "X_res"
   ]
  },
  {
   "cell_type": "code",
   "execution_count": null,
   "metadata": {
    "cell_id": "00031-882546a9-c62e-407d-ae9e-2f7d35176640",
    "deepnote_cell_type": "code",
    "deepnote_to_be_reexecuted": false,
    "execution_millis": 40553,
    "execution_start": 1634165673040,
    "source_hash": "9e1dd4f1",
    "tags": []
   },
   "outputs": [],
   "source": [
    "sns.pairplot(dft, x_vars=[ 'STDs', 'STDs (number)', 'STDs:condylomatosis',\n",
    "         'STDs:vulvo-perineal condylomatosis',\n",
    "         'STDs: Number of diagnosis',\n",
    "       'Dx:Cancer',   'Dx:HPV', 'Biopsy'], y_vars=[ 'STDs', 'STDs (number)', 'STDs:condylomatosis',\n",
    "         'STDs:vulvo-perineal condylomatosis',\n",
    "         'STDs: Number of diagnosis',\n",
    "       'Dx:Cancer',   'Dx:HPV', 'Biopsy'], height=5, aspect=0.7,hue=\"Biopsy\")\n",
    "plt.show()"
   ]
  },
  {
   "cell_type": "code",
   "execution_count": null,
   "metadata": {
    "cell_id": "00021-d7992751-f639-46f6-892c-0daa0b67a3c9",
    "deepnote_cell_type": "code",
    "deepnote_to_be_reexecuted": false,
    "execution_millis": 369,
    "execution_start": 1634165713568,
    "source_hash": "da30341a",
    "tags": []
   },
   "outputs": [],
   "source": [
    "dft.describe()"
   ]
  },
  {
   "cell_type": "markdown",
   "metadata": {
    "cell_id": "00025-715d1723-b2ae-4661-85fb-1f138cbb732e",
    "deepnote_cell_type": "text-cell-h3",
    "is_collapsed": false,
    "tags": []
   },
   "source": [
    "### Feacture Selection "
   ]
  },
  {
   "cell_type": "markdown",
   "metadata": {
    "cell_id": "00026-c576a9d7-0f7c-4c3e-85d2-cad98641382c",
    "deepnote_cell_type": "markdown",
    "tags": []
   },
   "source": [
    "Realizamos una regresión inicial para tomar las variables más significativas y realizar un análisis de estas con la variable respuesta, para esto utilizaremos Feature-Selection"
   ]
  },
  {
   "cell_type": "code",
   "execution_count": null,
   "metadata": {
    "cell_id": "00027-05a0c832-975b-45a2-96d6-68fe01474a99",
    "deepnote_cell_type": "code",
    "deepnote_to_be_reexecuted": false,
    "execution_millis": 74,
    "execution_start": 1634165713946,
    "source_hash": "72dc34f",
    "tags": []
   },
   "outputs": [],
   "source": [
    "seleccion = feature_selection.f_regression(X_res,y_res)\n",
    "F, p = seleccion\n",
    "pd.DataFrame(dict(F = F, p = p),index = X_res.columns).sort_values(by=[\"F\"],ascending=False)"
   ]
  },
  {
   "cell_type": "code",
   "execution_count": null,
   "metadata": {
    "cell_id": "00027-79e00b67-aaec-4006-bbc2-d4635c26c20b",
    "deepnote_cell_type": "code",
    "deepnote_to_be_reexecuted": false,
    "execution_millis": 32,
    "execution_start": 1634165714018,
    "source_hash": "27cc43c9",
    "tags": []
   },
   "outputs": [],
   "source": [
    "selector = feature_selection.SelectKBest(feature_selection.f_regression, k = 5)\n",
    "X_train_sel = selector.fit_transform(X_res,y_res)"
   ]
  },
  {
   "cell_type": "code",
   "execution_count": null,
   "metadata": {
    "cell_id": "00031-9862c635-b1ea-4c2d-b697-88e7e67cfee5",
    "deepnote_cell_type": "code",
    "deepnote_to_be_reexecuted": false,
    "execution_millis": 107,
    "execution_start": 1634165714046,
    "source_hash": "559c4748",
    "tags": []
   },
   "outputs": [],
   "source": [
    "sel_index =  selector.get_support() # indice de variables seleccionadas (booleana)\n",
    "pd.DataFrame(X_train_sel, columns = X_train.columns[sel_index]).head() # Dataframe para visualizar mejor"
   ]
  },
  {
   "cell_type": "markdown",
   "metadata": {
    "cell_id": "00032-ca4a691c-a851-4ae6-938f-040fcc7b7629",
    "deepnote_cell_type": "markdown",
    "tags": []
   },
   "source": [
    "Notemos que las mejores variables con las que se puede dar una predicción con respecto a la varible respuesta Biopsy son categoricas. "
   ]
  },
  {
   "cell_type": "code",
   "execution_count": null,
   "metadata": {
    "cell_id": "00039-ce3e9373-9090-4349-870c-36f46cfbf0ad",
    "deepnote_cell_type": "code",
    "deepnote_to_be_reexecuted": false,
    "execution_millis": 50,
    "execution_start": 1634165714157,
    "source_hash": "2e590e2c",
    "tags": []
   },
   "outputs": [],
   "source": [
    "# visualiza la relación entre las características y la respuesta usando diagramas de dispersión\n",
    "#sns.pairplot(dft,hue=\"Biopsy\")\n",
    "#plt.show()"
   ]
  },
  {
   "cell_type": "markdown",
   "metadata": {
    "cell_id": "00040-cc269a7c-9884-4af6-81f2-0e10495aca3b",
    "deepnote_cell_type": "markdown",
    "tags": []
   },
   "source": [
    "#### Estandarización"
   ]
  },
  {
   "cell_type": "code",
   "execution_count": null,
   "metadata": {
    "cell_id": "00040-5fbe1f00-5a16-4807-9db8-376bd223efe9",
    "deepnote_cell_type": "code",
    "deepnote_to_be_reexecuted": false,
    "execution_millis": 0,
    "execution_start": 1634165714207,
    "source_hash": "89f5b8df",
    "tags": []
   },
   "outputs": [],
   "source": [
    "#X_res= StandardScaler().fit_transform(X_res)"
   ]
  },
  {
   "cell_type": "markdown",
   "metadata": {
    "cell_id": "00039-2745b96a-51d8-4f9b-baee-2e5232171d34",
    "deepnote_cell_type": "markdown",
    "tags": []
   },
   "source": [
    "## Reducción de la dimensión \n",
    "#### PCA\n",
    "Realizaremos una reducción de la dimensión mediante PCA y observaremos como se distribuyen en los componentes principales."
   ]
  },
  {
   "cell_type": "code",
   "execution_count": null,
   "metadata": {
    "cell_id": "00041-41a78b09-a61c-4a27-b251-eb5ccd7e9456",
    "deepnote_cell_type": "code",
    "deepnote_to_be_reexecuted": false,
    "execution_millis": 23,
    "execution_start": 1634165714208,
    "source_hash": "7d4eb3f0",
    "tags": []
   },
   "outputs": [],
   "source": [
    "sklearn_pca = PCA(n_components=2)\n",
    "data22 = pd.DataFrame(X_res)\n",
    "Y_sklearn = sklearn_pca.fit_transform(X_res)\n",
    "#modelo_pca = sklearn_pca.named_steps['pca']"
   ]
  },
  {
   "cell_type": "code",
   "execution_count": null,
   "metadata": {
    "cell_id": "00043-83950151-435c-4443-9bd0-97a219db0fe9",
    "deepnote_cell_type": "code",
    "deepnote_to_be_reexecuted": false,
    "execution_millis": 22,
    "execution_start": 1634165714239,
    "source_hash": "ecaa987d",
    "tags": []
   },
   "outputs": [],
   "source": [
    "print(sklearn_pca.explained_variance_) \n",
    "print(sklearn_pca.singular_values_)"
   ]
  },
  {
   "cell_type": "code",
   "execution_count": null,
   "metadata": {
    "cell_id": "00044-300c1958-8e99-49c2-aa33-69bfb1775a96",
    "deepnote_cell_type": "code",
    "deepnote_to_be_reexecuted": false,
    "execution_millis": 589,
    "execution_start": 1634165714263,
    "source_hash": "496ac4a1",
    "tags": []
   },
   "outputs": [],
   "source": [
    "with plt.style.context('seaborn-whitegrid'):\n",
    "    plt.figure(figsize=(6, 4))\n",
    "    for lab, col, d in zip((0,1), \n",
    "                        ('blue', 'red'), (\"Biopsy = 0\",\"Biopsy = 1\")):\n",
    "        plt.scatter(Y_sklearn[y_res==lab, 0],\n",
    "                    Y_sklearn[y_res==lab, 1],\n",
    "                    label= d,\n",
    "                    c=col)\n",
    "    plt.xlabel('Principal Component 1')\n",
    "    plt.ylabel('Principal Component 2')\n",
    "    plt.legend(loc='lower right')\n",
    "    plt.tight_layout()\n",
    "    plt.show()"
   ]
  },
  {
   "cell_type": "markdown",
   "metadata": {
    "cell_id": "00046-44a9c34d-050c-431a-a53e-8df3ee049f53",
    "deepnote_cell_type": "markdown",
    "tags": []
   },
   "source": [
    "#### Kernel PCA"
   ]
  },
  {
   "cell_type": "code",
   "execution_count": null,
   "metadata": {
    "cell_id": "00045-f92326e1-9a19-423e-8ce4-1c3be08667f9",
    "deepnote_cell_type": "code",
    "deepnote_to_be_reexecuted": false,
    "execution_millis": 691,
    "execution_start": 1634165714845,
    "source_hash": "9f80c3e9",
    "tags": []
   },
   "outputs": [],
   "source": [
    "scikit_kpca = KernelPCA(n_components=1, kernel='rbf', gamma=15)\n",
    "X_skernpca = scikit_kpca.fit_transform(X_res)\n",
    "\n",
    "\n",
    "plt.figure(figsize=(8,6))\n",
    "plt.scatter(X_skernpca[y_res ==0, 0], np.zeros((602,1)), color='red', alpha=0.5,label=\"Biopsy = 0\")\n",
    "plt.scatter(X_skernpca[y_res ==1, 0], np.zeros((210,1)), color='blue', alpha=0.5,label=\"Biopsy = 1\")\n",
    "\n",
    "#plt.text(-0.38, 0.37, 'gamma = 15', fontsize=12)\n",
    "plt.title('Componentes Principales con Kernel PCA')\n",
    "plt.xlabel('PC1')\n",
    "plt.ylabel('PC2')\n",
    "plt.legend(loc='lower right')\n",
    "plt.show()"
   ]
  },
  {
   "cell_type": "code",
   "execution_count": null,
   "metadata": {
    "cell_id": "00047-c8cca60f-aed0-4153-b0df-16a709fe7ea7",
    "deepnote_cell_type": "code",
    "deepnote_to_be_reexecuted": false,
    "execution_millis": 808,
    "execution_start": 1634165715532,
    "source_hash": "8f60319b",
    "tags": []
   },
   "outputs": [],
   "source": [
    "scikit_kpca = KernelPCA(n_components=2, kernel='rbf', gamma=15)\n",
    "X_skernpca = scikit_kpca.fit_transform(X_res)\n",
    "\n",
    "\n",
    "plt.figure(figsize=(8,6))\n",
    "plt.scatter(X_skernpca[y_res ==0, 0], X_skernpca[y_res ==0, 1], color='red', alpha=0.5, label=\"Biopsy = 0\")\n",
    "plt.scatter(X_skernpca[y_res ==1, 0], X_skernpca[y_res ==1, 1], color='blue', alpha=0.5, label=\"Biopsy = 1\")\n",
    "\n",
    "#plt.text(-0.38, 0.37, 'gamma = 15', fontsize=12)\n",
    "plt.title('First 2 principal components after RBF Kernel PCA via scikit-learn')\n",
    "plt.xlabel('PC1')\n",
    "plt.ylabel('PC2')\n",
    "plt.legend(loc='lower right')\n",
    "plt.show()"
   ]
  },
  {
   "cell_type": "markdown",
   "metadata": {
    "cell_id": "00047-7c557ec2-474f-425e-958e-16662abca2c5",
    "deepnote_cell_type": "markdown",
    "tags": []
   },
   "source": [
    "#### T-Sne\n",
    "T-Sne preserva la estructura de datos de cluster, donde según la preplejidad podemos obtener los cluster, Si la perplejidad es demasiado alta conduce a la fución de los grupos y si la perplejidad es demasiado pequeña separa los cluster y puede no tener sentido, entonces se debe buscar un número optimo de perplejidad."
   ]
  },
  {
   "cell_type": "code",
   "execution_count": null,
   "metadata": {
    "cell_id": "00047-ceb94dcf-7303-4b6e-990d-8b607ddd00ae",
    "deepnote_cell_type": "code",
    "deepnote_to_be_reexecuted": false,
    "execution_millis": 46203,
    "execution_start": 1634165716338,
    "source_hash": "64a583",
    "tags": []
   },
   "outputs": [],
   "source": [
    "tsne = TSNE(n_components=2, verbose=1, random_state=123,perplexity=5)\n",
    "z = tsne.fit_transform(X_res) "
   ]
  },
  {
   "cell_type": "code",
   "execution_count": null,
   "metadata": {
    "cell_id": "00049-826bcb7c-f420-4be6-9fb5-3764b4da0877",
    "deepnote_cell_type": "code",
    "deepnote_to_be_reexecuted": false,
    "execution_millis": 517,
    "execution_start": 1634165762539,
    "source_hash": "c939bc49",
    "tags": []
   },
   "outputs": [],
   "source": [
    "Biopsy_0 = z[y_res ==0]\n",
    "Biopsy_1 = z[y_res ==1]\n",
    "plt.scatter(Biopsy_0[:,0], Biopsy_0[:,1], c=\"b\",label=\"Biopsy = 0\")\n",
    "plt.scatter(Biopsy_1[:,0], Biopsy_1[:,1], c=\"g\",label=\"Biopsy = 1\")\n",
    "plt.legend()\n",
    "plt.show()"
   ]
  },
  {
   "cell_type": "markdown",
   "metadata": {
    "cell_id": "00049-44db55f9-f046-47be-9b50-c95d8e124b6c",
    "deepnote_cell_type": "text-cell-h3",
    "is_collapsed": false,
    "tags": []
   },
   "source": [
    "### ICA"
   ]
  },
  {
   "cell_type": "markdown",
   "metadata": {
    "cell_id": "00054-8edccaac-f292-4fa3-bcd8-785445c69972",
    "deepnote_cell_type": "text-cell-p",
    "is_collapsed": false,
    "tags": []
   },
   "source": [
    "En ICA encontramos combinaciones lineales de variables como componentes independientes."
   ]
  },
  {
   "cell_type": "code",
   "execution_count": null,
   "metadata": {
    "cell_id": "00050-d24daeb4-e645-4a75-8744-3b5aebf47eb5",
    "deepnote_cell_type": "code",
    "deepnote_to_be_reexecuted": false,
    "execution_millis": 55,
    "execution_start": 1634165763051,
    "source_hash": "a1226762",
    "tags": []
   },
   "outputs": [],
   "source": [
    "# Creating ICA object\n",
    "ICA = FastICA(n_components=2)\n",
    "IndependentComponentValues=ICA.fit_transform(X_res)\n",
    "\n",
    "#Creating the dataframe\n",
    "print('####### Final Independent Components ######')\n",
    "ReducedData=pd.DataFrame(data=IndependentComponentValues, columns= ['IC1','IC2'])\n",
    "print(ReducedData.head(10))"
   ]
  },
  {
   "cell_type": "code",
   "execution_count": null,
   "metadata": {
    "cell_id": "00054-2b2a797d-70ad-4860-9979-706df6545cb6",
    "deepnote_cell_type": "code",
    "deepnote_to_be_reexecuted": false,
    "execution_millis": 957,
    "execution_start": 1634165763111,
    "source_hash": "c651f6c0",
    "tags": []
   },
   "outputs": [],
   "source": [
    "sns.scatterplot(x=\"IC1\", y=\"IC2\" ,  data=ReducedData).set(title=\"ICA\") "
   ]
  },
  {
   "cell_type": "markdown",
   "metadata": {
    "cell_id": "00055-6387b5e0-34d3-47d2-870a-10ba39a39aec",
    "deepnote_cell_type": "text-cell-h1",
    "is_collapsed": false,
    "tags": []
   },
   "source": [
    "# Modelos de clasificación"
   ]
  },
  {
   "cell_type": "markdown",
   "metadata": {
    "cell_id": "00057-6b33ec6f-41df-43b7-b987-60669f8848c9",
    "deepnote_cell_type": "markdown",
    "tags": []
   },
   "source": [
    "Definimos la funcín para generar la matriz de confusion de los siguientes modelos de clasificació o que son utilizados para clasificar según la variable respuesta Biopsy (0: Saludable - No diagnosticado con cancer, 1: Cancer - diagnosticado con cancer) "
   ]
  },
  {
   "cell_type": "code",
   "execution_count": null,
   "metadata": {
    "cell_id": "00056-b527c6cb-fbc0-4693-87c8-c4d7e7904ed9",
    "deepnote_cell_type": "code",
    "deepnote_to_be_reexecuted": false,
    "execution_millis": 26,
    "execution_start": 1634165764072,
    "source_hash": "5f0480de",
    "tags": []
   },
   "outputs": [],
   "source": [
    "# Funcion para calcular y visualizar la matriz de confusion \n",
    "def plotCM(ytrue, ypred, clases=None, normalize = False, ax = None):\n",
    "    \"\"\" Funcion para calcular y visualizar la matriz de confusion\"\"\"\n",
    "    \n",
    "    if clases == None:\n",
    "        clases = list(set(ytrue))\n",
    "        clases.sort() # etiquetas unicas ordenadas alfabeticamente\n",
    "    \n",
    "    CM = confusion_matrix(ytrue,ypred, labels=clases)\n",
    "    \n",
    "    #Normaliza la matriz de confusion dividiendo cada fila por el total de verdaderos\n",
    "    if normalize:\n",
    "        CM = 100*CM / CM.sum(axis=1).reshape(-1,1) #Aprovechando el Broadcasting!\n",
    " \n",
    "    df = pd.DataFrame(CM, index=clases, columns=clases)\n",
    "    df.index.name = 'True'; df.columns.name = 'Predicted'\n",
    "    \n",
    "    sns.heatmap( df, # Visualizando la matriz de confusion\n",
    "             annot=True, fmt='2.1f', cmap='ocean_r',cbar=False,square=True, annot_kws={'fontsize':16}, ax=ax )\n",
    "    \n",
    "    plt.show()"
   ]
  },
  {
   "cell_type": "markdown",
   "metadata": {
    "cell_id": "00056-ea6d3793-3b20-4edc-af39-4a928b9bef21",
    "deepnote_cell_type": "text-cell-h3",
    "is_collapsed": false,
    "tags": []
   },
   "source": [
    "### Regresión logística"
   ]
  },
  {
   "cell_type": "code",
   "execution_count": null,
   "metadata": {
    "cell_id": "00059-6e1815dc-ec3c-4719-8437-372157e2a99c",
    "deepnote_cell_type": "code",
    "deepnote_to_be_reexecuted": false,
    "execution_millis": 97,
    "execution_start": 1634165764104,
    "source_hash": "ab9519e6",
    "tags": []
   },
   "outputs": [],
   "source": [
    "scaler = preprocessing.StandardScaler().fit(X_res)\n",
    "lrmodel = LogisticRegression(solver='lbfgs')\n",
    "lrmodel.fit( scaler.transform(X_res),y_res )\n",
    "y_pred1 = lrmodel.predict( scaler.transform(X_test) )"
   ]
  },
  {
   "cell_type": "markdown",
   "metadata": {
    "cell_id": "00061-fbb30d42-955b-4663-89bd-8469eadeb1f7",
    "deepnote_cell_type": "markdown",
    "tags": []
   },
   "source": [
    "##### Matriz de confusión \n",
    "A partir de la matriz de confusión nos dimis cuenta que el 97% de la categoria 0's (Biopsia = Falso) esta bien clasificado como que en la persona salio negativo en su biopsia, es decir, no esta diagnosticado con cancer, pero el 3% de esa misma categoria esta clasificado erroneamente como su biopsia salio positiva, es decir, esta diagnosticado con cancer cuando en realidad no.Además, en la categoria de los 1's (Biopsia = True) el modelo  clasifico correctamente las 5 filas de la base original que tomamos como test, es decir, que el 100% de esa muestra de test esta diagnoticada con cancer."
   ]
  },
  {
   "cell_type": "code",
   "execution_count": null,
   "metadata": {
    "cell_id": "00061-ec3bd66f-e9fe-430f-b9ad-7e1851df39ff",
    "deepnote_cell_type": "code",
    "deepnote_to_be_reexecuted": false,
    "execution_millis": 243,
    "execution_start": 1634165764209,
    "source_hash": "9e252033",
    "tags": []
   },
   "outputs": [],
   "source": [
    "plotCM(y_test,y_pred1, normalize=True)"
   ]
  },
  {
   "cell_type": "markdown",
   "metadata": {
    "cell_id": "00064-4741aef0-fccd-4967-8568-7a4f547f90a7",
    "deepnote_cell_type": "markdown",
    "tags": []
   },
   "source": [
    "##### Presición del modelo\n",
    "A pesar de que el modelo presenta una buena presición, tenemos que el coeficiente de determinación ó R cuadrado ajustado es negativo, lo que nos dice que el modelo no se ajusto muy bien a los datos dados."
   ]
  },
  {
   "cell_type": "code",
   "execution_count": null,
   "metadata": {
    "cell_id": "00064-0bf9dbe1-78f7-4c93-b581-b9ca92549e8c",
    "deepnote_cell_type": "code",
    "deepnote_to_be_reexecuted": false,
    "execution_millis": 24,
    "execution_start": 1634165764449,
    "source_hash": "bbe721ff",
    "tags": []
   },
   "outputs": [],
   "source": [
    "print(\"Presición del test es: {:.2f}\".format( accuracy_score(y_test,y_pred1) ))\n",
    "print(\"Coeficiente de determinación: {:.2f}\".format(r2_score(y_test, y_pred1)))"
   ]
  },
  {
   "cell_type": "markdown",
   "metadata": {
    "cell_id": "00057-730d1434-4f6f-45ca-8bcc-693c569e558f",
    "deepnote_cell_type": "text-cell-h3",
    "is_collapsed": false,
    "tags": []
   },
   "source": [
    "### LASSO"
   ]
  },
  {
   "cell_type": "code",
   "execution_count": null,
   "metadata": {
    "cell_id": "00058-e031424d-8df7-4ce5-9c3f-9d08acb7e2cc",
    "deepnote_cell_type": "code",
    "deepnote_to_be_reexecuted": false,
    "execution_millis": 717,
    "execution_start": 1634165764467,
    "source_hash": "a74e59ec",
    "tags": []
   },
   "outputs": [],
   "source": [
    "modelo = LassoCV( alphas = np.logspace(-10, 3, 200), normalize = True )\n",
    "_ = modelo.fit(X = X_res, y = y_res)"
   ]
  },
  {
   "cell_type": "code",
   "execution_count": null,
   "metadata": {
    "cell_id": "00063-44f4e539-0c93-4ed1-b829-c6c7c7f80211",
    "deepnote_cell_type": "code",
    "deepnote_to_be_reexecuted": false,
    "execution_millis": 161,
    "execution_start": 1634165765153,
    "source_hash": "d9b3aa99",
    "tags": []
   },
   "outputs": [],
   "source": [
    "scorer = make_scorer(mean_squared_error, greater_is_better=False)\n",
    "\n",
    "lasso_reg = Lasso()\n",
    "\n",
    "prepare_predict_pipeline = Pipeline([ \n",
    "    ('predict', lasso_reg),\n",
    "])\n",
    "\n",
    "params = [\n",
    "    {\n",
    "     'predict__alpha':[0.0005]\n",
    "    }\n",
    "]\n",
    "\n",
    "grid_search = GridSearchCV(prepare_predict_pipeline, param_grid=params, scoring=scorer, cv = 5, verbose=1)\n",
    "grid_search.fit(X_res,y_res)"
   ]
  },
  {
   "cell_type": "code",
   "execution_count": null,
   "metadata": {
    "cell_id": "00069-7e4b8971-ee08-4487-80c4-d289216c7710",
    "deepnote_cell_type": "code",
    "deepnote_to_be_reexecuted": false,
    "execution_millis": 15,
    "execution_start": 1634165765320,
    "source_hash": "25f01f60",
    "tags": []
   },
   "outputs": [],
   "source": [
    "y_pred2 = grid_search.predict( scaler.transform(X_test) ) "
   ]
  },
  {
   "cell_type": "code",
   "execution_count": null,
   "metadata": {
    "cell_id": "00070-e29acd33-3425-4d3c-b2a1-e38fed067f97",
    "deepnote_cell_type": "code",
    "deepnote_to_be_reexecuted": false,
    "execution_millis": 589,
    "execution_start": 1634165765344,
    "source_hash": "1b874840",
    "tags": []
   },
   "outputs": [],
   "source": [
    "#plotCM(y_test,y_pred2, normalize=True)"
   ]
  },
  {
   "cell_type": "markdown",
   "metadata": {
    "cell_id": "00058-6797a786-00c6-4a2b-a055-edaa031ab295",
    "deepnote_cell_type": "text-cell-h3",
    "is_collapsed": false,
    "tags": []
   },
   "source": [
    "### RIDGE"
   ]
  },
  {
   "cell_type": "markdown",
   "metadata": {
    "cell_id": "00072-9b8991dd-e299-4286-818a-73251248b3d5",
    "deepnote_cell_type": "markdown",
    "tags": []
   },
   "source": [
    "Inicialmente obtendremos el mejor de los alphas para poder hacer la regresión de ridge categorica utilizaremos validación cruzada para esto."
   ]
  },
  {
   "cell_type": "code",
   "execution_count": null,
   "metadata": {
    "cell_id": "00072-07d30aa9-523a-4efa-bbc6-d81c65325dbb",
    "deepnote_cell_type": "code",
    "deepnote_to_be_reexecuted": false,
    "execution_millis": 3949,
    "execution_start": 1634165826493,
    "source_hash": "415f30fc",
    "tags": []
   },
   "outputs": [],
   "source": [
    "#Generamos un amplio rango de alphas\n",
    "alphas = 10**np.linspace(10,-2,100)\n",
    "#Generamos el alpha con ayuda de validación cruzada\n",
    "ridgecv = RidgeCV(alphas=alphas, cv=5, scoring='neg_mean_squared_error')\n",
    "Ajs = ridgecv.fit(scaler.transform(X_res), y_res) # Ajustando al Training set\n"
   ]
  },
  {
   "cell_type": "markdown",
   "metadata": {
    "cell_id": "00074-63b913f2-bcf7-4fad-adaf-85481bd29b35",
    "deepnote_cell_type": "markdown",
    "tags": []
   },
   "source": [
    "##### Alpha destacado con ayuda de valización cruzada"
   ]
  },
  {
   "cell_type": "code",
   "execution_count": null,
   "metadata": {
    "cell_id": "00074-13ff664e-e9a0-4fd0-ab49-4ce0c5c1478e",
    "deepnote_cell_type": "code",
    "deepnote_to_be_reexecuted": false,
    "execution_millis": 14,
    "execution_start": 1634165830451,
    "source_hash": "e8f661ae",
    "tags": []
   },
   "outputs": [],
   "source": [
    "#Destacamos el mejor alpha\n",
    "Mejor_Alpha = ridgecv.alpha_\n",
    "print(\"Mejor de los alphas: {:.2f}\".format(Mejor_Alpha))"
   ]
  },
  {
   "cell_type": "markdown",
   "metadata": {
    "cell_id": "00076-58066a6a-4a15-41f8-ae1d-a007f112f917",
    "deepnote_cell_type": "markdown",
    "tags": []
   },
   "source": [
    "Regresión normal de rigde con alpha destacado"
   ]
  },
  {
   "cell_type": "code",
   "execution_count": null,
   "metadata": {
    "cell_id": "00075-e158d324-b2ac-4f88-a773-84f006b65745",
    "deepnote_cell_type": "code",
    "deepnote_to_be_reexecuted": false,
    "execution_millis": 29,
    "execution_start": 1634166818046,
    "source_hash": "c6841618",
    "tags": []
   },
   "outputs": [],
   "source": [
    "ridge = Ridge(alpha=0.5)\n",
    "ridge.fit(scaler.transform(X_res), y_res)\n",
    "pd.Series(ridge.coef_, index= X_res.columns).sort_values(ascending=True)"
   ]
  },
  {
   "cell_type": "code",
   "execution_count": null,
   "metadata": {
    "cell_id": "00078-81e1f9c8-7f03-4e95-bc1e-76b270ef45be",
    "deepnote_cell_type": "code",
    "deepnote_to_be_reexecuted": false,
    "execution_millis": 6,
    "execution_start": 1634166826382,
    "source_hash": "dd58f843",
    "tags": []
   },
   "outputs": [],
   "source": [
    "predi_ridge = ridge.predict(scaler.transform(X_test))"
   ]
  },
  {
   "cell_type": "markdown",
   "metadata": {
    "cell_id": "00079-d340a497-10ac-41c8-a1ff-55033782579b",
    "deepnote_cell_type": "markdown",
    "tags": []
   },
   "source": [
    "##### Matriz de confusión"
   ]
  },
  {
   "cell_type": "code",
   "execution_count": null,
   "metadata": {
    "cell_id": "00080-7c9bd5ea-af32-45ef-a0a7-c93cc67eeac8",
    "deepnote_cell_type": "code",
    "deepnote_to_be_reexecuted": false,
    "execution_millis": 30,
    "execution_start": 1634166832690,
    "source_hash": "7f31be74",
    "tags": []
   },
   "outputs": [],
   "source": [
    "predi_ridge"
   ]
  },
  {
   "cell_type": "code",
   "execution_count": null,
   "metadata": {
    "cell_id": "00080-20a6a6ad-ce8e-4312-bb7e-c179d352cd03",
    "deepnote_cell_type": "code",
    "deepnote_to_be_reexecuted": false,
    "execution_millis": 38,
    "execution_start": 1634166329626,
    "source_hash": "9a201c65",
    "tags": []
   },
   "outputs": [],
   "source": [
    "#plotCM(y_test,predi_ridge#, normalize=True)"
   ]
  },
  {
   "cell_type": "code",
   "execution_count": null,
   "metadata": {
    "cell_id": "00082-7286429a-a4f0-4df5-9903-8c66cf0179f9",
    "deepnote_cell_type": "code",
    "deepnote_to_be_reexecuted": false,
    "execution_millis": 33,
    "execution_start": 1634166562652,
    "source_hash": "1768437e",
    "tags": []
   },
   "outputs": [],
   "source": [
    "#print(\"Presición del test es: {:.2f}\".format( accuracy_score(y_test,predi_ridge) ))\n",
    "#print(\"Coeficiente de determinación: {:.2f}\".format(r2_score(y_test, predi_ridge)))"
   ]
  },
  {
   "cell_type": "markdown",
   "metadata": {
    "cell_id": "00055-9f62b885-993b-4c14-a2b3-3585b2081fc6",
    "deepnote_cell_type": "text-cell-h3",
    "is_collapsed": false,
    "tags": []
   },
   "source": [
    "### Análisis discriminante lineal"
   ]
  },
  {
   "cell_type": "code",
   "execution_count": null,
   "metadata": {
    "cell_id": "00055-1cc68af9-946c-4807-a051-7a9846744262",
    "deepnote_cell_type": "code",
    "deepnote_to_be_reexecuted": false,
    "execution_millis": 29,
    "execution_start": 1634166969096,
    "source_hash": "67a2cb1a",
    "tags": []
   },
   "outputs": [],
   "source": [
    "model = LinearDiscriminantAnalysis().fit( X_res, y_res)\n",
    "y_pred2 = model.predict(X_test)"
   ]
  },
  {
   "cell_type": "markdown",
   "metadata": {
    "cell_id": "00085-40441735-12e7-4780-926a-9a28bd342f60",
    "deepnote_cell_type": "markdown",
    "tags": []
   },
   "source": [
    "##### Matriz de confusión"
   ]
  },
  {
   "cell_type": "code",
   "execution_count": null,
   "metadata": {
    "cell_id": "00086-2838e36e-c368-459d-9dd7-9bb9da5d7e2f",
    "deepnote_cell_type": "code",
    "deepnote_to_be_reexecuted": false,
    "execution_millis": 216,
    "execution_start": 1634166971322,
    "source_hash": "1b874840",
    "tags": []
   },
   "outputs": [],
   "source": [
    "plotCM(y_test,y_pred2, normalize=True)"
   ]
  },
  {
   "cell_type": "markdown",
   "metadata": {
    "cell_id": "00087-ded1ea8c-6324-4a3a-aa43-9f4fc2ea7f18",
    "deepnote_cell_type": "markdown",
    "tags": []
   },
   "source": [
    "##### Presición del modelo"
   ]
  },
  {
   "cell_type": "code",
   "execution_count": null,
   "metadata": {
    "cell_id": "00087-9f892d32-c987-4fca-8ad3-f1ebd3923a23",
    "deepnote_cell_type": "code",
    "deepnote_to_be_reexecuted": false,
    "execution_millis": 20,
    "execution_start": 1634167181574,
    "source_hash": "6ac39c90",
    "tags": []
   },
   "outputs": [],
   "source": [
    "print(\"Presición del test es: {:.2f}\".format( accuracy_score(y_test,y_pred2) ))\n",
    "print(\"Coeficiente de determinación: {:.2f}\".format(r2_score(y_test, y_pred2)))"
   ]
  },
  {
   "cell_type": "markdown",
   "metadata": {
    "cell_id": "00057-1360c00f-ff35-4470-8ce4-cac52e4609d4",
    "deepnote_cell_type": "text-cell-h3",
    "is_collapsed": false,
    "tags": []
   },
   "source": [
    "### Naive Bayes"
   ]
  },
  {
   "cell_type": "code",
   "execution_count": null,
   "metadata": {
    "cell_id": "00058-fba2a26e-8502-4400-9d77-0dc0221d9c9e",
    "deepnote_cell_type": "code",
    "deepnote_to_be_reexecuted": true,
    "execution_millis": 42,
    "execution_start": 1634153703784,
    "source_hash": "f6bceb23",
    "tags": []
   },
   "outputs": [],
   "source": [
    "gnb = GaussianNB()\n",
    "y_pred = gnb.fit(X_res, y_res).predict(X_test)\n",
    "print(\"Number of mislabeled points out of a total %d points : %d\"% (X_test.shape[0], (y_test != y_pred).sum()))\n"
   ]
  },
  {
   "cell_type": "markdown",
   "metadata": {
    "cell_id": "00055-00daeea9-7df7-4105-af61-abb19c8fb529",
    "deepnote_cell_type": "text-cell-h3",
    "is_collapsed": false,
    "tags": []
   },
   "source": [
    "### KNN"
   ]
  },
  {
   "cell_type": "code",
   "execution_count": null,
   "metadata": {
    "cell_id": "00056-3bd230aa-cf19-4fc6-9955-34611d26087d",
    "deepnote_cell_type": "code",
    "deepnote_to_be_reexecuted": true,
    "source_hash": "b623e53d",
    "tags": []
   },
   "outputs": [],
   "source": []
  },
  {
   "cell_type": "markdown",
   "metadata": {
    "cell_id": "00061-20f8251b-b4e6-4371-a09e-187bba3d0b70",
    "deepnote_cell_type": "text-cell-h3",
    "is_collapsed": false,
    "tags": []
   },
   "source": [
    "###  Modelo GLM"
   ]
  },
  {
   "cell_type": "code",
   "execution_count": null,
   "metadata": {
    "cell_id": "00062-fb68b480-8d64-4b73-a6e5-48459cb736aa",
    "deepnote_cell_type": "code",
    "deepnote_to_be_reexecuted": true,
    "source_hash": "b623e53d",
    "tags": []
   },
   "outputs": [],
   "source": []
  },
  {
   "cell_type": "markdown",
   "metadata": {
    "cell_id": "00063-4b31f4c4-f10a-4780-bc4f-3e68758cc226",
    "deepnote_cell_type": "text-cell-h3",
    "is_collapsed": false,
    "tags": []
   },
   "source": [
    "###  Modelo GAM"
   ]
  },
  {
   "cell_type": "code",
   "execution_count": null,
   "metadata": {
    "cell_id": "00064-088a24b6-edd3-47ef-83f1-4779fedb0f0d",
    "deepnote_cell_type": "code",
    "deepnote_to_be_reexecuted": true,
    "source_hash": "b623e53d",
    "tags": []
   },
   "outputs": [],
   "source": []
  },
  {
   "cell_type": "markdown",
   "metadata": {
    "created_in_deepnote_cell": true,
    "deepnote_cell_type": "markdown",
    "tags": []
   },
   "source": [
    "<a style='text-decoration:none;line-height:16px;display:flex;color:#5B5B62;padding:10px;justify-content:end;' href='https://deepnote.com?utm_source=created-in-deepnote-cell&projectId=ab22eaaf-06f3-405f-9fcb-14fedb95aa5f' target=\"_blank\">\n",
    "<img alt='Created in deepnote.com' style='display:inline;max-height:16px;margin:0px;margin-right:7.5px;' src='data:image/svg+xml;base64,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' > </img>\n",
    "Created in <span style='font-weight:600;margin-left:4px;'>Deepnote</span></a>"
   ]
  },
  {
   "cell_type": "code",
   "execution_count": null,
   "metadata": {},
   "outputs": [],
   "source": []
  }
 ],
 "metadata": {
  "deepnote": {},
  "deepnote_execution_queue": [],
  "deepnote_notebook_id": "82b8f08b-5aaf-4851-b26e-dc5bfb9aa61f",
  "kernelspec": {
   "display_name": "Python 3",
   "language": "python",
   "name": "python3"
  },
  "language_info": {
   "codemirror_mode": {
    "name": "ipython",
    "version": 3
   },
   "file_extension": ".py",
   "mimetype": "text/x-python",
   "name": "python",
   "nbconvert_exporter": "python",
   "pygments_lexer": "ipython3",
   "version": "3.9.6"
  }
 },
 "nbformat": 4,
 "nbformat_minor": 4
}
