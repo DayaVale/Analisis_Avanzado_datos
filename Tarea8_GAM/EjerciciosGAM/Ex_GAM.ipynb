{
 "cells": [
  {
   "cell_type": "markdown",
   "source": "# Ejercicio de GAM\n**Integrantes**: Maria Fernanda Rodriguez, Dayana Valentina Gonzalez",
   "metadata": {
    "cell_id": "00000-758d02ba-5ffd-413b-9e7e-f014818dc679",
    "deepnote_cell_type": "markdown"
   }
  },
  {
   "cell_type": "code",
   "metadata": {
    "cell_id": "00001-ddfa8185-5f77-4233-a026-a967ca2dc3b7",
    "deepnote_to_be_reexecuted": false,
    "source_hash": "785cab06",
    "execution_start": 1636413529767,
    "execution_millis": 8,
    "deepnote_cell_type": "code"
   },
   "source": "import numpy as np\nimport pandas as pd\nimport matplotlib.pyplot as plt\nimport statsmodels.api as sm\nfrom statsmodels.gam.api import GLMGam, BSplines\nfrom patsy import dmatrix\nfrom collections import defaultdict\nfrom operator import itemgetter\nfrom sklearn.model_selection import train_test_split\nfrom sklearn.preprocessing import StandardScaler\nfrom sklearn.metrics import r2_score\n# from pandas import scatter_matrix \n\n%matplotlib inline\nplt.style.use('ggplot')",
   "execution_count": 84,
   "outputs": []
  },
  {
   "cell_type": "markdown",
   "source": "### Función para ayudar a graficar una matriz de dispersión usando el modelo GAM\nLa siguiente función puede serle útil para aplicarla al modelo (en el punto b)",
   "metadata": {
    "cell_id": "00009-df5dae23-6903-49ec-a92d-b409a9a2eae9",
    "deepnote_cell_type": "markdown"
   }
  },
  {
   "cell_type": "code",
   "metadata": {
    "cell_id": "00010-75f718a6-3aec-4de0-aa89-11d1f398bff5",
    "deepnote_to_be_reexecuted": false,
    "source_hash": "6e55ea99",
    "execution_start": 1636408426475,
    "execution_millis": 4,
    "deepnote_cell_type": "code"
   },
   "source": "def gam_plot(data, design, gam_model, predictors):\n    \"\"\"\n    A method to plot fitted basis functions similar to R's gam library and associated plot method.\n    \n    Parameters:\n        data:       Original DataFrame containing all features.\n        design:     An n_samples by n_features design dataframe with basis functions created using Patsy.\n        gam_model:  A statsmodel fitted OLS object. \n        predictors: A list of string names for each of the predictors used to construct the gam.        \n\n    \"\"\"\n    basis_funcs = defaultdict(np.array,[])\n    extremums = defaultdict(list)\n    \n    # Compute the product of the design df with the coeffecients\n    results = design * gam.params\n    # find the columns that have the predictor in the col name and get the results from these columns\n    for predictor in predictors:\n        column_names = [col for col in design.columns if predictor in col]\n        basis_funcs[predictor] = results[column_names]\n        \n        \n    # Plotting\n    num_rows = len(predictors)//3 + 1 if len(predictors)%3!=0 else len(predictors)//3\n    fig, axarr = plt.subplots(num_rows, 3, figsize=(12,8))\n    \n    for el, predictor in enumerate(predictors):\n        # get the tuple index to plot to\n        plt_index = np.unravel_index(el,(num_rows, 3))\n        \n        # numeric predictors\n        if data[predictor].values.dtype.type is np.int64:\n            # get the order of the predictor and make a grid\n            order = np.argsort(data[predictor])\n            predictor_grid = data[predictor].values[order]\n            # sum the basis functions and order the same as the predictor\n            basis_vals = np.sum(basis_funcs[predictor].values, axis=1)[order]\n            axarr[plt_index[0], plt_index[1]].plot(predictor_grid, basis_vals)\n            \n        else:\n            # categorical predictors\n            # make a temporary data frame\n            s = pd.DataFrame(data[predictor])\n            # add the sum of the basis functions for this categorical predictor\n            s['f-'+predictor] = np.sum(basis_funcs[predictor].values, axis=1)\n            # zero-mean\n            s['f-'+predictor] = s['f-'+predictor] - s['f-'+predictor].mean()\n            # call boxplot grouping by predictor col\n            s.boxplot(column=['f-'+predictor], by=predictor, ax = axarr[plt_index[0], plt_index[1]]);\n            axarr[plt_index[0], plt_index[1]].set_ylabel('F%d(%s)' %(el,predictor));\n            plt.suptitle('')\n            \n        # Add Labels\n        axarr[plt_index[0], plt_index[1]].set_xlabel(predictor);\n        axarr[plt_index[0], plt_index[1]].set_ylabel('F%d(%s)' % (el,predictor));\n        plt.tight_layout() \n                \n    return basis_funcs",
   "execution_count": 8,
   "outputs": []
  },
  {
   "cell_type": "markdown",
   "source": "**[1]** Reproduzca el modelo de GAM realizado anteriormente usando `GLMGam`.",
   "metadata": {
    "lang": "es",
    "cell_id": "00011-a799cddb-6d4e-4874-ae36-1965ee951663",
    "deepnote_cell_type": "markdown"
   }
  },
  {
   "cell_type": "markdown",
   "source": "### Importar datos de WAGE",
   "metadata": {
    "tags": [],
    "cell_id": "00012-ff70398a-1b33-4a1c-b189-44d11120387b",
    "deepnote_cell_type": "markdown"
   }
  },
  {
   "cell_type": "code",
   "source": "Wages = pd.read_csv('Wage.csv', index_col=0)\nWages.reset_index(inplace=True)\nWages.head()",
   "metadata": {
    "tags": [],
    "cell_id": "00012-ad9c5fe9-9f36-4951-b705-3c0e8ee04804",
    "deepnote_to_be_reexecuted": false,
    "source_hash": "6cd7b6db",
    "execution_start": 1636408426476,
    "execution_millis": 68,
    "deepnote_cell_type": "code"
   },
   "outputs": [
    {
     "output_type": "execute_result",
     "execution_count": 9,
     "data": {
      "application/vnd.deepnote.dataframe.v2+json": {
       "row_count": 5,
       "column_count": 13,
       "columns": [
        {
         "name": "index",
         "dtype": "int64",
         "stats": {
          "unique_count": 5,
          "nan_count": 0,
          "min": "11443",
          "max": "231655",
          "histogram": [
           {
            "bin_start": 11443,
            "bin_end": 33464.2,
            "count": 1
           },
           {
            "bin_start": 33464.2,
            "bin_end": 55485.4,
            "count": 0
           },
           {
            "bin_start": 55485.4,
            "bin_end": 77506.6,
            "count": 0
           },
           {
            "bin_start": 77506.6,
            "bin_end": 99527.8,
            "count": 1
           },
           {
            "bin_start": 99527.8,
            "bin_end": 121549,
            "count": 0
           },
           {
            "bin_start": 121549,
            "bin_end": 143570.2,
            "count": 0
           },
           {
            "bin_start": 143570.2,
            "bin_end": 165591.4,
            "count": 2
           },
           {
            "bin_start": 165591.4,
            "bin_end": 187612.6,
            "count": 0
           },
           {
            "bin_start": 187612.6,
            "bin_end": 209633.80000000002,
            "count": 0
           },
           {
            "bin_start": 209633.80000000002,
            "bin_end": 231655,
            "count": 1
           }
          ]
         }
        },
        {
         "name": "year",
         "dtype": "int64",
         "stats": {
          "unique_count": 4,
          "nan_count": 0,
          "min": "2003",
          "max": "2006",
          "histogram": [
           {
            "bin_start": 2003,
            "bin_end": 2003.3,
            "count": 2
           },
           {
            "bin_start": 2003.3,
            "bin_end": 2003.6,
            "count": 0
           },
           {
            "bin_start": 2003.6,
            "bin_end": 2003.9,
            "count": 0
           },
           {
            "bin_start": 2003.9,
            "bin_end": 2004.2,
            "count": 1
           },
           {
            "bin_start": 2004.2,
            "bin_end": 2004.5,
            "count": 0
           },
           {
            "bin_start": 2004.5,
            "bin_end": 2004.8,
            "count": 0
           },
           {
            "bin_start": 2004.8,
            "bin_end": 2005.1,
            "count": 1
           },
           {
            "bin_start": 2005.1,
            "bin_end": 2005.4,
            "count": 0
           },
           {
            "bin_start": 2005.4,
            "bin_end": 2005.7,
            "count": 0
           },
           {
            "bin_start": 2005.7,
            "bin_end": 2006,
            "count": 1
           }
          ]
         }
        },
        {
         "name": "age",
         "dtype": "int64",
         "stats": {
          "unique_count": 5,
          "nan_count": 0,
          "min": "18",
          "max": "50",
          "histogram": [
           {
            "bin_start": 18,
            "bin_end": 21.2,
            "count": 1
           },
           {
            "bin_start": 21.2,
            "bin_end": 24.4,
            "count": 1
           },
           {
            "bin_start": 24.4,
            "bin_end": 27.6,
            "count": 0
           },
           {
            "bin_start": 27.6,
            "bin_end": 30.8,
            "count": 0
           },
           {
            "bin_start": 30.8,
            "bin_end": 34,
            "count": 0
           },
           {
            "bin_start": 34,
            "bin_end": 37.2,
            "count": 0
           },
           {
            "bin_start": 37.2,
            "bin_end": 40.400000000000006,
            "count": 0
           },
           {
            "bin_start": 40.400000000000006,
            "bin_end": 43.6,
            "count": 1
           },
           {
            "bin_start": 43.6,
            "bin_end": 46.8,
            "count": 1
           },
           {
            "bin_start": 46.8,
            "bin_end": 50,
            "count": 1
           }
          ]
         }
        },
        {
         "name": "sex",
         "dtype": "object",
         "stats": {
          "unique_count": 1,
          "nan_count": 0,
          "categories": [
           {
            "name": "1. Male",
            "count": 5
           }
          ]
         }
        },
        {
         "name": "maritl",
         "dtype": "object",
         "stats": {
          "unique_count": 3,
          "nan_count": 0,
          "categories": [
           {
            "name": "1. Never Married",
            "count": 2
           },
           {
            "name": "2. Married",
            "count": 2
           },
           {
            "name": "4. Divorced",
            "count": 1
           }
          ]
         }
        },
        {
         "name": "race",
         "dtype": "object",
         "stats": {
          "unique_count": 2,
          "nan_count": 0,
          "categories": [
           {
            "name": "1. White",
            "count": 4
           },
           {
            "name": "3. Asian",
            "count": 1
           }
          ]
         }
        },
        {
         "name": "education",
         "dtype": "object",
         "stats": {
          "unique_count": 4,
          "nan_count": 0,
          "categories": [
           {
            "name": "4. College Grad",
            "count": 2
           },
           {
            "name": "1. < HS Grad",
            "count": 1
           },
           {
            "name": "2 others",
            "count": 2
           }
          ]
         }
        },
        {
         "name": "region",
         "dtype": "object",
         "stats": {
          "unique_count": 1,
          "nan_count": 0,
          "categories": [
           {
            "name": "2. Middle Atlantic",
            "count": 5
           }
          ]
         }
        },
        {
         "name": "jobclass",
         "dtype": "object",
         "stats": {
          "unique_count": 2,
          "nan_count": 0,
          "categories": [
           {
            "name": "2. Information",
            "count": 3
           },
           {
            "name": "1. Industrial",
            "count": 2
           }
          ]
         }
        },
        {
         "name": "health",
         "dtype": "object",
         "stats": {
          "unique_count": 2,
          "nan_count": 0,
          "categories": [
           {
            "name": "1. <=Good",
            "count": 3
           },
           {
            "name": "2. >=Very Good",
            "count": 2
           }
          ]
         }
        },
        {
         "name": "health_ins",
         "dtype": "object",
         "stats": {
          "unique_count": 2,
          "nan_count": 0,
          "categories": [
           {
            "name": "1. Yes",
            "count": 3
           },
           {
            "name": "2. No",
            "count": 2
           }
          ]
         }
        },
        {
         "name": "logwage",
         "dtype": "float64",
         "stats": {
          "unique_count": 4,
          "nan_count": 0,
          "min": "4.25527250510331",
          "max": "5.04139268515823",
          "histogram": [
           {
            "bin_start": 4.25527250510331,
            "bin_end": 4.333884523108802,
            "count": 3
           },
           {
            "bin_start": 4.333884523108802,
            "bin_end": 4.412496541114294,
            "count": 0
           },
           {
            "bin_start": 4.412496541114294,
            "bin_end": 4.491108559119786,
            "count": 0
           },
           {
            "bin_start": 4.491108559119786,
            "bin_end": 4.569720577125278,
            "count": 0
           },
           {
            "bin_start": 4.569720577125278,
            "bin_end": 4.6483325951307695,
            "count": 0
           },
           {
            "bin_start": 4.6483325951307695,
            "bin_end": 4.726944613136262,
            "count": 0
           },
           {
            "bin_start": 4.726944613136262,
            "bin_end": 4.805556631141754,
            "count": 0
           },
           {
            "bin_start": 4.805556631141754,
            "bin_end": 4.884168649147246,
            "count": 1
           },
           {
            "bin_start": 4.884168649147246,
            "bin_end": 4.962780667152738,
            "count": 0
           },
           {
            "bin_start": 4.962780667152738,
            "bin_end": 5.04139268515823,
            "count": 1
           }
          ]
         }
        },
        {
         "name": "wage",
         "dtype": "float64",
         "stats": {
          "unique_count": 4,
          "nan_count": 0,
          "min": "70.4760196469445",
          "max": "154.68529299563",
          "histogram": [
           {
            "bin_start": 70.4760196469445,
            "bin_end": 78.89694698181304,
            "count": 3
           },
           {
            "bin_start": 78.89694698181304,
            "bin_end": 87.3178743166816,
            "count": 0
           },
           {
            "bin_start": 87.3178743166816,
            "bin_end": 95.73880165155015,
            "count": 0
           },
           {
            "bin_start": 95.73880165155015,
            "bin_end": 104.15972898641868,
            "count": 0
           },
           {
            "bin_start": 104.15972898641868,
            "bin_end": 112.58065632128725,
            "count": 0
           },
           {
            "bin_start": 112.58065632128725,
            "bin_end": 121.00158365615579,
            "count": 0
           },
           {
            "bin_start": 121.00158365615579,
            "bin_end": 129.42251099102435,
            "count": 0
           },
           {
            "bin_start": 129.42251099102435,
            "bin_end": 137.8434383258929,
            "count": 1
           },
           {
            "bin_start": 137.8434383258929,
            "bin_end": 146.26436566076143,
            "count": 0
           },
           {
            "bin_start": 146.26436566076143,
            "bin_end": 154.68529299563,
            "count": 1
           }
          ]
         }
        },
        {
         "name": "_deepnote_index_column",
         "dtype": "int64"
        }
       ],
       "rows_top": [
        {
         "index": 231655,
         "year": 2006,
         "age": 18,
         "sex": "1. Male",
         "maritl": "1. Never Married",
         "race": "1. White",
         "education": "1. < HS Grad",
         "region": "2. Middle Atlantic",
         "jobclass": "1. Industrial",
         "health": "1. <=Good",
         "health_ins": "2. No",
         "logwage": 4.31806333496276,
         "wage": 75.0431540173515,
         "_deepnote_index_column": 0
        },
        {
         "index": 86582,
         "year": 2004,
         "age": 24,
         "sex": "1. Male",
         "maritl": "1. Never Married",
         "race": "1. White",
         "education": "4. College Grad",
         "region": "2. Middle Atlantic",
         "jobclass": "2. Information",
         "health": "2. >=Very Good",
         "health_ins": "2. No",
         "logwage": 4.25527250510331,
         "wage": 70.4760196469445,
         "_deepnote_index_column": 1
        },
        {
         "index": 161300,
         "year": 2003,
         "age": 45,
         "sex": "1. Male",
         "maritl": "2. Married",
         "race": "1. White",
         "education": "3. Some College",
         "region": "2. Middle Atlantic",
         "jobclass": "1. Industrial",
         "health": "1. <=Good",
         "health_ins": "1. Yes",
         "logwage": 4.8750612633917,
         "wage": 130.982177377461,
         "_deepnote_index_column": 2
        },
        {
         "index": 155159,
         "year": 2003,
         "age": 43,
         "sex": "1. Male",
         "maritl": "2. Married",
         "race": "3. Asian",
         "education": "4. College Grad",
         "region": "2. Middle Atlantic",
         "jobclass": "2. Information",
         "health": "2. >=Very Good",
         "health_ins": "1. Yes",
         "logwage": 5.04139268515823,
         "wage": 154.68529299563,
         "_deepnote_index_column": 3
        },
        {
         "index": 11443,
         "year": 2005,
         "age": 50,
         "sex": "1. Male",
         "maritl": "4. Divorced",
         "race": "1. White",
         "education": "2. HS Grad",
         "region": "2. Middle Atlantic",
         "jobclass": "2. Information",
         "health": "1. <=Good",
         "health_ins": "1. Yes",
         "logwage": 4.31806333496276,
         "wage": 75.0431540173515,
         "_deepnote_index_column": 4
        }
       ],
       "rows_bottom": null
      },
      "text/plain": "    index  year  age      sex            maritl      race        education  \\\n0  231655  2006   18  1. Male  1. Never Married  1. White     1. < HS Grad   \n1   86582  2004   24  1. Male  1. Never Married  1. White  4. College Grad   \n2  161300  2003   45  1. Male        2. Married  1. White  3. Some College   \n3  155159  2003   43  1. Male        2. Married  3. Asian  4. College Grad   \n4   11443  2005   50  1. Male       4. Divorced  1. White       2. HS Grad   \n\n               region        jobclass          health health_ins   logwage  \\\n0  2. Middle Atlantic   1. Industrial       1. <=Good      2. No  4.318063   \n1  2. Middle Atlantic  2. Information  2. >=Very Good      2. No  4.255273   \n2  2. Middle Atlantic   1. Industrial       1. <=Good     1. Yes  4.875061   \n3  2. Middle Atlantic  2. Information  2. >=Very Good     1. Yes  5.041393   \n4  2. Middle Atlantic  2. Information       1. <=Good     1. Yes  4.318063   \n\n         wage  \n0   75.043154  \n1   70.476020  \n2  130.982177  \n3  154.685293  \n4   75.043154  ",
      "text/html": "<div>\n<style scoped>\n    .dataframe tbody tr th:only-of-type {\n        vertical-align: middle;\n    }\n\n    .dataframe tbody tr th {\n        vertical-align: top;\n    }\n\n    .dataframe thead th {\n        text-align: right;\n    }\n</style>\n<table border=\"1\" class=\"dataframe\">\n  <thead>\n    <tr style=\"text-align: right;\">\n      <th></th>\n      <th>index</th>\n      <th>year</th>\n      <th>age</th>\n      <th>sex</th>\n      <th>maritl</th>\n      <th>race</th>\n      <th>education</th>\n      <th>region</th>\n      <th>jobclass</th>\n      <th>health</th>\n      <th>health_ins</th>\n      <th>logwage</th>\n      <th>wage</th>\n    </tr>\n  </thead>\n  <tbody>\n    <tr>\n      <th>0</th>\n      <td>231655</td>\n      <td>2006</td>\n      <td>18</td>\n      <td>1. Male</td>\n      <td>1. Never Married</td>\n      <td>1. White</td>\n      <td>1. &lt; HS Grad</td>\n      <td>2. Middle Atlantic</td>\n      <td>1. Industrial</td>\n      <td>1. &lt;=Good</td>\n      <td>2. No</td>\n      <td>4.318063</td>\n      <td>75.043154</td>\n    </tr>\n    <tr>\n      <th>1</th>\n      <td>86582</td>\n      <td>2004</td>\n      <td>24</td>\n      <td>1. Male</td>\n      <td>1. Never Married</td>\n      <td>1. White</td>\n      <td>4. College Grad</td>\n      <td>2. Middle Atlantic</td>\n      <td>2. Information</td>\n      <td>2. &gt;=Very Good</td>\n      <td>2. No</td>\n      <td>4.255273</td>\n      <td>70.476020</td>\n    </tr>\n    <tr>\n      <th>2</th>\n      <td>161300</td>\n      <td>2003</td>\n      <td>45</td>\n      <td>1. Male</td>\n      <td>2. Married</td>\n      <td>1. White</td>\n      <td>3. Some College</td>\n      <td>2. Middle Atlantic</td>\n      <td>1. Industrial</td>\n      <td>1. &lt;=Good</td>\n      <td>1. Yes</td>\n      <td>4.875061</td>\n      <td>130.982177</td>\n    </tr>\n    <tr>\n      <th>3</th>\n      <td>155159</td>\n      <td>2003</td>\n      <td>43</td>\n      <td>1. Male</td>\n      <td>2. Married</td>\n      <td>3. Asian</td>\n      <td>4. College Grad</td>\n      <td>2. Middle Atlantic</td>\n      <td>2. Information</td>\n      <td>2. &gt;=Very Good</td>\n      <td>1. Yes</td>\n      <td>5.041393</td>\n      <td>154.685293</td>\n    </tr>\n    <tr>\n      <th>4</th>\n      <td>11443</td>\n      <td>2005</td>\n      <td>50</td>\n      <td>1. Male</td>\n      <td>4. Divorced</td>\n      <td>1. White</td>\n      <td>2. HS Grad</td>\n      <td>2. Middle Atlantic</td>\n      <td>2. Information</td>\n      <td>1. &lt;=Good</td>\n      <td>1. Yes</td>\n      <td>4.318063</td>\n      <td>75.043154</td>\n    </tr>\n  </tbody>\n</table>\n</div>"
     },
     "metadata": {}
    }
   ],
   "execution_count": 9
  },
  {
   "cell_type": "code",
   "source": "# rename the 'Unnamed: 0' col to 'id'\nWages = Wages.rename(columns={'Unnamed: 0': 'id'})\n\n# find out if there are any missing values\nprint(pd.isnull(Wages).any())",
   "metadata": {
    "tags": [],
    "cell_id": "00014-c82d43a6-7f3f-42bf-8981-ec5a7f2a46f8",
    "deepnote_to_be_reexecuted": false,
    "source_hash": "3323f9aa",
    "execution_start": 1636408462671,
    "execution_millis": 8,
    "deepnote_cell_type": "code"
   },
   "outputs": [
    {
     "name": "stdout",
     "text": "index         False\nyear          False\nage           False\nsex           False\nmaritl        False\nrace          False\neducation     False\nregion        False\njobclass      False\nhealth        False\nhealth_ins    False\nlogwage       False\nwage          False\ndtype: bool\n",
     "output_type": "stream"
    }
   ],
   "execution_count": 11
  },
  {
   "cell_type": "markdown",
   "source": "#### Primero ejemplo ",
   "metadata": {
    "tags": [],
    "cell_id": "00015-38976b81-6d0b-4075-8376-64d7f7188e8c",
    "deepnote_cell_type": "markdown"
   }
  },
  {
   "cell_type": "code",
   "metadata": {
    "cell_id": "00012-6625421d-3a5e-484d-a512-c88fd464aa72",
    "deepnote_to_be_reexecuted": false,
    "source_hash": "7a5fe01e",
    "execution_start": 1636410477702,
    "execution_millis": 21,
    "deepnote_cell_type": "code"
   },
   "source": "x_spline = Wages[['year','age']]\n\nbs = BSplines(x_spline, df=[4, 5] ,degree=[3, 3], constraints = 'center' )\n\n \ngam_bs = GLMGam.from_formula('wage ~ education', data=Wages, smoother=bs )\n \n\nres_bs = gam_bs.fit()\n\nprint(res_bs.summary())",
   "execution_count": 24,
   "outputs": [
    {
     "name": "stdout",
     "text": "                 Generalized Linear Model Regression Results                  \n==============================================================================\nDep. Variable:                   wage   No. Observations:                 3000\nModel:                         GLMGam   Df Residuals:                     2988\nModel Family:                Gaussian   Df Model:                           11\nLink Function:               identity   Scale:                          1238.8\nMethod:                         PIRLS   Log-Likelihood:                -14934.\nDate:                Mon, 08 Nov 2021   Deviance:                   3.7014e+06\nTime:                        22:27:57   Pearson chi2:                 3.70e+06\nNo. Iterations:                     3   Pseudo R-squ. (CS):             0.3358\nCovariance Type:            nonrobust                                         \n===================================================================================================\n                                      coef    std err          z      P>|z|      [0.025      0.975]\n---------------------------------------------------------------------------------------------------\nIntercept                          85.6860      2.156     39.745      0.000      81.461      89.911\neducation[T.2. HS Grad]            10.7413      2.431      4.418      0.000       5.977      15.506\neducation[T.3. Some College]       23.2067      2.563      9.056      0.000      18.184      28.229\neducation[T.4. College Grad]       37.8704      2.547     14.871      0.000      32.879      42.862\neducation[T.5. Advanced Degree]    62.4355      2.764     22.591      0.000      57.019      67.852\nyear_s0                             3.3874      4.257      0.796      0.426      -4.957      11.732\nyear_s1                             1.8170      4.220      0.431      0.667      -6.454      10.088\nyear_s2                             4.4943      1.754      2.563      0.010       1.057       7.931\nage_s0                             10.1360      5.932      1.709      0.087      -1.490      21.762\nage_s1                             47.6380      5.326      8.945      0.000      37.200      58.076\nage_s2                              6.7739      7.296      0.928      0.353      -7.526      21.074\nage_s3                            -10.0472     10.672     -0.941      0.346     -30.963      10.869\n===================================================================================================\n",
     "output_type": "stream"
    }
   ]
  },
  {
   "cell_type": "markdown",
   "source": "Podemos observar que las variables year_s0 y year_s1 aumentaron su valor p considerablemente con lo cual se volvieron poco significativas para determinar la variable respuesta.",
   "metadata": {
    "tags": [],
    "cell_id": "00017-986fe848-653b-4994-a54e-a5251466c987",
    "deepnote_cell_type": "markdown"
   }
  },
  {
   "cell_type": "code",
   "source": "x_spline = Wages[['age']]\n\nbs = BSplines(x_spline, df= 5 ,degree= 3,constraints = 'center' )\n\n \ngam_bs = GLMGam.from_formula('wage ~ year + education', data=Wages, smoother=bs )\n \n\nres_bs = gam_bs.fit()\n\nprint(res_bs.summary())",
   "metadata": {
    "tags": [],
    "cell_id": "00018-861c69e5-f083-4a05-b4d5-d9c0bf83c2c0",
    "deepnote_to_be_reexecuted": false,
    "source_hash": "2592b791",
    "execution_start": 1636410526303,
    "execution_millis": 17,
    "deepnote_cell_type": "code"
   },
   "outputs": [
    {
     "name": "stdout",
     "text": "                 Generalized Linear Model Regression Results                  \n==============================================================================\nDep. Variable:                   wage   No. Observations:                 3000\nModel:                         GLMGam   Df Residuals:                  2990.00\nModel Family:                Gaussian   Df Model:                         9.00\nLink Function:               identity   Scale:                          1238.5\nMethod:                         PIRLS   Log-Likelihood:                -14934.\nDate:                Mon, 08 Nov 2021   Deviance:                   3.7030e+06\nTime:                        22:28:46   Pearson chi2:                 3.70e+06\nNo. Iterations:                     3   Pseudo R-squ. (CS):             0.3356\nCovariance Type:            nonrobust                                         \n===================================================================================================\n                                      coef    std err          z      P>|z|      [0.025      0.975]\n---------------------------------------------------------------------------------------------------\nIntercept                       -2259.6035    638.018     -3.542      0.000   -3510.097   -1009.110\neducation[T.2. HS Grad]            10.8258      2.430      4.456      0.000       6.064      15.588\neducation[T.3. Some College]       23.3334      2.560      9.115      0.000      18.316      28.351\neducation[T.4. College Grad]       37.9365      2.545     14.904      0.000      32.948      42.925\neducation[T.5. Advanced Degree]    62.4987      2.763     22.622      0.000      57.084      67.914\nyear                                1.1692      0.318      3.676      0.000       0.546       1.793\nage_s0                             10.1461      5.929      1.711      0.087      -1.475      21.767\nage_s1                             47.7245      5.324      8.963      0.000      37.289      58.160\nage_s2                              6.7291      7.295      0.922      0.356      -7.568      21.027\nage_s3                            -10.3603     10.666     -0.971      0.331     -31.265      10.545\n===================================================================================================\n",
     "output_type": "stream"
    }
   ],
   "execution_count": 25
  },
  {
   "cell_type": "markdown",
   "source": "Observamos que se incrementa el valor p en las variables age_s0, age_s2 y age_s3 con lo cual pierden su significancia para determinar la variable respuesta.",
   "metadata": {
    "tags": [],
    "cell_id": "00019-b54cf434-515b-4cca-82a3-7c9bec879dec",
    "deepnote_cell_type": "markdown"
   }
  },
  {
   "cell_type": "markdown",
   "source": "**[2]** Esta pregunta se relaciona con el conjunto de datos `College.csv`.",
   "metadata": {
    "cell_id": "00013-3e0e7ce5-4153-48ae-a877-54b2ec09a3ca",
    "deepnote_cell_type": "markdown"
   }
  },
  {
   "cell_type": "markdown",
   "source": "## Import College Data",
   "metadata": {
    "cell_id": "00002-9c128f39-6cca-4db5-bc45-92e969d4689a",
    "deepnote_cell_type": "markdown"
   }
  },
  {
   "cell_type": "code",
   "source": "college = pd.read_csv('College.csv', index_col=0)\ncollege.info()",
   "metadata": {
    "tags": [],
    "cell_id": "00020-da2ba9e6-8ab8-4a52-a894-3d754dce5e38",
    "deepnote_to_be_reexecuted": false,
    "source_hash": "2f5393cb",
    "execution_start": 1636411293925,
    "execution_millis": 22,
    "deepnote_cell_type": "code"
   },
   "outputs": [
    {
     "name": "stdout",
     "text": "<class 'pandas.core.frame.DataFrame'>\nIndex: 777 entries, Abilene Christian University to York College of Pennsylvania\nData columns (total 18 columns):\n #   Column       Non-Null Count  Dtype  \n---  ------       --------------  -----  \n 0   Private      777 non-null    object \n 1   Apps         777 non-null    int64  \n 2   Accept       777 non-null    int64  \n 3   Enroll       777 non-null    int64  \n 4   Top10perc    777 non-null    int64  \n 5   Top25perc    777 non-null    int64  \n 6   F.Undergrad  777 non-null    int64  \n 7   P.Undergrad  777 non-null    int64  \n 8   Outstate     777 non-null    int64  \n 9   Room.Board   777 non-null    int64  \n 10  Books        777 non-null    int64  \n 11  Personal     777 non-null    int64  \n 12  PhD          777 non-null    int64  \n 13  Terminal     777 non-null    int64  \n 14  S.F.Ratio    777 non-null    float64\n 15  perc.alumni  777 non-null    int64  \n 16  Expend       777 non-null    int64  \n 17  Grad.Rate    777 non-null    int64  \ndtypes: float64(1), int64(16), object(1)\nmemory usage: 115.3+ KB\n",
     "output_type": "stream"
    }
   ],
   "execution_count": 43
  },
  {
   "cell_type": "code",
   "source": "# Private es una variable categorica que convertimos a numerica\ncollege = pd.get_dummies(data=college, columns=['Private'])",
   "metadata": {
    "tags": [],
    "cell_id": "00019-2b5fcbe8-9375-4b45-af9c-7dc3a26361f9",
    "deepnote_to_be_reexecuted": false,
    "source_hash": "19d84b04",
    "execution_start": 1636411297284,
    "execution_millis": 6,
    "deepnote_cell_type": "code"
   },
   "outputs": [],
   "execution_count": 44
  },
  {
   "cell_type": "code",
   "source": "del college['Private_No']\n#renombra las variables para quitar el punto\ncollege.rename(columns={'F.Undergrad': 'FUndergrad', 'P.Undergrad': 'PUndergrad', 'Room.Board':'Board', \n                       'S.F.Ratio':'SFRatio', 'perc.alumni':'pAlumni', 'Grad.Rate':'GradRate'}, inplace=True)",
   "metadata": {
    "tags": [],
    "cell_id": "00019-7977423f-3c7e-40f9-863f-0324ce523f2e",
    "deepnote_to_be_reexecuted": false,
    "source_hash": "a1cf4fad",
    "execution_start": 1636411299081,
    "execution_millis": 4,
    "deepnote_cell_type": "code"
   },
   "outputs": [],
   "execution_count": 45
  },
  {
   "cell_type": "code",
   "source": "college.columns",
   "metadata": {
    "tags": [],
    "cell_id": "00019-df6e0815-f64f-45aa-9612-7f4b1e1c3cd5",
    "deepnote_to_be_reexecuted": false,
    "source_hash": "405c6888",
    "execution_start": 1636411301157,
    "execution_millis": 4,
    "deepnote_cell_type": "code"
   },
   "outputs": [
    {
     "output_type": "execute_result",
     "execution_count": 46,
     "data": {
      "text/plain": "Index(['Apps', 'Accept', 'Enroll', 'Top10perc', 'Top25perc', 'FUndergrad',\n       'PUndergrad', 'Outstate', 'Board', 'Books', 'Personal', 'PhD',\n       'Terminal', 'SFRatio', 'pAlumni', 'Expend', 'GradRate', 'Private_Yes'],\n      dtype='object')"
     },
     "metadata": {}
    }
   ],
   "execution_count": 46
  },
  {
   "cell_type": "code",
   "source": "college.head()",
   "metadata": {
    "tags": [],
    "cell_id": "00020-6d3322e3-c499-4dc7-843f-140de10be2ea",
    "deepnote_to_be_reexecuted": false,
    "source_hash": "71dc8926",
    "execution_start": 1636411305430,
    "execution_millis": 47,
    "deepnote_cell_type": "code"
   },
   "outputs": [
    {
     "output_type": "execute_result",
     "execution_count": 47,
     "data": {
      "application/vnd.deepnote.dataframe.v2+json": {
       "row_count": 5,
       "column_count": 18,
       "columns": [
        {
         "name": "Apps",
         "dtype": "int64",
         "stats": {
          "unique_count": 5,
          "nan_count": 0,
          "min": "193",
          "max": "2186",
          "histogram": [
           {
            "bin_start": 193,
            "bin_end": 392.3,
            "count": 1
           },
           {
            "bin_start": 392.3,
            "bin_end": 591.6,
            "count": 1
           },
           {
            "bin_start": 591.6,
            "bin_end": 790.9000000000001,
            "count": 0
           },
           {
            "bin_start": 790.9000000000001,
            "bin_end": 990.2,
            "count": 0
           },
           {
            "bin_start": 990.2,
            "bin_end": 1189.5,
            "count": 0
           },
           {
            "bin_start": 1189.5,
            "bin_end": 1388.8000000000002,
            "count": 0
           },
           {
            "bin_start": 1388.8000000000002,
            "bin_end": 1588.1000000000001,
            "count": 1
           },
           {
            "bin_start": 1588.1000000000001,
            "bin_end": 1787.4,
            "count": 1
           },
           {
            "bin_start": 1787.4,
            "bin_end": 1986.7,
            "count": 0
           },
           {
            "bin_start": 1986.7,
            "bin_end": 2186,
            "count": 1
           }
          ]
         }
        },
        {
         "name": "Accept",
         "dtype": "int64",
         "stats": {
          "unique_count": 5,
          "nan_count": 0,
          "min": "146",
          "max": "1924",
          "histogram": [
           {
            "bin_start": 146,
            "bin_end": 323.8,
            "count": 1
           },
           {
            "bin_start": 323.8,
            "bin_end": 501.6,
            "count": 1
           },
           {
            "bin_start": 501.6,
            "bin_end": 679.4000000000001,
            "count": 0
           },
           {
            "bin_start": 679.4000000000001,
            "bin_end": 857.2,
            "count": 0
           },
           {
            "bin_start": 857.2,
            "bin_end": 1035,
            "count": 0
           },
           {
            "bin_start": 1035,
            "bin_end": 1212.8000000000002,
            "count": 1
           },
           {
            "bin_start": 1212.8000000000002,
            "bin_end": 1390.6000000000001,
            "count": 1
           },
           {
            "bin_start": 1390.6000000000001,
            "bin_end": 1568.4,
            "count": 0
           },
           {
            "bin_start": 1568.4,
            "bin_end": 1746.2,
            "count": 0
           },
           {
            "bin_start": 1746.2,
            "bin_end": 1924,
            "count": 1
           }
          ]
         }
        },
        {
         "name": "Enroll",
         "dtype": "int64",
         "stats": {
          "unique_count": 5,
          "nan_count": 0,
          "min": "55",
          "max": "721",
          "histogram": [
           {
            "bin_start": 55,
            "bin_end": 121.6,
            "count": 1
           },
           {
            "bin_start": 121.6,
            "bin_end": 188.2,
            "count": 1
           },
           {
            "bin_start": 188.2,
            "bin_end": 254.79999999999998,
            "count": 0
           },
           {
            "bin_start": 254.79999999999998,
            "bin_end": 321.4,
            "count": 0
           },
           {
            "bin_start": 321.4,
            "bin_end": 388,
            "count": 1
           },
           {
            "bin_start": 388,
            "bin_end": 454.59999999999997,
            "count": 0
           },
           {
            "bin_start": 454.59999999999997,
            "bin_end": 521.1999999999999,
            "count": 1
           },
           {
            "bin_start": 521.1999999999999,
            "bin_end": 587.8,
            "count": 0
           },
           {
            "bin_start": 587.8,
            "bin_end": 654.4,
            "count": 0
           },
           {
            "bin_start": 654.4,
            "bin_end": 721,
            "count": 1
           }
          ]
         }
        },
        {
         "name": "Top10perc",
         "dtype": "int64",
         "stats": {
          "unique_count": 4,
          "nan_count": 0,
          "min": "16",
          "max": "60",
          "histogram": [
           {
            "bin_start": 16,
            "bin_end": 20.4,
            "count": 2
           },
           {
            "bin_start": 20.4,
            "bin_end": 24.8,
            "count": 2
           },
           {
            "bin_start": 24.8,
            "bin_end": 29.200000000000003,
            "count": 0
           },
           {
            "bin_start": 29.200000000000003,
            "bin_end": 33.6,
            "count": 0
           },
           {
            "bin_start": 33.6,
            "bin_end": 38,
            "count": 0
           },
           {
            "bin_start": 38,
            "bin_end": 42.400000000000006,
            "count": 0
           },
           {
            "bin_start": 42.400000000000006,
            "bin_end": 46.800000000000004,
            "count": 0
           },
           {
            "bin_start": 46.800000000000004,
            "bin_end": 51.2,
            "count": 0
           },
           {
            "bin_start": 51.2,
            "bin_end": 55.6,
            "count": 0
           },
           {
            "bin_start": 55.6,
            "bin_end": 60,
            "count": 1
           }
          ]
         }
        },
        {
         "name": "Top25perc",
         "dtype": "int64",
         "stats": {
          "unique_count": 5,
          "nan_count": 0,
          "min": "29",
          "max": "89",
          "histogram": [
           {
            "bin_start": 29,
            "bin_end": 35,
            "count": 1
           },
           {
            "bin_start": 35,
            "bin_end": 41,
            "count": 0
           },
           {
            "bin_start": 41,
            "bin_end": 47,
            "count": 1
           },
           {
            "bin_start": 47,
            "bin_end": 53,
            "count": 2
           },
           {
            "bin_start": 53,
            "bin_end": 59,
            "count": 0
           },
           {
            "bin_start": 59,
            "bin_end": 65,
            "count": 0
           },
           {
            "bin_start": 65,
            "bin_end": 71,
            "count": 0
           },
           {
            "bin_start": 71,
            "bin_end": 77,
            "count": 0
           },
           {
            "bin_start": 77,
            "bin_end": 83,
            "count": 0
           },
           {
            "bin_start": 83,
            "bin_end": 89,
            "count": 1
           }
          ]
         }
        },
        {
         "name": "FUndergrad",
         "dtype": "int64",
         "stats": {
          "unique_count": 5,
          "nan_count": 0,
          "min": "249",
          "max": "2885",
          "histogram": [
           {
            "bin_start": 249,
            "bin_end": 512.6,
            "count": 2
           },
           {
            "bin_start": 512.6,
            "bin_end": 776.2,
            "count": 0
           },
           {
            "bin_start": 776.2,
            "bin_end": 1039.8000000000002,
            "count": 1
           },
           {
            "bin_start": 1039.8000000000002,
            "bin_end": 1303.4,
            "count": 0
           },
           {
            "bin_start": 1303.4,
            "bin_end": 1567,
            "count": 0
           },
           {
            "bin_start": 1567,
            "bin_end": 1830.6000000000001,
            "count": 0
           },
           {
            "bin_start": 1830.6000000000001,
            "bin_end": 2094.2000000000003,
            "count": 0
           },
           {
            "bin_start": 2094.2000000000003,
            "bin_end": 2357.8,
            "count": 0
           },
           {
            "bin_start": 2357.8,
            "bin_end": 2621.4,
            "count": 0
           },
           {
            "bin_start": 2621.4,
            "bin_end": 2885,
            "count": 2
           }
          ]
         }
        },
        {
         "name": "PUndergrad",
         "dtype": "int64",
         "stats": {
          "unique_count": 5,
          "nan_count": 0,
          "min": "63",
          "max": "1227",
          "histogram": [
           {
            "bin_start": 63,
            "bin_end": 179.4,
            "count": 2
           },
           {
            "bin_start": 179.4,
            "bin_end": 295.8,
            "count": 0
           },
           {
            "bin_start": 295.8,
            "bin_end": 412.20000000000005,
            "count": 0
           },
           {
            "bin_start": 412.20000000000005,
            "bin_end": 528.6,
            "count": 0
           },
           {
            "bin_start": 528.6,
            "bin_end": 645,
            "count": 1
           },
           {
            "bin_start": 645,
            "bin_end": 761.4000000000001,
            "count": 0
           },
           {
            "bin_start": 761.4000000000001,
            "bin_end": 877.8000000000001,
            "count": 1
           },
           {
            "bin_start": 877.8000000000001,
            "bin_end": 994.2,
            "count": 0
           },
           {
            "bin_start": 994.2,
            "bin_end": 1110.6000000000001,
            "count": 0
           },
           {
            "bin_start": 1110.6000000000001,
            "bin_end": 1227,
            "count": 1
           }
          ]
         }
        },
        {
         "name": "Outstate",
         "dtype": "int64",
         "stats": {
          "unique_count": 5,
          "nan_count": 0,
          "min": "7440",
          "max": "12960",
          "histogram": [
           {
            "bin_start": 7440,
            "bin_end": 7992,
            "count": 2
           },
           {
            "bin_start": 7992,
            "bin_end": 8544,
            "count": 0
           },
           {
            "bin_start": 8544,
            "bin_end": 9096,
            "count": 0
           },
           {
            "bin_start": 9096,
            "bin_end": 9648,
            "count": 0
           },
           {
            "bin_start": 9648,
            "bin_end": 10200,
            "count": 0
           },
           {
            "bin_start": 10200,
            "bin_end": 10752,
            "count": 0
           },
           {
            "bin_start": 10752,
            "bin_end": 11304,
            "count": 1
           },
           {
            "bin_start": 11304,
            "bin_end": 11856,
            "count": 0
           },
           {
            "bin_start": 11856,
            "bin_end": 12408,
            "count": 1
           },
           {
            "bin_start": 12408,
            "bin_end": 12960,
            "count": 1
           }
          ]
         }
        },
        {
         "name": "Board",
         "dtype": "int64",
         "stats": {
          "unique_count": 5,
          "nan_count": 0,
          "min": "3300",
          "max": "6450",
          "histogram": [
           {
            "bin_start": 3300,
            "bin_end": 3615,
            "count": 1
           },
           {
            "bin_start": 3615,
            "bin_end": 3930,
            "count": 1
           },
           {
            "bin_start": 3930,
            "bin_end": 4245,
            "count": 1
           },
           {
            "bin_start": 4245,
            "bin_end": 4560,
            "count": 0
           },
           {
            "bin_start": 4560,
            "bin_end": 4875,
            "count": 0
           },
           {
            "bin_start": 4875,
            "bin_end": 5190,
            "count": 0
           },
           {
            "bin_start": 5190,
            "bin_end": 5505,
            "count": 1
           },
           {
            "bin_start": 5505,
            "bin_end": 5820,
            "count": 0
           },
           {
            "bin_start": 5820,
            "bin_end": 6135,
            "count": 0
           },
           {
            "bin_start": 6135,
            "bin_end": 6450,
            "count": 1
           }
          ]
         }
        },
        {
         "name": "Books",
         "dtype": "int64",
         "stats": {
          "unique_count": 4,
          "nan_count": 0,
          "min": "400",
          "max": "800",
          "histogram": [
           {
            "bin_start": 400,
            "bin_end": 440,
            "count": 1
           },
           {
            "bin_start": 440,
            "bin_end": 480,
            "count": 2
           },
           {
            "bin_start": 480,
            "bin_end": 520,
            "count": 0
           },
           {
            "bin_start": 520,
            "bin_end": 560,
            "count": 0
           },
           {
            "bin_start": 560,
            "bin_end": 600,
            "count": 0
           },
           {
            "bin_start": 600,
            "bin_end": 640,
            "count": 0
           },
           {
            "bin_start": 640,
            "bin_end": 680,
            "count": 0
           },
           {
            "bin_start": 680,
            "bin_end": 720,
            "count": 0
           },
           {
            "bin_start": 720,
            "bin_end": 760,
            "count": 1
           },
           {
            "bin_start": 760,
            "bin_end": 800,
            "count": 1
           }
          ]
         }
        },
        {
         "name": "Personal",
         "dtype": "int64",
         "stats": {
          "unique_count": 4,
          "nan_count": 0,
          "min": "875",
          "max": "2200",
          "histogram": [
           {
            "bin_start": 875,
            "bin_end": 1007.5,
            "count": 1
           },
           {
            "bin_start": 1007.5,
            "bin_end": 1140,
            "count": 0
           },
           {
            "bin_start": 1140,
            "bin_end": 1272.5,
            "count": 1
           },
           {
            "bin_start": 1272.5,
            "bin_end": 1405,
            "count": 0
           },
           {
            "bin_start": 1405,
            "bin_end": 1537.5,
            "count": 2
           },
           {
            "bin_start": 1537.5,
            "bin_end": 1670,
            "count": 0
           },
           {
            "bin_start": 1670,
            "bin_end": 1802.5,
            "count": 0
           },
           {
            "bin_start": 1802.5,
            "bin_end": 1935,
            "count": 0
           },
           {
            "bin_start": 1935,
            "bin_end": 2067.5,
            "count": 0
           },
           {
            "bin_start": 2067.5,
            "bin_end": 2200,
            "count": 1
           }
          ]
         }
        },
        {
         "name": "PhD",
         "dtype": "int64",
         "stats": {
          "unique_count": 5,
          "nan_count": 0,
          "min": "29",
          "max": "92",
          "histogram": [
           {
            "bin_start": 29,
            "bin_end": 35.3,
            "count": 1
           },
           {
            "bin_start": 35.3,
            "bin_end": 41.6,
            "count": 0
           },
           {
            "bin_start": 41.6,
            "bin_end": 47.9,
            "count": 0
           },
           {
            "bin_start": 47.9,
            "bin_end": 54.2,
            "count": 1
           },
           {
            "bin_start": 54.2,
            "bin_end": 60.5,
            "count": 0
           },
           {
            "bin_start": 60.5,
            "bin_end": 66.8,
            "count": 0
           },
           {
            "bin_start": 66.8,
            "bin_end": 73.1,
            "count": 1
           },
           {
            "bin_start": 73.1,
            "bin_end": 79.4,
            "count": 1
           },
           {
            "bin_start": 79.4,
            "bin_end": 85.69999999999999,
            "count": 0
           },
           {
            "bin_start": 85.69999999999999,
            "bin_end": 92,
            "count": 1
           }
          ]
         }
        },
        {
         "name": "Terminal",
         "dtype": "int64",
         "stats": {
          "unique_count": 5,
          "nan_count": 0,
          "min": "30",
          "max": "97",
          "histogram": [
           {
            "bin_start": 30,
            "bin_end": 36.7,
            "count": 1
           },
           {
            "bin_start": 36.7,
            "bin_end": 43.4,
            "count": 0
           },
           {
            "bin_start": 43.4,
            "bin_end": 50.1,
            "count": 0
           },
           {
            "bin_start": 50.1,
            "bin_end": 56.8,
            "count": 0
           },
           {
            "bin_start": 56.8,
            "bin_end": 63.5,
            "count": 0
           },
           {
            "bin_start": 63.5,
            "bin_end": 70.2,
            "count": 1
           },
           {
            "bin_start": 70.2,
            "bin_end": 76.9,
            "count": 1
           },
           {
            "bin_start": 76.9,
            "bin_end": 83.6,
            "count": 1
           },
           {
            "bin_start": 83.6,
            "bin_end": 90.30000000000001,
            "count": 0
           },
           {
            "bin_start": 90.30000000000001,
            "bin_end": 97,
            "count": 1
           }
          ]
         }
        },
        {
         "name": "SFRatio",
         "dtype": "float64",
         "stats": {
          "unique_count": 5,
          "nan_count": 0,
          "min": "7.7",
          "max": "18.1",
          "histogram": [
           {
            "bin_start": 7.7,
            "bin_end": 8.74,
            "count": 1
           },
           {
            "bin_start": 8.74,
            "bin_end": 9.780000000000001,
            "count": 0
           },
           {
            "bin_start": 9.780000000000001,
            "bin_end": 10.82,
            "count": 0
           },
           {
            "bin_start": 10.82,
            "bin_end": 11.860000000000001,
            "count": 0
           },
           {
            "bin_start": 11.860000000000001,
            "bin_end": 12.900000000000002,
            "count": 3
           },
           {
            "bin_start": 12.900000000000002,
            "bin_end": 13.940000000000001,
            "count": 0
           },
           {
            "bin_start": 13.940000000000001,
            "bin_end": 14.980000000000002,
            "count": 0
           },
           {
            "bin_start": 14.980000000000002,
            "bin_end": 16.020000000000003,
            "count": 0
           },
           {
            "bin_start": 16.020000000000003,
            "bin_end": 17.060000000000002,
            "count": 0
           },
           {
            "bin_start": 17.060000000000002,
            "bin_end": 18.1,
            "count": 1
           }
          ]
         }
        },
        {
         "name": "pAlumni",
         "dtype": "int64",
         "stats": {
          "unique_count": 5,
          "nan_count": 0,
          "min": "2",
          "max": "37",
          "histogram": [
           {
            "bin_start": 2,
            "bin_end": 5.5,
            "count": 1
           },
           {
            "bin_start": 5.5,
            "bin_end": 9,
            "count": 0
           },
           {
            "bin_start": 9,
            "bin_end": 12.5,
            "count": 1
           },
           {
            "bin_start": 12.5,
            "bin_end": 16,
            "count": 0
           },
           {
            "bin_start": 16,
            "bin_end": 19.5,
            "count": 1
           },
           {
            "bin_start": 19.5,
            "bin_end": 23,
            "count": 0
           },
           {
            "bin_start": 23,
            "bin_end": 26.5,
            "count": 0
           },
           {
            "bin_start": 26.5,
            "bin_end": 30,
            "count": 0
           },
           {
            "bin_start": 30,
            "bin_end": 33.5,
            "count": 1
           },
           {
            "bin_start": 33.5,
            "bin_end": 37,
            "count": 1
           }
          ]
         }
        },
        {
         "name": "Expend",
         "dtype": "int64",
         "stats": {
          "unique_count": 5,
          "nan_count": 0,
          "min": "7041",
          "max": "19016",
          "histogram": [
           {
            "bin_start": 7041,
            "bin_end": 8238.5,
            "count": 1
           },
           {
            "bin_start": 8238.5,
            "bin_end": 9436,
            "count": 1
           },
           {
            "bin_start": 9436,
            "bin_end": 10633.5,
            "count": 1
           },
           {
            "bin_start": 10633.5,
            "bin_end": 11831,
            "count": 1
           },
           {
            "bin_start": 11831,
            "bin_end": 13028.5,
            "count": 0
           },
           {
            "bin_start": 13028.5,
            "bin_end": 14226,
            "count": 0
           },
           {
            "bin_start": 14226,
            "bin_end": 15423.5,
            "count": 0
           },
           {
            "bin_start": 15423.5,
            "bin_end": 16621,
            "count": 0
           },
           {
            "bin_start": 16621,
            "bin_end": 17818.5,
            "count": 0
           },
           {
            "bin_start": 17818.5,
            "bin_end": 19016,
            "count": 1
           }
          ]
         }
        },
        {
         "name": "GradRate",
         "dtype": "int64",
         "stats": {
          "unique_count": 5,
          "nan_count": 0,
          "min": "15",
          "max": "60",
          "histogram": [
           {
            "bin_start": 15,
            "bin_end": 19.5,
            "count": 1
           },
           {
            "bin_start": 19.5,
            "bin_end": 24,
            "count": 0
           },
           {
            "bin_start": 24,
            "bin_end": 28.5,
            "count": 0
           },
           {
            "bin_start": 28.5,
            "bin_end": 33,
            "count": 0
           },
           {
            "bin_start": 33,
            "bin_end": 37.5,
            "count": 0
           },
           {
            "bin_start": 37.5,
            "bin_end": 42,
            "count": 0
           },
           {
            "bin_start": 42,
            "bin_end": 46.5,
            "count": 0
           },
           {
            "bin_start": 46.5,
            "bin_end": 51,
            "count": 0
           },
           {
            "bin_start": 51,
            "bin_end": 55.5,
            "count": 1
           },
           {
            "bin_start": 55.5,
            "bin_end": 60,
            "count": 3
           }
          ]
         }
        },
        {
         "name": "Private_Yes",
         "dtype": "uint8",
         "stats": {
          "unique_count": 1,
          "nan_count": 0,
          "min": "1",
          "max": "1",
          "histogram": [
           {
            "bin_start": 0.5,
            "bin_end": 0.6,
            "count": 0
           },
           {
            "bin_start": 0.6,
            "bin_end": 0.7,
            "count": 0
           },
           {
            "bin_start": 0.7,
            "bin_end": 0.8,
            "count": 0
           },
           {
            "bin_start": 0.8,
            "bin_end": 0.9,
            "count": 0
           },
           {
            "bin_start": 0.9,
            "bin_end": 1,
            "count": 0
           },
           {
            "bin_start": 1,
            "bin_end": 1.1,
            "count": 5
           },
           {
            "bin_start": 1.1,
            "bin_end": 1.2000000000000002,
            "count": 0
           },
           {
            "bin_start": 1.2000000000000002,
            "bin_end": 1.3,
            "count": 0
           },
           {
            "bin_start": 1.3,
            "bin_end": 1.4,
            "count": 0
           },
           {
            "bin_start": 1.4,
            "bin_end": 1.5,
            "count": 0
           }
          ]
         }
        },
        {
         "name": "_deepnote_index_column",
         "dtype": "object"
        }
       ],
       "rows_top": [
        {
         "Apps": 1660,
         "Accept": 1232,
         "Enroll": 721,
         "Top10perc": 23,
         "Top25perc": 52,
         "FUndergrad": 2885,
         "PUndergrad": 537,
         "Outstate": 7440,
         "Board": 3300,
         "Books": 450,
         "Personal": 2200,
         "PhD": 70,
         "Terminal": 78,
         "SFRatio": 18.1,
         "pAlumni": 12,
         "Expend": 7041,
         "GradRate": 60,
         "Private_Yes": 1,
         "_deepnote_index_column": "Abilene Christian University"
        },
        {
         "Apps": 2186,
         "Accept": 1924,
         "Enroll": 512,
         "Top10perc": 16,
         "Top25perc": 29,
         "FUndergrad": 2683,
         "PUndergrad": 1227,
         "Outstate": 12280,
         "Board": 6450,
         "Books": 750,
         "Personal": 1500,
         "PhD": 29,
         "Terminal": 30,
         "SFRatio": 12.2,
         "pAlumni": 16,
         "Expend": 10527,
         "GradRate": 56,
         "Private_Yes": 1,
         "_deepnote_index_column": "Adelphi University"
        },
        {
         "Apps": 1428,
         "Accept": 1097,
         "Enroll": 336,
         "Top10perc": 22,
         "Top25perc": 50,
         "FUndergrad": 1036,
         "PUndergrad": 99,
         "Outstate": 11250,
         "Board": 3750,
         "Books": 400,
         "Personal": 1165,
         "PhD": 53,
         "Terminal": 66,
         "SFRatio": 12.9,
         "pAlumni": 30,
         "Expend": 8735,
         "GradRate": 54,
         "Private_Yes": 1,
         "_deepnote_index_column": "Adrian College"
        },
        {
         "Apps": 417,
         "Accept": 349,
         "Enroll": 137,
         "Top10perc": 60,
         "Top25perc": 89,
         "FUndergrad": 510,
         "PUndergrad": 63,
         "Outstate": 12960,
         "Board": 5450,
         "Books": 450,
         "Personal": 875,
         "PhD": 92,
         "Terminal": 97,
         "SFRatio": 7.7,
         "pAlumni": 37,
         "Expend": 19016,
         "GradRate": 59,
         "Private_Yes": 1,
         "_deepnote_index_column": "Agnes Scott College"
        },
        {
         "Apps": 193,
         "Accept": 146,
         "Enroll": 55,
         "Top10perc": 16,
         "Top25perc": 44,
         "FUndergrad": 249,
         "PUndergrad": 869,
         "Outstate": 7560,
         "Board": 4120,
         "Books": 800,
         "Personal": 1500,
         "PhD": 76,
         "Terminal": 72,
         "SFRatio": 11.9,
         "pAlumni": 2,
         "Expend": 10922,
         "GradRate": 15,
         "Private_Yes": 1,
         "_deepnote_index_column": "Alaska Pacific University"
        }
       ],
       "rows_bottom": null
      },
      "text/plain": "                              Apps  Accept  Enroll  Top10perc  Top25perc  \\\nAbilene Christian University  1660    1232     721         23         52   \nAdelphi University            2186    1924     512         16         29   \nAdrian College                1428    1097     336         22         50   \nAgnes Scott College            417     349     137         60         89   \nAlaska Pacific University      193     146      55         16         44   \n\n                              FUndergrad  PUndergrad  Outstate  Board  Books  \\\nAbilene Christian University        2885         537      7440   3300    450   \nAdelphi University                  2683        1227     12280   6450    750   \nAdrian College                      1036          99     11250   3750    400   \nAgnes Scott College                  510          63     12960   5450    450   \nAlaska Pacific University            249         869      7560   4120    800   \n\n                              Personal  PhD  Terminal  SFRatio  pAlumni  \\\nAbilene Christian University      2200   70        78     18.1       12   \nAdelphi University                1500   29        30     12.2       16   \nAdrian College                    1165   53        66     12.9       30   \nAgnes Scott College                875   92        97      7.7       37   \nAlaska Pacific University         1500   76        72     11.9        2   \n\n                              Expend  GradRate  Private_Yes  \nAbilene Christian University    7041        60            1  \nAdelphi University             10527        56            1  \nAdrian College                  8735        54            1  \nAgnes Scott College            19016        59            1  \nAlaska Pacific University      10922        15            1  ",
      "text/html": "<div>\n<style scoped>\n    .dataframe tbody tr th:only-of-type {\n        vertical-align: middle;\n    }\n\n    .dataframe tbody tr th {\n        vertical-align: top;\n    }\n\n    .dataframe thead th {\n        text-align: right;\n    }\n</style>\n<table border=\"1\" class=\"dataframe\">\n  <thead>\n    <tr style=\"text-align: right;\">\n      <th></th>\n      <th>Apps</th>\n      <th>Accept</th>\n      <th>Enroll</th>\n      <th>Top10perc</th>\n      <th>Top25perc</th>\n      <th>FUndergrad</th>\n      <th>PUndergrad</th>\n      <th>Outstate</th>\n      <th>Board</th>\n      <th>Books</th>\n      <th>Personal</th>\n      <th>PhD</th>\n      <th>Terminal</th>\n      <th>SFRatio</th>\n      <th>pAlumni</th>\n      <th>Expend</th>\n      <th>GradRate</th>\n      <th>Private_Yes</th>\n    </tr>\n  </thead>\n  <tbody>\n    <tr>\n      <th>Abilene Christian University</th>\n      <td>1660</td>\n      <td>1232</td>\n      <td>721</td>\n      <td>23</td>\n      <td>52</td>\n      <td>2885</td>\n      <td>537</td>\n      <td>7440</td>\n      <td>3300</td>\n      <td>450</td>\n      <td>2200</td>\n      <td>70</td>\n      <td>78</td>\n      <td>18.1</td>\n      <td>12</td>\n      <td>7041</td>\n      <td>60</td>\n      <td>1</td>\n    </tr>\n    <tr>\n      <th>Adelphi University</th>\n      <td>2186</td>\n      <td>1924</td>\n      <td>512</td>\n      <td>16</td>\n      <td>29</td>\n      <td>2683</td>\n      <td>1227</td>\n      <td>12280</td>\n      <td>6450</td>\n      <td>750</td>\n      <td>1500</td>\n      <td>29</td>\n      <td>30</td>\n      <td>12.2</td>\n      <td>16</td>\n      <td>10527</td>\n      <td>56</td>\n      <td>1</td>\n    </tr>\n    <tr>\n      <th>Adrian College</th>\n      <td>1428</td>\n      <td>1097</td>\n      <td>336</td>\n      <td>22</td>\n      <td>50</td>\n      <td>1036</td>\n      <td>99</td>\n      <td>11250</td>\n      <td>3750</td>\n      <td>400</td>\n      <td>1165</td>\n      <td>53</td>\n      <td>66</td>\n      <td>12.9</td>\n      <td>30</td>\n      <td>8735</td>\n      <td>54</td>\n      <td>1</td>\n    </tr>\n    <tr>\n      <th>Agnes Scott College</th>\n      <td>417</td>\n      <td>349</td>\n      <td>137</td>\n      <td>60</td>\n      <td>89</td>\n      <td>510</td>\n      <td>63</td>\n      <td>12960</td>\n      <td>5450</td>\n      <td>450</td>\n      <td>875</td>\n      <td>92</td>\n      <td>97</td>\n      <td>7.7</td>\n      <td>37</td>\n      <td>19016</td>\n      <td>59</td>\n      <td>1</td>\n    </tr>\n    <tr>\n      <th>Alaska Pacific University</th>\n      <td>193</td>\n      <td>146</td>\n      <td>55</td>\n      <td>16</td>\n      <td>44</td>\n      <td>249</td>\n      <td>869</td>\n      <td>7560</td>\n      <td>4120</td>\n      <td>800</td>\n      <td>1500</td>\n      <td>76</td>\n      <td>72</td>\n      <td>11.9</td>\n      <td>2</td>\n      <td>10922</td>\n      <td>15</td>\n      <td>1</td>\n    </tr>\n  </tbody>\n</table>\n</div>"
     },
     "metadata": {}
    }
   ],
   "execution_count": 47
  },
  {
   "cell_type": "markdown",
   "source": "**(a)** Divida los datos en un conjunto de entrenamiento y un conjunto de prueba. \n\nSe ha realizado una selección de predictores empleando una regresión lineal con variable respuesta `out-of-state`, obteniendose como mejores variables a `['Expend', 'pAlumni', 'Board', 'Private_Yes', 'PhD', 'GradRate', 'SFRatio', 'Terminal']`.",
   "metadata": {
    "cell_id": "00014-ca8e6a67-d0da-4479-8e3e-4afd61e46a60",
    "deepnote_cell_type": "markdown"
   }
  },
  {
   "cell_type": "code",
   "source": "train, test = train_test_split(college[['Outstate','Expend', 'pAlumni', 'Board', 'Private_Yes', 'PhD', 'GradRate', 'SFRatio', 'Terminal']], test_size=0.33, random_state=42)\nX_train = train[['Outstate']]\ny_train = train[['Expend', 'pAlumni', 'Board', 'Private_Yes', 'PhD', 'GradRate', 'SFRatio', 'Terminal']]\nX_test = test[['Outstate']]\ny_test = test[['Expend', 'pAlumni', 'Board', 'Private_Yes', 'PhD', 'GradRate', 'SFRatio', 'Terminal']]",
   "metadata": {
    "tags": [],
    "cell_id": "00022-60a77934-1517-404a-b14e-5f62b29fab1e",
    "deepnote_to_be_reexecuted": false,
    "source_hash": "a3b1fb5a",
    "execution_start": 1636413309167,
    "execution_millis": 1,
    "deepnote_cell_type": "code"
   },
   "outputs": [],
   "execution_count": 75
  },
  {
   "cell_type": "markdown",
   "source": "**(b)** Ajuste un GAM (usando splines cúbicos naturales `cr` de patsy) en los datos de entrenamiento, usando `out-of-state` como respuesta y los predictores seleccionados como variables predictoras. Grafique los resultados y explique sus hallazgos.",
   "metadata": {
    "cell_id": "00015-7b8555f9-5c81-45b5-b18e-5d79d14a65f0",
    "deepnote_cell_type": "markdown"
   }
  },
  {
   "cell_type": "code",
   "source": "design = dmatrix(\"cr(Expend, df=4, constraints='center') + cr(pAlumni, df=5, constraints='center') + cr(Board, df=3, constraints='center') + cr(PhD, df=5, constraints='center') + Private_Yes + cr(GradRate, df=6,constraints='center') + cr(SFRatio, df=7,constraints='center') + cr(Terminal, df=8,constraints='center')\",\n                 data={\"Expend\":y_train.Expend, \"pAlumni\": y_train.pAlumni,\"Board\": y_train.Board,\"PhD\": y_train.PhD, \"Private_Yes\": y_train.Private_Yes, \"GradRate\": y_train.GradRate, \"SFRatio\": y_train.SFRatio, \"Terminal\": y_train.Terminal}, return_type=\"dataframe\")\n\ngam = sm.OLS(endog=X_train, exog=design).fit()\n\nprint(gam.summary())\n",
   "metadata": {
    "tags": [],
    "cell_id": "00023-b3a2a258-1f47-4603-89b2-03b080d13348",
    "deepnote_to_be_reexecuted": false,
    "source_hash": "4066e843",
    "execution_start": 1636413310741,
    "execution_millis": 81,
    "deepnote_cell_type": "code"
   },
   "outputs": [
    {
     "name": "stdout",
     "text": "                            OLS Regression Results                            \n==============================================================================\nDep. Variable:               Outstate   R-squared:                       0.814\nModel:                            OLS   Adj. R-squared:                  0.799\nMethod:                 Least Squares   F-statistic:                     53.76\nDate:                Mon, 08 Nov 2021   Prob (F-statistic):          1.27e-149\nTime:                        23:15:10   Log-Likelihood:                -4620.5\nNo. Observations:                 520   AIC:                             9321.\nDf Residuals:                     480   BIC:                             9491.\nDf Model:                          39                                         \nCovariance Type:            nonrobust                                         \n===============================================================================================================\n                                                  coef    std err          t      P>|t|      [0.025      0.975]\n---------------------------------------------------------------------------------------------------------------\nIntercept                                    8625.8345    209.359     41.201      0.000    8214.461    9037.208\ncr(Expend, df=4, constraints='center')[0]    -446.6808    388.994     -1.148      0.251   -1211.022     317.661\ncr(Expend, df=4, constraints='center')[1]   -1237.1090    208.123     -5.944      0.000   -1646.053    -828.165\ncr(Expend, df=4, constraints='center')[2]    2008.3309    495.859      4.050      0.000    1034.009    2982.653\ncr(Expend, df=4, constraints='center')[3]    3245.8257   1675.369      1.937      0.053     -46.138    6537.790\ncr(pAlumni, df=5, constraints='center')[0]    589.3821    411.160      1.433      0.152    -218.513    1397.277\ncr(pAlumni, df=5, constraints='center')[1]   1160.0230    345.510      3.357      0.001     481.125    1838.921\ncr(pAlumni, df=5, constraints='center')[2]    931.8187    311.100      2.995      0.003     320.532    1543.105\ncr(pAlumni, df=5, constraints='center')[3]    497.6674    335.700      1.482      0.139    -161.956    1157.291\ncr(pAlumni, df=5, constraints='center')[4]    740.2862   1068.733      0.693      0.489   -1359.687    2840.259\ncr(Board, df=3, constraints='center')[0]      730.1493    415.874      1.756      0.080     -87.010    1547.309\ncr(Board, df=3, constraints='center')[1]     1838.9801    462.334      3.978      0.000     930.531    2747.429\ncr(Board, df=3, constraints='center')[2]     2567.4206    788.396      3.257      0.001    1018.287    4116.554\ncr(PhD, df=5, constraints='center')[0]         95.1214    455.358      0.209      0.835    -799.620     989.863\ncr(PhD, df=5, constraints='center')[1]       -985.7035    493.332     -1.998      0.046   -1955.061     -16.346\ncr(PhD, df=5, constraints='center')[2]       -295.0226    845.665     -0.349      0.727   -1956.685    1366.640\ncr(PhD, df=5, constraints='center')[3]       -306.0697    946.667     -0.323      0.747   -2166.194    1554.055\ncr(PhD, df=5, constraints='center')[4]       1472.9036    642.690      2.292      0.022     210.070    2735.737\nPrivate_Yes                                  2491.7255    268.382      9.284      0.000    1964.377    3019.074\ncr(GradRate, df=6, constraints='center')[0]  -775.6743    433.573     -1.789      0.074   -1627.610      76.262\ncr(GradRate, df=6, constraints='center')[1]   -28.9169    547.560     -0.053      0.958   -1104.829    1046.995\ncr(GradRate, df=6, constraints='center')[2]   -24.7449    727.396     -0.034      0.973   -1454.019    1404.530\ncr(GradRate, df=6, constraints='center')[3]   788.7124    566.875      1.391      0.165    -325.151    1902.575\ncr(GradRate, df=6, constraints='center')[4]  1034.2658    530.037      1.951      0.052      -7.214    2075.746\ncr(GradRate, df=6, constraints='center')[5] -1656.0769   1541.828     -1.074      0.283   -4685.643    1373.490\ncr(SFRatio, df=7, constraints='center')[0]     12.4701    483.276      0.026      0.979    -937.128     962.068\ncr(SFRatio, df=7, constraints='center')[1]   1712.4585    672.754      2.545      0.011     390.552    3034.365\ncr(SFRatio, df=7, constraints='center')[2]   1525.1229    748.886      2.037      0.042      53.623    2996.623\ncr(SFRatio, df=7, constraints='center')[3]    751.9626    474.589      1.584      0.114    -180.567    1684.492\ncr(SFRatio, df=7, constraints='center')[4]    336.8553    354.015      0.952      0.342    -358.755    1032.466\ncr(SFRatio, df=7, constraints='center')[5]    772.3352    444.956      1.736      0.083    -101.967    1646.637\ncr(SFRatio, df=7, constraints='center')[6]   1423.1335   1853.413      0.768      0.443   -2218.673    5064.940\ncr(Terminal, df=8, constraints='center')[0] -1094.0761    588.233     -1.860      0.064   -2249.906      61.754\ncr(Terminal, df=8, constraints='center')[1]  -256.1816    462.090     -0.554      0.580   -1164.150     651.787\ncr(Terminal, df=8, constraints='center')[2]   472.8109    463.017      1.021      0.308    -436.979    1382.601\ncr(Terminal, df=8, constraints='center')[3]  -410.6113    442.562     -0.928      0.354   -1280.210     458.987\ncr(Terminal, df=8, constraints='center')[4]   114.9887    607.373      0.189      0.850   -1078.451    1308.428\ncr(Terminal, df=8, constraints='center')[5]   752.3157    610.333      1.233      0.218    -446.939    1951.571\ncr(Terminal, df=8, constraints='center')[6]   952.4277    956.327      0.996      0.320    -926.677    2831.532\ncr(Terminal, df=8, constraints='center')[7]  -718.5898    541.739     -1.326      0.185   -1783.064     345.884\n==============================================================================\nOmnibus:                       10.832   Durbin-Watson:                   2.109\nProb(Omnibus):                  0.004   Jarque-Bera (JB):               15.448\nSkew:                          -0.174   Prob(JB):                     0.000442\nKurtosis:                       3.769   Cond. No.                         31.9\n==============================================================================\n\nNotes:\n[1] Standard Errors assume that the covariance matrix of the errors is correctly specified.\n",
     "output_type": "stream"
    }
   ],
   "execution_count": 76
  },
  {
   "cell_type": "code",
   "source": "names = ['Expend', 'pAlumni', 'Board','PhD' ,'Private_Yes', 'GradRate', 'SFRatio', 'Terminal']\ngam_plot(y_train, design, gam, names)",
   "metadata": {
    "tags": [],
    "cell_id": "00024-ea784a13-f859-4ca2-a753-1532f26ab03e",
    "deepnote_to_be_reexecuted": false,
    "source_hash": "fabd48c0",
    "execution_start": 1636413315096,
    "execution_millis": 12737,
    "deepnote_cell_type": "code"
   },
   "outputs": [
    {
     "output_type": "execute_result",
     "execution_count": 77,
     "data": {
      "text/plain": "defaultdict(<function numpy.array>,\n            {'Expend':                                       cr(Expend, df=4, constraints='center')[0]  \\\n             Canisius College                                                    -157.650533   \n             Bowling Green State University                                      -313.021596   \n             Indiana Wesleyan University                                         -332.085510   \n             Notre Dame College                                                  -179.970409   \n             Eastern Mennonite College                                            129.603042   \n             ...                                                                         ...   \n             Bryn Mawr College                                                    579.284611   \n             Centre College                                                       343.507444   \n             Illinois Wesleyan University                                          75.349436   \n             Oklahoma Christian University                                       -331.711326   \n             Central Connecticut State University                                -170.821822   \n             \n                                                   cr(Expend, df=4, constraints='center')[1]  \\\n             Canisius College                                                    -913.087990   \n             Bowling Green State University                                      -258.207955   \n             Indiana Wesleyan University                                          -90.343689   \n             Notre Dame College                                                    66.175461   \n             Eastern Mennonite College                                           -670.939860   \n             ...                                                                         ...   \n             Bryn Mawr College                                                   2946.973305   \n             Centre College                                                      1020.806222   \n             Illinois Wesleyan University                                        -966.429069   \n             Oklahoma Christian University                                        -96.666019   \n             Central Connecticut State University                                  59.107906   \n             \n                                                   cr(Expend, df=4, constraints='center')[2]  \\\n             Canisius College                                                     161.580691   \n             Bowling Green State University                                      -745.010043   \n             Indiana Wesleyan University                                         -992.931625   \n             Notre Dame College                                                 -1546.858861   \n             Eastern Mennonite College                                            920.246737   \n             ...                                                                         ...   \n             Bryn Mawr College                                                    539.434123   \n             Centre College                                                       755.667726   \n             Illinois Wesleyan University                                         897.492957   \n             Oklahoma Christian University                                       -982.941804   \n             Central Connecticut State University                               -1552.278774   \n             \n                                                   cr(Expend, df=4, constraints='center')[3]  \n             Canisius College                                                       6.667010  \n             Bowling Green State University                                       -19.060115  \n             Indiana Wesleyan University                                          -26.644056  \n             Notre Dame College                                                   -42.520630  \n             Eastern Mennonite College                                            -12.655524  \n             ...                                                                         ...  \n             Bryn Mawr College                                                    -66.217579  \n             Centre College                                                       -72.483295  \n             Illinois Wesleyan University                                           1.776874  \n             Oklahoma Christian University                                        -26.340603  \n             Central Connecticut State University                                 -42.633892  \n             \n             [520 rows x 4 columns],\n             'pAlumni':                                       cr(pAlumni, df=5, constraints='center')[0]  \\\n             Canisius College                                                     -280.565570   \n             Bowling Green State University                                        277.922174   \n             Indiana Wesleyan University                                           224.221140   \n             Notre Dame College                                                   -280.565570   \n             Eastern Mennonite College                                            -240.572077   \n             ...                                                                          ...   \n             Bryn Mawr College                                                     -49.739727   \n             Centre College                                                        -17.841656   \n             Illinois Wesleyan University                                         -124.892565   \n             Oklahoma Christian University                                         289.861886   \n             Central Connecticut State University                                    9.573564   \n             \n                                                   cr(pAlumni, df=5, constraints='center')[1]  \\\n             Canisius College                                                      539.166877   \n             Bowling Green State University                                       -110.513508   \n             Indiana Wesleyan University                                            25.681874   \n             Notre Dame College                                                    539.166877   \n             Eastern Mennonite College                                             210.497347   \n             ...                                                                          ...   \n             Bryn Mawr College                                                       6.366316   \n             Centre College                                                         17.961902   \n             Illinois Wesleyan University                                         -282.971260   \n             Oklahoma Christian University                                        -673.839481   \n             Central Connecticut State University                                 -763.979059   \n             \n                                                   cr(pAlumni, df=5, constraints='center')[2]  \\\n             Canisius College                                                      142.344371   \n             Bowling Green State University                                       -267.434638   \n             Indiana Wesleyan University                                          -290.680594   \n             Notre Dame College                                                    142.344371   \n             Eastern Mennonite College                                             489.646216   \n             ...                                                                          ...   \n             Bryn Mawr College                                                    -285.181922   \n             Centre College                                                       -138.696216   \n             Illinois Wesleyan University                                          813.542304   \n             Oklahoma Christian University                                        -197.819235   \n             Central Connecticut State University                                 -253.175374   \n             \n                                                   cr(pAlumni, df=5, constraints='center')[3]  \\\n             Canisius College                                                      -77.639348   \n             Bowling Green State University                                        -38.310058   \n             Indiana Wesleyan University                                           -35.665294   \n             Notre Dame College                                                    -77.639348   \n             Eastern Mennonite College                                             -90.934445   \n             ...                                                                          ...   \n             Bryn Mawr College                                                     530.750779   \n             Centre College                                                        159.119976   \n             Illinois Wesleyan University                                          -14.505333   \n             Oklahoma Christian University                                         -57.103330   \n             Central Connecticut State University                                  -68.190234   \n             \n                                                   cr(pAlumni, df=5, constraints='center')[4]  \n             Canisius College                                                       -3.544155  \n             Bowling Green State University                                         -9.812598  \n             Indiana Wesleyan University                                           -10.178370  \n             Notre Dame College                                                     -3.544155  \n             Eastern Mennonite College                                               0.063081  \n             ...                                                                          ...  \n             Bryn Mawr College                                                      93.445939  \n             Centre College                                                        579.047054  \n             Illinois Wesleyan University                                           -6.721668  \n             Oklahoma Christian University                                          -9.603749  \n             Central Connecticut State University                                  -11.892274  \n             \n             [520 rows x 5 columns],\n             'Board':                                       cr(Board, df=3, constraints='center')[0]  \\\n             Canisius College                                                   -637.448919   \n             Bowling Green State University                                      534.159915   \n             Indiana Wesleyan University                                         463.824587   \n             Notre Dame College                                                 -410.034338   \n             Eastern Mennonite College                                           455.375879   \n             ...                                                                        ...   \n             Bryn Mawr College                                                  -637.190256   \n             Centre College                                                      117.273307   \n             Illinois Wesleyan University                                        267.652840   \n             Oklahoma Christian University                                       490.189669   \n             Central Connecticut State University                                -38.319777   \n             \n                                                   cr(Board, df=3, constraints='center')[1]  \\\n             Canisius College                                                   1402.837926   \n             Bowling Green State University                                    -1208.030852   \n             Indiana Wesleyan University                                        -755.130212   \n             Notre Dame College                                                 1012.428151   \n             Eastern Mennonite College                                          -730.185973   \n             ...                                                                        ...   \n             Bryn Mawr College                                                  1231.858837   \n             Centre College                                                       34.372976   \n             Illinois Wesleyan University                                       -276.111117   \n             Oklahoma Christian University                                     -1336.920679   \n             Central Connecticut State University                                335.384906   \n             \n                                                   cr(Board, df=3, constraints='center')[2]  \n             Canisius College                                                     18.663311  \n             Bowling Green State University                                     -109.663963  \n             Indiana Wesleyan University                                        -124.384364  \n             Notre Dame College                                                 -129.379205  \n             Eastern Mennonite College                                          -125.707749  \n             ...                                                                        ...  \n             Bryn Mawr College                                                  1062.711814  \n             Centre College                                                     -164.367688  \n             Illinois Wesleyan University                                       -150.693623  \n             Oklahoma Christian University                                      -112.737166  \n             Central Connecticut State University                               -171.152710  \n             \n             [520 rows x 3 columns],\n             'PhD':                                       cr(PhD, df=5, constraints='center')[0]  \\\n             Canisius College                                                  -11.090536   \n             Bowling Green State University                                    -11.236208   \n             Indiana Wesleyan University                                        56.653249   \n             Notre Dame College                                                 90.459015   \n             Eastern Mennonite College                                          78.232486   \n             ...                                                                      ...   \n             Bryn Mawr College                                                  -2.055945   \n             Centre College                                                     -7.245415   \n             Illinois Wesleyan University                                      -10.152153   \n             Oklahoma Christian University                                      -4.042217   \n             Central Connecticut State University                              -14.191701   \n             \n                                                   cr(PhD, df=5, constraints='center')[1]  \\\n             Canisius College                                                  161.449908   \n             Bowling Green State University                                    344.353368   \n             Indiana Wesleyan University                                      -394.935144   \n             Notre Dame College                                                 51.662360   \n             Eastern Mennonite College                                        -121.835441   \n             ...                                                                      ...   \n             Bryn Mawr College                                                  39.077185   \n             Centre College                                                     92.578294   \n             Illinois Wesleyan University                                      362.912161   \n             Oklahoma Christian University                                    -868.872075   \n             Central Connecticut State University                              -56.013437   \n             \n                                                   cr(PhD, df=5, constraints='center')[2]  \\\n             Canisius College                                                  144.274457   \n             Bowling Green State University                                     -5.703823   \n             Indiana Wesleyan University                                        76.178525   \n             Notre Dame College                                                 35.975439   \n             Eastern Mennonite College                                          51.763146   \n             ...                                                                      ...   \n             Bryn Mawr College                                                  19.859071   \n             Centre College                                                    103.962231   \n             Illinois Wesleyan University                                     -117.285958   \n             Oklahoma Christian University                                      71.775250   \n             Central Connecticut State University                             -164.717508   \n             \n                                                   cr(PhD, df=5, constraints='center')[3]  \\\n             Canisius College                                                 -170.431608   \n             Bowling Green State University                                    -75.608423   \n             Indiana Wesleyan University                                        35.361614   \n             Notre Dame College                                                 39.198720   \n             Eastern Mennonite College                                          36.487113   \n             ...                                                                      ...   \n             Bryn Mawr College                                                  22.728052   \n             Centre College                                                    -95.962266   \n             Illinois Wesleyan University                                       28.858188   \n             Oklahoma Christian University                                      67.746846   \n             Central Connecticut State University                              146.021165   \n             \n                                                   cr(PhD, df=5, constraints='center')[4]  \n             Canisius College                                                  176.957141  \n             Bowling Green State University                                   -231.952011  \n             Indiana Wesleyan University                                       -43.864125  \n             Notre Dame College                                                -32.151300  \n             Eastern Mennonite College                                         -36.138519  \n             ...                                                                      ...  \n             Bryn Mawr College                                                1454.601611  \n             Centre College                                                    755.935108  \n             Illinois Wesleyan University                                     -188.527675  \n             Oklahoma Christian University                                     -58.829176  \n             Central Connecticut State University                              -61.158241  \n             \n             [520 rows x 5 columns],\n             'Private_Yes':                                       Private_Yes\n             Canisius College                       2491.72553\n             Bowling Green State University            0.00000\n             Indiana Wesleyan University            2491.72553\n             Notre Dame College                     2491.72553\n             Eastern Mennonite College              2491.72553\n             ...                                           ...\n             Bryn Mawr College                      2491.72553\n             Centre College                         2491.72553\n             Illinois Wesleyan University           2491.72553\n             Oklahoma Christian University          2491.72553\n             Central Connecticut State University      0.00000\n             \n             [520 rows x 1 columns],\n             'GradRate':                                       cr(GradRate, df=6, constraints='center')[0]  \\\n             Canisius College                                                        86.357397   \n             Bowling Green State University                                          70.155415   \n             Indiana Wesleyan University                                           -864.232895   \n             Notre Dame College                                                    -878.961477   \n             Eastern Mennonite College                                               73.878773   \n             ...                                                                           ...   \n             Bryn Mawr College                                                       63.013196   \n             Centre College                                                          71.622489   \n             Illinois Wesleyan University                                            72.763544   \n             Oklahoma Christian University                                         -246.151684   \n             Central Connecticut State University                                    12.594462   \n             \n                                                   cr(GradRate, df=6, constraints='center')[1]  \\\n             Canisius College                                                         9.422165   \n             Bowling Green State University                                          11.302733   \n             Indiana Wesleyan University                                             10.575986   \n             Notre Dame College                                                      12.214745   \n             Eastern Mennonite College                                                4.568065   \n             ...                                                                           ...   \n             Bryn Mawr College                                                        5.405512   \n             Centre College                                                           7.340320   \n             Illinois Wesleyan University                                             4.623034   \n             Oklahoma Christian University                                          -17.178626   \n             Central Connecticut State University                                   -22.808591   \n             \n                                                   cr(GradRate, df=6, constraints='center')[2]  \\\n             Canisius College                                                       -15.770404   \n             Bowling Green State University                                         -12.014221   \n             Indiana Wesleyan University                                              1.260880   \n             Notre Dame College                                                       1.029929   \n             Eastern Mennonite College                                                9.735057   \n             ...                                                                           ...   \n             Bryn Mawr College                                                        5.414120   \n             Centre College                                                           3.807487   \n             Illinois Wesleyan University                                             9.350876   \n             Oklahoma Christian University                                            8.581753   \n             Central Connecticut State University                                     8.141414   \n             \n                                                   cr(GradRate, df=6, constraints='center')[3]  \\\n             Canisius College                                                      -159.039221   \n             Bowling Green State University                                          67.177171   \n             Indiana Wesleyan University                                            -90.007601   \n             Notre Dame College                                                     -95.848627   \n             Eastern Mennonite College                                              366.632847   \n             ...                                                                           ...   \n             Bryn Mawr College                                                     -190.534386   \n             Centre College                                                         579.641673   \n             Illinois Wesleyan University                                           288.455798   \n             Oklahoma Christian University                                          -90.941124   \n             Central Connecticut State University                                  -141.706504   \n             \n                                                   cr(GradRate, df=6, constraints='center')[4]  \\\n             Canisius College                                                      -257.491232   \n             Bowling Green State University                                        -298.263006   \n             Indiana Wesleyan University                                            -81.648363   \n             Notre Dame College                                                     -84.226940   \n             Eastern Mennonite College                                              314.032931   \n             ...                                                                           ...   \n             Bryn Mawr College                                                      912.955739   \n             Centre College                                                        -259.703692   \n             Illinois Wesleyan University                                           409.836223   \n             Oklahoma Christian University                                         -146.045620   \n             Central Connecticut State University                                  -182.082636   \n             \n                                                   cr(GradRate, df=6, constraints='center')[5]  \n             Canisius College                                                        24.493868  \n             Bowling Green State University                                          19.094117  \n             Indiana Wesleyan University                                              9.379352  \n             Notre Dame College                                                       9.798115  \n             Eastern Mennonite College                                               48.675488  \n             ...                                                                           ...  \n             Bryn Mawr College                                                        6.300109  \n             Centre College                                                          15.553630  \n             Illinois Wesleyan University                                            50.458873  \n             Oklahoma Christian University                                           13.913690  \n             Central Connecticut State University                                    18.504610  \n             \n             [520 rows x 6 columns],\n             'SFRatio':                                       cr(SFRatio, df=7, constraints='center')[0]  \\\n             Canisius College                                                       -1.290235   \n             Bowling Green State University                                         -0.964950   \n             Indiana Wesleyan University                                            -0.027620   \n             Notre Dame College                                                     -3.120681   \n             Eastern Mennonite College                                              -1.753610   \n             ...                                                                          ...   \n             Bryn Mawr College                                                      -3.183549   \n             Centre College                                                         -1.753610   \n             Illinois Wesleyan University                                           -2.822572   \n             Oklahoma Christian University                                          -1.064244   \n             Central Connecticut State University                                   -0.960575   \n             \n                                                   cr(SFRatio, df=7, constraints='center')[1]  \\\n             Canisius College                                                     -704.658116   \n             Bowling Green State University                                       -276.126946   \n             Indiana Wesleyan University                                            -8.250379   \n             Notre Dame College                                                    801.793625   \n             Eastern Mennonite College                                            1176.377933   \n             ...                                                                          ...   \n             Bryn Mawr College                                                     627.719751   \n             Centre College                                                       1176.377933   \n             Illinois Wesleyan University                                           44.706229   \n             Oklahoma Christian University                                        -268.666232   \n             Central Connecticut State University                                 -200.112187   \n             \n                                                   cr(SFRatio, df=7, constraints='center')[2]  \\\n             Canisius College                                                      634.465081   \n             Bowling Green State University                                       -295.901245   \n             Indiana Wesleyan University                                            -7.726127   \n             Notre Dame College                                                    -25.682845   \n             Eastern Mennonite College                                            -511.058878   \n             ...                                                                          ...   \n             Bryn Mawr College                                                     148.186602   \n             Centre College                                                       -511.058878   \n             Illinois Wesleyan University                                          650.817538   \n             Oklahoma Christian University                                        -403.253311   \n             Central Connecticut State University                                 -454.828579   \n             \n                                                   cr(SFRatio, df=7, constraints='center')[3]  \\\n             Canisius College                                                      231.866500   \n             Bowling Green State University                                        -22.416671   \n             Indiana Wesleyan University                                            -2.219403   \n             Notre Dame College                                                   -221.402723   \n             Eastern Mennonite College                                            -143.468522   \n             ...                                                                          ...   \n             Bryn Mawr College                                                    -240.601416   \n             Centre College                                                       -143.468522   \n             Illinois Wesleyan University                                         -263.076770   \n             Oklahoma Christian University                                         650.484140   \n             Central Connecticut State University                                  532.263735   \n             \n                                                   cr(SFRatio, df=7, constraints='center')[4]  \\\n             Canisius College                                                      -68.518177   \n             Bowling Green State University                                       -101.823124   \n             Indiana Wesleyan University                                            -0.594288   \n             Notre Dame College                                                    -35.405976   \n             Eastern Mennonite College                                             -38.811549   \n             ...                                                                          ...   \n             Bryn Mawr College                                                     -34.041958   \n             Centre College                                                        -38.811549   \n             Illinois Wesleyan University                                          -31.965179   \n             Oklahoma Christian University                                          13.299115   \n             Central Connecticut State University                                  101.592627   \n             \n                                                   cr(SFRatio, df=7, constraints='center')[5]  \\\n             Canisius College                                                      -95.626269   \n             Bowling Green State University                                        848.829340   \n             Indiana Wesleyan University                                            -1.852362   \n             Notre Dame College                                                   -134.514956   \n             Eastern Mennonite College                                            -120.573763   \n             ...                                                                          ...   \n             Bryn Mawr College                                                    -136.843852   \n             Centre College                                                       -120.573763   \n             Illinois Wesleyan University                                         -138.559751   \n             Oklahoma Christian University                                         -80.564708   \n             Central Connecticut State University                                  -97.246651   \n             \n                                                   cr(SFRatio, df=7, constraints='center')[6]  \n             Canisius College                                                       -6.276004  \n             Bowling Green State University                                          0.389598  \n             Indiana Wesleyan University                                          1423.028447  \n             Notre Dame College                                                     -7.451155  \n             Eastern Mennonite College                                              -6.838701  \n             ...                                                                          ...  \n             Bryn Mawr College                                                      -7.535509  \n             Centre College                                                         -6.838701  \n             Illinois Wesleyan University                                           -7.573454  \n             Oklahoma Christian University                                          -3.696656  \n             Central Connecticut State University                                   -2.817961  \n             \n             [520 rows x 7 columns],\n             'Terminal':                                       cr(Terminal, df=8, constraints='center')[0]  \\\n             Canisius College                                                        63.838540   \n             Bowling Green State University                                          56.688226   \n             Indiana Wesleyan University                                           -346.185428   \n             Notre Dame College                                                    -920.131118   \n             Eastern Mennonite College                                               -2.314988   \n             ...                                                                           ...   \n             Bryn Mawr College                                                       18.619061   \n             Centre College                                                          27.148082   \n             Illinois Wesleyan University                                            63.838540   \n             Oklahoma Christian University                                           -0.710749   \n             Central Connecticut State University                                    37.043126   \n             \n                                                   cr(Terminal, df=8, constraints='center')[1]  \\\n             Canisius College                                                        19.295811   \n             Bowling Green State University                                          16.527771   \n             Indiana Wesleyan University                                           -211.034891   \n             Notre Dame College                                                     -53.189210   \n             Eastern Mennonite College                                               38.603587   \n             ...                                                                           ...   \n             Bryn Mawr College                                                        5.647434   \n             Centre College                                                           8.317072   \n             Illinois Wesleyan University                                            19.295811   \n             Oklahoma Christian University                                           36.932364   \n             Central Connecticut State University                                     0.978201   \n             \n                                                   cr(Terminal, df=8, constraints='center')[2]  \\\n             Canisius College                                                       -74.494264   \n             Bowling Green State University                                         -69.405817   \n             Indiana Wesleyan University                                            -92.984815   \n             Notre Dame College                                                     -38.387354   \n             Eastern Mennonite College                                              310.746892   \n             ...                                                                           ...   \n             Bryn Mawr College                                                      -21.621506   \n             Centre College                                                         -31.082414   \n             Illinois Wesleyan University                                           -74.494264   \n             Oklahoma Christian University                                          377.562903   \n             Central Connecticut State University                                   -98.047345   \n             \n                                                   cr(Terminal, df=8, constraints='center')[3]  \\\n             Canisius College                                                        66.071364   \n             Bowling Green State University                                          46.273263   \n             Indiana Wesleyan University                                            -12.536766   \n             Notre Dame College                                                       0.078357   \n             Eastern Mennonite College                                             -175.191108   \n             ...                                                                           ...   \n             Bryn Mawr College                                                       19.671646   \n             Centre College                                                          30.371745   \n             Illinois Wesleyan University                                            66.071364   \n             Oklahoma Christian University                                         -103.123999   \n             Central Connecticut State University                                  -235.451167   \n             \n                                                   cr(Terminal, df=8, constraints='center')[4]  \\\n             Canisius College                                                       -34.097448   \n             Bowling Green State University                                         -42.647766   \n             Indiana Wesleyan University                                             -5.000030   \n             Notre Dame College                                                      -4.013879   \n             Eastern Mennonite College                                              -23.726210   \n             ...                                                                           ...   \n             Bryn Mawr College                                                       -9.544368   \n             Centre College                                                         -12.231390   \n             Illinois Wesleyan University                                           -34.097448   \n             Oklahoma Christian University                                          -19.950722   \n             Central Connecticut State University                                    47.039407   \n             \n                                                   cr(Terminal, df=8, constraints='center')[5]  \\\n             Canisius College                                                      -182.000764   \n             Bowling Green State University                                         211.417171   \n             Indiana Wesleyan University                                            -20.647129   \n             Notre Dame College                                                     -22.079173   \n             Eastern Mennonite College                                              -50.524468   \n             ...                                                                           ...   \n             Bryn Mawr College                                                      -63.075283   \n             Centre College                                                        -133.909793   \n             Illinois Wesleyan University                                          -182.000764   \n             Oklahoma Christian University                                          -58.390464   \n             Central Connecticut State University                                  -194.710446   \n             \n                                                   cr(Terminal, df=8, constraints='center')[6]  \\\n             Canisius College                                                       499.180983   \n             Bowling Green State University                                         219.847349   \n             Indiana Wesleyan University                                            -48.025489   \n             Notre Dame College                                                     -47.036381   \n             Eastern Mennonite College                                             -154.762555   \n             ...                                                                           ...   \n             Bryn Mawr College                                                     -128.142006   \n             Centre College                                                          12.323774   \n             Illinois Wesleyan University                                           499.180983   \n             Oklahoma Christian University                                         -154.648927   \n             Central Connecticut State University                                  -183.667101   \n             \n                                                   cr(Terminal, df=8, constraints='center')[7]  \n             Canisius College                                                       111.781541  \n             Bowling Green State University                                         140.972197  \n             Indiana Wesleyan University                                             10.298566  \n             Notre Dame College                                                      10.262482  \n             Eastern Mennonite College                                               31.669802  \n             ...                                                                           ...  \n             Bryn Mawr College                                                     -690.354386  \n             Centre College                                                        -558.285619  \n             Illinois Wesleyan University                                           111.781541  \n             Oklahoma Christian University                                           32.395549  \n             Central Connecticut State University                                    50.355301  \n             \n             [520 rows x 8 columns]})"
     },
     "metadata": {}
    },
    {
     "data": {
      "text/plain": "<Figure size 864x576 with 9 Axes>",
      "image/png": "[encoded data removed]"
     },
     "metadata": {
      "image/png": {
       "width": 856,
       "height": 557
      }
     },
     "output_type": "display_data"
    }
   ],
   "execution_count": 77
  },
  {
   "cell_type": "markdown",
   "source": "**(c)** Evalúe el modelo obtenido en el conjunto de prueba y explique los resultados obtenidos.",
   "metadata": {
    "cell_id": "00016-98adc171-625d-4887-95eb-8bb6243509b8",
    "deepnote_cell_type": "markdown"
   }
  },
  {
   "cell_type": "code",
   "source": "design2 = dmatrix(\"cr(Expend, df=4, constraints='center') + cr(pAlumni, df=5, constraints='center') + cr(Board, df=3, constraints='center') + cr(PhD, df=5, constraints='center') + Private_Yes + cr(GradRate, df=6,constraints='center') + cr(SFRatio, df=7,constraints='center') + cr(Terminal, df=8,constraints='center')\",\n                 data={\"Expend\":y_test.Expend, \"pAlumni\": y_test.pAlumni,\"Board\": y_test.Board,\"PhD\": y_test.PhD, \"Private_Yes\": y_test.Private_Yes, \"GradRate\": y_test.GradRate, \"SFRatio\": y_test.SFRatio, \"Terminal\": y_test.Terminal}, return_type=\"dataframe\")\n\ny_pred = gam.predict(design2)\n\n",
   "metadata": {
    "tags": [],
    "cell_id": "00026-6fd53ec2-d14e-495e-b639-0c900e540c3a",
    "deepnote_to_be_reexecuted": false,
    "source_hash": "7a4682ab",
    "execution_start": 1636413426575,
    "execution_millis": 1,
    "deepnote_cell_type": "code"
   },
   "outputs": [],
   "execution_count": 81
  },
  {
   "cell_type": "code",
   "source": "r2_score(X_test[['Outstate']], y_pred)",
   "metadata": {
    "tags": [],
    "cell_id": "00027-a03e08c6-dd2d-43ef-bd8b-9b181b6cc2cf",
    "deepnote_to_be_reexecuted": false,
    "source_hash": "17c9decf",
    "execution_start": 1636413514839,
    "execution_millis": 187,
    "deepnote_cell_type": "code"
   },
   "outputs": [
    {
     "output_type": "execute_result",
     "execution_count": 83,
     "data": {
      "text/plain": "0.7131178844534003"
     },
     "metadata": {}
    }
   ],
   "execution_count": 83
  },
  {
   "cell_type": "markdown",
   "source": "Obtuvimos que el modelo gam  tiene una precision del 71.3% con respecto al conjunto de prueba, con lo cual podemos decir que es bueno.",
   "metadata": {
    "tags": [],
    "cell_id": "00028-fcd5a890-2d12-47f1-813f-ac69c858c651",
    "deepnote_cell_type": "markdown"
   }
  },
  {
   "cell_type": "markdown",
   "source": "**(d)** ¿Para qué variables, si las hay, hay evidencia de una relación no lineal con la respuesta?",
   "metadata": {
    "cell_id": "00017-f6f03c2c-7baf-459d-9798-3fd9de3969c9",
    "deepnote_cell_type": "markdown"
   }
  },
  {
   "cell_type": "markdown",
   "source": "Observando las graficas dadas en el punto b, podemos decir que las variables Expend, pAlumni, PhD, GrandRate, SfRation y Terminal se evidencia una relación no lineal con la variable respuesta, debido a que la distribución de los datos con respecto a las funciones suavizadas de splines naturales cubicos.",
   "metadata": {
    "tags": [],
    "cell_id": "00030-cac977d1-dbd9-4e9c-b832-ef892a81b551",
    "deepnote_cell_type": "markdown"
   }
  },
  {
   "cell_type": "markdown",
   "source": "<a style='text-decoration:none;line-height:16px;display:flex;color:#5B5B62;padding:10px;justify-content:end;' href='https://deepnote.com?utm_source=created-in-deepnote-cell&projectId=ab22eaaf-06f3-405f-9fcb-14fedb95aa5f' target=\"_blank\">\n<img alt='Created in deepnote.com' style='display:inline;max-height:16px;margin:0px;margin-right:7.5px;' src='data:image/svg+xml;base64,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' > </img>\nCreated in <span style='font-weight:600;margin-left:4px;'>Deepnote</span></a>",
   "metadata": {
    "tags": [],
    "created_in_deepnote_cell": true,
    "deepnote_cell_type": "markdown"
   }
  }
 ],
 "nbformat": 4,
 "nbformat_minor": 1,
 "metadata": {
  "kernelspec": {
   "display_name": "Python 3",
   "language": "python",
   "name": "python3"
  },
  "language_info": {
   "codemirror_mode": {
    "name": "ipython",
    "version": 3
   },
   "file_extension": ".py",
   "mimetype": "text/x-python",
   "name": "python",
   "nbconvert_exporter": "python",
   "pygments_lexer": "ipython3",
   "version": "3.9.6"
  },
  "nbTranslate": {
   "displayLangs": [
    "es"
   ],
   "hotkey": "alt-t",
   "langInMainMenu": true,
   "sourceLang": "en",
   "targetLang": "es",
   "useGoogleTranslate": true
  },
  "varInspector": {
   "cols": {
    "lenName": 16,
    "lenType": 16,
    "lenVar": 40
   },
   "kernels_config": {
    "python": {
     "delete_cmd_postfix": "",
     "delete_cmd_prefix": "del ",
     "library": "var_list.py",
     "varRefreshCmd": "print(var_dic_list())"
    },
    "r": {
     "delete_cmd_postfix": ") ",
     "delete_cmd_prefix": "rm(",
     "library": "var_list.r",
     "varRefreshCmd": "cat(var_dic_list()) "
    }
   },
   "types_to_exclude": [
    "module",
    "function",
    "builtin_function_or_method",
    "instance",
    "_Feature"
   ],
   "window_display": false
  },
  "deepnote_notebook_id": "d3a0e44a-70cf-49fa-b840-e7dd1f37e2a2",
  "deepnote": {},
  "deepnote_execution_queue": []
 }
}