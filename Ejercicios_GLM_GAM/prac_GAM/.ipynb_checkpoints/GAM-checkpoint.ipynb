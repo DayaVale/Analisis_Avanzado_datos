{
 "cells": [
  {
   "cell_type": "markdown",
   "metadata": {},
   "source": [
    "# Generalized Additive Models (GAM)"
   ]
  },
  {
   "cell_type": "code",
   "execution_count": 1,
   "metadata": {},
   "outputs": [],
   "source": [
    "import pandas as pd\n",
    "import numpy as np\n",
    "import statsmodels.api as sm\n",
    "import statsmodels.formula.api as smf\n",
    "\n",
    "from patsy import bs, dmatrix\n",
    "from matplotlib import pyplot as plt\n",
    "\n",
    "%matplotlib inline\n",
    "plt.style.use('ggplot')"
   ]
  },
  {
   "cell_type": "markdown",
   "metadata": {},
   "source": [
    "## Importando el dataset Wages"
   ]
  },
  {
   "cell_type": "code",
   "execution_count": 2,
   "metadata": {},
   "outputs": [
    {
     "data": {
      "text/html": [
       "<div>\n",
       "<style scoped>\n",
       "    .dataframe tbody tr th:only-of-type {\n",
       "        vertical-align: middle;\n",
       "    }\n",
       "\n",
       "    .dataframe tbody tr th {\n",
       "        vertical-align: top;\n",
       "    }\n",
       "\n",
       "    .dataframe thead th {\n",
       "        text-align: right;\n",
       "    }\n",
       "</style>\n",
       "<table border=\"1\" class=\"dataframe\">\n",
       "  <thead>\n",
       "    <tr style=\"text-align: right;\">\n",
       "      <th></th>\n",
       "      <th>index</th>\n",
       "      <th>year</th>\n",
       "      <th>age</th>\n",
       "      <th>sex</th>\n",
       "      <th>maritl</th>\n",
       "      <th>race</th>\n",
       "      <th>education</th>\n",
       "      <th>region</th>\n",
       "      <th>jobclass</th>\n",
       "      <th>health</th>\n",
       "      <th>health_ins</th>\n",
       "      <th>logwage</th>\n",
       "      <th>wage</th>\n",
       "    </tr>\n",
       "  </thead>\n",
       "  <tbody>\n",
       "    <tr>\n",
       "      <th>0</th>\n",
       "      <td>231655</td>\n",
       "      <td>2006</td>\n",
       "      <td>18</td>\n",
       "      <td>1. Male</td>\n",
       "      <td>1. Never Married</td>\n",
       "      <td>1. White</td>\n",
       "      <td>1. &lt; HS Grad</td>\n",
       "      <td>2. Middle Atlantic</td>\n",
       "      <td>1. Industrial</td>\n",
       "      <td>1. &lt;=Good</td>\n",
       "      <td>2. No</td>\n",
       "      <td>4.318063</td>\n",
       "      <td>75.043154</td>\n",
       "    </tr>\n",
       "    <tr>\n",
       "      <th>1</th>\n",
       "      <td>86582</td>\n",
       "      <td>2004</td>\n",
       "      <td>24</td>\n",
       "      <td>1. Male</td>\n",
       "      <td>1. Never Married</td>\n",
       "      <td>1. White</td>\n",
       "      <td>4. College Grad</td>\n",
       "      <td>2. Middle Atlantic</td>\n",
       "      <td>2. Information</td>\n",
       "      <td>2. &gt;=Very Good</td>\n",
       "      <td>2. No</td>\n",
       "      <td>4.255273</td>\n",
       "      <td>70.476020</td>\n",
       "    </tr>\n",
       "    <tr>\n",
       "      <th>2</th>\n",
       "      <td>161300</td>\n",
       "      <td>2003</td>\n",
       "      <td>45</td>\n",
       "      <td>1. Male</td>\n",
       "      <td>2. Married</td>\n",
       "      <td>1. White</td>\n",
       "      <td>3. Some College</td>\n",
       "      <td>2. Middle Atlantic</td>\n",
       "      <td>1. Industrial</td>\n",
       "      <td>1. &lt;=Good</td>\n",
       "      <td>1. Yes</td>\n",
       "      <td>4.875061</td>\n",
       "      <td>130.982177</td>\n",
       "    </tr>\n",
       "    <tr>\n",
       "      <th>3</th>\n",
       "      <td>155159</td>\n",
       "      <td>2003</td>\n",
       "      <td>43</td>\n",
       "      <td>1. Male</td>\n",
       "      <td>2. Married</td>\n",
       "      <td>3. Asian</td>\n",
       "      <td>4. College Grad</td>\n",
       "      <td>2. Middle Atlantic</td>\n",
       "      <td>2. Information</td>\n",
       "      <td>2. &gt;=Very Good</td>\n",
       "      <td>1. Yes</td>\n",
       "      <td>5.041393</td>\n",
       "      <td>154.685293</td>\n",
       "    </tr>\n",
       "    <tr>\n",
       "      <th>4</th>\n",
       "      <td>11443</td>\n",
       "      <td>2005</td>\n",
       "      <td>50</td>\n",
       "      <td>1. Male</td>\n",
       "      <td>4. Divorced</td>\n",
       "      <td>1. White</td>\n",
       "      <td>2. HS Grad</td>\n",
       "      <td>2. Middle Atlantic</td>\n",
       "      <td>2. Information</td>\n",
       "      <td>1. &lt;=Good</td>\n",
       "      <td>1. Yes</td>\n",
       "      <td>4.318063</td>\n",
       "      <td>75.043154</td>\n",
       "    </tr>\n",
       "  </tbody>\n",
       "</table>\n",
       "</div>"
      ],
      "text/plain": [
       "    index  year  age      sex            maritl      race        education  \\\n",
       "0  231655  2006   18  1. Male  1. Never Married  1. White     1. < HS Grad   \n",
       "1   86582  2004   24  1. Male  1. Never Married  1. White  4. College Grad   \n",
       "2  161300  2003   45  1. Male        2. Married  1. White  3. Some College   \n",
       "3  155159  2003   43  1. Male        2. Married  3. Asian  4. College Grad   \n",
       "4   11443  2005   50  1. Male       4. Divorced  1. White       2. HS Grad   \n",
       "\n",
       "               region        jobclass          health health_ins   logwage  \\\n",
       "0  2. Middle Atlantic   1. Industrial       1. <=Good      2. No  4.318063   \n",
       "1  2. Middle Atlantic  2. Information  2. >=Very Good      2. No  4.255273   \n",
       "2  2. Middle Atlantic   1. Industrial       1. <=Good     1. Yes  4.875061   \n",
       "3  2. Middle Atlantic  2. Information  2. >=Very Good     1. Yes  5.041393   \n",
       "4  2. Middle Atlantic  2. Information       1. <=Good     1. Yes  4.318063   \n",
       "\n",
       "         wage  \n",
       "0   75.043154  \n",
       "1   70.476020  \n",
       "2  130.982177  \n",
       "3  154.685293  \n",
       "4   75.043154  "
      ]
     },
     "execution_count": 2,
     "metadata": {},
     "output_type": "execute_result"
    }
   ],
   "source": [
    "Wages = pd.read_csv('Wage.csv', index_col=0)\n",
    "Wages.reset_index(inplace=True)\n",
    "Wages.head()"
   ]
  },
  {
   "cell_type": "code",
   "execution_count": 3,
   "metadata": {},
   "outputs": [
    {
     "name": "stdout",
     "output_type": "stream",
     "text": [
      "index         False\n",
      "year          False\n",
      "age           False\n",
      "sex           False\n",
      "maritl        False\n",
      "race          False\n",
      "education     False\n",
      "region        False\n",
      "jobclass      False\n",
      "health        False\n",
      "health_ins    False\n",
      "logwage       False\n",
      "wage          False\n",
      "dtype: bool\n"
     ]
    }
   ],
   "source": [
    "# rename the 'Unnamed: 0' col to 'id'\n",
    "Wages = Wages.rename(columns={'Unnamed: 0': 'id'})\n",
    "\n",
    "# find out if there are any missing values\n",
    "print(pd.isnull(Wages).any())"
   ]
  },
  {
   "cell_type": "markdown",
   "metadata": {},
   "source": [
    "## Generalized Additive Models"
   ]
  },
  {
   "cell_type": "markdown",
   "metadata": {
    "lang": "es"
   },
   "source": [
    "Los modelos aditivos generalizados (GAM) son simplemente una gran regresión lineal sobre (normalmente) variables de base spline .\n",
    "Entonces, para realizar una regresión GAM, simplemente necesitamos crear una matriz de diseño grande usando splines base para cada característica del modelo. Patsy puede construir matrices de diseño que representen B-splines, splines naturales y splines cíclicos, pero NO suavizando splines, ya que no se representan como un conjunto de funciones básicas. Esto no es un problema ya que sabemos que suavizar splines es equivalente a splines naturales (versiones reducidas). Entonces, para construir un GAM, usaremos la representación de base spline natural."
   ]
  },
  {
   "cell_type": "code",
   "execution_count": 4,
   "metadata": {},
   "outputs": [],
   "source": [
    "# Construyendo matrices de diseño usando Patsy\n",
    "#############################\n",
    "# Se construye una matriz de diseño grande construida a partir de splines naturales para la variable age\n",
    "# (referida como f1) (dof = 4) y year (referida como f2) (dof = 5) y agregando la variable education (categorica)\n",
    "# NOTAL: \"constrains='center'\" es el valor predeterminado de la liberia de GAM de R. Esta opcion fuerza a las\n",
    "# funciones suavizadas f1(year), f2(age) a tener media cero.\n",
    "\n",
    "design = dmatrix(\"cr(year, df=4, constraints='center') + cr(age, df=5, constraints='center') + education\",\n",
    "                 data={\"year\":Wages.year, \"age\":Wages.age, \"education\":Wages.education}, return_type=\"dataframe\")\n",
    "\n",
    "# Ajuste con OLS de Statsmodels#\n",
    "########################\n",
    "# Una vez más, un GAM es solo una gran regresión lineal sobre funciones de base de splines, así que simplemente construya un modelo OLS.\n",
    "gam = sm.OLS(endog=Wages.wage, exog=design).fit()"
   ]
  },
  {
   "cell_type": "code",
   "execution_count": 5,
   "metadata": {},
   "outputs": [
    {
     "name": "stdout",
     "output_type": "stream",
     "text": [
      "                            OLS Regression Results                            \n",
      "==============================================================================\n",
      "Dep. Variable:                   wage   R-squared:                       0.293\n",
      "Model:                            OLS   Adj. R-squared:                  0.290\n",
      "Method:                 Least Squares   F-statistic:                     95.22\n",
      "Date:                Mon, 05 Oct 2020   Prob (F-statistic):          1.55e-213\n",
      "Time:                        09:49:37   Log-Likelihood:                -14930.\n",
      "No. Observations:                3000   AIC:                         2.989e+04\n",
      "Df Residuals:                    2986   BIC:                         2.997e+04\n",
      "Df Model:                          13                                         \n",
      "Covariance Type:            nonrobust                                         \n",
      "===========================================================================================================\n",
      "                                              coef    std err          t      P>|t|      [0.025      0.975]\n",
      "-----------------------------------------------------------------------------------------------------------\n",
      "Intercept                                  85.4759      2.155     39.668      0.000      81.251      89.701\n",
      "education[T.2. HS Grad]                    10.9574      2.430      4.509      0.000       6.193      15.722\n",
      "education[T.3. Some College]               23.4431      2.562      9.152      0.000      18.420      28.466\n",
      "education[T.4. College Grad]               38.2330      2.546     15.015      0.000      33.240      43.226\n",
      "education[T.5. Advanced Degree]            62.4786      2.761     22.626      0.000      57.064      67.893\n",
      "cr(year, df=4, constraints='center')[0]    -0.0548      1.540     -0.036      0.972      -3.075       2.965\n",
      "cr(year, df=4, constraints='center')[1]     3.6194      1.504      2.407      0.016       0.671       6.567\n",
      "cr(year, df=4, constraints='center')[2]     2.2938      1.565      1.466      0.143      -0.775       5.363\n",
      "cr(year, df=4, constraints='center')[3]     4.5342      1.713      2.647      0.008       1.176       7.893\n",
      "cr(age, df=5, constraints='center')[0]      7.7241      2.640      2.926      0.003       2.548      12.900\n",
      "cr(age, df=5, constraints='center')[1]     31.0975      2.688     11.567      0.000      25.826      36.369\n",
      "cr(age, df=5, constraints='center')[2]     20.7737      2.490      8.342      0.000      15.891      25.656\n",
      "cr(age, df=5, constraints='center')[3]      6.1212      2.866      2.136      0.033       0.501      11.741\n",
      "cr(age, df=5, constraints='center')[4]    -28.3309     11.298     -2.508      0.012     -50.483      -6.179\n",
      "==============================================================================\n",
      "Omnibus:                     1032.791   Durbin-Watson:                   1.979\n",
      "Prob(Omnibus):                  0.000   Jarque-Bera (JB):             5516.646\n",
      "Skew:                           1.545   Prob(JB):                         0.00\n",
      "Kurtosis:                       8.881   Cond. No.                         19.5\n",
      "==============================================================================\n",
      "\n",
      "Warnings:\n",
      "[1] Standard Errors assume that the covariance matrix of the errors is correctly specified.\n"
     ]
    }
   ],
   "source": [
    "print(gam.summary())"
   ]
  },
  {
   "cell_type": "markdown",
   "metadata": {
    "lang": "es"
   },
   "source": [
    "Ahora que hemos construido y ajustado el GAM, necesitamos descubrir cómo recuperar las funciones suaves f1 y f2. Los parámetros del modelo GAM son los coeficientes para todas las funciones de base spline ajustadas simultáneamente por el método de ajuste de OLS. Entonces, si tomamos el producto escalar de los coeficientes con las funciones de base coincidentes que componen f1 y f2 de la matriz de diseño, recuperamos f1 y f2."
   ]
  },
  {
   "cell_type": "code",
   "execution_count": 6,
   "metadata": {},
   "outputs": [
    {
     "data": {
      "text/plain": [
       "cr(year, df=4, constraints='center')[0]   -0.054821\n",
       "cr(year, df=4, constraints='center')[1]    3.619381\n",
       "cr(year, df=4, constraints='center')[2]    2.293793\n",
       "cr(year, df=4, constraints='center')[3]    4.534247\n",
       "dtype: float64"
      ]
     },
     "execution_count": 6,
     "metadata": {},
     "output_type": "execute_result"
    }
   ],
   "source": [
    "# Encuentra los coeficientes para la variable year de la base de funciones\n",
    "gam.params[5:9]"
   ]
  },
  {
   "cell_type": "code",
   "execution_count": 7,
   "metadata": {},
   "outputs": [
    {
     "data": {
      "text/html": [
       "<div>\n",
       "<style scoped>\n",
       "    .dataframe tbody tr th:only-of-type {\n",
       "        vertical-align: middle;\n",
       "    }\n",
       "\n",
       "    .dataframe tbody tr th {\n",
       "        vertical-align: top;\n",
       "    }\n",
       "\n",
       "    .dataframe thead th {\n",
       "        text-align: right;\n",
       "    }\n",
       "</style>\n",
       "<table border=\"1\" class=\"dataframe\">\n",
       "  <thead>\n",
       "    <tr style=\"text-align: right;\">\n",
       "      <th></th>\n",
       "      <th>Intercept</th>\n",
       "      <th>education[T.2. HS Grad]</th>\n",
       "      <th>education[T.3. Some College]</th>\n",
       "      <th>education[T.4. College Grad]</th>\n",
       "      <th>education[T.5. Advanced Degree]</th>\n",
       "      <th>cr(year, df=4, constraints='center')[0]</th>\n",
       "      <th>cr(year, df=4, constraints='center')[1]</th>\n",
       "      <th>cr(year, df=4, constraints='center')[2]</th>\n",
       "      <th>cr(year, df=4, constraints='center')[3]</th>\n",
       "      <th>cr(age, df=5, constraints='center')[0]</th>\n",
       "      <th>cr(age, df=5, constraints='center')[1]</th>\n",
       "      <th>cr(age, df=5, constraints='center')[2]</th>\n",
       "      <th>cr(age, df=5, constraints='center')[3]</th>\n",
       "      <th>cr(age, df=5, constraints='center')[4]</th>\n",
       "    </tr>\n",
       "  </thead>\n",
       "  <tbody>\n",
       "    <tr>\n",
       "      <th>0</th>\n",
       "      <td>1.0</td>\n",
       "      <td>0.0</td>\n",
       "      <td>0.0</td>\n",
       "      <td>0.0</td>\n",
       "      <td>0.0</td>\n",
       "      <td>-0.163729</td>\n",
       "      <td>0.875408</td>\n",
       "      <td>-0.134574</td>\n",
       "      <td>-0.098130</td>\n",
       "      <td>-0.501258</td>\n",
       "      <td>-0.695111</td>\n",
       "      <td>-0.500457</td>\n",
       "      <td>-0.097924</td>\n",
       "      <td>-0.005629</td>\n",
       "    </tr>\n",
       "    <tr>\n",
       "      <th>1</th>\n",
       "      <td>1.0</td>\n",
       "      <td>0.0</td>\n",
       "      <td>0.0</td>\n",
       "      <td>1.0</td>\n",
       "      <td>0.0</td>\n",
       "      <td>0.589322</td>\n",
       "      <td>-0.388702</td>\n",
       "      <td>-0.208715</td>\n",
       "      <td>-0.187743</td>\n",
       "      <td>0.400144</td>\n",
       "      <td>-0.615868</td>\n",
       "      <td>-0.284361</td>\n",
       "      <td>-0.074217</td>\n",
       "      <td>-0.002268</td>\n",
       "    </tr>\n",
       "  </tbody>\n",
       "</table>\n",
       "</div>"
      ],
      "text/plain": [
       "   Intercept  education[T.2. HS Grad]  education[T.3. Some College]  \\\n",
       "0        1.0                      0.0                           0.0   \n",
       "1        1.0                      0.0                           0.0   \n",
       "\n",
       "   education[T.4. College Grad]  education[T.5. Advanced Degree]  \\\n",
       "0                           0.0                              0.0   \n",
       "1                           1.0                              0.0   \n",
       "\n",
       "   cr(year, df=4, constraints='center')[0]  \\\n",
       "0                                -0.163729   \n",
       "1                                 0.589322   \n",
       "\n",
       "   cr(year, df=4, constraints='center')[1]  \\\n",
       "0                                 0.875408   \n",
       "1                                -0.388702   \n",
       "\n",
       "   cr(year, df=4, constraints='center')[2]  \\\n",
       "0                                -0.134574   \n",
       "1                                -0.208715   \n",
       "\n",
       "   cr(year, df=4, constraints='center')[3]  \\\n",
       "0                                -0.098130   \n",
       "1                                -0.187743   \n",
       "\n",
       "   cr(age, df=5, constraints='center')[0]  \\\n",
       "0                               -0.501258   \n",
       "1                                0.400144   \n",
       "\n",
       "   cr(age, df=5, constraints='center')[1]  \\\n",
       "0                               -0.695111   \n",
       "1                               -0.615868   \n",
       "\n",
       "   cr(age, df=5, constraints='center')[2]  \\\n",
       "0                               -0.500457   \n",
       "1                               -0.284361   \n",
       "\n",
       "   cr(age, df=5, constraints='center')[3]  \\\n",
       "0                               -0.097924   \n",
       "1                               -0.074217   \n",
       "\n",
       "   cr(age, df=5, constraints='center')[4]  \n",
       "0                               -0.005629  \n",
       "1                               -0.002268  "
      ]
     },
     "execution_count": 7,
     "metadata": {},
     "output_type": "execute_result"
    }
   ],
   "source": [
    "# Esta es la matriz de diseño\n",
    "design.head(2)"
   ]
  },
  {
   "cell_type": "code",
   "execution_count": 8,
   "metadata": {},
   "outputs": [
    {
     "data": {
      "text/html": [
       "<div>\n",
       "<style scoped>\n",
       "    .dataframe tbody tr th:only-of-type {\n",
       "        vertical-align: middle;\n",
       "    }\n",
       "\n",
       "    .dataframe tbody tr th {\n",
       "        vertical-align: top;\n",
       "    }\n",
       "\n",
       "    .dataframe thead th {\n",
       "        text-align: right;\n",
       "    }\n",
       "</style>\n",
       "<table border=\"1\" class=\"dataframe\">\n",
       "  <thead>\n",
       "    <tr style=\"text-align: right;\">\n",
       "      <th></th>\n",
       "      <th>cr(year, df=4, constraints='center')[0]</th>\n",
       "      <th>cr(year, df=4, constraints='center')[1]</th>\n",
       "      <th>cr(year, df=4, constraints='center')[2]</th>\n",
       "      <th>cr(year, df=4, constraints='center')[3]</th>\n",
       "    </tr>\n",
       "  </thead>\n",
       "  <tbody>\n",
       "    <tr>\n",
       "      <th>0</th>\n",
       "      <td>-0.163729</td>\n",
       "      <td>0.875408</td>\n",
       "      <td>-0.134574</td>\n",
       "      <td>-0.098130</td>\n",
       "    </tr>\n",
       "    <tr>\n",
       "      <th>1</th>\n",
       "      <td>0.589322</td>\n",
       "      <td>-0.388702</td>\n",
       "      <td>-0.208715</td>\n",
       "      <td>-0.187743</td>\n",
       "    </tr>\n",
       "  </tbody>\n",
       "</table>\n",
       "</div>"
      ],
      "text/plain": [
       "   cr(year, df=4, constraints='center')[0]  \\\n",
       "0                                -0.163729   \n",
       "1                                 0.589322   \n",
       "\n",
       "   cr(year, df=4, constraints='center')[1]  \\\n",
       "0                                 0.875408   \n",
       "1                                -0.388702   \n",
       "\n",
       "   cr(year, df=4, constraints='center')[2]  \\\n",
       "0                                -0.134574   \n",
       "1                                -0.208715   \n",
       "\n",
       "   cr(year, df=4, constraints='center')[3]  \n",
       "0                                -0.098130  \n",
       "1                                -0.187743  "
      ]
     },
     "execution_count": 8,
     "metadata": {},
     "output_type": "execute_result"
    }
   ],
   "source": [
    "# Ahora se obtienen las columnas de la matriz de diseño que corresponden a las funciones base de año evaluadas\n",
    "# en el año en esa fila del dataframe.\n",
    "year_basis = design[design.columns[5:9]]\n",
    "year_basis.head(2)"
   ]
  },
  {
   "cell_type": "code",
   "execution_count": 9,
   "metadata": {},
   "outputs": [
    {
     "data": {
      "image/png": "[encoded data removed]",
      "text/plain": [
       "<Figure size 432x288 with 1 Axes>"
      ]
     },
     "metadata": {},
     "output_type": "display_data"
    }
   ],
   "source": [
    "# El ultimo paso es multiplicar los coeficientes por la funcion base de la variable year \n",
    "# \"f1(year) = basis_funcs * Betas\" \n",
    "\n",
    "# Encuentra el orden de los indices de la variable year\n",
    "order = np.argsort(Wages.year.values)\n",
    "# Grafica F1(year)\n",
    "plt.plot(Wages.year[order],np.dot(year_basis.values, gam.params[5:9])[order], lw=2)\n",
    "plt.ylim([-35,35]);\n",
    "labels = list(range(2003,2010,1))\n",
    "plt.xticks(range(2003,2010), labels);\n",
    "plt.xlabel('year');\n",
    "plt.ylabel('F1(year)');"
   ]
  },
  {
   "cell_type": "markdown",
   "metadata": {
    "lang": "es"
   },
   "source": [
    "Ahora hagamos lo mismo con las funciones de base de edad y los coeficientes del ajuste GLM."
   ]
  },
  {
   "cell_type": "code",
   "execution_count": 10,
   "metadata": {},
   "outputs": [
    {
     "data": {
      "text/html": [
       "<div>\n",
       "<style scoped>\n",
       "    .dataframe tbody tr th:only-of-type {\n",
       "        vertical-align: middle;\n",
       "    }\n",
       "\n",
       "    .dataframe tbody tr th {\n",
       "        vertical-align: top;\n",
       "    }\n",
       "\n",
       "    .dataframe thead th {\n",
       "        text-align: right;\n",
       "    }\n",
       "</style>\n",
       "<table border=\"1\" class=\"dataframe\">\n",
       "  <thead>\n",
       "    <tr style=\"text-align: right;\">\n",
       "      <th></th>\n",
       "      <th>cr(age, df=5, constraints='center')[0]</th>\n",
       "      <th>cr(age, df=5, constraints='center')[1]</th>\n",
       "      <th>cr(age, df=5, constraints='center')[2]</th>\n",
       "      <th>cr(age, df=5, constraints='center')[3]</th>\n",
       "      <th>cr(age, df=5, constraints='center')[4]</th>\n",
       "    </tr>\n",
       "  </thead>\n",
       "  <tbody>\n",
       "    <tr>\n",
       "      <th>0</th>\n",
       "      <td>-0.501258</td>\n",
       "      <td>-0.695111</td>\n",
       "      <td>-0.500457</td>\n",
       "      <td>-0.097924</td>\n",
       "      <td>-0.005629</td>\n",
       "    </tr>\n",
       "  </tbody>\n",
       "</table>\n",
       "</div>"
      ],
      "text/plain": [
       "   cr(age, df=5, constraints='center')[0]  \\\n",
       "0                               -0.501258   \n",
       "\n",
       "   cr(age, df=5, constraints='center')[1]  \\\n",
       "0                               -0.695111   \n",
       "\n",
       "   cr(age, df=5, constraints='center')[2]  \\\n",
       "0                               -0.500457   \n",
       "\n",
       "   cr(age, df=5, constraints='center')[3]  \\\n",
       "0                               -0.097924   \n",
       "\n",
       "   cr(age, df=5, constraints='center')[4]  \n",
       "0                               -0.005629  "
      ]
     },
     "execution_count": 10,
     "metadata": {},
     "output_type": "execute_result"
    }
   ],
   "source": [
    "# Obtiene las funciones age_basis evaluadas a la edad (age) en cada fila del dataframe.\n",
    "age_basis = design[design.columns[9:]]\n",
    "age_basis.head(1)"
   ]
  },
  {
   "cell_type": "code",
   "execution_count": 11,
   "metadata": {},
   "outputs": [
    {
     "data": {
      "image/png": "[encoded data removed]",
      "text/plain": [
       "<Figure size 432x288 with 1 Axes>"
      ]
     },
     "metadata": {},
     "output_type": "display_data"
    }
   ],
   "source": [
    "# Grafica age vs F2(age)\n",
    "\n",
    "# Encuentra el orden de los indices de age\n",
    "order = np.argsort(Wages.age.values)\n",
    "\n",
    "# Realiza de nuevo el producto punto entre los coeficiente y las funciones base\n",
    "plt.plot(Wages.age[order], np.dot(age_basis.values, gam.params[9:])[order], lw=2);\n",
    "plt.ylabel('F2(age)');\n",
    "plt.xlabel('age');\n",
    "plt.ylim([-55,20]);"
   ]
  },
  {
   "cell_type": "code",
   "execution_count": 12,
   "metadata": {},
   "outputs": [
    {
     "data": {
      "text/html": [
       "<div>\n",
       "<style scoped>\n",
       "    .dataframe tbody tr th:only-of-type {\n",
       "        vertical-align: middle;\n",
       "    }\n",
       "\n",
       "    .dataframe tbody tr th {\n",
       "        vertical-align: top;\n",
       "    }\n",
       "\n",
       "    .dataframe thead th {\n",
       "        text-align: right;\n",
       "    }\n",
       "</style>\n",
       "<table border=\"1\" class=\"dataframe\">\n",
       "  <thead>\n",
       "    <tr style=\"text-align: right;\">\n",
       "      <th></th>\n",
       "      <th>index</th>\n",
       "      <th>year</th>\n",
       "      <th>age</th>\n",
       "      <th>sex</th>\n",
       "      <th>maritl</th>\n",
       "      <th>race</th>\n",
       "      <th>education</th>\n",
       "      <th>region</th>\n",
       "      <th>jobclass</th>\n",
       "      <th>health</th>\n",
       "      <th>health_ins</th>\n",
       "      <th>logwage</th>\n",
       "      <th>wage</th>\n",
       "      <th>ed_F3</th>\n",
       "    </tr>\n",
       "  </thead>\n",
       "  <tbody>\n",
       "    <tr>\n",
       "      <th>0</th>\n",
       "      <td>231655</td>\n",
       "      <td>2006</td>\n",
       "      <td>18</td>\n",
       "      <td>1. Male</td>\n",
       "      <td>1. Never Married</td>\n",
       "      <td>1. White</td>\n",
       "      <td>1. &lt; HS Grad</td>\n",
       "      <td>2. Middle Atlantic</td>\n",
       "      <td>1. Industrial</td>\n",
       "      <td>1. &lt;=Good</td>\n",
       "      <td>2. No</td>\n",
       "      <td>4.318063</td>\n",
       "      <td>75.043154</td>\n",
       "      <td>-26.227696</td>\n",
       "    </tr>\n",
       "    <tr>\n",
       "      <th>1</th>\n",
       "      <td>86582</td>\n",
       "      <td>2004</td>\n",
       "      <td>24</td>\n",
       "      <td>1. Male</td>\n",
       "      <td>1. Never Married</td>\n",
       "      <td>1. White</td>\n",
       "      <td>4. College Grad</td>\n",
       "      <td>2. Middle Atlantic</td>\n",
       "      <td>2. Information</td>\n",
       "      <td>2. &gt;=Very Good</td>\n",
       "      <td>2. No</td>\n",
       "      <td>4.255273</td>\n",
       "      <td>70.476020</td>\n",
       "      <td>12.005255</td>\n",
       "    </tr>\n",
       "  </tbody>\n",
       "</table>\n",
       "</div>"
      ],
      "text/plain": [
       "    index  year  age      sex            maritl      race        education  \\\n",
       "0  231655  2006   18  1. Male  1. Never Married  1. White     1. < HS Grad   \n",
       "1   86582  2004   24  1. Male  1. Never Married  1. White  4. College Grad   \n",
       "\n",
       "               region        jobclass          health health_ins   logwage  \\\n",
       "0  2. Middle Atlantic   1. Industrial       1. <=Good      2. No  4.318063   \n",
       "1  2. Middle Atlantic  2. Information  2. >=Very Good      2. No  4.255273   \n",
       "\n",
       "        wage      ed_F3  \n",
       "0  75.043154 -26.227696  \n",
       "1  70.476020  12.005255  "
      ]
     },
     "execution_count": 12,
     "metadata": {},
     "output_type": "execute_result"
    }
   ],
   "source": [
    "# Se obtienen las columnas de la matriz de diseño que corresponden a los niveles educativos\n",
    "ed_levels = design[design.columns[1:5]].copy()\n",
    "\n",
    "# Determina los coeficientes\n",
    "ed_coeffs = gam.params[1:5];\n",
    "\n",
    "# Anade el producto punto entre los niveles de educacion y los coeficientes al dataframe de Wages. Se centra\n",
    "# con respecto a la media.\n",
    "Wages['ed_F3'] = np.dot(ed_levels, ed_coeffs)\n",
    "Wages['ed_F3'] = Wages['ed_F3']-Wages['ed_F3'].mean()\n",
    "Wages.head(2)"
   ]
  },
  {
   "cell_type": "code",
   "execution_count": 13,
   "metadata": {},
   "outputs": [
    {
     "data": {
      "image/png": "[encoded data removed]",
      "text/plain": [
       "<Figure size 576x432 with 1 Axes>"
      ]
     },
     "metadata": {},
     "output_type": "display_data"
    }
   ],
   "source": [
    "# Grafica del boxplot de F3(education) agrupada por el nivel de educacion\n",
    "fig, ax1 = plt.subplots(1,1,figsize=(8,6))\n",
    "Wages.boxplot(column='ed_F3', by='education', ax=ax1);\n",
    "ax1.set_ylabel('F3(education)');\n",
    "plt.suptitle('');"
   ]
  },
  {
   "cell_type": "markdown",
   "metadata": {
    "lang": "es"
   },
   "source": [
    "Entonces, para recapitular, implementamos un GAM usando splines naturales. En general, este enfoque es flexible y está limitado solo por las funciones básicas proporcionadas por patsy (B-Splines, Nat. Splines, Cyclic Splines)."
   ]
  },
  {
   "cell_type": "markdown",
   "metadata": {},
   "source": [
    "## ANOVA Test"
   ]
  },
  {
   "cell_type": "markdown",
   "metadata": {
    "lang": "es"
   },
   "source": [
    "En la gráfica del año anterior, podemos ver que la función spline natural es bastante lineal, así que construyamos un conjunto\n",
    "de modelos y compárelos utilizando el estadístico F."
   ]
  },
  {
   "cell_type": "code",
   "execution_count": 14,
   "metadata": {},
   "outputs": [
    {
     "name": "stdout",
     "output_type": "stream",
     "text": [
      "   df_resid           ssr  df_diff       ss_diff          F    Pr(>F)\n",
      "0    2990.0  3.712549e+06      0.0           NaN        NaN       NaN\n",
      "1    2989.0  3.695015e+06      1.0  17534.011180  14.182511  0.000169\n",
      "2    2986.0  3.691628e+06      3.0   3386.677223   0.913113  0.433717\n"
     ]
    }
   ],
   "source": [
    "# Matriz de diseño y GAM sin la variable year\n",
    "design1 = dmatrix(\"cr(age, df=5, constraints='center') + education\",\n",
    "                 data={\"age\":Wages.age, \"education\":Wages.education}, return_type=\"dataframe\")\n",
    "\n",
    "gam1 = sm.OLS(endog=Wages.wage, exog=design1).fit()\n",
    "\n",
    "# MAtriz de diseño y GAM lineal con respecto a la variable year\n",
    "design2 = dmatrix(\"year + cr(age, df=5, constraints='center') + education\",\n",
    "                 data={\"year\":Wages.year, \"age\":Wages.age, \"education\":Wages.education}, return_type=\"dataframe\")\n",
    "\n",
    "gam2 = sm.OLS(endog=Wages.wage, exog=design2).fit()\n",
    "\n",
    "# Matriz de diseño y GAM con un spline natural del año y con dof=4\n",
    "design3 = dmatrix(\"cr(year, df=4, constraints='center') + cr(age, df=5, constraints='center') + education\",\n",
    "                 data={\"year\":Wages.year, \"age\":Wages.age, \"education\":Wages.education}, return_type=\"dataframe\")\n",
    "\n",
    "gam3 = sm.OLS(endog=Wages.wage, exog=design3).fit()\n",
    "\n",
    "# ANOVA TEST\n",
    "anova = sm.stats.anova_lm(gam1, gam2, gam3)\n",
    "print(anova)"
   ]
  },
  {
   "cell_type": "markdown",
   "metadata": {
    "lang": "es"
   },
   "source": [
    "Por lo tanto, el modelo lineal es mejor que el modelo sin `year`, pero no hay evidencia (P = .433) de que un spline natural mejore el modelo."
   ]
  },
  {
   "cell_type": "code",
   "execution_count": 15,
   "metadata": {},
   "outputs": [
    {
     "name": "stdout",
     "output_type": "stream",
     "text": [
      "                            OLS Regression Results                            \n",
      "==============================================================================\n",
      "Dep. Variable:                   wage   R-squared:                       0.292\n",
      "Model:                            OLS   Adj. R-squared:                  0.290\n",
      "Method:                 Least Squares   F-statistic:                     123.5\n",
      "Date:                Mon, 05 Oct 2020   Prob (F-statistic):          4.70e-216\n",
      "Time:                        09:49:38   Log-Likelihood:                -14931.\n",
      "No. Observations:                3000   AIC:                         2.988e+04\n",
      "Df Residuals:                    2989   BIC:                         2.995e+04\n",
      "Df Model:                          10                                         \n",
      "Covariance Type:            nonrobust                                         \n",
      "==========================================================================================================\n",
      "                                             coef    std err          t      P>|t|      [0.025      0.975]\n",
      "----------------------------------------------------------------------------------------------------------\n",
      "Intercept                              -2316.2770    637.709     -3.632      0.000   -3566.670   -1065.884\n",
      "education[T.2. HS Grad]                   11.0218      2.428      4.539      0.000       6.260      15.783\n",
      "education[T.3. Some College]              23.5921      2.559      9.219      0.000      18.575      28.610\n",
      "education[T.4. College Grad]              38.2053      2.544     15.018      0.000      33.217      43.194\n",
      "education[T.5. Advanced Degree]           62.5466      2.761     22.658      0.000      57.134      67.959\n",
      "year                                       1.1974      0.318      3.766      0.000       0.574       1.821\n",
      "cr(age, df=5, constraints='center')[0]     7.7147      2.639      2.924      0.003       2.541      12.889\n",
      "cr(age, df=5, constraints='center')[1]    31.0352      2.686     11.553      0.000      25.768      36.302\n",
      "cr(age, df=5, constraints='center')[2]    20.7652      2.490      8.340      0.000      15.883      25.647\n",
      "cr(age, df=5, constraints='center')[3]     6.0196      2.863      2.102      0.036       0.406      11.634\n",
      "cr(age, df=5, constraints='center')[4]   -28.4506     11.296     -2.519      0.012     -50.599      -6.302\n",
      "==============================================================================\n",
      "Omnibus:                     1031.394   Durbin-Watson:                   1.979\n",
      "Prob(Omnibus):                  0.000   Jarque-Bera (JB):             5507.386\n",
      "Skew:                           1.543   Prob(JB):                         0.00\n",
      "Kurtosis:                       8.877   Cond. No.                     1.99e+06\n",
      "==============================================================================\n",
      "\n",
      "Warnings:\n",
      "[1] Standard Errors assume that the covariance matrix of the errors is correctly specified.\n",
      "[2] The condition number is large, 1.99e+06. This might indicate that there are\n",
      "strong multicollinearity or other numerical problems.\n"
     ]
    }
   ],
   "source": [
    "# Resumamos el modelo de GAM2 lineal respecto a `year`\n",
    "print(gam2.summary())"
   ]
  },
  {
   "cell_type": "markdown",
   "metadata": {
    "lang": "es"
   },
   "source": [
    "Por tanto, vemos una clara evidencia de un término no lineal en la `age` pero no en `year`. Podemos usar las mismas técnicas y funciones anteriores para hacer también una regresión logística usando splines naturales. Es idéntico al análisis anterior."
   ]
  },
  {
   "cell_type": "markdown",
   "metadata": {
    "heading_collapsed": true
   },
   "source": [
    "## Otra forma de usar GAM con statmodels\n",
    "\n",
    "statmodels implementa GAM directamente (sin necesidad de usar patsy e involucrando GLM) a través de `GLMGam`. Para conocer más acerca, por favor lea este [tutorial](https://www.statsmodels.org/stable/gam.html). La ventaja de este método es que podemos involucrar diversas componentes aleatorias y funciones de enlace."
   ]
  },
  {
   "cell_type": "markdown",
   "metadata": {},
   "source": [
    "## Ejercicios\n",
    "\n",
    "[1] Reproduzca el modelo de GAM realizado anteriormente usando `GLMGam`.\n",
    "\n",
    "[2] Esta pregunta se relaciona con el conjunto de datos `College.csv` (use `sm.OLS`).\n",
    "\n",
    "(a) Divida los datos en un conjunto de entrenamiento y un conjunto de prueba. \n",
    "\n",
    "Se ha realizado una selección de predictores empleando una regresión lineal con variable respuesta `out-of-state`, obteniendose como mejores variables a `['Expend', 'pAlumni', 'Board', 'Private_Yes', 'PhD', 'GradRate', 'SFRatio', 'Terminal']`.\n",
    "\n",
    "(b) Ajuste un GAM en los datos de entrenamiento, usando `out-of-state` como respuesta y los predictores seleccionados como variables predictoras. Grafique los resultados y explique sus hallazgos.\n",
    "\n",
    "(c) Evalúe el modelo obtenido en el conjunto de prueba y explique los resultados obtenidos.\n",
    "\n",
    "(d) ¿Para qué variables, si las hay, hay evidencia de una relación no lineal con la respuesta?"
   ]
  }
 ],
 "metadata": {
  "kernelspec": {
   "display_name": "Python 3",
   "language": "python",
   "name": "python3"
  },
  "language_info": {
   "codemirror_mode": {
    "name": "ipython",
    "version": 3
   },
   "file_extension": ".py",
   "mimetype": "text/x-python",
   "name": "python",
   "nbconvert_exporter": "python",
   "pygments_lexer": "ipython3",
   "version": "3.9.6"
  },
  "nbTranslate": {
   "displayLangs": [
    "es"
   ],
   "hotkey": "alt-t",
   "langInMainMenu": true,
   "sourceLang": "en",
   "targetLang": "es",
   "useGoogleTranslate": true
  },
  "varInspector": {
   "cols": {
    "lenName": 16,
    "lenType": 16,
    "lenVar": 40
   },
   "kernels_config": {
    "python": {
     "delete_cmd_postfix": "",
     "delete_cmd_prefix": "del ",
     "library": "var_list.py",
     "varRefreshCmd": "print(var_dic_list())"
    },
    "r": {
     "delete_cmd_postfix": ") ",
     "delete_cmd_prefix": "rm(",
     "library": "var_list.r",
     "varRefreshCmd": "cat(var_dic_list()) "
    }
   },
   "types_to_exclude": [
    "module",
    "function",
    "builtin_function_or_method",
    "instance",
    "_Feature"
   ],
   "window_display": false
  }
 },
 "nbformat": 4,
 "nbformat_minor": 1
}
