{
 "cells": [
  {
   "cell_type": "markdown",
   "metadata": {},
   "source": [
    "# Tarea de regularización"
   ]
  },
  {
   "cell_type": "markdown",
   "metadata": {},
   "source": [
    "[1] En este ejercicio, se requiere predecir la cantidad de solicitudes recibidas usando las otras variables en el conjunto de datos `college.csv`.\n",
    "\n",
    "    (a) Divida el conjunto de datos en un conjunto de entrenamiento y un conjunto de prueba.\n",
    "\n",
    "    (b) Ajuste un modelo lineal usando mínimos cuadrados en el conjunto de entrenamiento e informe el error de prueba (sobre el Test set) obtenido.\n",
    "\n",
    "    (c) Ajuste un modelo de Ridge regression en el conjunto de entrenamiento, con λ elegido por validación cruzada. Informe el error de prueba obtenido.\n",
    "\n",
    "    (d) Ajustar un modelo The Lasso en el conjunto de entrenamiento, con λ elegido por validación cruzada. Informe el error de prueba obtenido, junto con el número de estimaciones de coeficientes distintos de cero.\n",
    "\n",
    "    (e) Comente los resultados obtenidos. ¿Con qué precisión podemos predecir la cantidad de solicitudes recibidas en la universidad? ¿Hay mucha diferencia entre los errores de prueba resultantes de estos cuatros enfoques?"
   ]
  },
  {
   "cell_type": "markdown",
   "metadata": {},
   "source": [
    "[2] Cargue el dataset de juguete `sklearn.datasets.load_digits(n_class=10, return_X_y=False)`. \n",
    "\n",
    "(a) Divida el conjunto de datos, en Training, Test. Realice el proceso de clasificación usando un clasificador KNN, y determinando el mejor número de vecinos y de componentes principales. Evalue el desempeño en el Test set.\n",
    "\n",
    "\n",
    "Evalue el desempeño usando la matriz de confusión y el balanced accuracy."
   ]
  }
 ],
 "metadata": {
  "kernelspec": {
   "display_name": "Python 3",
   "language": "python",
   "name": "python3"
  },
  "language_info": {
   "codemirror_mode": {
    "name": "ipython",
    "version": 3
   },
   "file_extension": ".py",
   "mimetype": "text/x-python",
   "name": "python",
   "nbconvert_exporter": "python",
   "pygments_lexer": "ipython3",
   "version": "3.9.6"
  },
  "nbTranslate": {
   "displayLangs": [
    "es",
    "en"
   ],
   "hotkey": "alt-t",
   "langInMainMenu": true,
   "sourceLang": "en",
   "targetLang": "es",
   "useGoogleTranslate": true
  },
  "varInspector": {
   "cols": {
    "lenName": 16,
    "lenType": 16,
    "lenVar": 40
   },
   "kernels_config": {
    "python": {
     "delete_cmd_postfix": "",
     "delete_cmd_prefix": "del ",
     "library": "var_list.py",
     "varRefreshCmd": "print(var_dic_list())"
    },
    "r": {
     "delete_cmd_postfix": ") ",
     "delete_cmd_prefix": "rm(",
     "library": "var_list.r",
     "varRefreshCmd": "cat(var_dic_list()) "
    }
   },
   "types_to_exclude": [
    "module",
    "function",
    "builtin_function_or_method",
    "instance",
    "_Feature"
   ],
   "window_display": false
  }
 },
 "nbformat": 4,
 "nbformat_minor": 2
}
