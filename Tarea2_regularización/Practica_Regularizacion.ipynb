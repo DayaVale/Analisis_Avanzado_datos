{
 "cells": [
  {
   "cell_type": "markdown",
   "metadata": {},
   "source": [
    "# Selección de modelos, regularización y reducción de la dimensión (modelos lineales)"
   ]
  },
  {
   "cell_type": "markdown",
   "metadata": {},
   "source": [
    "Los modelos lineales pueden funcionar asombrosamente bien en comparación con los modelos no lineales. En está práctica se explorarán otros tipos de ajustes o pasos adicionales a los mínimos cuadrados, ya que pueden proporcionar una mejor precisión de predicción e interpretabilidad.\n",
    "\n",
    "## Tres clases de métodos\n",
    "* **Selección de variables (Feature selection)**: Se elige un subconjunto de predictores importantes\n",
    "* **Contracción (regularización)**: se realiza el ajuste (entrenamiento) a todos los predictores pero se limita el tamaño de los coeficientes (o parámetros). Los coeficientes pueden resultar 0.\n",
    "* **Reducción de dimensión**: se proyectan los predictores en un subespacio más pequeño."
   ]
  },
  {
   "cell_type": "markdown",
   "metadata": {},
   "source": [
    "## Feature selection\n",
    "Existen muchas técnicas de selección de variables (o predictores, o descriptores). [Saeys et al.](https://academic.oup.com/bioinformatics/article/23/19/2507/185254), [Guyon & Elisseeff](http://www.jmlr.org/papers/volume3/guyon03a/guyon03a.pdf) son artículos review de referencia, que describen de forma excelente el tema de *feature selection*, presentando diferentes tipos de técnicas de selección que podéis consultar en cualquier momento. Particularmente, la siguiente figura (de Saeys et al.) resume los tipos de selección de acuerdo al tipo de búsqueda:\n",
    "\n",
    "![Feature selection taxonomy](featureSelection_Taxonomy.png)\n"
   ]
  },
  {
   "cell_type": "markdown",
   "metadata": {},
   "source": [
    "El módulo `sklearn.feature_selection` implementa algunas técnicas de selección de variables, útiles y que pueden ser utilizadas dentro de la API de scikit-learn. Este módulo incluye principalmente algunas técnicas de filtrado univariables y el algoritmo de eliminación recursiva de descriptores (RFE: recursive feature elimination). En la documentación de scikit-learn se encuentra [este apartado](http://scikit-learn.org/stable/modules/feature_selection.html) que explica muy bien los algoritmos implementados. Por otro lado, se pueden encontrar fácilmente en python, otras librerías (diferentes a scikit) con implementaciones de otras técnicas de selección."
   ]
  },
  {
   "cell_type": "markdown",
   "metadata": {},
   "source": [
    "## Métodos de contracción (Shrinkage)\n",
    "Las técnicas de **regresión** Ridge y Lasso son las más comunes.\n",
    "\n",
    "###  *Ridge regression ($L_2$)*\n",
    "Minimiza no solo el error cuadrático (RSS) sino la suma de los predictores al cuadrado multiplicado por una constante $\\lambda$. Cuando $\\lambda$ es 0, *Ridge* equivale a mínimos cuadrados. cuando $\\lambda$ tiende al infinito, todos los predictores tienden a anularse.\n",
    "\n",
    "Como *ridge regression* funciona directamente con el tamaño de los coeficientes de los parámetros, se debe escalar todos los predictores, por ejemplo al dividirlos por su desviación estándar.\n",
    "\n",
    "Scikit-learn implementa este método mediante `sklearn.linear_model.Ridge`.\n",
    "\n",
    "\n",
    "### *The Lasso* ($L_1$)\n",
    "Utiliza la penalización (norma) L1 en lugar de L2 (valor absoluto de los predictores frente al valor cuadrado). *The Lasso* realiza la selección de variables configurando algunos predictores exactamente a 0 (y por lo tanto a la selección automática de variables), a diferencia del reborde que nunca eliminará por completo las variables. Scikit-learn implementa este método mediante `sklearn.linear_model.Lasso`.\n",
    "\n",
    "### Lógica alternativa para las regresiones de Lasso y Ridge\n",
    "En lugar de pensar en penalizar el error por la norma L1 o L2. Se puede pensar de forma alternativa la configuración de la regresión Lasso/Ridge como la minimización de los errores al cuadrado sujeto a mantener los parámetros por debajo de un cierto valor. Este valor puede verse como un 'presupuesto' de gasto permisible. Se puede permitir gastar los parámetros de la forma que se elija siempre que no se exceda el presupuesto total.\n",
    "\n",
    "### Otras regularizaciones\n",
    "Los métodos de regularización anteriores se centran en la regresión, pero son perfectamente aplicables a la clasificación. Por ejemplo, a la [*función de costo*](http://ml-cheatsheet.readthedocs.io/en/latest/logistic_regression.html) de la regresión logística se le puede añadir el término $ \\lambda \\sum{\\beta_j^2} $, de esta forma, se contraen o limitan los parámetros, ayudando a reducir el overfitting. Scikit-learn implementa esta regularización por defecto en la implementación de la regresión logistica `sklearn.linear_model.LogisticRegression` mediante el parámetro `C`, que actúa como un inverso de $\\lambda$, es decir, valores pequeños de *C* especifican una fuerte regularización.\n",
    "\n",
    "En la documentación de Scikit-learn se encuentra [esta guía](http://scikit-learn.org/stable/modules/linear_model.html) sobre el módulo `sklearn.linear_model` que implementa diferentes modelos lineales (de regresión y clasificación) con regularización. \n",
    "\n",
    "La regresión de Lasso arroja predictores nulos debido a las esquinas del *dominio* de los parámetros que muestra la siguiente figura:\n",
    "\n",
    "![ridge and lasso](ridge.png)"
   ]
  },
  {
   "cell_type": "markdown",
   "metadata": {},
   "source": [
    "### ¿Qué método es mejor Lasso o Ridge?\n",
    "No hay forma de saberlo de antemano pero, en general, las configuraciones donde hay muchos predictores que están relacionados con la variable respuesta, *Rigde* tendrá un mejor rendimiento. Cuando solo hay unas pocas variables que se relacionan con la respuesta, *Lasso* irá mejor.\n",
    "\n",
    "Sin embargo, siempre se puede usar la validación cruzada\n",
    "\n",
    "### Seleccionando un valor de $\\lambda$\n",
    "Se puede elegir $\\lambda$ (o *C*) mediante validación cruzada. Se puede buscar a partir de un vector de valores de $ \\lambda $ 's a través de la técnica de validación cruzada, eligiendo el valor de $ \\lambda $ que minimiza el error. Luego, se construye el modelo final con ese valor de $ \\lambda $ usando esta vez todos los datos."
   ]
  },
  {
   "cell_type": "markdown",
   "metadata": {},
   "source": [
    "# Técnicas de reducción de la dimensión\n",
    "En lugar de usar los predictores originales, se pueden transformar primero y luego ajustar el modelo (o los modelos). Por lo general, se transforman las variables para que menos cantidad (de variables) que en el conjunto original.\n",
    "\n",
    "[Esta presentación](https://www.slideshare.net/ColleenFarrelly/review-of-methods-for-dimension-reduction) contiene un breve *review* de técnicas de reducción de la dimensión. \n",
    "\n",
    "[Este tutorial](http://scikit-learn.org/stable/modules/decomposition.html#decompositions) de scikit-learn explica diversas implementaciones de reducción de la dimensión.\n",
    "\n",
    "*La técnica más útil y la más usada (con gran diferencia) es el análisis de componentes principales.*\n",
    "\n",
    "## Principal component analysis (PCA)\n",
    "La primera componente principal es la dirección donde las observaciones varían más. Se quiere capturar tanta información como se pueda en una sola dirección. ¿Qué dirección (única) captura la mayor cantidad de información posible? La dirección donde la varianza es máxima entre todos los puntos proyectados.\n",
    "\n",
    "La primera componente principal también minimiza la suma de las distancias perpendiculares al cuadrado entre el punto y la línea recta (de la dirección). \n",
    "\n",
    "La segunda componente principal no debe estar correlacionada con la primera componente, lo que la hace ortogonal (90 grados en dos dimensiones) a la primera. La segunda componente principal captura menos información. Graficar cada componente versus cada variable puede mostrar cuánta información captura cada una.\n",
    "\n",
    "Sckit-learn implementa PCA mediante la clase (es un transformador) `sklearn.decomposition.PCA`.\n",
    "\n",
    "### Principal component regression (PCR)\n",
    "Primero se encuentran las primeras *M* componentes principales donde *M < p* se ajusta con mínimos cuadrados. Se puede elegir *M* usando la varianza explicada (acumulada) o mediante validación cruzada. Por lo general, los datos se estandarizan primero.\n",
    "\n",
    "\n",
    "### Datos de alta dimensión\n",
    "Cuando se habla de datos de alta dimensión, generalmente se refiere a datos con muchos predictores, especialmente cuando $p$ (el número de predictores) se acerca o supera a $n$ (el número de observaciones). En general, es mejor tener más predictores, pero si muchos de los predictores no están asociados con la respuesta, entonces pueden hacer que la señal real se diluya: estos predictores son un arma de doble filo.\n",
    "\n",
    "----"
   ]
  },
  {
   "cell_type": "markdown",
   "metadata": {},
   "source": [
    "# Manos a la obra"
   ]
  },
  {
   "cell_type": "code",
   "execution_count": 1,
   "metadata": {},
   "outputs": [],
   "source": [
    "# Cargando los modulos basicos\n",
    "import pandas as pd\n",
    "import numpy as np\n",
    "import matplotlib.pyplot as plt\n",
    "import seaborn as sns\n",
    "%matplotlib inline\n",
    "\n",
    "from sklearn.model_selection import train_test_split, cross_val_score, cross_val_predict, KFold, StratifiedKFold\n",
    "from sklearn.metrics import confusion_matrix, classification_report, accuracy_score, mean_squared_error\n",
    "from sklearn.preprocessing import StandardScaler\n",
    "from sklearn.linear_model import LinearRegression, Ridge, RidgeCV, Lasso, LassoCV\n",
    "from sklearn.decomposition import PCA\n",
    "from sklearn import feature_selection\n",
    "\n",
    "from time import time\n",
    "\n",
    "# Para ser reproducible\n",
    "np.random.seed(42)\n",
    "\n",
    "# No muestra warnings\n",
    "import warnings\n",
    "warnings.filterwarnings('ignore')"
   ]
  },
  {
   "cell_type": "markdown",
   "metadata": {},
   "source": [
    "Utilizaremos el dataset `hitters.csv`, en el cúal se desea predecir el salario `Salary` de un jugador de baseball con base en diferentes estadísticas asociadas al desempeño en los años anteriores.\n",
    "\n",
    "La descripción completa se encuentra a continuación:\n",
    "\n",
    "</head><body>\n",
    "\n",
    "\n",
    "<h2>Baseball Data\n",
    "\n",
    "</h2>\n",
    "\n",
    "<h3>Description</h3>\n",
    "\n",
    "<p>Major League Baseball Data from the 1986 and 1987 seasons.\n",
    "\n",
    "</p>\n",
    "\n",
    "\n",
    "<h3>Format</h3>\n",
    "\n",
    "<p>A data frame with 322 observations of major league players on the following 20 variables.\n",
    "</p>\n",
    "\n",
    "<dl>\n",
    "<dt><code>AtBat</code></dt><dd><p>Number of times at bat in 1986</p>\n",
    "</dd>\n",
    "<dt><code>Hits</code></dt><dd><p>Number of hits in 1986</p>\n",
    "</dd>\n",
    "<dt><code>HmRun</code></dt><dd><p>Number of home runs in 1986</p>\n",
    "</dd>\n",
    "<dt><code>Runs</code></dt><dd><p>Number of runs in 1986</p>\n",
    "</dd>\n",
    "<dt><code>RBI</code></dt><dd><p>Number of runs batted in in 1986</p>\n",
    "</dd>\n",
    "<dt><code>Walks</code></dt><dd><p>Number of walks in 1986</p>\n",
    "</dd>\n",
    "<dt><code>Years</code></dt><dd><p>Number of years in the major leagues</p>\n",
    "</dd>\n",
    "<dt><code>CAtBat</code></dt><dd><p>Number of times at bat during his career</p>\n",
    "</dd>\n",
    "<dt><code>CHits</code></dt><dd><p>Number of hits during his career</p>\n",
    "</dd>\n",
    "<dt><code>CHmRun</code></dt><dd><p>Number of home runs during his career</p>\n",
    "</dd>\n",
    "<dt><code>CRuns</code></dt><dd><p>Number of runs during his career</p>\n",
    "</dd>\n",
    "<dt><code>CRBI</code></dt><dd><p>Number of runs batted in during his career</p>\n",
    "</dd>\n",
    "<dt><code>CWalks</code></dt><dd><p>Number of walks during his career</p>\n",
    "</dd>\n",
    "<dt><code>League</code></dt><dd><p>A factor with levels <code>A</code> and <code>N</code>\n",
    "indicating player's league at the end of 1986</p>\n",
    "</dd>\n",
    "<dt><code>Division</code></dt><dd><p>A factor with levels <code>E</code> and <code>W</code>\n",
    "indicating player's division at the end of 1986</p>\n",
    "</dd>\n",
    "<dt><code>PutOuts</code></dt><dd><p>Number of put outs in 1986</p>\n",
    "</dd>\n",
    "<dt><code>Assists</code></dt><dd><p>Number of assists in 1986</p>\n",
    "</dd>\n",
    "<dt><code>Errors</code></dt><dd><p>Number of errors in 1986</p>\n",
    "</dd>\n",
    "<dt><code>Salary</code></dt><dd><p>1987 annual salary on opening day in thousands of  dollars</p>\n",
    "</dd>\n",
    "<dt><code>NewLeague</code></dt><dd><p>A factor with levels <code>A</code> and <code>N</code>\n",
    "indicating player's league at the beginning of 1987</p>\n",
    "</dd>\n",
    "</dl>\n",
    "\n",
    "</body></html>"
   ]
  },
  {
   "cell_type": "markdown",
   "metadata": {},
   "source": [
    "#### Sólo si vas a usar Colab:"
   ]
  },
  {
   "cell_type": "code",
   "execution_count": 2,
   "metadata": {},
   "outputs": [],
   "source": [
    "# # Aplicar esto solo si vas a usar colab \n",
    "# from google.colab import files\n",
    "\n",
    "# uploaded = files.upload()\n",
    "\n",
    "# for fn in uploaded.keys():\n",
    "#   print('User uploaded file \"{name}\" with length {length} bytes'.format(\n",
    "#       name=fn, length=len(uploaded[fn])))"
   ]
  },
  {
   "cell_type": "code",
   "execution_count": 3,
   "metadata": {},
   "outputs": [
    {
     "name": "stdout",
     "output_type": "stream",
     "text": [
      "<class 'pandas.core.frame.DataFrame'>\n",
      "Index: 263 entries, -Alan Ashby to -Willie Wilson\n",
      "Data columns (total 20 columns):\n",
      " #   Column     Non-Null Count  Dtype  \n",
      "---  ------     --------------  -----  \n",
      " 0   AtBat      263 non-null    int64  \n",
      " 1   Hits       263 non-null    int64  \n",
      " 2   HmRun      263 non-null    int64  \n",
      " 3   Runs       263 non-null    int64  \n",
      " 4   RBI        263 non-null    int64  \n",
      " 5   Walks      263 non-null    int64  \n",
      " 6   Years      263 non-null    int64  \n",
      " 7   CAtBat     263 non-null    int64  \n",
      " 8   CHits      263 non-null    int64  \n",
      " 9   CHmRun     263 non-null    int64  \n",
      " 10  CRuns      263 non-null    int64  \n",
      " 11  CRBI       263 non-null    int64  \n",
      " 12  CWalks     263 non-null    int64  \n",
      " 13  League     263 non-null    object \n",
      " 14  Division   263 non-null    object \n",
      " 15  PutOuts    263 non-null    int64  \n",
      " 16  Assists    263 non-null    int64  \n",
      " 17  Errors     263 non-null    int64  \n",
      " 18  Salary     263 non-null    float64\n",
      " 19  NewLeague  263 non-null    object \n",
      "dtypes: float64(1), int64(16), object(3)\n",
      "memory usage: 43.1+ KB\n"
     ]
    }
   ],
   "source": [
    "#Si usas Colab\n",
    "# df = pd.read_csv('hitters.csv', index_col=0).dropna()\n",
    "\n",
    "#Importando los datos de hitters\n",
    "df = pd.read_csv('data/hitters.csv', index_col=0).dropna()\n",
    "\n",
    "\n",
    "df.index.name = 'Player'\n",
    "df.info()"
   ]
  },
  {
   "cell_type": "code",
   "execution_count": 4,
   "metadata": {
    "scrolled": false
   },
   "outputs": [
    {
     "data": {
      "text/html": [
       "<div>\n",
       "<style scoped>\n",
       "    .dataframe tbody tr th:only-of-type {\n",
       "        vertical-align: middle;\n",
       "    }\n",
       "\n",
       "    .dataframe tbody tr th {\n",
       "        vertical-align: top;\n",
       "    }\n",
       "\n",
       "    .dataframe thead th {\n",
       "        text-align: right;\n",
       "    }\n",
       "</style>\n",
       "<table border=\"1\" class=\"dataframe\">\n",
       "  <thead>\n",
       "    <tr style=\"text-align: right;\">\n",
       "      <th></th>\n",
       "      <th>AtBat</th>\n",
       "      <th>Hits</th>\n",
       "      <th>HmRun</th>\n",
       "      <th>Runs</th>\n",
       "      <th>RBI</th>\n",
       "      <th>Walks</th>\n",
       "      <th>Years</th>\n",
       "      <th>CAtBat</th>\n",
       "      <th>CHits</th>\n",
       "      <th>CHmRun</th>\n",
       "      <th>CRuns</th>\n",
       "      <th>CRBI</th>\n",
       "      <th>CWalks</th>\n",
       "      <th>League</th>\n",
       "      <th>Division</th>\n",
       "      <th>PutOuts</th>\n",
       "      <th>Assists</th>\n",
       "      <th>Errors</th>\n",
       "      <th>Salary</th>\n",
       "      <th>NewLeague</th>\n",
       "    </tr>\n",
       "    <tr>\n",
       "      <th>Player</th>\n",
       "      <th></th>\n",
       "      <th></th>\n",
       "      <th></th>\n",
       "      <th></th>\n",
       "      <th></th>\n",
       "      <th></th>\n",
       "      <th></th>\n",
       "      <th></th>\n",
       "      <th></th>\n",
       "      <th></th>\n",
       "      <th></th>\n",
       "      <th></th>\n",
       "      <th></th>\n",
       "      <th></th>\n",
       "      <th></th>\n",
       "      <th></th>\n",
       "      <th></th>\n",
       "      <th></th>\n",
       "      <th></th>\n",
       "      <th></th>\n",
       "    </tr>\n",
       "  </thead>\n",
       "  <tbody>\n",
       "    <tr>\n",
       "      <th>-Alan Ashby</th>\n",
       "      <td>315</td>\n",
       "      <td>81</td>\n",
       "      <td>7</td>\n",
       "      <td>24</td>\n",
       "      <td>38</td>\n",
       "      <td>39</td>\n",
       "      <td>14</td>\n",
       "      <td>3449</td>\n",
       "      <td>835</td>\n",
       "      <td>69</td>\n",
       "      <td>321</td>\n",
       "      <td>414</td>\n",
       "      <td>375</td>\n",
       "      <td>N</td>\n",
       "      <td>W</td>\n",
       "      <td>632</td>\n",
       "      <td>43</td>\n",
       "      <td>10</td>\n",
       "      <td>475.0</td>\n",
       "      <td>N</td>\n",
       "    </tr>\n",
       "    <tr>\n",
       "      <th>-Alvin Davis</th>\n",
       "      <td>479</td>\n",
       "      <td>130</td>\n",
       "      <td>18</td>\n",
       "      <td>66</td>\n",
       "      <td>72</td>\n",
       "      <td>76</td>\n",
       "      <td>3</td>\n",
       "      <td>1624</td>\n",
       "      <td>457</td>\n",
       "      <td>63</td>\n",
       "      <td>224</td>\n",
       "      <td>266</td>\n",
       "      <td>263</td>\n",
       "      <td>A</td>\n",
       "      <td>W</td>\n",
       "      <td>880</td>\n",
       "      <td>82</td>\n",
       "      <td>14</td>\n",
       "      <td>480.0</td>\n",
       "      <td>A</td>\n",
       "    </tr>\n",
       "    <tr>\n",
       "      <th>-Andre Dawson</th>\n",
       "      <td>496</td>\n",
       "      <td>141</td>\n",
       "      <td>20</td>\n",
       "      <td>65</td>\n",
       "      <td>78</td>\n",
       "      <td>37</td>\n",
       "      <td>11</td>\n",
       "      <td>5628</td>\n",
       "      <td>1575</td>\n",
       "      <td>225</td>\n",
       "      <td>828</td>\n",
       "      <td>838</td>\n",
       "      <td>354</td>\n",
       "      <td>N</td>\n",
       "      <td>E</td>\n",
       "      <td>200</td>\n",
       "      <td>11</td>\n",
       "      <td>3</td>\n",
       "      <td>500.0</td>\n",
       "      <td>N</td>\n",
       "    </tr>\n",
       "    <tr>\n",
       "      <th>-Andres Galarraga</th>\n",
       "      <td>321</td>\n",
       "      <td>87</td>\n",
       "      <td>10</td>\n",
       "      <td>39</td>\n",
       "      <td>42</td>\n",
       "      <td>30</td>\n",
       "      <td>2</td>\n",
       "      <td>396</td>\n",
       "      <td>101</td>\n",
       "      <td>12</td>\n",
       "      <td>48</td>\n",
       "      <td>46</td>\n",
       "      <td>33</td>\n",
       "      <td>N</td>\n",
       "      <td>E</td>\n",
       "      <td>805</td>\n",
       "      <td>40</td>\n",
       "      <td>4</td>\n",
       "      <td>91.5</td>\n",
       "      <td>N</td>\n",
       "    </tr>\n",
       "    <tr>\n",
       "      <th>-Alfredo Griffin</th>\n",
       "      <td>594</td>\n",
       "      <td>169</td>\n",
       "      <td>4</td>\n",
       "      <td>74</td>\n",
       "      <td>51</td>\n",
       "      <td>35</td>\n",
       "      <td>11</td>\n",
       "      <td>4408</td>\n",
       "      <td>1133</td>\n",
       "      <td>19</td>\n",
       "      <td>501</td>\n",
       "      <td>336</td>\n",
       "      <td>194</td>\n",
       "      <td>A</td>\n",
       "      <td>W</td>\n",
       "      <td>282</td>\n",
       "      <td>421</td>\n",
       "      <td>25</td>\n",
       "      <td>750.0</td>\n",
       "      <td>A</td>\n",
       "    </tr>\n",
       "  </tbody>\n",
       "</table>\n",
       "</div>"
      ],
      "text/plain": [
       "                   AtBat  Hits  HmRun  Runs  RBI  Walks  Years  CAtBat  CHits  \\\n",
       "Player                                                                          \n",
       "-Alan Ashby          315    81      7    24   38     39     14    3449    835   \n",
       "-Alvin Davis         479   130     18    66   72     76      3    1624    457   \n",
       "-Andre Dawson        496   141     20    65   78     37     11    5628   1575   \n",
       "-Andres Galarraga    321    87     10    39   42     30      2     396    101   \n",
       "-Alfredo Griffin     594   169      4    74   51     35     11    4408   1133   \n",
       "\n",
       "                   CHmRun  CRuns  CRBI  CWalks League Division  PutOuts  \\\n",
       "Player                                                                    \n",
       "-Alan Ashby            69    321   414     375      N        W      632   \n",
       "-Alvin Davis           63    224   266     263      A        W      880   \n",
       "-Andre Dawson         225    828   838     354      N        E      200   \n",
       "-Andres Galarraga      12     48    46      33      N        E      805   \n",
       "-Alfredo Griffin       19    501   336     194      A        W      282   \n",
       "\n",
       "                   Assists  Errors  Salary NewLeague  \n",
       "Player                                                \n",
       "-Alan Ashby             43      10   475.0         N  \n",
       "-Alvin Davis            82      14   480.0         A  \n",
       "-Andre Dawson           11       3   500.0         N  \n",
       "-Andres Galarraga       40       4    91.5         N  \n",
       "-Alfredo Griffin       421      25   750.0         A  "
      ]
     },
     "execution_count": 4,
     "metadata": {},
     "output_type": "execute_result"
    }
   ],
   "source": [
    "df.head()"
   ]
  },
  {
   "cell_type": "markdown",
   "metadata": {},
   "source": [
    "El dataset contiene variables categóricas, se puede usar el método `get_dummies()` de Pandas para convertir/codificar las variables categóricas a variables *dummy*."
   ]
  },
  {
   "cell_type": "code",
   "execution_count": 5,
   "metadata": {},
   "outputs": [],
   "source": [
    "df = pd.get_dummies(df, drop_first=True)"
   ]
  },
  {
   "cell_type": "code",
   "execution_count": 6,
   "metadata": {},
   "outputs": [
    {
     "data": {
      "text/html": [
       "<div>\n",
       "<style scoped>\n",
       "    .dataframe tbody tr th:only-of-type {\n",
       "        vertical-align: middle;\n",
       "    }\n",
       "\n",
       "    .dataframe tbody tr th {\n",
       "        vertical-align: top;\n",
       "    }\n",
       "\n",
       "    .dataframe thead th {\n",
       "        text-align: right;\n",
       "    }\n",
       "</style>\n",
       "<table border=\"1\" class=\"dataframe\">\n",
       "  <thead>\n",
       "    <tr style=\"text-align: right;\">\n",
       "      <th></th>\n",
       "      <th>CHmRun</th>\n",
       "      <th>CRuns</th>\n",
       "      <th>CRBI</th>\n",
       "      <th>CWalks</th>\n",
       "      <th>PutOuts</th>\n",
       "      <th>Assists</th>\n",
       "      <th>Errors</th>\n",
       "      <th>League_N</th>\n",
       "      <th>Division_W</th>\n",
       "      <th>NewLeague_N</th>\n",
       "    </tr>\n",
       "    <tr>\n",
       "      <th>Player</th>\n",
       "      <th></th>\n",
       "      <th></th>\n",
       "      <th></th>\n",
       "      <th></th>\n",
       "      <th></th>\n",
       "      <th></th>\n",
       "      <th></th>\n",
       "      <th></th>\n",
       "      <th></th>\n",
       "      <th></th>\n",
       "    </tr>\n",
       "  </thead>\n",
       "  <tbody>\n",
       "    <tr>\n",
       "      <th>-Alan Ashby</th>\n",
       "      <td>69.0</td>\n",
       "      <td>321.0</td>\n",
       "      <td>414.0</td>\n",
       "      <td>375.0</td>\n",
       "      <td>632.0</td>\n",
       "      <td>43.0</td>\n",
       "      <td>10.0</td>\n",
       "      <td>1.0</td>\n",
       "      <td>1.0</td>\n",
       "      <td>1.0</td>\n",
       "    </tr>\n",
       "    <tr>\n",
       "      <th>-Alvin Davis</th>\n",
       "      <td>63.0</td>\n",
       "      <td>224.0</td>\n",
       "      <td>266.0</td>\n",
       "      <td>263.0</td>\n",
       "      <td>880.0</td>\n",
       "      <td>82.0</td>\n",
       "      <td>14.0</td>\n",
       "      <td>0.0</td>\n",
       "      <td>1.0</td>\n",
       "      <td>0.0</td>\n",
       "    </tr>\n",
       "    <tr>\n",
       "      <th>-Andre Dawson</th>\n",
       "      <td>225.0</td>\n",
       "      <td>828.0</td>\n",
       "      <td>838.0</td>\n",
       "      <td>354.0</td>\n",
       "      <td>200.0</td>\n",
       "      <td>11.0</td>\n",
       "      <td>3.0</td>\n",
       "      <td>1.0</td>\n",
       "      <td>0.0</td>\n",
       "      <td>1.0</td>\n",
       "    </tr>\n",
       "    <tr>\n",
       "      <th>-Andres Galarraga</th>\n",
       "      <td>12.0</td>\n",
       "      <td>48.0</td>\n",
       "      <td>46.0</td>\n",
       "      <td>33.0</td>\n",
       "      <td>805.0</td>\n",
       "      <td>40.0</td>\n",
       "      <td>4.0</td>\n",
       "      <td>1.0</td>\n",
       "      <td>0.0</td>\n",
       "      <td>1.0</td>\n",
       "    </tr>\n",
       "    <tr>\n",
       "      <th>-Alfredo Griffin</th>\n",
       "      <td>19.0</td>\n",
       "      <td>501.0</td>\n",
       "      <td>336.0</td>\n",
       "      <td>194.0</td>\n",
       "      <td>282.0</td>\n",
       "      <td>421.0</td>\n",
       "      <td>25.0</td>\n",
       "      <td>0.0</td>\n",
       "      <td>1.0</td>\n",
       "      <td>0.0</td>\n",
       "    </tr>\n",
       "    <tr>\n",
       "      <th>-Al Newman</th>\n",
       "      <td>1.0</td>\n",
       "      <td>30.0</td>\n",
       "      <td>9.0</td>\n",
       "      <td>24.0</td>\n",
       "      <td>76.0</td>\n",
       "      <td>127.0</td>\n",
       "      <td>7.0</td>\n",
       "      <td>1.0</td>\n",
       "      <td>0.0</td>\n",
       "      <td>0.0</td>\n",
       "    </tr>\n",
       "  </tbody>\n",
       "</table>\n",
       "</div>"
      ],
      "text/plain": [
       "                   CHmRun  CRuns   CRBI  CWalks  PutOuts  Assists  Errors  \\\n",
       "Player                                                                      \n",
       "-Alan Ashby          69.0  321.0  414.0   375.0    632.0     43.0    10.0   \n",
       "-Alvin Davis         63.0  224.0  266.0   263.0    880.0     82.0    14.0   \n",
       "-Andre Dawson       225.0  828.0  838.0   354.0    200.0     11.0     3.0   \n",
       "-Andres Galarraga    12.0   48.0   46.0    33.0    805.0     40.0     4.0   \n",
       "-Alfredo Griffin     19.0  501.0  336.0   194.0    282.0    421.0    25.0   \n",
       "-Al Newman            1.0   30.0    9.0    24.0     76.0    127.0     7.0   \n",
       "\n",
       "                   League_N  Division_W  NewLeague_N  \n",
       "Player                                                \n",
       "-Alan Ashby             1.0         1.0          1.0  \n",
       "-Alvin Davis            0.0         1.0          0.0  \n",
       "-Andre Dawson           1.0         0.0          1.0  \n",
       "-Andres Galarraga       1.0         0.0          1.0  \n",
       "-Alfredo Griffin        0.0         1.0          0.0  \n",
       "-Al Newman              1.0         0.0          0.0  "
      ]
     },
     "execution_count": 6,
     "metadata": {},
     "output_type": "execute_result"
    }
   ],
   "source": [
    "# Definiendo los predictores y la variable de salida\n",
    "y = df['Salary']\n",
    "\n",
    "# Se elimina la variable respuesta (Salary) y las columnas con las variables categoricas\n",
    "X = df.drop('Salary', axis=1).astype('float64')\n",
    "\n",
    "X.iloc[:6,-10:]"
   ]
  },
  {
   "cell_type": "code",
   "execution_count": 7,
   "metadata": {},
   "outputs": [],
   "source": [
    "# Training, test sets\n",
    "X_train, X_test, y_train, y_test = train_test_split(X,y,test_size=0.25, random_state = 42)"
   ]
  },
  {
   "cell_type": "code",
   "execution_count": 8,
   "metadata": {},
   "outputs": [],
   "source": [
    "scaler = StandardScaler().fit(X_train) # Estandarizando"
   ]
  },
  {
   "cell_type": "markdown",
   "metadata": {
    "heading_collapsed": true
   },
   "source": [
    "## Ejemplo de feature selection\n",
    "Como se describió anteriormente, hay muchos métodos de selección de variables (disponibles en scikit-learn), a continuación se muestra uno (los demás se implementan de forma similar). "
   ]
  },
  {
   "cell_type": "markdown",
   "metadata": {
    "lang": "es"
   },
   "source": [
    "`sklearn.feature _selección.f_ regresión`\n",
    "\n",
    "\n",
    "El proceso se realiza en dos partes:\n",
    "\n",
    "- Se calcula la correlación entre cada regresor y el objetivo, es decir, `((X[:, i] - mean(X[:, i])) * (y - mean_y)) / (std(X[:, i]) * std(y))`.\n",
    "\n",
    "- Se convierte en un F score y luego en un valor p."
   ]
  },
  {
   "cell_type": "code",
   "execution_count": 9,
   "metadata": {
    "hidden": true
   },
   "outputs": [
    {
     "data": {
      "text/html": [
       "<div>\n",
       "<style scoped>\n",
       "    .dataframe tbody tr th:only-of-type {\n",
       "        vertical-align: middle;\n",
       "    }\n",
       "\n",
       "    .dataframe tbody tr th {\n",
       "        vertical-align: top;\n",
       "    }\n",
       "\n",
       "    .dataframe thead th {\n",
       "        text-align: right;\n",
       "    }\n",
       "</style>\n",
       "<table border=\"1\" class=\"dataframe\">\n",
       "  <thead>\n",
       "    <tr style=\"text-align: right;\">\n",
       "      <th></th>\n",
       "      <th>F</th>\n",
       "      <th>pval</th>\n",
       "    </tr>\n",
       "  </thead>\n",
       "  <tbody>\n",
       "    <tr>\n",
       "      <th>AtBat</th>\n",
       "      <td>52.376871</td>\n",
       "      <td>1.026794e-11</td>\n",
       "    </tr>\n",
       "    <tr>\n",
       "      <th>Hits</th>\n",
       "      <td>65.370575</td>\n",
       "      <td>6.431147e-14</td>\n",
       "    </tr>\n",
       "    <tr>\n",
       "      <th>HmRun</th>\n",
       "      <td>32.649269</td>\n",
       "      <td>4.080146e-08</td>\n",
       "    </tr>\n",
       "    <tr>\n",
       "      <th>Runs</th>\n",
       "      <td>53.541186</td>\n",
       "      <td>6.442634e-12</td>\n",
       "    </tr>\n",
       "    <tr>\n",
       "      <th>RBI</th>\n",
       "      <td>56.379522</td>\n",
       "      <td>2.088626e-12</td>\n",
       "    </tr>\n",
       "    <tr>\n",
       "      <th>Walks</th>\n",
       "      <td>52.666576</td>\n",
       "      <td>9.141580e-12</td>\n",
       "    </tr>\n",
       "    <tr>\n",
       "      <th>Years</th>\n",
       "      <td>44.946273</td>\n",
       "      <td>2.129328e-10</td>\n",
       "    </tr>\n",
       "    <tr>\n",
       "      <th>CAtBat</th>\n",
       "      <td>83.550380</td>\n",
       "      <td>8.186523e-17</td>\n",
       "    </tr>\n",
       "    <tr>\n",
       "      <th>CHits</th>\n",
       "      <td>90.224963</td>\n",
       "      <td>7.929481e-18</td>\n",
       "    </tr>\n",
       "    <tr>\n",
       "      <th>CHmRun</th>\n",
       "      <td>69.152690</td>\n",
       "      <td>1.544852e-14</td>\n",
       "    </tr>\n",
       "    <tr>\n",
       "      <th>CRuns</th>\n",
       "      <td>97.364135</td>\n",
       "      <td>6.943755e-19</td>\n",
       "    </tr>\n",
       "    <tr>\n",
       "      <th>CRBI</th>\n",
       "      <td>95.152530</td>\n",
       "      <td>1.466784e-18</td>\n",
       "    </tr>\n",
       "    <tr>\n",
       "      <th>CWalks</th>\n",
       "      <td>74.008136</td>\n",
       "      <td>2.554039e-15</td>\n",
       "    </tr>\n",
       "    <tr>\n",
       "      <th>PutOuts</th>\n",
       "      <td>28.281746</td>\n",
       "      <td>2.858635e-07</td>\n",
       "    </tr>\n",
       "    <tr>\n",
       "      <th>Assists</th>\n",
       "      <td>0.876582</td>\n",
       "      <td>3.502976e-01</td>\n",
       "    </tr>\n",
       "    <tr>\n",
       "      <th>Errors</th>\n",
       "      <td>0.108232</td>\n",
       "      <td>7.425196e-01</td>\n",
       "    </tr>\n",
       "    <tr>\n",
       "      <th>League_N</th>\n",
       "      <td>0.188556</td>\n",
       "      <td>6.646011e-01</td>\n",
       "    </tr>\n",
       "    <tr>\n",
       "      <th>Division_W</th>\n",
       "      <td>6.028362</td>\n",
       "      <td>1.495390e-02</td>\n",
       "    </tr>\n",
       "    <tr>\n",
       "      <th>NewLeague_N</th>\n",
       "      <td>0.363273</td>\n",
       "      <td>5.473943e-01</td>\n",
       "    </tr>\n",
       "  </tbody>\n",
       "</table>\n",
       "</div>"
      ],
      "text/plain": [
       "                     F          pval\n",
       "AtBat        52.376871  1.026794e-11\n",
       "Hits         65.370575  6.431147e-14\n",
       "HmRun        32.649269  4.080146e-08\n",
       "Runs         53.541186  6.442634e-12\n",
       "RBI          56.379522  2.088626e-12\n",
       "Walks        52.666576  9.141580e-12\n",
       "Years        44.946273  2.129328e-10\n",
       "CAtBat       83.550380  8.186523e-17\n",
       "CHits        90.224963  7.929481e-18\n",
       "CHmRun       69.152690  1.544852e-14\n",
       "CRuns        97.364135  6.943755e-19\n",
       "CRBI         95.152530  1.466784e-18\n",
       "CWalks       74.008136  2.554039e-15\n",
       "PutOuts      28.281746  2.858635e-07\n",
       "Assists       0.876582  3.502976e-01\n",
       "Errors        0.108232  7.425196e-01\n",
       "League_N      0.188556  6.646011e-01\n",
       "Division_W    6.028362  1.495390e-02\n",
       "NewLeague_N   0.363273  5.473943e-01"
      ]
     },
     "execution_count": 9,
     "metadata": {},
     "output_type": "execute_result"
    }
   ],
   "source": [
    "# from sklearn import feature_selection\n",
    "F,pval= feature_selection.f_regression(X_train,y_train)\n",
    "pd.DataFrame(np.c_[F,pval], index=X_train.columns, columns=['F', 'pval'])"
   ]
  },
  {
   "cell_type": "markdown",
   "metadata": {
    "hidden": true
   },
   "source": [
    "Cualquier método de selección que produzca un ranking o score (como f_regression) se puede usar conjuntamente con el transformador `sklearn.feature_selection.SelectKBest` para seleccionar un número determinado de variables, que tienen los más altos valores de score."
   ]
  },
  {
   "cell_type": "code",
   "execution_count": 10,
   "metadata": {
    "hidden": true
   },
   "outputs": [],
   "source": [
    "selector = feature_selection.SelectKBest(feature_selection.f_regression, k = 5)\n",
    "X_train_sel = selector.fit_transform(X_train,y_train)"
   ]
  },
  {
   "cell_type": "code",
   "execution_count": 11,
   "metadata": {
    "hidden": true
   },
   "outputs": [
    {
     "data": {
      "text/html": [
       "<div>\n",
       "<style scoped>\n",
       "    .dataframe tbody tr th:only-of-type {\n",
       "        vertical-align: middle;\n",
       "    }\n",
       "\n",
       "    .dataframe tbody tr th {\n",
       "        vertical-align: top;\n",
       "    }\n",
       "\n",
       "    .dataframe thead th {\n",
       "        text-align: right;\n",
       "    }\n",
       "</style>\n",
       "<table border=\"1\" class=\"dataframe\">\n",
       "  <thead>\n",
       "    <tr style=\"text-align: right;\">\n",
       "      <th></th>\n",
       "      <th>CAtBat</th>\n",
       "      <th>CHits</th>\n",
       "      <th>CRuns</th>\n",
       "      <th>CRBI</th>\n",
       "      <th>CWalks</th>\n",
       "    </tr>\n",
       "  </thead>\n",
       "  <tbody>\n",
       "    <tr>\n",
       "      <th>0</th>\n",
       "      <td>342.0</td>\n",
       "      <td>94.0</td>\n",
       "      <td>51.0</td>\n",
       "      <td>44.0</td>\n",
       "      <td>33.0</td>\n",
       "    </tr>\n",
       "    <tr>\n",
       "      <th>1</th>\n",
       "      <td>4739.0</td>\n",
       "      <td>1169.0</td>\n",
       "      <td>583.0</td>\n",
       "      <td>374.0</td>\n",
       "      <td>528.0</td>\n",
       "    </tr>\n",
       "    <tr>\n",
       "      <th>2</th>\n",
       "      <td>2765.0</td>\n",
       "      <td>686.0</td>\n",
       "      <td>369.0</td>\n",
       "      <td>384.0</td>\n",
       "      <td>321.0</td>\n",
       "    </tr>\n",
       "    <tr>\n",
       "      <th>3</th>\n",
       "      <td>1350.0</td>\n",
       "      <td>336.0</td>\n",
       "      <td>166.0</td>\n",
       "      <td>122.0</td>\n",
       "      <td>106.0</td>\n",
       "    </tr>\n",
       "    <tr>\n",
       "      <th>4</th>\n",
       "      <td>2964.0</td>\n",
       "      <td>808.0</td>\n",
       "      <td>379.0</td>\n",
       "      <td>428.0</td>\n",
       "      <td>221.0</td>\n",
       "    </tr>\n",
       "  </tbody>\n",
       "</table>\n",
       "</div>"
      ],
      "text/plain": [
       "   CAtBat   CHits  CRuns   CRBI  CWalks\n",
       "0   342.0    94.0   51.0   44.0    33.0\n",
       "1  4739.0  1169.0  583.0  374.0   528.0\n",
       "2  2765.0   686.0  369.0  384.0   321.0\n",
       "3  1350.0   336.0  166.0  122.0   106.0\n",
       "4  2964.0   808.0  379.0  428.0   221.0"
      ]
     },
     "execution_count": 11,
     "metadata": {},
     "output_type": "execute_result"
    }
   ],
   "source": [
    "sel_index =  selector.get_support() # indice de variables seleccionadas (booleana)\n",
    "pd.DataFrame(X_train_sel, columns = X.columns[sel_index]).head() # Dataframe para visualizar mejor"
   ]
  },
  {
   "cell_type": "code",
   "execution_count": 12,
   "metadata": {
    "hidden": true
   },
   "outputs": [
    {
     "data": {
      "text/plain": [
       "122812.50655266919"
      ]
     },
     "execution_count": 12,
     "metadata": {},
     "output_type": "execute_result"
    }
   ],
   "source": [
    "model = LinearRegression().fit(X_train_sel,y_train)\n",
    "mean_squared_error(y_test, model.predict( selector.transform(X_test) ) )"
   ]
  },
  {
   "cell_type": "markdown",
   "metadata": {
    "hidden": true
   },
   "source": [
    "Mientra el modelo con todas las variables da:"
   ]
  },
  {
   "cell_type": "code",
   "execution_count": 13,
   "metadata": {
    "hidden": true
   },
   "outputs": [
    {
     "data": {
      "text/plain": [
       "127487.05257542132"
      ]
     },
     "execution_count": 13,
     "metadata": {},
     "output_type": "execute_result"
    }
   ],
   "source": [
    "model = LinearRegression().fit(X_train,y_train)\n",
    "mean_squared_error(y_test, model.predict( X_test ) )"
   ]
  },
  {
   "cell_type": "markdown",
   "metadata": {
    "lang": "es"
   },
   "source": [
    "### Feature ranking with recursive feature elimination (RFE)\n",
    "\n",
    "Dado un estimador externo que asigna pesos a los descriptores (por ejemplo, los coeficientes de un modelo lineal), el objetivo de la eliminación de descriptores de forma recursiva (RFE) es seleccionar descriptores considerando recursivamente conjuntos de descriptores cada vez más pequeños. Primero, el estimador se entrena en el conjunto inicial de descriptores y la importancia de cada descriptor se obtiene a través de cualquier atributo específico o invocable. Luego, los descriptores menos importantes se eliminan del conjunto de descriptores actual. Ese procedimiento se repite de forma recursiva en el conjunto recortado hasta que finalmente se alcanza el número deseado de descriptores para seleccionar."
   ]
  },
  {
   "cell_type": "code",
   "execution_count": 14,
   "metadata": {
    "hidden": true
   },
   "outputs": [
    {
     "data": {
      "text/plain": [
       "RFE(estimator=LinearRegression(), n_features_to_select=5)"
      ]
     },
     "execution_count": 14,
     "metadata": {},
     "output_type": "execute_result"
    }
   ],
   "source": [
    "rfe = feature_selection.RFE(LinearRegression(), n_features_to_select=5, step=1)\n",
    "rfe.fit(X_train,y_train)"
   ]
  },
  {
   "cell_type": "code",
   "execution_count": 15,
   "metadata": {
    "hidden": true
   },
   "outputs": [
    {
     "data": {
      "text/plain": [
       "Index(['HmRun', 'Years', 'League_N', 'Division_W', 'NewLeague_N'], dtype='object')"
      ]
     },
     "execution_count": 15,
     "metadata": {},
     "output_type": "execute_result"
    }
   ],
   "source": [
    "X_train.columns[rfe.support_]"
   ]
  },
  {
   "cell_type": "code",
   "execution_count": 16,
   "metadata": {
    "hidden": true
   },
   "outputs": [
    {
     "data": {
      "text/plain": [
       "187548.50582535745"
      ]
     },
     "execution_count": 16,
     "metadata": {},
     "output_type": "execute_result"
    }
   ],
   "source": [
    "model = LinearRegression().fit(rfe.transform(X_train),y_train)\n",
    "mean_squared_error(y_test, model.predict( rfe.transform(X_test) ) )"
   ]
  },
  {
   "cell_type": "markdown",
   "metadata": {
    "hidden": true
   },
   "source": [
    "#### RFE con cross validation"
   ]
  },
  {
   "cell_type": "code",
   "execution_count": 17,
   "metadata": {
    "hidden": true
   },
   "outputs": [
    {
     "data": {
      "text/plain": [
       "Index(['AtBat', 'Hits', 'HmRun', 'Runs', 'Walks', 'Years', 'CRuns', 'Errors',\n",
       "       'League_N', 'Division_W', 'NewLeague_N'],\n",
       "      dtype='object')"
      ]
     },
     "execution_count": 17,
     "metadata": {},
     "output_type": "execute_result"
    }
   ],
   "source": [
    "rfecv = feature_selection.RFECV(LinearRegression(), cv=3)\n",
    "rfecv.fit(X_train,y_train)\n",
    "\n",
    "X_train.columns[rfecv.support_]"
   ]
  },
  {
   "cell_type": "code",
   "execution_count": 18,
   "metadata": {
    "hidden": true
   },
   "outputs": [
    {
     "data": {
      "text/plain": [
       "147973.19369538262"
      ]
     },
     "execution_count": 18,
     "metadata": {},
     "output_type": "execute_result"
    }
   ],
   "source": [
    "model = LinearRegression().fit(rfecv.transform(X_train),y_train)\n",
    "mean_squared_error(y_test, model.predict( rfecv.transform(X_test) ) )"
   ]
  },
  {
   "cell_type": "markdown",
   "metadata": {},
   "source": [
    "## Rigde regression\n",
    "Scikit-learn implementa este método mediante `sklearn.linear_model.Ridge()`. El parámetro `alpha` es equivalente al $\\lambda/2$ de las ecuaciones.\n"
   ]
  },
  {
   "cell_type": "markdown",
   "metadata": {},
   "source": [
    "#### Usando alpha = 4"
   ]
  },
  {
   "cell_type": "code",
   "execution_count": 19,
   "metadata": {},
   "outputs": [
    {
     "data": {
      "text/plain": [
       "133550.1164859964"
      ]
     },
     "execution_count": 19,
     "metadata": {},
     "output_type": "execute_result"
    }
   ],
   "source": [
    "# from sklearn.linear_model import Ridge\n",
    "\n",
    "ridge2 = Ridge(alpha=4) # Se construye el objeto transformador Ridge\n",
    "ridge2.fit(scaler.transform(X_train), y_train) # Se ajusta a los datos estandarizados\n",
    "pred = ridge2.predict(scaler.transform(X_test)) # Se predice el Test set\n",
    "mean_squared_error(y_test, pred) # MSE\n"
   ]
  },
  {
   "cell_type": "code",
   "execution_count": 20,
   "metadata": {},
   "outputs": [
    {
     "data": {
      "text/plain": [
       "AtBat         -138.293204\n",
       "Hits           223.374970\n",
       "HmRun           31.125571\n",
       "Runs            -1.750417\n",
       "RBI            -21.086770\n",
       "Walks           75.375532\n",
       "Years            1.083825\n",
       "CAtBat         -50.999386\n",
       "CHits           72.299634\n",
       "CHmRun          32.773873\n",
       "CRuns          158.945155\n",
       "CRBI            57.062533\n",
       "CWalks         -64.677082\n",
       "PutOuts         80.601412\n",
       "Assists         23.089409\n",
       "Errors         -14.975787\n",
       "League_N        45.262556\n",
       "Division_W     -54.037525\n",
       "NewLeague_N    -18.138427\n",
       "dtype: float64"
      ]
     },
     "execution_count": 20,
     "metadata": {},
     "output_type": "execute_result"
    }
   ],
   "source": [
    "# Visualizando los coeficientes correspondientes a las variables\n",
    "pd.Series(ridge2.coef_, index=X.columns)"
   ]
  },
  {
   "cell_type": "markdown",
   "metadata": {},
   "source": [
    "#### Usando un alpha muy grande: alpha = $10^{10}$"
   ]
  },
  {
   "cell_type": "code",
   "execution_count": 21,
   "metadata": {},
   "outputs": [
    {
     "data": {
      "text/plain": [
       "217382.779974616"
      ]
     },
     "execution_count": 21,
     "metadata": {},
     "output_type": "execute_result"
    }
   ],
   "source": [
    "ridge2 = Ridge(alpha=10**10) # Se construye el objeto transformador Ridge\n",
    "ridge2.fit(scaler.transform(X_train), y_train) # Se ajusta a los datos estandarizados\n",
    "pred = ridge2.predict(scaler.transform(X_test)) # Se predice el Test set\n",
    "mean_squared_error(y_test, pred) # MSE\n"
   ]
  },
  {
   "cell_type": "code",
   "execution_count": 22,
   "metadata": {},
   "outputs": [
    {
     "data": {
      "text/plain": [
       "AtBat          4.032575e-06\n",
       "Hits           4.391243e-06\n",
       "HmRun          3.318913e-06\n",
       "Runs           4.067589e-06\n",
       "RBI            4.150381e-06\n",
       "Walks          4.041346e-06\n",
       "Years          3.792993e-06\n",
       "CAtBat         4.799705e-06\n",
       "CHits          4.929034e-06\n",
       "CHmRun         4.484038e-06\n",
       "CRuns          5.057428e-06\n",
       "CRBI           5.018677e-06\n",
       "CWalks         4.596733e-06\n",
       "PutOuts        3.119024e-06\n",
       "Assists        5.862695e-07\n",
       "Errors         2.064103e-07\n",
       "League_N       2.723865e-07\n",
       "Division_W    -1.517621e-06\n",
       "NewLeague_N    3.779092e-07\n",
       "dtype: float64"
      ]
     },
     "execution_count": 22,
     "metadata": {},
     "output_type": "execute_result"
    }
   ],
   "source": [
    "# Visualizando los coeficientes correspondientes a las variables\n",
    "pd.Series(ridge2.coef_, index=X.columns)"
   ]
  },
  {
   "cell_type": "markdown",
   "metadata": {},
   "source": [
    "#### Visualizando los coeficientes para un amplio rango de alphas desde $10^{-2}$ hasta $10^{10}$"
   ]
  },
  {
   "cell_type": "code",
   "execution_count": 23,
   "metadata": {},
   "outputs": [
    {
     "data": {
      "image/png": "[encoded data removed]",
      "text/plain": [
       "<Figure size 432x288 with 1 Axes>"
      ]
     },
     "metadata": {
      "needs_background": "light"
     },
     "output_type": "display_data"
    }
   ],
   "source": [
    "# Creando los valores de alpha\n",
    "alphas = 10**np.linspace(10,-2,100)\n",
    "\n",
    "ridge = Ridge() # Construye el objeto\n",
    "coefs = []  # lista vacia para almacenar los coeficientes\n",
    "\n",
    "# Bucle para ajustar sucesivamente el Rige sobre X\n",
    "for a in alphas:\n",
    "    ridge.set_params(alpha=a) # utilizando el metodo set_params para cambiar alpha\n",
    "    ridge.fit(scaler.transform(X_train), y_train)\n",
    "    coefs.append(ridge.coef_)\n",
    "\n",
    "# Graficando los coeficientes\n",
    "ax = plt.gca()\n",
    "ax.plot(alphas, coefs)\n",
    "ax.set_xscale('log')\n",
    "ax.set_xlim(ax.get_xlim()[::-1])  # invierte el eje\n",
    "plt.axis('tight')\n",
    "plt.xlabel('alpha')\n",
    "plt.ylabel('weights')\n",
    "plt.title('Coeficientes de la regresion Ridge Vs el parametro de regularizacion');"
   ]
  },
  {
   "cell_type": "markdown",
   "metadata": {},
   "source": [
    "#### Usando `sklearn.linear_model.RidgeCV` para encontrar la mejor regularización usando Ridge regression y validación cruzada"
   ]
  },
  {
   "cell_type": "code",
   "execution_count": 24,
   "metadata": {},
   "outputs": [
    {
     "data": {
      "text/plain": [
       "RidgeCV(alphas=array([1.00000000e+10, 7.56463328e+09, 5.72236766e+09, 4.32876128e+09,\n",
       "       3.27454916e+09, 2.47707636e+09, 1.87381742e+09, 1.41747416e+09,\n",
       "       1.07226722e+09, 8.11130831e+08, 6.13590727e+08, 4.64158883e+08,\n",
       "       3.51119173e+08, 2.65608778e+08, 2.00923300e+08, 1.51991108e+08,\n",
       "       1.14975700e+08, 8.69749003e+07, 6.57933225e+07, 4.97702356e+07,\n",
       "       3.76493581e+07, 2.84803587e+0...\n",
       "       6.13590727e+00, 4.64158883e+00, 3.51119173e+00, 2.65608778e+00,\n",
       "       2.00923300e+00, 1.51991108e+00, 1.14975700e+00, 8.69749003e-01,\n",
       "       6.57933225e-01, 4.97702356e-01, 3.76493581e-01, 2.84803587e-01,\n",
       "       2.15443469e-01, 1.62975083e-01, 1.23284674e-01, 9.32603347e-02,\n",
       "       7.05480231e-02, 5.33669923e-02, 4.03701726e-02, 3.05385551e-02,\n",
       "       2.31012970e-02, 1.74752840e-02, 1.32194115e-02, 1.00000000e-02]),\n",
       "        cv=5, scoring='neg_mean_squared_error')"
      ]
     },
     "execution_count": 24,
     "metadata": {},
     "output_type": "execute_result"
    }
   ],
   "source": [
    "# from sklearn.linear_model import RidgeCV\n",
    "\n",
    "# Creando el objeto\n",
    "ridgecv = RidgeCV(alphas=alphas, cv=5, scoring='neg_mean_squared_error')\n",
    "ridgecv.fit(scaler.transform(X_train), y_train) # Ajustando al Training set"
   ]
  },
  {
   "cell_type": "code",
   "execution_count": 25,
   "metadata": {},
   "outputs": [
    {
     "data": {
      "text/plain": [
       "100.0"
      ]
     },
     "execution_count": 25,
     "metadata": {},
     "output_type": "execute_result"
    }
   ],
   "source": [
    "ridgecv.alpha_ # El mejor alpha"
   ]
  },
  {
   "cell_type": "code",
   "execution_count": 26,
   "metadata": {},
   "outputs": [
    {
     "data": {
      "text/plain": [
       "148782.52194853217"
      ]
     },
     "execution_count": 26,
     "metadata": {},
     "output_type": "execute_result"
    }
   ],
   "source": [
    "# Prediccion sobre el Test set\n",
    "ridge2 = Ridge(alpha=ridgecv.alpha_)\n",
    "ridge2.fit(scaler.transform(X_train), y_train)\n",
    "mean_squared_error(y_test, ridge2.predict(scaler.transform(X_test)))"
   ]
  },
  {
   "cell_type": "markdown",
   "metadata": {},
   "source": [
    "## The Lasso\n",
    "Scikit-learn implementa este método mediante `sklearn.linear_model.Lasso`. En este caso, `alpha` es igual a $\\lambda$"
   ]
  },
  {
   "cell_type": "markdown",
   "metadata": {},
   "source": [
    "#### Graficando los coeficientes para un amplio rango de alphas"
   ]
  },
  {
   "cell_type": "code",
   "execution_count": 27,
   "metadata": {},
   "outputs": [
    {
     "data": {
      "image/png": "[encoded data removed]",
      "text/plain": [
       "<Figure size 432x288 with 1 Axes>"
      ]
     },
     "metadata": {
      "needs_background": "light"
     },
     "output_type": "display_data"
    }
   ],
   "source": [
    "# from sklearn.linear_model import Lasso, LassoCV\n",
    "\n",
    "# Creando los valores de alpha\n",
    "alphas = 10**np.linspace(10,-2,100)\n",
    "\n",
    "lasso = Lasso(max_iter=10000) # Creando el objeto\n",
    "coefs = [] # Lista vacia para adherir los valores\n",
    "\n",
    "for a in alphas:\n",
    "    lasso.set_params(alpha=a) # utiliza el metodo set_params para cambiar el parametro\n",
    "    lasso.fit(scaler.transform(X_train), y_train)\n",
    "    coefs.append(lasso.coef_)\n",
    "\n",
    "# Grafica de los coeficientes vs alpha\n",
    "ax = plt.gca()\n",
    "ax.plot(alphas*2, coefs)\n",
    "ax.set_xscale('log')\n",
    "ax.set_xlim(ax.get_xlim()[::-1])  # invierte el eje\n",
    "plt.axis('tight')\n",
    "plt.xlabel('alpha')\n",
    "plt.ylabel('weights')\n",
    "plt.title('Coeficientes de Lasso Vs alpha');"
   ]
  },
  {
   "cell_type": "markdown",
   "metadata": {},
   "source": [
    "#### Usando la clase `sklearn.linear_model.LassoCV` para estimar la mejor regularización (mejor alpha)"
   ]
  },
  {
   "cell_type": "code",
   "execution_count": 28,
   "metadata": {},
   "outputs": [
    {
     "data": {
      "text/plain": [
       "LassoCV(alphas=array([1.00000000e+10, 7.56463328e+09, 5.72236766e+09, 4.32876128e+09,\n",
       "       3.27454916e+09, 2.47707636e+09, 1.87381742e+09, 1.41747416e+09,\n",
       "       1.07226722e+09, 8.11130831e+08, 6.13590727e+08, 4.64158883e+08,\n",
       "       3.51119173e+08, 2.65608778e+08, 2.00923300e+08, 1.51991108e+08,\n",
       "       1.14975700e+08, 8.69749003e+07, 6.57933225e+07, 4.97702356e+07,\n",
       "       3.76493581e+07, 2.84803587e+0...\n",
       "       6.13590727e+00, 4.64158883e+00, 3.51119173e+00, 2.65608778e+00,\n",
       "       2.00923300e+00, 1.51991108e+00, 1.14975700e+00, 8.69749003e-01,\n",
       "       6.57933225e-01, 4.97702356e-01, 3.76493581e-01, 2.84803587e-01,\n",
       "       2.15443469e-01, 1.62975083e-01, 1.23284674e-01, 9.32603347e-02,\n",
       "       7.05480231e-02, 5.33669923e-02, 4.03701726e-02, 3.05385551e-02,\n",
       "       2.31012970e-02, 1.74752840e-02, 1.32194115e-02, 1.00000000e-02]),\n",
       "        cv=10, max_iter=10000)"
      ]
     },
     "execution_count": 28,
     "metadata": {},
     "output_type": "execute_result"
    }
   ],
   "source": [
    "# Construccion del objeto LassoCV y ajuste\n",
    "lassocv = LassoCV(alphas=alphas, cv=10, max_iter=10000)\n",
    "lassocv.fit(scaler.transform(X_train), y_train)"
   ]
  },
  {
   "cell_type": "code",
   "execution_count": 29,
   "metadata": {},
   "outputs": [
    {
     "data": {
      "text/plain": [
       "4.641588833612772"
      ]
     },
     "execution_count": 29,
     "metadata": {},
     "output_type": "execute_result"
    }
   ],
   "source": [
    "# Mejor valor de alpha\n",
    "lassocv.alpha_"
   ]
  },
  {
   "cell_type": "code",
   "execution_count": 30,
   "metadata": {},
   "outputs": [
    {
     "data": {
      "text/plain": [
       "142037.4474388661"
      ]
     },
     "execution_count": 30,
     "metadata": {},
     "output_type": "execute_result"
    }
   ],
   "source": [
    "# Prediccion sobre el Test set\n",
    "lasso = Lasso(alpha=lassocv.alpha_)\n",
    "lasso.fit(scaler.transform(X_train), y_train)\n",
    "mean_squared_error(y_test, lasso.predict(scaler.transform(X_test)))"
   ]
  },
  {
   "cell_type": "markdown",
   "metadata": {},
   "source": [
    "Algunos de los coeficientes se reducen exactamente a cero:"
   ]
  },
  {
   "cell_type": "code",
   "execution_count": 31,
   "metadata": {},
   "outputs": [
    {
     "data": {
      "text/plain": [
       "AtBat          -94.667974\n",
       "Hits           199.327413\n",
       "HmRun           10.457444\n",
       "Runs             0.000000\n",
       "RBI              0.000000\n",
       "Walks           50.480673\n",
       "Years            0.000000\n",
       "CAtBat           0.000000\n",
       "CHits            0.000000\n",
       "CHmRun          10.257145\n",
       "CRuns          143.655609\n",
       "CRBI            53.063756\n",
       "CWalks          -0.000000\n",
       "PutOuts         75.676555\n",
       "Assists          0.000000\n",
       "Errors          -2.784442\n",
       "League_N        24.792569\n",
       "Division_W     -49.401708\n",
       "NewLeague_N     -0.000000\n",
       "dtype: float64"
      ]
     },
     "execution_count": 31,
     "metadata": {},
     "output_type": "execute_result"
    }
   ],
   "source": [
    "pd.Series(lasso.coef_, index=X.columns)"
   ]
  },
  {
   "cell_type": "markdown",
   "metadata": {},
   "source": [
    "### Combinando *feature_selection* y Lasso (CV)\n",
    "Utilizaremos la regresión Lasso con cross validation y `sklearn.feature_selection.SelectFromModel`, que utiliza los coeficientes o importancias de un modelo para seleccionar las variables más importantes"
   ]
  },
  {
   "cell_type": "code",
   "execution_count": 32,
   "metadata": {},
   "outputs": [
    {
     "data": {
      "text/plain": [
       "Index(['Hits', 'Walks', 'CAtBat', 'CHits', 'CRuns', 'CRBI', 'PutOuts'], dtype='object')"
      ]
     },
     "execution_count": 32,
     "metadata": {},
     "output_type": "execute_result"
    }
   ],
   "source": [
    "modelo = LassoCV(cv=5)\n",
    "sfm = feature_selection.SelectFromModel(modelo, max_features=7)\n",
    "sfm.fit(X_train,y_train)\n",
    "\n",
    "X_train.columns[sfm.get_support()]"
   ]
  },
  {
   "cell_type": "code",
   "execution_count": 33,
   "metadata": {},
   "outputs": [
    {
     "data": {
      "text/plain": [
       "138203.70008062068"
      ]
     },
     "execution_count": 33,
     "metadata": {},
     "output_type": "execute_result"
    }
   ],
   "source": [
    "model = LinearRegression()\n",
    "model.fit(sfm.transform(X_train), y_train)\n",
    "\n",
    "mean_squared_error(y_test, model.predict(sfm.transform(X_test)))"
   ]
  },
  {
   "cell_type": "markdown",
   "metadata": {},
   "source": [
    "## Principal Component Analysis (PCA) + Regression (PCR)\n",
    "Para usar la regresión con PCA, se debe utilizar primero la clase `sklearn.decomposition.PCA`, y luego usar la regresión (o la clasificación). Como siempre, es importante leer [la documentación de esta implementación](http://scikit-learn.org/stable/modules/generated/sklearn.decomposition.PCA.html#sklearn.decomposition.PCA).\n",
    "\n",
    "A continuación se muestra la implementación con el ejemplo del dataset `hitters.csv`."
   ]
  },
  {
   "cell_type": "code",
   "execution_count": 34,
   "metadata": {},
   "outputs": [],
   "source": [
    "# from sklearn.decomposition import PCA\n",
    "pca = PCA() # Se instancia el objeto PCA\n",
    "X_reduced = pca.fit_transform(scaler.transform(X_train)) # Se ajusta y transforma"
   ]
  },
  {
   "cell_type": "markdown",
   "metadata": {},
   "source": [
    "Se pueden ver los coeficientes de la transformación de PCA (loadings), mediante el atributo `components`. En donde las filas indican las componentes principales y las columnas los predictores. "
   ]
  },
  {
   "cell_type": "code",
   "execution_count": 35,
   "metadata": {},
   "outputs": [
    {
     "data": {
      "text/html": [
       "<div>\n",
       "<style scoped>\n",
       "    .dataframe tbody tr th:only-of-type {\n",
       "        vertical-align: middle;\n",
       "    }\n",
       "\n",
       "    .dataframe tbody tr th {\n",
       "        vertical-align: top;\n",
       "    }\n",
       "\n",
       "    .dataframe thead th {\n",
       "        text-align: right;\n",
       "    }\n",
       "</style>\n",
       "<table border=\"1\" class=\"dataframe\">\n",
       "  <thead>\n",
       "    <tr style=\"text-align: right;\">\n",
       "      <th></th>\n",
       "      <th>0</th>\n",
       "      <th>1</th>\n",
       "      <th>2</th>\n",
       "      <th>3</th>\n",
       "      <th>4</th>\n",
       "      <th>5</th>\n",
       "      <th>6</th>\n",
       "      <th>7</th>\n",
       "      <th>8</th>\n",
       "      <th>9</th>\n",
       "      <th>10</th>\n",
       "      <th>11</th>\n",
       "      <th>12</th>\n",
       "      <th>13</th>\n",
       "      <th>14</th>\n",
       "      <th>15</th>\n",
       "      <th>16</th>\n",
       "      <th>17</th>\n",
       "      <th>18</th>\n",
       "    </tr>\n",
       "  </thead>\n",
       "  <tbody>\n",
       "    <tr>\n",
       "      <th>0</th>\n",
       "      <td>0.203737</td>\n",
       "      <td>0.200187</td>\n",
       "      <td>0.203885</td>\n",
       "      <td>0.197891</td>\n",
       "      <td>0.231828</td>\n",
       "      <td>0.202316</td>\n",
       "      <td>0.284603</td>\n",
       "      <td>0.330960</td>\n",
       "      <td>0.329623</td>\n",
       "      <td>0.317721</td>\n",
       "      <td>0.337407</td>\n",
       "      <td>0.341718</td>\n",
       "      <td>0.319809</td>\n",
       "      <td>0.091859</td>\n",
       "      <td>0.018099</td>\n",
       "      <td>0.003750</td>\n",
       "      <td>-0.026324</td>\n",
       "      <td>-0.018389</td>\n",
       "      <td>-0.013303</td>\n",
       "    </tr>\n",
       "    <tr>\n",
       "      <th>1</th>\n",
       "      <td>-0.375648</td>\n",
       "      <td>-0.370802</td>\n",
       "      <td>-0.243882</td>\n",
       "      <td>-0.377751</td>\n",
       "      <td>-0.318459</td>\n",
       "      <td>-0.248750</td>\n",
       "      <td>0.263340</td>\n",
       "      <td>0.196909</td>\n",
       "      <td>0.190294</td>\n",
       "      <td>0.127434</td>\n",
       "      <td>0.179959</td>\n",
       "      <td>0.169981</td>\n",
       "      <td>0.190372</td>\n",
       "      <td>-0.172118</td>\n",
       "      <td>-0.141606</td>\n",
       "      <td>-0.169890</td>\n",
       "      <td>0.105627</td>\n",
       "      <td>0.041755</td>\n",
       "      <td>0.079970</td>\n",
       "    </tr>\n",
       "    <tr>\n",
       "      <th>2</th>\n",
       "      <td>0.101610</td>\n",
       "      <td>0.086380</td>\n",
       "      <td>-0.222667</td>\n",
       "      <td>-0.027000</td>\n",
       "      <td>-0.061047</td>\n",
       "      <td>0.016328</td>\n",
       "      <td>0.022530</td>\n",
       "      <td>0.068042</td>\n",
       "      <td>0.070681</td>\n",
       "      <td>-0.110747</td>\n",
       "      <td>0.027360</td>\n",
       "      <td>0.000046</td>\n",
       "      <td>0.011444</td>\n",
       "      <td>0.067403</td>\n",
       "      <td>0.411553</td>\n",
       "      <td>0.387311</td>\n",
       "      <td>0.539297</td>\n",
       "      <td>0.004790</td>\n",
       "      <td>0.538369</td>\n",
       "    </tr>\n",
       "    <tr>\n",
       "      <th>3</th>\n",
       "      <td>0.061654</td>\n",
       "      <td>0.044894</td>\n",
       "      <td>-0.230924</td>\n",
       "      <td>-0.047192</td>\n",
       "      <td>-0.113972</td>\n",
       "      <td>-0.137203</td>\n",
       "      <td>0.094997</td>\n",
       "      <td>0.092290</td>\n",
       "      <td>0.084486</td>\n",
       "      <td>-0.072172</td>\n",
       "      <td>0.062842</td>\n",
       "      <td>0.003971</td>\n",
       "      <td>0.012135</td>\n",
       "      <td>-0.273596</td>\n",
       "      <td>0.516769</td>\n",
       "      <td>0.416333</td>\n",
       "      <td>-0.406623</td>\n",
       "      <td>0.109840</td>\n",
       "      <td>-0.424464</td>\n",
       "    </tr>\n",
       "    <tr>\n",
       "      <th>4</th>\n",
       "      <td>0.007336</td>\n",
       "      <td>-0.018347</td>\n",
       "      <td>0.167013</td>\n",
       "      <td>-0.037958</td>\n",
       "      <td>0.077289</td>\n",
       "      <td>-0.068942</td>\n",
       "      <td>-0.012798</td>\n",
       "      <td>-0.006108</td>\n",
       "      <td>-0.007833</td>\n",
       "      <td>0.064001</td>\n",
       "      <td>-0.032641</td>\n",
       "      <td>0.026477</td>\n",
       "      <td>-0.065184</td>\n",
       "      <td>0.034618</td>\n",
       "      <td>-0.086009</td>\n",
       "      <td>0.079791</td>\n",
       "      <td>0.042666</td>\n",
       "      <td>0.964266</td>\n",
       "      <td>0.050824</td>\n",
       "    </tr>\n",
       "  </tbody>\n",
       "</table>\n",
       "</div>"
      ],
      "text/plain": [
       "         0         1         2         3         4         5         6   \\\n",
       "0  0.203737  0.200187  0.203885  0.197891  0.231828  0.202316  0.284603   \n",
       "1 -0.375648 -0.370802 -0.243882 -0.377751 -0.318459 -0.248750  0.263340   \n",
       "2  0.101610  0.086380 -0.222667 -0.027000 -0.061047  0.016328  0.022530   \n",
       "3  0.061654  0.044894 -0.230924 -0.047192 -0.113972 -0.137203  0.094997   \n",
       "4  0.007336 -0.018347  0.167013 -0.037958  0.077289 -0.068942 -0.012798   \n",
       "\n",
       "         7         8         9         10        11        12        13  \\\n",
       "0  0.330960  0.329623  0.317721  0.337407  0.341718  0.319809  0.091859   \n",
       "1  0.196909  0.190294  0.127434  0.179959  0.169981  0.190372 -0.172118   \n",
       "2  0.068042  0.070681 -0.110747  0.027360  0.000046  0.011444  0.067403   \n",
       "3  0.092290  0.084486 -0.072172  0.062842  0.003971  0.012135 -0.273596   \n",
       "4 -0.006108 -0.007833  0.064001 -0.032641  0.026477 -0.065184  0.034618   \n",
       "\n",
       "         14        15        16        17        18  \n",
       "0  0.018099  0.003750 -0.026324 -0.018389 -0.013303  \n",
       "1 -0.141606 -0.169890  0.105627  0.041755  0.079970  \n",
       "2  0.411553  0.387311  0.539297  0.004790  0.538369  \n",
       "3  0.516769  0.416333 -0.406623  0.109840 -0.424464  \n",
       "4 -0.086009  0.079791  0.042666  0.964266  0.050824  "
      ]
     },
     "execution_count": 35,
     "metadata": {},
     "output_type": "execute_result"
    }
   ],
   "source": [
    "pd.DataFrame(pca.components_).head()"
   ]
  },
  {
   "cell_type": "markdown",
   "metadata": {},
   "source": [
    "Las componentes principales se encuentran directamente al realizar la transformación:"
   ]
  },
  {
   "cell_type": "code",
   "execution_count": 36,
   "metadata": {},
   "outputs": [
    {
     "name": "stdout",
     "output_type": "stream",
     "text": [
      "(197, 19)\n"
     ]
    },
    {
     "data": {
      "text/html": [
       "<div>\n",
       "<style scoped>\n",
       "    .dataframe tbody tr th:only-of-type {\n",
       "        vertical-align: middle;\n",
       "    }\n",
       "\n",
       "    .dataframe tbody tr th {\n",
       "        vertical-align: top;\n",
       "    }\n",
       "\n",
       "    .dataframe thead th {\n",
       "        text-align: right;\n",
       "    }\n",
       "</style>\n",
       "<table border=\"1\" class=\"dataframe\">\n",
       "  <thead>\n",
       "    <tr style=\"text-align: right;\">\n",
       "      <th></th>\n",
       "      <th>0</th>\n",
       "      <th>1</th>\n",
       "      <th>2</th>\n",
       "      <th>3</th>\n",
       "      <th>4</th>\n",
       "      <th>5</th>\n",
       "    </tr>\n",
       "  </thead>\n",
       "  <tbody>\n",
       "    <tr>\n",
       "      <th>0</th>\n",
       "      <td>-2.495699</td>\n",
       "      <td>-0.337762</td>\n",
       "      <td>0.706392</td>\n",
       "      <td>-1.327910</td>\n",
       "      <td>-0.821824</td>\n",
       "      <td>-0.662791</td>\n",
       "    </tr>\n",
       "    <tr>\n",
       "      <th>1</th>\n",
       "      <td>1.570741</td>\n",
       "      <td>-0.626414</td>\n",
       "      <td>3.188770</td>\n",
       "      <td>1.162120</td>\n",
       "      <td>-1.539129</td>\n",
       "      <td>-0.618155</td>\n",
       "    </tr>\n",
       "    <tr>\n",
       "      <th>2</th>\n",
       "      <td>1.500092</td>\n",
       "      <td>-1.721489</td>\n",
       "      <td>-1.684486</td>\n",
       "      <td>-0.099636</td>\n",
       "      <td>1.134993</td>\n",
       "      <td>-0.353442</td>\n",
       "    </tr>\n",
       "    <tr>\n",
       "      <th>3</th>\n",
       "      <td>-2.494618</td>\n",
       "      <td>1.294797</td>\n",
       "      <td>-0.873011</td>\n",
       "      <td>1.381862</td>\n",
       "      <td>-1.253936</td>\n",
       "      <td>0.335756</td>\n",
       "    </tr>\n",
       "    <tr>\n",
       "      <th>4</th>\n",
       "      <td>-0.365453</td>\n",
       "      <td>1.675085</td>\n",
       "      <td>0.672585</td>\n",
       "      <td>-0.886890</td>\n",
       "      <td>1.002163</td>\n",
       "      <td>-0.549679</td>\n",
       "    </tr>\n",
       "  </tbody>\n",
       "</table>\n",
       "</div>"
      ],
      "text/plain": [
       "          0         1         2         3         4         5\n",
       "0 -2.495699 -0.337762  0.706392 -1.327910 -0.821824 -0.662791\n",
       "1  1.570741 -0.626414  3.188770  1.162120 -1.539129 -0.618155\n",
       "2  1.500092 -1.721489 -1.684486 -0.099636  1.134993 -0.353442\n",
       "3 -2.494618  1.294797 -0.873011  1.381862 -1.253936  0.335756\n",
       "4 -0.365453  1.675085  0.672585 -0.886890  1.002163 -0.549679"
      ]
     },
     "execution_count": 36,
     "metadata": {},
     "output_type": "execute_result"
    }
   ],
   "source": [
    "print(X_reduced.shape)\n",
    "pd.DataFrame(X_reduced).loc[:4,:5]"
   ]
  },
  {
   "cell_type": "markdown",
   "metadata": {},
   "source": [
    "Se puede determinar la varianza explicada acumulada a través de las componentes:"
   ]
  },
  {
   "cell_type": "code",
   "execution_count": 37,
   "metadata": {},
   "outputs": [
    {
     "name": "stdout",
     "output_type": "stream",
     "text": [
      "[38.18 59.88 70.88 78.88 84.18 88.45 92.05 94.86 96.34 97.28 98.01 98.68\n",
      " 99.18 99.49 99.74 99.9  99.96 99.98 99.99]\n"
     ]
    }
   ],
   "source": [
    "porcentaje_var_acumulada = np.cumsum(np.round(pca.explained_variance_ratio_, decimals=4)*100)\n",
    "print(porcentaje_var_acumulada)"
   ]
  },
  {
   "cell_type": "code",
   "execution_count": 38,
   "metadata": {},
   "outputs": [
    {
     "data": {
      "text/plain": [
       "(array([0, 1, 2, 3, 4, 5, 6, 7, 8, 9], dtype=int64),)"
      ]
     },
     "execution_count": 38,
     "metadata": {},
     "output_type": "execute_result"
    }
   ],
   "source": [
    "np.where(porcentaje_var_acumulada<98)"
   ]
  },
  {
   "cell_type": "markdown",
   "metadata": {},
   "source": [
    "### Encontrando el número de componentes principales adecuado usando validación cruzada"
   ]
  },
  {
   "cell_type": "code",
   "execution_count": 39,
   "metadata": {},
   "outputs": [
    {
     "data": {
      "image/png": "[encoded data removed]",
      "text/plain": [
       "<Figure size 432x288 with 1 Axes>"
      ]
     },
     "metadata": {
      "needs_background": "light"
     },
     "output_type": "display_data"
    }
   ],
   "source": [
    "# 10-fold cross validation aleatorio\n",
    "n = len(X_reduced)\n",
    "kf_10 = KFold(n_splits=10, shuffle=True, random_state=42)\n",
    "\n",
    "regr = LinearRegression()\n",
    "mse = []\n",
    "\n",
    "# Calcula el MSE usando validacion cruzada para las 19 componentes principales,\n",
    "# anyadiendo una a la vez\n",
    "for i in np.arange(1, 20):\n",
    "    score = -1*cross_val_score(regr, X_reduced[:,:i], y_train.ravel(),\n",
    "                               cv=kf_10, scoring='neg_mean_squared_error').mean()\n",
    "    mse.append(score)\n",
    "\n",
    "   \n",
    "plt.plot(range(1,20), mse, '-v')\n",
    "plt.xlabel('Número de componentes principales en regresión')\n",
    "plt.ylabel('MSE')\n",
    "plt.title('Salary')\n",
    "plt.xticks(range(1,20))\n",
    "plt.show()"
   ]
  },
  {
   "cell_type": "code",
   "execution_count": 40,
   "metadata": {},
   "outputs": [
    {
     "data": {
      "text/plain": [
       "4"
      ]
     },
     "execution_count": 40,
     "metadata": {},
     "output_type": "execute_result"
    }
   ],
   "source": [
    "np.argmin(mse) # Obtiene la posicion del minimo"
   ]
  },
  {
   "cell_type": "markdown",
   "metadata": {},
   "source": [
    "El mejor resultado se obtiene con 5 componentes principales. Ahora, se realizara la regresión sobre el Test set, usando sólo este número de componentes."
   ]
  },
  {
   "cell_type": "code",
   "execution_count": 41,
   "metadata": {
    "scrolled": true
   },
   "outputs": [
    {
     "data": {
      "text/plain": [
       "153337.2367629326"
      ]
     },
     "execution_count": 41,
     "metadata": {},
     "output_type": "execute_result"
    }
   ],
   "source": [
    "# Transformando el Test set con PCA y seleccionando solo 5  componentes\n",
    "X_reduced_test = pca.transform(scaler.transform(X_test))[:,:5]\n",
    "\n",
    "# Entrenando el modelo, usando solo 5 componentes principales\n",
    "regr = LinearRegression()\n",
    "regr.fit(X_reduced[:,:5], y_train)\n",
    "\n",
    "# Prediccion con el conjunto de prueba\n",
    "pred = regr.predict(X_reduced_test)\n",
    "mean_squared_error(y_test, pred)"
   ]
  }
 ],
 "metadata": {
  "anaconda-cloud": {},
  "kernelspec": {
   "display_name": "Python 3",
   "language": "python",
   "name": "python3"
  },
  "language_info": {
   "codemirror_mode": {
    "name": "ipython",
    "version": 3
   },
   "file_extension": ".py",
   "mimetype": "text/x-python",
   "name": "python",
   "nbconvert_exporter": "python",
   "pygments_lexer": "ipython3",
   "version": "3.9.6"
  },
  "nbTranslate": {
   "displayLangs": [
    "es"
   ],
   "hotkey": "alt-t",
   "langInMainMenu": true,
   "sourceLang": "en",
   "targetLang": "es",
   "useGoogleTranslate": true
  },
  "varInspector": {
   "cols": {
    "lenName": 16,
    "lenType": 16,
    "lenVar": 40
   },
   "kernels_config": {
    "python": {
     "delete_cmd_postfix": "",
     "delete_cmd_prefix": "del ",
     "library": "var_list.py",
     "varRefreshCmd": "print(var_dic_list())"
    },
    "r": {
     "delete_cmd_postfix": ") ",
     "delete_cmd_prefix": "rm(",
     "library": "var_list.r",
     "varRefreshCmd": "cat(var_dic_list()) "
    }
   },
   "types_to_exclude": [
    "module",
    "function",
    "builtin_function_or_method",
    "instance",
    "_Feature"
   ],
   "window_display": false
  }
 },
 "nbformat": 4,
 "nbformat_minor": 2
}
