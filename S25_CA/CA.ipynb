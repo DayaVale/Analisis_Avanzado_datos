{
 "cells": [
  {
   "cell_type": "markdown",
   "metadata": {
    "lang": "es"
   },
   "source": [
    "# Análisis de correspondencia"
   ]
  },
  {
   "cell_type": "markdown",
   "metadata": {
    "lang": "es"
   },
   "source": [
    "A menudo descrito como \"el análogo categórico de PCA\", el análisis de correspondencia es una técnica de reducción de dimensiones que describe la relación y distribución entre dos variables categóricas."
   ]
  },
  {
   "cell_type": "markdown",
   "metadata": {
    "lang": "es"
   },
   "source": [
    "## Intuición"
   ]
  },
  {
   "cell_type": "markdown",
   "metadata": {
    "lang": "es"
   },
   "source": [
    "Para empezar, este análisis asume que nuestros datos se preparan como una tabulación cruzada de dos variables categóricas. En la siguiente ilustración, hay $n$ registros, cada uno con dos variables categóricas. Esto conduce a una matriz de tabulación cruzada con todas las `I` variables $V_1$ distintas como filas y las `J` variables distintas $V_2$ como columnas."
   ]
  },
  {
   "cell_type": "markdown",
   "metadata": {},
   "source": [
    "<img src=\"images/ca_data.png\" width=\"600\">"
   ]
  },
  {
   "cell_type": "markdown",
   "metadata": {
    "lang": "es"
   },
   "source": [
    "Usaremos el conjunto de datos de los premios Nobel, para analizar la distribución de los premios Nobel por categoría y país."
   ]
  },
  {
   "cell_type": "code",
   "execution_count": 2,
   "metadata": {
    "ExecuteTime": {
     "end_time": "2021-10-26T14:54:31.878183Z",
     "start_time": "2021-10-26T14:54:31.860617Z"
    }
   },
   "outputs": [
    {
     "data": {
      "text/html": [
       "<div>\n",
       "<style scoped>\n",
       "    .dataframe tbody tr th:only-of-type {\n",
       "        vertical-align: middle;\n",
       "    }\n",
       "\n",
       "    .dataframe tbody tr th {\n",
       "        vertical-align: top;\n",
       "    }\n",
       "\n",
       "    .dataframe thead th {\n",
       "        text-align: right;\n",
       "    }\n",
       "</style>\n",
       "<table border=\"1\" class=\"dataframe\">\n",
       "  <thead>\n",
       "    <tr style=\"text-align: right;\">\n",
       "      <th></th>\n",
       "      <th>Chemistry</th>\n",
       "      <th>Economics</th>\n",
       "      <th>Literature</th>\n",
       "      <th>Medicine</th>\n",
       "      <th>Peace</th>\n",
       "      <th>Physics</th>\n",
       "    </tr>\n",
       "    <tr>\n",
       "      <th>Country</th>\n",
       "      <th></th>\n",
       "      <th></th>\n",
       "      <th></th>\n",
       "      <th></th>\n",
       "      <th></th>\n",
       "      <th></th>\n",
       "    </tr>\n",
       "  </thead>\n",
       "  <tbody>\n",
       "    <tr>\n",
       "      <th>Canada</th>\n",
       "      <td>4</td>\n",
       "      <td>3</td>\n",
       "      <td>2</td>\n",
       "      <td>4</td>\n",
       "      <td>1</td>\n",
       "      <td>4</td>\n",
       "    </tr>\n",
       "    <tr>\n",
       "      <th>France</th>\n",
       "      <td>8</td>\n",
       "      <td>3</td>\n",
       "      <td>11</td>\n",
       "      <td>12</td>\n",
       "      <td>10</td>\n",
       "      <td>9</td>\n",
       "    </tr>\n",
       "    <tr>\n",
       "      <th>Germany</th>\n",
       "      <td>24</td>\n",
       "      <td>1</td>\n",
       "      <td>8</td>\n",
       "      <td>18</td>\n",
       "      <td>5</td>\n",
       "      <td>24</td>\n",
       "    </tr>\n",
       "    <tr>\n",
       "      <th>Italy</th>\n",
       "      <td>1</td>\n",
       "      <td>1</td>\n",
       "      <td>6</td>\n",
       "      <td>5</td>\n",
       "      <td>1</td>\n",
       "      <td>5</td>\n",
       "    </tr>\n",
       "    <tr>\n",
       "      <th>Japan</th>\n",
       "      <td>6</td>\n",
       "      <td>0</td>\n",
       "      <td>2</td>\n",
       "      <td>3</td>\n",
       "      <td>1</td>\n",
       "      <td>11</td>\n",
       "    </tr>\n",
       "    <tr>\n",
       "      <th>Russia</th>\n",
       "      <td>4</td>\n",
       "      <td>3</td>\n",
       "      <td>5</td>\n",
       "      <td>2</td>\n",
       "      <td>3</td>\n",
       "      <td>10</td>\n",
       "    </tr>\n",
       "    <tr>\n",
       "      <th>UK</th>\n",
       "      <td>23</td>\n",
       "      <td>6</td>\n",
       "      <td>7</td>\n",
       "      <td>26</td>\n",
       "      <td>11</td>\n",
       "      <td>20</td>\n",
       "    </tr>\n",
       "    <tr>\n",
       "      <th>USA</th>\n",
       "      <td>51</td>\n",
       "      <td>43</td>\n",
       "      <td>8</td>\n",
       "      <td>70</td>\n",
       "      <td>19</td>\n",
       "      <td>66</td>\n",
       "    </tr>\n",
       "  </tbody>\n",
       "</table>\n",
       "</div>"
      ],
      "text/plain": [
       "         Chemistry  Economics  Literature  Medicine  Peace  Physics\n",
       "Country                                                            \n",
       "Canada           4          3           2         4      1        4\n",
       "France           8          3          11        12     10        9\n",
       "Germany         24          1           8        18      5       24\n",
       "Italy            1          1           6         5      1        5\n",
       "Japan            6          0           2         3      1       11\n",
       "Russia           4          3           5         2      3       10\n",
       "UK              23          6           7        26     11       20\n",
       "USA             51         43           8        70     19       66"
      ]
     },
     "execution_count": 2,
     "metadata": {},
     "output_type": "execute_result"
    }
   ],
   "source": [
    "import pandas as pd\n",
    "\n",
    "df = pd.read_csv('nobel_data.csv', index_col='Country')\n",
    "df"
   ]
  },
  {
   "cell_type": "markdown",
   "metadata": {
    "lang": "es"
   },
   "source": [
    "### Probabilidades condicionales\n",
    "\n",
    "Para entender mejor, la explicación que vendrá posteriormente está profundamente arraigada con la probabilidad condicional. Aquí, la fila, la columna y las sumas totales juegan un papel crucial. Esto nos permite comenzar a expresar probabilidades condicionales, basadas en recuentos generales (para esto, se usa una notación que se resalta a continuación)"
   ]
  },
  {
   "cell_type": "markdown",
   "metadata": {},
   "source": [
    "<img src=\"images/ca_probs.png\" width=\"600\">"
   ]
  },
  {
   "cell_type": "markdown",
   "metadata": {
    "lang": "es"
   },
   "source": [
    "**Hay vínculos (links) e independencia entre las variables cualitativas:**\n",
    "<img src=\"images/links_independence.png\" width=\"600\">"
   ]
  },
  {
   "cell_type": "markdown",
   "metadata": {
    "lang": "es"
   },
   "source": [
    "En última instancia, la mecánica central del análisis de correspondencia es un examen de cuánto se desvían nuestros datos de una suposición de completa independencia. Ésta es una extensión directa de la prueba de chi al cuadrado."
   ]
  },
  {
   "cell_type": "markdown",
   "metadata": {},
   "source": [
    "<img src=\"images/ca_chi_sq.png\" width=\"700\">"
   ]
  },
  {
   "cell_type": "markdown",
   "metadata": {
    "lang": "es"
   },
   "source": [
    "En el contexto de una tabla de tabulación cruzada, si todas nuestras variables tuvieran independencia, supondríamos que los valores de nuestras filas se distribuirían de forma coherente con la proporción de los totales, y de forma similar para las columnas."
   ]
  },
  {
   "cell_type": "markdown",
   "metadata": {},
   "source": [
    "### ¿Cómo hace CA para detectar una desviación de la independencia?"
   ]
  },
  {
   "cell_type": "markdown",
   "metadata": {},
   "source": [
    "<img src=\"images/ca_row_profile.png\" width=\"600\">"
   ]
  },
  {
   "cell_type": "markdown",
   "metadata": {},
   "source": [
    "<img src=\"images/ca_col_profile.png\" width=\"600\">"
   ]
  },
  {
   "cell_type": "markdown",
   "metadata": {
    "lang": "es"
   },
   "source": [
    "Entonces, podemos comparar el perfil de fila con el perfil promedio para el conjunto de datos nobel:\n",
    "<img src=\"images/ca_row_profile_nobel.png\" width=\"600\">"
   ]
  },
  {
   "cell_type": "markdown",
   "metadata": {
    "lang": "es",
    "solution2": "hidden",
    "solution2_first": true
   },
   "source": [
    "**Pregunta**: ¿Ganan los italianos categorías particulares de premios Nobel?"
   ]
  },
  {
   "cell_type": "markdown",
   "metadata": {
    "lang": "es",
    "solution2": "hidden"
   },
   "source": [
    "podemos ver que `Italia` tiene una proporción de` Literatura` muy alejada del valor medio de la fila"
   ]
  },
  {
   "cell_type": "markdown",
   "metadata": {
    "lang": "es"
   },
   "source": [
    "De manera similar, podemos comparar el perfil de la columna con el perfil medio (para el conjunto de datos nobel):\n",
    "<img src=\"images/ca_col_profile_nobel.png\" width=\"700\">"
   ]
  },
  {
   "cell_type": "markdown",
   "metadata": {
    "lang": "es",
    "solution2": "hidden",
    "solution2_first": true
   },
   "source": [
    "**Pregunta:** ¿La distribución por países de los premios de literatura es la misma que la distribución por países de los premios totales?"
   ]
  },
  {
   "cell_type": "markdown",
   "metadata": {
    "solution2": "hidden"
   },
   "source": [
    "`Economics` prizes are disproportionally won by people from the `US`."
   ]
  },
  {
   "cell_type": "markdown",
   "metadata": {
    "lang": "es"
   },
   "source": [
    "### La nube de perfiles de fila"
   ]
  },
  {
   "cell_type": "markdown",
   "metadata": {
    "lang": "es"
   },
   "source": [
    "Podemos trazar todas las probabilidades condicionales en una nube de puntos.\n",
    "\n",
    "El punto `G` representa el centro de gravedad de la nube."
   ]
  },
  {
   "cell_type": "markdown",
   "metadata": {},
   "source": [
    "<img src=\"images/ca_row_cloud.png\" width=\"600\">"
   ]
  },
  {
   "cell_type": "markdown",
   "metadata": {
    "lang": "es"
   },
   "source": [
    "### La nube de perfiles de columna"
   ]
  },
  {
   "cell_type": "markdown",
   "metadata": {},
   "source": [
    "<img src=\"images/ca_col_cloud.png\" width=\"600\">"
   ]
  },
  {
   "cell_type": "markdown",
   "metadata": {
    "lang": "es"
   },
   "source": [
    "Sin embargo, `G` tiene un significado intuitivo más ordenado. En el caso de que todos nuestros datos sean independientes, todos los puntos se hundirán hasta el centro de gravedad y será un punto, no un punto *nube*."
   ]
  },
  {
   "cell_type": "markdown",
   "metadata": {
    "lang": "es"
   },
   "source": [
    "### ¿Qué pasa cuando hay independencia?"
   ]
  },
  {
   "cell_type": "markdown",
   "metadata": {},
   "source": [
    "<img src=\"images/ca_row_profile_independence.png\" width=\"600\">"
   ]
  },
  {
   "cell_type": "markdown",
   "metadata": {
    "lang": "es"
   },
   "source": [
    "Sin embargo, el hecho de que representemos todas las probabilidades condicionales con una nube significa que hay alguna medida de desviación del origen, `G`. A esto lo llamamos la **inercia** de la nube de puntos."
   ]
  },
  {
   "cell_type": "markdown",
   "metadata": {},
   "source": [
    "<img src=\"images/ca_deviation_from_independence.png\" width=\"600\">"
   ]
  },
  {
   "cell_type": "markdown",
   "metadata": {
    "lang": "es"
   },
   "source": [
    "Para reafirmar: *La inercia mide la desviación de la independencia.*"
   ]
  },
  {
   "cell_type": "markdown",
   "metadata": {
    "lang": "es"
   },
   "source": [
    "### Visualización de la nube de filas (o columnas)"
   ]
  },
  {
   "cell_type": "markdown",
   "metadata": {
    "lang": "es"
   },
   "source": [
    "Finalmente, todo el propósito del análisis de correspondencias es llevar nuestros datos a este punto y luego encontrar las proyecciones ortogonales que explican la mayor inercia."
   ]
  },
  {
   "cell_type": "markdown",
   "metadata": {},
   "source": [
    "<img src=\"images/ca_max_inertia.png\" width=\"600\">"
   ]
  },
  {
   "cell_type": "markdown",
   "metadata": {
    "lang": "es"
   },
   "source": [
    "### Trasladando"
   ]
  },
  {
   "cell_type": "markdown",
   "metadata": {
    "lang": "es"
   },
   "source": [
    "Las dos nubes de puntos se generan a partir del mismo conjunto de datos, por lo que es lógico pensar que debería haber alguna forma de trasladar de una a otra, ¿no?\n",
    "\n",
    "Para esto, el análisis de correspondencia toma prestada una palabra de la astrofísica, llamada *baricentro*, que es básicamente el centro de masa entre muchos objetos arbitrariamente. Según wikipedia, en el caso para `n = 2`, donde el $\\color{red}{+}$ es el baricentro:"
   ]
  },
  {
   "cell_type": "markdown",
   "metadata": {},
   "source": [
    "<img src=\"images/barycenter.png\" width=\"1000\">"
   ]
  },
  {
   "cell_type": "markdown",
   "metadata": {
    "lang": "es"
   },
   "source": [
    "En lo que respecta a nuestro caso, el baricentro de una fila en un eje dado se puede considerar como un promedio ponderado de la representación de la columna.\n",
    "\n",
    "Para un eje dado $s$ que ha sido derivado, la representación en columnas $G(j)$ se pondera por la suma de todas las probabilidades condicionales en esas columnas, entonces finalmente se escala por el valor de $\\lambda$ para ese eje (se muestra más detalle a continuación)."
   ]
  },
  {
   "cell_type": "markdown",
   "metadata": {},
   "source": [
    "<img src=\"images/ca_barycenters.png\" width=\"600\">"
   ]
  },
  {
   "cell_type": "markdown",
   "metadata": {
    "lang": "es"
   },
   "source": [
    "Es algo difícil de asimilar, pero esto nos permite tener dos buenas propiedades:\n",
    "\n",
    "- Lo contrario es cierto: podemos intercambiar los términos `G` y` F` y esto aún funciona\n",
    "- Debido a esto, cuando tenemos las filas y columnas en el nuevo espacio definido por los distintos ejes $s$, las filas son más cercanas a las columnas que están más asociadas y viceversa."
   ]
  },
  {
   "cell_type": "markdown",
   "metadata": {
    "lang": "es"
   },
   "source": [
    "### Relación con SVD"
   ]
  },
  {
   "cell_type": "markdown",
   "metadata": {
    "lang": "es"
   },
   "source": [
    "La literatura sobre análisis de correspondencia es bastante densa. [En este pdf](http://statmath.wu.ac.at/courses/CAandRelMeth/caipA.pdf) pueden encontrar más detalle de CA y su relación con SVD. También, tiene detalles de  \"¿cómo encontramos realmente los ejes?\"\n",
    "\n",
    "Si no conocen sobre SVD, recomiendo que vean[este excelente video de SVD](https://www.youtube.com/watch?v=EfZsEFhHcNM).\n",
    "\n",
    "Así, miremos una pequeña parte de las ecuaciones que colocan en el pdf anterior, pero resaltando dos cosas:"
   ]
  },
  {
   "cell_type": "markdown",
   "metadata": {},
   "source": [
    "<img src=\"images/ca_paper.png\" width=\"600\">"
   ]
  },
  {
   "cell_type": "markdown",
   "metadata": {
    "lang": "es"
   },
   "source": [
    "Observemos lo siguiente:\n",
    "\n",
    "- `N` y` n` representan la matriz de tabulación cruzada y los recuentos totales\n",
    "- Estos se utilizan para construir una matriz simple de probabilidades `P`\n",
    "- `r` y` c` representan las proporciones de filas y columnas, que al sumarse dan `1`\n",
    "- `D _r` y` D_ c` son las matrices diagonales de los espacios de filas y columnas\n",
    "\n",
    "Y entonces parece que las ecuaciones `A.8-A.10` son los aspectos básicos de la representación de nuestros nuevos ejes` s`. Además, parece que podemos obtener esto si podemos obtener los valores en `A.6-7`, que a su vez necesitan los valores` U` y `V`, que son resultados típicos de hacer SVD, en  `A.5`.\n",
    "\n",
    "El truco es responder \"SVD sobre *qué*?\" Para lo cual, podemos construir inteligentemente una matriz, \"S\", de residuos estandarizados. Los residuos deben hacernos pensar en el error, y el error debería significar la diferencia entre lo predicho y lo observado, y como se mencionó antes, \"predicho\" en realidad significa \"la suposición de que todo sigue la distribución de la población, \"P\".\n",
    "\n",
    "Con esta intuición, `S` se convierte en la llave utilizada para desbloquear el resto. Por supuesto, hay un práctico paquete de Python que nos ayuda a a hacer todos estos cálculos matemáticos."
   ]
  },
  {
   "cell_type": "markdown",
   "metadata": {
    "lang": "es"
   },
   "source": [
    "## Conjunto de datos Nobel"
   ]
  },
  {
   "cell_type": "markdown",
   "metadata": {
    "lang": "es"
   },
   "source": [
    "Entonces, al ejecutar CA en el conjunto de datos Nobel, trazamos los puntos de la tabla de tabulación cruzada, en relación con los nuevos ejes que se encontraron."
   ]
  },
  {
   "cell_type": "markdown",
   "metadata": {},
   "source": [
    "<img src=\"images/ca_scatter.png\" width=\"800\">"
   ]
  },
  {
   "cell_type": "markdown",
   "metadata": {
    "lang": "es"
   },
   "source": [
    "Lo primero que se señala es la distancia al centro del diagrama de dispersión.\n",
    "\n",
    "En términos generales, este es un buen indicador de *lo diferente que es a 'que todo siga la misma distribución'*.\n",
    "\n",
    "Por ejemplo, \"Reino Unido\" está básicamente en el eje, y podemos ver a continuación que la distribución de premios ganados parece MUY cercana a la distribución de la muestra. \"Italia\", por otro lado, ha ganado dramáticamente más de los verdes y, por lo tanto, está muy lejos del origen."
   ]
  },
  {
   "cell_type": "markdown",
   "metadata": {},
   "source": [
    "<img src=\"images/ca_uk_zoomed.png\" width=\"500\">"
   ]
  },
  {
   "cell_type": "markdown",
   "metadata": {
    "lang": "es"
   },
   "source": [
    "De manera similar, los premios de `Economía` parecen ganados de manera desproporcionada por los `Estados Unidos` (naranja), por lo que está bastante lejos de su origen. Sin embargo, los `EEUU` *parecen* ganar una proporción respetable de los premios en cada categoría.\n",
    "\n",
    "Un mejor ejemplo para mirar es `Italia` (verde azulado). En promedio, constituyen una pequeña pizca de premios en general, pero debido a que son un buen 20% de los ganadores del premio de \"Literatura\", su punto es el extremo derecho de todo el asunto."
   ]
  },
  {
   "cell_type": "markdown",
   "metadata": {},
   "source": [
    "<img src=\"images/ca_econ_zoomed.png\" width=\"250\">"
   ]
  },
  {
   "cell_type": "markdown",
   "metadata": {
    "lang": "es"
   },
   "source": [
    "## Métricas"
   ]
  },
  {
   "cell_type": "markdown",
   "metadata": {
    "lang": "es"
   },
   "source": [
    "### Valores propios e inercia explicada"
   ]
  },
  {
   "cell_type": "markdown",
   "metadata": {
    "lang": "es"
   },
   "source": [
    "Entonces, después de encontrar nuestros ejes ortogonales que mejor abarcan la nube de puntos, los valores propios que encontramos representan la inercia explicada de un eje dado. Entonces, podemos plantear el problema como:\n",
    "\n",
    "Encuentre $P$ tal que $\\displaystyle \\sum_{i=1}^{I} f_{i .}\\left(O H_{i}\\right)^{2}$ sea máximo\n",
    "\n",
    "dónde,\n",
    "- $u_{1}$ es el eje de inercia máxima\n",
    "- $u_{2}$ es el eje de inercia máxima tal que $u_{2} \\perp u_{1}$\n",
    "- La inercia asociada con el $s$-ésimo eje es: $\\displaystyle \\sum_{i=1}^{I} f_{i}\\left(O H_{i}^{s}\\right)^{2}=\\lambda_{s}$"
   ]
  },
  {
   "cell_type": "markdown",
   "metadata": {
    "lang": "es"
   },
   "source": [
    "Entonces, debido a que nuestros ejes son ortogonales, podemos sumar los valores propios y dividirlos por la inercia total para ver qué tan bien un eje captura la dispersión general de nuestra nube de puntos."
   ]
  },
  {
   "cell_type": "markdown",
   "metadata": {},
   "source": [
    "<img src=\"images/ca_avg_inertia.png\" width=\"700\">"
   ]
  },
  {
   "cell_type": "markdown",
   "metadata": {
    "lang": "en"
   },
   "source": [
    "The projected inertia can be summed across axes (because orthogonal):\n",
    "$$\n",
    "\\sum_{k=1}^{K} \\lambda_{k}=\\operatorname{Inertia}\\left(N_{l}\\right)=\\Phi^{2}\n",
    "$$\n",
    "Here $n \\Phi^{2}=570 \\times 0.1522=\\chi^{2}=86.75 \\Rightarrow \\mathrm{p}$-value $=2.77 \\times 10^{-6}$"
   ]
  },
  {
   "cell_type": "markdown",
   "metadata": {
    "lang": "es"
   },
   "source": [
    "La inercia proyectada se puede sumar a través de los ejes (porque es ortogonal):\n",
    "$$\n",
    "\\sum_{k=1}^{K} \\lambda_{k}=\\operatorname{Inertia}\\left(N_{l}\\right)=\\Phi^{2}\n",
    "$$\n",
    "Aquí $n \\Phi^{2}=570 \\times 0.1522=\\chi^{2}=86.75 \\Rightarrow \\mathrm{p}$-value $=2.77 \\times 10^{-6}$"
   ]
  },
  {
   "cell_type": "markdown",
   "metadata": {
    "lang": "es",
    "solution2": "hidden",
    "solution2_first": true
   },
   "source": [
    "**Pregunta:** ¿Cómo la inercia disminuye puede ayudar a elegir el número de ejes a mantener?"
   ]
  },
  {
   "cell_type": "markdown",
   "metadata": {
    "solution2": "hidden"
   },
   "source": [
    "<img src=\"images/ca_finding_number_axes.png\" width=\"500\">"
   ]
  },
  {
   "cell_type": "markdown",
   "metadata": {
    "lang": "es"
   },
   "source": [
    "### La inercia es equivalente a valores propios"
   ]
  },
  {
   "cell_type": "markdown",
   "metadata": {
    "lang": "es"
   },
   "source": [
    "Un valor propio igual a `1` significa que representa una separación perfecta entre dos bloques en los datos."
   ]
  },
  {
   "cell_type": "markdown",
   "metadata": {},
   "source": [
    "<img src=\"images/ca_inertia_eigenvalues.png\" width=\"700\">"
   ]
  },
  {
   "cell_type": "markdown",
   "metadata": {
    "lang": "es"
   },
   "source": [
    "Como ejemplo, supongamos que cocinamos una pequeña mesa para discernir entre perfiles gustativos. Las filas indican si una muestra probada *era* dulce (sweet), agria (sour) o amarga (bitter). Las columnas representan cómo fueron percibidas por los catadores.\n",
    "\n",
    "El primer eje generado por CA ayuda a separar nuestros datos en dos grupos distintos, \"Dulce\" (sweet) y \"Quizás agrio (sour) o amargo (bitter)\", con perfecta precisión."
   ]
  },
  {
   "cell_type": "markdown",
   "metadata": {},
   "source": [
    "<img src=\"images/ca_eigen_val_is_one.png\" width=\"500\">"
   ]
  },
  {
   "cell_type": "markdown",
   "metadata": {
    "lang": "es"
   },
   "source": [
    "Por otro lado, veamos dos versiones ligeramente ajustadas del conjunto de datos. El segundo eje debería ayudarnos a determinar la diferencia entre agrio y amargo.\n",
    "\n",
    "Los datos de la izquierda están mejor separados que los de la derecha y, por lo tanto, el valor propio del \"Eje 2\" es más alto y los puntos dispersos están más separados."
   ]
  },
  {
   "cell_type": "markdown",
   "metadata": {},
   "source": [
    "<img src=\"images/ca_eigen_val_isnt_one.png\" width=\"700\">"
   ]
  },
  {
   "cell_type": "markdown",
   "metadata": {
    "lang": "es"
   },
   "source": [
    "### Inercia total explicada"
   ]
  },
  {
   "cell_type": "markdown",
   "metadata": {
    "lang": "es"
   },
   "source": [
    "Con esta intuición en mente, cuando revisamos el conjunto de datos de Nobel, dos cosas se destacan:\n",
    "\n",
    "- La inercia explicada para el primer eje es mucho menor que 1, por lo que no hay un corte directo en los datos.\n",
    "- La inercia total explicada es mucho menor que `5` (la suma de todos los valores propios si fuese todo perfectamente separable), por lo que los datos no están tan bien separados como podríamos haber pensado a primera vista."
   ]
  },
  {
   "cell_type": "markdown",
   "metadata": {},
   "source": [
    "<img src=\"images/ca_revisit_nobel.png\" width=\"700\">"
   ]
  },
  {
   "cell_type": "markdown",
   "metadata": {},
   "source": [
    "## Implementación en Python"
   ]
  },
  {
   "cell_type": "markdown",
   "metadata": {
    "lang": "es"
   },
   "source": [
    "El análisis de correspondencia es bastante simple gracias a la librería de `prince`. Se puede instalar fácilmente mediante `pip install prince`\n",
    "\n",
    "Continuando con nuestro conjunto de datos original, seguiremos un flujo de trabajo similar al que haríamos en `sklearn`"
   ]
  },
  {
   "cell_type": "code",
   "execution_count": 4,
   "metadata": {
    "ExecuteTime": {
     "end_time": "2021-10-26T16:14:41.211832Z",
     "start_time": "2021-10-26T16:14:41.193821Z"
    }
   },
   "outputs": [
    {
     "data": {
      "text/plain": [
       "CA()"
      ]
     },
     "execution_count": 4,
     "metadata": {},
     "output_type": "execute_result"
    }
   ],
   "source": [
    "from prince import CA\n",
    "\n",
    "ca = CA(n_components=2)\n",
    "\n",
    "ca.fit(df)"
   ]
  },
  {
   "cell_type": "markdown",
   "metadata": {
    "lang": "es"
   },
   "source": [
    "Hemos deconstruido los países en dos componentes principales y podemos ver una gran separación."
   ]
  },
  {
   "cell_type": "code",
   "execution_count": 5,
   "metadata": {
    "ExecuteTime": {
     "end_time": "2021-10-26T16:15:08.381053Z",
     "start_time": "2021-10-26T16:15:07.958855Z"
    }
   },
   "outputs": [
    {
     "data": {
      "text/html": [
       "<div>\n",
       "<style scoped>\n",
       "    .dataframe tbody tr th:only-of-type {\n",
       "        vertical-align: middle;\n",
       "    }\n",
       "\n",
       "    .dataframe tbody tr th {\n",
       "        vertical-align: top;\n",
       "    }\n",
       "\n",
       "    .dataframe thead th {\n",
       "        text-align: right;\n",
       "    }\n",
       "</style>\n",
       "<table border=\"1\" class=\"dataframe\">\n",
       "  <thead>\n",
       "    <tr style=\"text-align: right;\">\n",
       "      <th></th>\n",
       "      <th>0</th>\n",
       "      <th>1</th>\n",
       "    </tr>\n",
       "  </thead>\n",
       "  <tbody>\n",
       "    <tr>\n",
       "      <th>Canada</th>\n",
       "      <td>0.047235</td>\n",
       "      <td>-0.113463</td>\n",
       "    </tr>\n",
       "    <tr>\n",
       "      <th>France</th>\n",
       "      <td>-0.498328</td>\n",
       "      <td>-0.273206</td>\n",
       "    </tr>\n",
       "    <tr>\n",
       "      <th>Germany</th>\n",
       "      <td>-0.158403</td>\n",
       "      <td>0.319637</td>\n",
       "    </tr>\n",
       "    <tr>\n",
       "      <th>Italy</th>\n",
       "      <td>-0.712666</td>\n",
       "      <td>-0.265207</td>\n",
       "    </tr>\n",
       "    <tr>\n",
       "      <th>Japan</th>\n",
       "      <td>-0.175512</td>\n",
       "      <td>0.515635</td>\n",
       "    </tr>\n",
       "    <tr>\n",
       "      <th>Russia</th>\n",
       "      <td>-0.356149</td>\n",
       "      <td>-0.048568</td>\n",
       "    </tr>\n",
       "    <tr>\n",
       "      <th>UK</th>\n",
       "      <td>-0.035672</td>\n",
       "      <td>0.040835</td>\n",
       "    </tr>\n",
       "    <tr>\n",
       "      <th>USA</th>\n",
       "      <td>0.267488</td>\n",
       "      <td>-0.071423</td>\n",
       "    </tr>\n",
       "  </tbody>\n",
       "</table>\n",
       "</div>"
      ],
      "text/plain": [
       "                0         1\n",
       "Canada   0.047235 -0.113463\n",
       "France  -0.498328 -0.273206\n",
       "Germany -0.158403  0.319637\n",
       "Italy   -0.712666 -0.265207\n",
       "Japan   -0.175512  0.515635\n",
       "Russia  -0.356149 -0.048568\n",
       "UK      -0.035672  0.040835\n",
       "USA      0.267488 -0.071423"
      ]
     },
     "metadata": {},
     "output_type": "display_data"
    },
    {
     "data": {
      "image/png": "[encoded data removed]",
      "text/plain": [
       "<Figure size 432x288 with 1 Axes>"
      ]
     },
     "metadata": {
      "needs_background": "light"
     },
     "output_type": "display_data"
    }
   ],
   "source": [
    "%matplotlib inline\n",
    "\n",
    "display(ca.row_coordinates(df))\n",
    "ca.row_coordinates(df).plot.scatter(0, 1);"
   ]
  },
  {
   "cell_type": "markdown",
   "metadata": {
    "lang": "es"
   },
   "source": [
    "De manera similar, podemos ver cómo se asignan las columnas en este nuevo espacio."
   ]
  },
  {
   "cell_type": "code",
   "execution_count": 6,
   "metadata": {
    "ExecuteTime": {
     "end_time": "2021-10-26T16:15:32.898199Z",
     "start_time": "2021-10-26T16:15:32.734525Z"
    }
   },
   "outputs": [
    {
     "data": {
      "text/html": [
       "<div>\n",
       "<style scoped>\n",
       "    .dataframe tbody tr th:only-of-type {\n",
       "        vertical-align: middle;\n",
       "    }\n",
       "\n",
       "    .dataframe tbody tr th {\n",
       "        vertical-align: top;\n",
       "    }\n",
       "\n",
       "    .dataframe thead th {\n",
       "        text-align: right;\n",
       "    }\n",
       "</style>\n",
       "<table border=\"1\" class=\"dataframe\">\n",
       "  <thead>\n",
       "    <tr style=\"text-align: right;\">\n",
       "      <th></th>\n",
       "      <th>0</th>\n",
       "      <th>1</th>\n",
       "    </tr>\n",
       "  </thead>\n",
       "  <tbody>\n",
       "    <tr>\n",
       "      <th>Chemistry</th>\n",
       "      <td>0.058167</td>\n",
       "      <td>0.211959</td>\n",
       "    </tr>\n",
       "    <tr>\n",
       "      <th>Economics</th>\n",
       "      <td>0.461605</td>\n",
       "      <td>-0.351199</td>\n",
       "    </tr>\n",
       "    <tr>\n",
       "      <th>Literature</th>\n",
       "      <td>-0.789820</td>\n",
       "      <td>-0.185986</td>\n",
       "    </tr>\n",
       "    <tr>\n",
       "      <th>Medicine</th>\n",
       "      <td>0.107692</td>\n",
       "      <td>-0.066187</td>\n",
       "    </tr>\n",
       "    <tr>\n",
       "      <th>Peace</th>\n",
       "      <td>-0.203421</td>\n",
       "      <td>-0.207777</td>\n",
       "    </tr>\n",
       "    <tr>\n",
       "      <th>Physics</th>\n",
       "      <td>-0.004938</td>\n",
       "      <td>0.163765</td>\n",
       "    </tr>\n",
       "  </tbody>\n",
       "</table>\n",
       "</div>"
      ],
      "text/plain": [
       "                   0         1\n",
       "Chemistry   0.058167  0.211959\n",
       "Economics   0.461605 -0.351199\n",
       "Literature -0.789820 -0.185986\n",
       "Medicine    0.107692 -0.066187\n",
       "Peace      -0.203421 -0.207777\n",
       "Physics    -0.004938  0.163765"
      ]
     },
     "metadata": {},
     "output_type": "display_data"
    },
    {
     "data": {
      "image/png": "[encoded data removed]",
      "text/plain": [
       "<Figure size 432x288 with 1 Axes>"
      ]
     },
     "metadata": {
      "needs_background": "light"
     },
     "output_type": "display_data"
    }
   ],
   "source": [
    "display(ca.column_coordinates(df))\n",
    "ca.column_coordinates(df).plot.scatter(0, 1);"
   ]
  },
  {
   "cell_type": "markdown",
   "metadata": {
    "lang": "es"
   },
   "source": [
    "Pero aún más genial, es muy fácil trazar los dos juntos a través de la función expresiva `plot_coordinates()`. Esto se parece a las imágenes que hemos estado viendo todo el tiempo, simplemente volteadas en un par de ejes."
   ]
  },
  {
   "cell_type": "code",
   "execution_count": 7,
   "metadata": {
    "ExecuteTime": {
     "end_time": "2021-10-26T16:16:11.734165Z",
     "start_time": "2021-10-26T16:16:11.447530Z"
    }
   },
   "outputs": [
    {
     "data": {
      "image/png": "[encoded data removed]",
      "text/plain": [
       "<Figure size 576x576 with 1 Axes>"
      ]
     },
     "metadata": {
      "needs_background": "light"
     },
     "output_type": "display_data"
    }
   ],
   "source": [
    "ca.plot_coordinates(df, figsize=(8, 8));"
   ]
  },
  {
   "cell_type": "markdown",
   "metadata": {
    "lang": "es"
   },
   "source": [
    "Finalmente, podemos inspeccionar fácilmente las distintas métricas a las que queremos prestar atención."
   ]
  },
  {
   "cell_type": "code",
   "execution_count": 8,
   "metadata": {
    "ExecuteTime": {
     "end_time": "2021-10-26T16:16:44.023174Z",
     "start_time": "2021-10-26T16:16:44.015119Z"
    }
   },
   "outputs": [
    {
     "data": {
      "text/plain": [
       "[0.08333122262451494, 0.03744306648476863]"
      ]
     },
     "execution_count": 8,
     "metadata": {},
     "output_type": "execute_result"
    }
   ],
   "source": [
    "ca.eigenvalues_"
   ]
  },
  {
   "cell_type": "code",
   "execution_count": 9,
   "metadata": {
    "ExecuteTime": {
     "end_time": "2021-10-26T16:16:44.927159Z",
     "start_time": "2021-10-26T16:16:44.919953Z"
    }
   },
   "outputs": [
    {
     "data": {
      "text/plain": [
       "0.15220911043080823"
      ]
     },
     "execution_count": 9,
     "metadata": {},
     "output_type": "execute_result"
    }
   ],
   "source": [
    "ca.total_inertia_"
   ]
  },
  {
   "cell_type": "code",
   "execution_count": 10,
   "metadata": {
    "ExecuteTime": {
     "end_time": "2021-10-26T16:16:45.750612Z",
     "start_time": "2021-10-26T16:16:45.742728Z"
    }
   },
   "outputs": [
    {
     "data": {
      "text/plain": [
       "[0.5474785470374058, 0.2459975383785561]"
      ]
     },
     "execution_count": 10,
     "metadata": {},
     "output_type": "execute_result"
    }
   ],
   "source": [
    "ca.explained_inertia_"
   ]
  },
  {
   "cell_type": "markdown",
   "metadata": {},
   "source": [
    "## Referencias"
   ]
  },
  {
   "cell_type": "markdown",
   "metadata": {},
   "source": [
    "- Greenacre, M., 2017. Correspondence analysis in practice. chapman and hall/crc.\n",
    "- https://youtu.be/Z5Lo1hvZ9fA"
   ]
  },
  {
   "cell_type": "markdown",
   "metadata": {},
   "source": [
    "# Ejercicio"
   ]
  },
  {
   "cell_type": "markdown",
   "metadata": {
    "lang": "es"
   },
   "source": [
    "El conjunto de datos `funding_research.csv` proviene de una organización de investigación y desarrollo científico que ha clasificado a 796 investigadores científicos en cinco categorías con el fin de asignar fondos de investigación. Los investigadores se clasifican de forma cruzada según su disciplina científica (las 10 filas de la tabla) y la categoría de financiación (las cinco columnas de la tabla). Las categorías están etiquetadas como $A, B, C, D$ y $E$, y están ordenadas de la categoría de financiación más alta a la más baja. En realidad, $A$ a $D$ son las categorías para los investigadores que reciben subvenciones de investigación, desde $A$ (más financiado) a $D$ (menos financiado), mientras que $E$ es una categoría asignada a los investigadores cuyas solicitudes no fueron exitosas (es decir, solicitud de financiamiento rechazada)."
   ]
  },
  {
   "cell_type": "code",
   "execution_count": 11,
   "metadata": {
    "ExecuteTime": {
     "end_time": "2021-10-26T16:30:29.938160Z",
     "start_time": "2021-10-26T16:30:29.920210Z"
    }
   },
   "outputs": [
    {
     "data": {
      "text/html": [
       "<div>\n",
       "<style scoped>\n",
       "    .dataframe tbody tr th:only-of-type {\n",
       "        vertical-align: middle;\n",
       "    }\n",
       "\n",
       "    .dataframe tbody tr th {\n",
       "        vertical-align: top;\n",
       "    }\n",
       "\n",
       "    .dataframe thead th {\n",
       "        text-align: right;\n",
       "    }\n",
       "</style>\n",
       "<table border=\"1\" class=\"dataframe\">\n",
       "  <thead>\n",
       "    <tr style=\"text-align: right;\">\n",
       "      <th></th>\n",
       "      <th>A</th>\n",
       "      <th>B</th>\n",
       "      <th>C</th>\n",
       "      <th>D</th>\n",
       "      <th>E</th>\n",
       "    </tr>\n",
       "    <tr>\n",
       "      <th>scientific_areas</th>\n",
       "      <th></th>\n",
       "      <th></th>\n",
       "      <th></th>\n",
       "      <th></th>\n",
       "      <th></th>\n",
       "    </tr>\n",
       "  </thead>\n",
       "  <tbody>\n",
       "    <tr>\n",
       "      <th>Geology</th>\n",
       "      <td>3</td>\n",
       "      <td>19</td>\n",
       "      <td>39</td>\n",
       "      <td>14</td>\n",
       "      <td>10</td>\n",
       "    </tr>\n",
       "    <tr>\n",
       "      <th>Biochemistry</th>\n",
       "      <td>1</td>\n",
       "      <td>2</td>\n",
       "      <td>13</td>\n",
       "      <td>1</td>\n",
       "      <td>12</td>\n",
       "    </tr>\n",
       "    <tr>\n",
       "      <th>Chemistry</th>\n",
       "      <td>6</td>\n",
       "      <td>25</td>\n",
       "      <td>49</td>\n",
       "      <td>21</td>\n",
       "      <td>29</td>\n",
       "    </tr>\n",
       "    <tr>\n",
       "      <th>Zoology</th>\n",
       "      <td>3</td>\n",
       "      <td>15</td>\n",
       "      <td>41</td>\n",
       "      <td>35</td>\n",
       "      <td>26</td>\n",
       "    </tr>\n",
       "    <tr>\n",
       "      <th>Physics</th>\n",
       "      <td>10</td>\n",
       "      <td>22</td>\n",
       "      <td>47</td>\n",
       "      <td>9</td>\n",
       "      <td>26</td>\n",
       "    </tr>\n",
       "    <tr>\n",
       "      <th>Engineering</th>\n",
       "      <td>3</td>\n",
       "      <td>11</td>\n",
       "      <td>25</td>\n",
       "      <td>15</td>\n",
       "      <td>34</td>\n",
       "    </tr>\n",
       "    <tr>\n",
       "      <th>Microbiology</th>\n",
       "      <td>1</td>\n",
       "      <td>6</td>\n",
       "      <td>14</td>\n",
       "      <td>5</td>\n",
       "      <td>11</td>\n",
       "    </tr>\n",
       "    <tr>\n",
       "      <th>Botany</th>\n",
       "      <td>0</td>\n",
       "      <td>12</td>\n",
       "      <td>34</td>\n",
       "      <td>17</td>\n",
       "      <td>23</td>\n",
       "    </tr>\n",
       "    <tr>\n",
       "      <th>Statistics</th>\n",
       "      <td>2</td>\n",
       "      <td>5</td>\n",
       "      <td>11</td>\n",
       "      <td>4</td>\n",
       "      <td>7</td>\n",
       "    </tr>\n",
       "    <tr>\n",
       "      <th>Mathematics</th>\n",
       "      <td>2</td>\n",
       "      <td>11</td>\n",
       "      <td>37</td>\n",
       "      <td>8</td>\n",
       "      <td>20</td>\n",
       "    </tr>\n",
       "  </tbody>\n",
       "</table>\n",
       "</div>"
      ],
      "text/plain": [
       "                   A   B   C   D   E\n",
       "scientific_areas                    \n",
       "Geology            3  19  39  14  10\n",
       "Biochemistry       1   2  13   1  12\n",
       "Chemistry          6  25  49  21  29\n",
       "Zoology            3  15  41  35  26\n",
       "Physics           10  22  47   9  26\n",
       "Engineering        3  11  25  15  34\n",
       "Microbiology       1   6  14   5  11\n",
       "Botany             0  12  34  17  23\n",
       "Statistics         2   5  11   4   7\n",
       "Mathematics        2  11  37   8  20"
      ]
     },
     "execution_count": 11,
     "metadata": {},
     "output_type": "execute_result"
    }
   ],
   "source": [
    "df2 = pd.read_csv('funding_research.csv', index_col='scientific_areas')\n",
    "df2"
   ]
  },
  {
   "cell_type": "markdown",
   "metadata": {},
   "source": [
    "Para este dataset, realice diversos análisis usando CA. Determine la descomposición de inercia a lo largo de 4 ejes principales. Calcule la inercia en cada eje e interprete. Determine las coordenadas para cada eje y realice gráficas de los perfiles por fila y columna (separado y de forma conjunta). Interprete las gráficas."
   ]
  },
  {
   "cell_type": "code",
   "execution_count": null,
   "metadata": {},
   "outputs": [],
   "source": []
  }
 ],
 "metadata": {
  "kernelspec": {
   "display_name": "Python 3 (ipykernel)",
   "language": "python",
   "name": "python3"
  },
  "language_info": {
   "codemirror_mode": {
    "name": "ipython",
    "version": 3
   },
   "file_extension": ".py",
   "mimetype": "text/x-python",
   "name": "python",
   "nbconvert_exporter": "python",
   "pygments_lexer": "ipython3",
   "version": "3.8.10"
  },
  "nbTranslate": {
   "displayLangs": [
    "en",
    "es"
   ],
   "hotkey": "alt-t",
   "langInMainMenu": true,
   "sourceLang": "en",
   "targetLang": "es",
   "useGoogleTranslate": true
  }
 },
 "nbformat": 4,
 "nbformat_minor": 2
}
