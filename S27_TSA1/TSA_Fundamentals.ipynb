{
 "cells": [
  {
   "cell_type": "markdown",
   "id": "a9455240",
   "metadata": {},
   "source": [
    "# Análisis de Series Temporales"
   ]
  },
  {
   "cell_type": "markdown",
   "id": "d6aa8a96",
   "metadata": {},
   "source": [
    "Las series de tiempo son diferentes de los problemas de modelado predictivo de regresión y clasificación más tradicionales. La estructura temporal agrega un orden a las observaciones. Este orden impuesto significa que los supuestos importantes sobre la coherencia de esas observaciones deben manejarse específicamente.\n",
    "El objetivo de la predicción de series temporales es realizar predicciones precisas sobre el futuro"
   ]
  },
  {
   "cell_type": "markdown",
   "id": "95d1852a",
   "metadata": {
    "lang": "es"
   },
   "source": [
    "## Definición de serie temporal\n",
    "Es una secuencia ordenada de valores de una variable en intervalos de tiempo igualmente espaciados."
   ]
  },
  {
   "cell_type": "markdown",
   "id": "7dc0ed14",
   "metadata": {},
   "source": [
    "<img src=\"images/examples_TS.png\" width=\"700\">"
   ]
  },
  {
   "cell_type": "markdown",
   "id": "b67f3c31",
   "metadata": {
    "lang": "es"
   },
   "source": [
    "El análisis de series de tiempo tiene algunas cosas en común con los conceptos de probabilidad y regresión. Por ejemplo, la media \\& la desviación estándar.\n",
    "\n",
    "En muchos casos, podemos describir partes de los procesos de series de tiempo en términos de una variable aleatoria con momentos estadísticos, aunque una característica importante de muchos procesos de series de tiempo es que **su media y / o varianza cambian a lo largo del tiempo** ."
   ]
  },
  {
   "cell_type": "markdown",
   "id": "011eae7c",
   "metadata": {
    "lang": "es"
   },
   "source": [
    "La siguiente figura muestra un ejemplo en el que la media varía, pero la oscilación alrededor de la media (la desviación estándar) parece constante.\n",
    "\n",
    "<img src=\"images/mean_varying.png\" width=\"700\">"
   ]
  },
  {
   "cell_type": "markdown",
   "id": "2f62fb3b",
   "metadata": {
    "lang": "es"
   },
   "source": [
    "Ahora, tenemos un ejemplo de una señal con media constante, cambiando su desviación estándar (Volatilidad)\n",
    "<img src=\"images/std_varying.png\" width=\"500\">"
   ]
  },
  {
   "cell_type": "markdown",
   "id": "7a6e7e46",
   "metadata": {
    "lang": "es"
   },
   "source": [
    "**Pregunta**: ¿Cuál es la principal diferencia entre una serie de tiempo y un grupo de observaciones de una variable aleatoria con una media y una desviación estándar conocidas?"
   ]
  },
  {
   "cell_type": "markdown",
   "id": "de631068",
   "metadata": {
    "lang": "es"
   },
   "source": [
    "Podríamos describir todos estos puntos de datos utilizando una distribución estadística normal (o cualquier otra). Pero, ¿significa esto que el muestreo aleatorio de esta distribución nos da una serie de tiempo representativa?"
   ]
  },
  {
   "cell_type": "markdown",
   "id": "7ef606d3",
   "metadata": {},
   "source": [
    "<img src=\"images/TS_NormalDistribution.png\" width=\"700\">"
   ]
  },
  {
   "cell_type": "markdown",
   "id": "6a59a6c6",
   "metadata": {
    "lang": "es"
   },
   "source": [
    "No si el valor de $x(t)$ depende de manera significativa del valor de $x(t-1)$."
   ]
  },
  {
   "cell_type": "markdown",
   "id": "c8e3de9c",
   "metadata": {},
   "source": [
    "<img src=\"images/TS_related.png\" width=\"700\">"
   ]
  },
  {
   "cell_type": "markdown",
   "id": "abc98bc4",
   "metadata": {
    "lang": "es"
   },
   "source": [
    "Al igual que la regresión, el análisis de series de tiempo a menudo se centra en identificar tendencias y patrones subyacentes, describirlos matemáticamente y, en última instancia, hacer una predicción o pronóstico sobre lo que sucederá a continuación.\n",
    "\n",
    "La regresión puede ser útil para modelar la demanda (p. Ej., Tendencias interanuales en función del crecimiento económico, ciclos anuales en función del clima o los grados por día)"
   ]
  },
  {
   "cell_type": "markdown",
   "id": "94e4a9e8",
   "metadata": {},
   "source": [
    "<img src=\"images/power_demand.png\" width=\"600\">"
   ]
  },
  {
   "cell_type": "markdown",
   "id": "221b6505",
   "metadata": {
    "lang": "es"
   },
   "source": [
    "Mientras la regresión tiene como objetivo cuantificar los impactos específicos de variables independientes subyacentes específicas, de la forma:\n",
    "\n",
    "$$\n",
    "Y=b_{1} x_{1}+b_{2} x_{2}+b_{3} x_{3}+b_{4} x_{4}+b_{5} x_{5}\n",
    "$$\n",
    "\n",
    "El modelado de series de tiempo nos permite replicar cada elemento del proceso descomponiendo el proceso matemático en una combinación de señales (por ejemplo, crecimiento interanual de la demanda de electricidad, variabilidad estacional, etc.) y ruido (procesos probabilísticos aleatorios), sin necesariamente conociendo las causas subyacentes de cada uno."
   ]
  },
  {
   "cell_type": "markdown",
   "id": "03f41c7e",
   "metadata": {},
   "source": [
    "<img src=\"images/clean_noisy.png\" width=\"600\">"
   ]
  },
  {
   "cell_type": "markdown",
   "id": "d7ef5cbc",
   "metadata": {
    "lang": "es"
   },
   "source": [
    "Hay algunos términos comunes que se utilizan para describir la naturaleza tanto de la señal subyacente como del ruido de los procesos de series de tiempo:\n",
    "- $\\underline{\\text { Momentos Estadísticos}}$: media y desviación estándar\n",
    "- $\\underline{\\text { Stationary vs. non-stationary}}$: tendencias en media y / o desviación estándar\n",
    "- $\\underline{\\text { Seasonality}}$: patrones periódicos\n",
    "- $\\underline{\\text { Autocorrelation }}$: grado en el que los valores de la serie temporal en el período (t) están relacionados con los valores de la serie temporal en los períodos $(t+1, t+2, \\ldots)$"
   ]
  },
  {
   "cell_type": "markdown",
   "id": "21c92fad",
   "metadata": {
    "lang": "es"
   },
   "source": [
    "## Preprocesamiento y filtrado"
   ]
  },
  {
   "cell_type": "markdown",
   "id": "9aa1f60f",
   "metadata": {
    "lang": "es"
   },
   "source": [
    "Una gran parte del análisis de series de tiempo implica el filtrado, es decir, cambiar los atributos de una serie de tiempo o deconstruirla en sus partes componentes. A menudo, necesitamos hacer bastante con una serie de tiempo antes de construir un modelo para simular el proceso subyacente.\n",
    "\n",
    "Hay todo tipo de filtros que podemos aplicar a los datos de series temporales, según nuestras necesidades:\n",
    "\n",
    "- Detrending\n",
    "    - Non-stationarity\n",
    "    - Seasonality\n",
    "- Autocorrelación\n",
    "- Valores atípicos\n",
    "- Filtros \"pasa baja\"\n",
    "    - Suavizado\n",
    "        - Media móvil\n",
    "        - exponencial"
   ]
  },
  {
   "cell_type": "markdown",
   "id": "484d5781",
   "metadata": {},
   "source": [
    "### Non-stationarity"
   ]
  },
  {
   "cell_type": "markdown",
   "id": "a06625b6",
   "metadata": {
    "lang": "es"
   },
   "source": [
    "¿Qué pasa si queremos estudiar cómo varían las concentraciones de $\\mathrm{CO}_{2}$ durante el año, pero todo lo que tenemos son medidas de concentración durante los últimos años, que están aumentando constantemente?\n",
    "\n",
    "<img src=\"images/nonstationarity.gif\" width=\"400\">"
   ]
  },
  {
   "cell_type": "markdown",
   "id": "fb5c2743",
   "metadata": {
    "lang": "es"
   },
   "source": [
    "Podemos ajustar un modelo lineal a los datos usando regresión de mínimos cuadrados:\n",
    "$$\n",
    "\\mathrm{CO}_{2}=\\mathrm{b}(\\text { Time })+\\mathrm{C}\n",
    "$$\n",
    "\n",
    "Podemos restar esta tendencia lineal de nuestros datos originales para obtener datos de $\\mathrm{CO}_{2}$ \"sin tendencia\", lo que da como resultado la siguiente figura:"
   ]
  },
  {
   "cell_type": "markdown",
   "id": "c1dfc373",
   "metadata": {},
   "source": [
    "<img src=\"images/leave_seasonality.gif\" width=\"400\">"
   ]
  },
  {
   "cell_type": "markdown",
   "id": "b4764ce0",
   "metadata": {},
   "source": [
    "### Seasonality"
   ]
  },
  {
   "cell_type": "markdown",
   "id": "2f3f9e66",
   "metadata": {
    "lang": "es"
   },
   "source": [
    "#### Diferenciación"
   ]
  },
  {
   "cell_type": "markdown",
   "id": "9612f1c7",
   "metadata": {
    "lang": "es"
   },
   "source": [
    "Si la serie tiene una tendencia estable a largo plazo y tiende a volver a la línea de tendencia después de una perturbación, puede ser posible estacionarizarla reduciendo la tendencia (por ejemplo, ajustando una línea de tendencia y restándola antes de ajustar un modelo ). Se dice que esta serie es de tendencia estacionaria.\n",
    "Sin embargo, a veces incluso la eliminación de la tendencia no es suficiente para hacer que la serie sea estacionaria, en cuyo caso puede ser necesario transformarla en una serie de diferencias de período a período y / o de temporada a temporada. Si la media, la varianza y las autocorrelaciones de la serie original no son constantes en el tiempo, incluso después de la eliminación de la tendencia, quizás las estadísticas de los cambios en la serie entre períodos o temporadas sean constantes. Se dice que una serie de este tipo es estacionaria en diferencias.\n",
    "\n",
    "La *primera diferencia* de una serie de tiempo es la serie de cambios de un período al siguiente. Si $Y_{t}$ denota el valor de la serie de tiempo $Y$ en el período $t$, entonces la primera diferencia de $Y$ en el período $t$ es igual a $Y_{t}-Y_{t-1}$"
   ]
  },
  {
   "cell_type": "markdown",
   "id": "e0ea97f5",
   "metadata": {},
   "source": [
    "<img src=\"images/difference_example.png\" width=\"500\">"
   ]
  },
  {
   "cell_type": "markdown",
   "id": "d8173547",
   "metadata": {
    "lang": "es"
   },
   "source": [
    "Si la primera diferencia de $Y$ es estacionaria y también completamente aleatoria (no autocorrelacionada), entonces $\\mathrm{Y}$ se describe mediante un \"modelo de random walk\": en donde cada valor es un paso aleatorio del valor anterior.\n",
    "\n",
    "La siguiente figura muestra múltiples simulaciones de un proceso de \"paseo aleatorio\": $y_{t}=y_{t-1}+w_{t}$, donde $w_{t}$ es ruido blanco.\n",
    "\n",
    "<img src=\"images/random_walk_sim.png\" width=\"500\">"
   ]
  },
  {
   "cell_type": "markdown",
   "id": "cea1e08b",
   "metadata": {
    "lang": "es"
   },
   "source": [
    "Muchas series de tiempo muestran **seasonality** (fluctuaciones periódicas). Si la seasonality está presente, debe incorporarse a un modelo de serie temporal. **¿Cómo lo detectamos?**\n",
    "\n",
    "<img src=\"images/boxplot_seasonality.gif\" width=\"400\">"
   ]
  },
  {
   "cell_type": "markdown",
   "id": "c3ec33dc",
   "metadata": {},
   "source": [
    "#### Detrend"
   ]
  },
  {
   "cell_type": "markdown",
   "id": "344a6198",
   "metadata": {
    "lang": "es"
   },
   "source": [
    "Asimismo, podemos restar la tendencia estacional o periódica de los datos, dejando un proceso sin tendencia.\n",
    "<img src=\"images/subtract_detrend.png\" width=\"900\">"
   ]
  },
  {
   "cell_type": "markdown",
   "id": "b392886f",
   "metadata": {
    "lang": "es"
   },
   "source": [
    "**Pregunta:** *¿Es este un proceso aleatorio?* (¿Podemos replicarlo simplemente tomando muestras de una distribución conocida?)"
   ]
  },
  {
   "cell_type": "markdown",
   "id": "9a60cb56",
   "metadata": {
    "lang": "es"
   },
   "source": [
    "### Autocorrelación"
   ]
  },
  {
   "cell_type": "markdown",
   "id": "f38c5424",
   "metadata": {
    "lang": "es"
   },
   "source": [
    "Una de las diferencias fundamentales entre muchas series de tiempo y un muestreo aleatorio de una única distribución conocida es que las series de tiempo a menudo tienen \"memoria\", es decir, los valores en un período de tiempo influyen en los valores de períodos de tiempo posteriores.\n",
    "\n",
    "Podemos cuantificar esta memoria mediante **autocorrelación**.\n",
    "\n",
    "La función de autocorrelación se puede utilizar para los dos propósitos siguientes:\n",
    "\n",
    "- Para detectar la no aleatoriedad en los datos.\n",
    "\n",
    "- Identificar un modelo de serie temporal apropiado si los datos no son aleatorios\n",
    "\n",
    "Recuerde la ecuación para describir la correlación entre dos variables aleatorias, $X$ y $Y$.\n",
    "\n",
    "$$r_{X, Y}=\\frac{\\operatorname{cov}(X, Y)}{\\sigma_{X} \\sigma_{Y}}=\\frac{E\\left[\\left(X-\\mu_{X}\\right)\\left(Y-\\mu_{Y}\\right)\\right]}{\\sigma_{X} \\sigma_{Y}}$$\n",
    "\n",
    "\n",
    "$$r_{X, Y}=\\frac{E\\left[\\left(X-\\mu_{X}\\right)\\left(Y-\\mu_{Y}\\right)\\right]}{\\sigma_{X} \\sigma_{Y}}=\\frac{\\sum_{i=1}^{n}\\left(x_{i}-\\bar{x}\\right)\\left(y_{i}-\\bar{y}\\right)}{\\sqrt{\\sum_{i=1}^{n}\\left(x_{i}-\\bar{x}\\right)^{2} \\sum_{i=1}^{n}\\left(y_{i}-\\bar{y}\\right)^{2}}}\n",
    "$$\n",
    "\n",
    "La ecuación para la autocorrelación parece bastante similar: solo estamos midiendo la correlación entre una serie de tiempo y ella misma, en diferentes \"retrasos\" (cambios en el tiempo).\n",
    "Dadas las medidas, $Y_{1}, Y_{2}, \\ldots, Y_{N}$ en el tiempo $t_{1}, t_{2}, \\ldots, t_{N}$, la autocorrelación para un rezago de $\\boldsymbol{k}$ es:\n",
    "\n",
    "$$\n",
    "r_{k}=\\frac{\\sum_{i=1}^{N-k}\\left(Y_{i}-\\bar{Y}\\right)\\left(Y_{i+k}-\\bar{Y}\\right)}{\\sum_{i=1}^{N}\\left(Y_{i}-\\bar{Y}\\right)^{2}}\n",
    "$$"
   ]
  },
  {
   "cell_type": "markdown",
   "id": "3a18edad",
   "metadata": {},
   "source": [
    "<img src=\"images/autocorrelation_comp.png\" width=\"600\">"
   ]
  },
  {
   "cell_type": "markdown",
   "id": "a37bc346",
   "metadata": {
    "lang": "es"
   },
   "source": [
    "Podemos probar la autocorrelación con tantos retrasos (lags) como queramos, dependiendo de la duración de la serie de tiempo. Entonces podemos graficar la autocorrelación en función del retraso.\n",
    "\n",
    "<img src=\"images/autocorrelation_vs_k.png\" width=\"500\">\n",
    "\n",
    "**¿Qué nos dice esto?**"
   ]
  },
  {
   "cell_type": "markdown",
   "id": "e56d8c38",
   "metadata": {
    "lang": "es"
   },
   "source": [
    "Si eliminamos todos los elementos de \"señal\" (tendencias, periodicidad, autocorrelación), ¿qué nos queda? Ruido blanco.\n",
    "\n",
    "El ruido blanco es un proceso aleatorio, cuyas muestras se consideran una secuencia de variables aleatorias no correlacionadas en serie con media cero y varianza finita. Eso significa que podemos replicar su naturaleza simplemente tomando muestras de una distribución estadística apropiada con reemplazo.\n",
    "\n",
    "<img src=\"images/distribution_TS.png\" width=\"700\">"
   ]
  },
  {
   "cell_type": "markdown",
   "id": "38d40cb6",
   "metadata": {
    "lang": "es"
   },
   "source": [
    "### Suavizado"
   ]
  },
  {
   "cell_type": "markdown",
   "id": "88862840",
   "metadata": {
    "lang": "es"
   },
   "source": [
    "El suavizado es una forma de filtrado que produce una serie temporal en la que se reduce la importancia de los componentes espectrales a altas frecuencias. Los ingenieros eléctricos llaman a este tipo de filtro un filtro pasa bajas porque se permite que las variaciones de baja frecuencia \"atraviesen\" el filtro. En un filtro pasa bajas, las ondas de baja frecuencia (período largo) apenas se ven afectadas por el suavizado.\n",
    "\n",
    "<img src=\"images/smoothing_example.png\" width=\"500\">"
   ]
  },
  {
   "cell_type": "markdown",
   "id": "d712d757",
   "metadata": {
    "lang": "es"
   },
   "source": [
    "Un filtro estadístico, o filtro digital, es una serie de ponderaciones que cuando se multiplican acumulativamente por valores consecutivos de una serie de tiempo da la serie filtrada. La serie de pesos a veces se denomina función de filtrado o simplemente filtro.\n",
    "\n",
    "El funcionamiento del filtrado se ilustra en la siguiente tabla.\n",
    "\n",
    "$$\n",
    "\\begin{array}{cccc} \n",
    "& & \\text { Time } & \\text { Filtered } \\\\\n",
    "\\text { Year } & \\text { Filter } & \\begin{array}{c}\n",
    "\\text { Series } \\\\\n",
    "\\end{array} & \\text { Values } \\\\ \\hline\n",
    "1 & & 12 & \\\\\n",
    "2 & \\color{red}{.25 \\mathrm{x}} & 17 & 14.00 \\\\\n",
    "3 & \\color{red}{.50 \\mathrm{x}} & 10 & 14.75 \\\\\n",
    "4 & \\color{red}{.25 \\mathrm{x}} & 22 & 17.25 \\\\\n",
    "5 & & 15 & 15.75 \\\\\n",
    "6 & & 11 & 13.75 \\\\\n",
    "7 & & 18 & 18.50 \\\\\n",
    "8 & & 27 & 21.50 \\\\\n",
    "9 & & 14 &\n",
    "\\end{array}\n",
    "$$\n",
    "\n",
    "El filtro procede deslizándose a lo largo de la serie de tiempo un valor a la vez, calculando cada vez un producto acumulativo."
   ]
  },
  {
   "cell_type": "markdown",
   "id": "097ce230",
   "metadata": {
    "lang": "es"
   },
   "source": [
    "Los filtros de suavizado se pueden diseñar de muchas formas diferentes. Por ejemplo:\n",
    "<img src=\"images/another_examples_smoothing.png\" width=\"600\">"
   ]
  },
  {
   "cell_type": "markdown",
   "id": "b297a161",
   "metadata": {
    "lang": "es"
   },
   "source": [
    "Un problema logístico que hay con el suavizadoes que se pierden datos. Puede (si lo desea) reemplazar los puntos de datos perdidos al filtrar de varias formas:\n",
    "\n",
    "<img src=\"images/smooth_loose.png\" width=\"600\">"
   ]
  },
  {
   "cell_type": "markdown",
   "id": "52aba2c0",
   "metadata": {
    "lang": "es"
   },
   "source": [
    "**Pregunta**: Entonces, ¿por qué hacer esto en primer lugar?\n",
    "\n",
    "<img src=\"images/reason_smoothing.png\" width=\"600\">"
   ]
  },
  {
   "cell_type": "markdown",
   "id": "a53dace8",
   "metadata": {
    "lang": "es"
   },
   "source": [
    "## Algunas aplicaciones de TSA"
   ]
  },
  {
   "cell_type": "markdown",
   "id": "e56df398",
   "metadata": {
    "lang": "es"
   },
   "source": [
    "Aplicaciones: \n",
    "\n",
    "El objetivo al usar modelos de series temporales es doble:\n",
    "1. Obtener una comprensión de las fuerzas y la estructura subyacentes que produjeron los datos observados.\n",
    "2. Ajustar un modelo y proceder a la previsión, seguimiento o incluso retroalimentación y control anticipado.\n",
    "El modelado de series temporales se utiliza para muchas aplicaciones como:\n",
    "- Proyecciones económicas\n",
    "- Pronóstico de ventas\n",
    "- Análisis presupuestario\n",
    "- Análisis del mercado de valores\n",
    "- Proyecciones de rendimiento\n",
    "- Control de procesos y calidad\n",
    "- Estudios de inventario\n",
    "- Proyecciones de carga de trabajo\n",
    "- Estudios de utilidad\n",
    "- Análisis del censo"
   ]
  },
  {
   "cell_type": "markdown",
   "id": "14145a45",
   "metadata": {
    "lang": "es"
   },
   "source": [
    "## Modelado de series temporales"
   ]
  },
  {
   "cell_type": "markdown",
   "id": "79225db2",
   "metadata": {
    "lang": "es"
   },
   "source": [
    "Hemos analizado varios elementos diferentes de series de tiempo que, según la aplicación, es posible que deban incluirse en un buen modelo de series de tiempo.\n",
    "- Autocorrelación\n",
    "- Seasonality\n",
    "- Tendencias\n",
    "- Componente aleatorio (ruido)\n",
    "\n",
    "Un tipo de modelo que es capaz de capturar procesos autocorrelacionados con componentes aleatorios es un **modelo autorregresivo (AR)**."
   ]
  },
  {
   "cell_type": "markdown",
   "id": "683b5a3e",
   "metadata": {
    "lang": "es"
   },
   "source": [
    "### Modelo autorregresivo (AR)"
   ]
  },
  {
   "cell_type": "markdown",
   "id": "e7cfc88f",
   "metadata": {
    "lang": "es"
   },
   "source": [
    "La estructura de un modelo AR (1) está dada por\n",
    "\n",
    "$$\n",
    "y_{t}=B_{0}+B_{1} y_{t-1}+w_{t}\n",
    "$$\n",
    "\n",
    "Donde $y_{t}$ es la serie de tiempo que está modelando, $w_{t}$ es ruido blanco, y en este modelo de regresión, la variable de respuesta en el período de tiempo anterior $\\left(y_{t-1}\\right)$ se ha convertido en el predictor y los errores $\\left(w_{t}\\right)$ tienen nuestras suposiciones habituales sobre errores en una regresión lineal simple modelo (es decir, están distribuidos normalmente)\n",
    "\n",
    "El **orden** de un modelo autorregresivo (AR) es el número de valores inmediatamente anteriores en la serie que se utilizan para predecir el valor en el momento actual. Entonces, el modelo anterior es una autorregresión de primer orden, escrito como **AR (1)**."
   ]
  },
  {
   "cell_type": "markdown",
   "id": "f12e5366",
   "metadata": {
    "lang": "es"
   },
   "source": [
    "Si queremos predecir $y$ este año $\\left(y_{t}\\right)$ usando medidas de temperatura global en los dos años anteriores $\\left(y_{t-1}, y_{t-2}\\right)$, entonces el modelo autorregresivo para hacerlo sería:\n",
    "\n",
    "$$\n",
    "y_{t}=B_{0}+B_{1} y_{t-1}+B_{2} y_{t-2}+w_{t}\n",
    "$$\n",
    "\n",
    "Este modelo es una autorregresión de segundo orden, escrito como **AR (2)**, ya que el valor en el tiempo $\\left(y_{t}\\right)$ se predice a partir de los valores en los tiempos $(t-1)$ y $(t-2)$. De manera más general, una autorregresión de k-ésimo orden, escrita como **AR (k)**, es una regresión lineal múltiple en la que el valor de la serie en cualquier momento $t$ es una función (lineal) de los valores en veces $t-{1}, {t}-{2}, \\ldots, {t}-{k}$."
   ]
  },
  {
   "cell_type": "markdown",
   "id": "5aa1712e",
   "metadata": {
    "lang": "es"
   },
   "source": [
    "#### Elección del orden para un modelo autorregresivo"
   ]
  },
  {
   "cell_type": "markdown",
   "id": "1cfe61f9",
   "metadata": {
    "lang": "es"
   },
   "source": [
    "¿Cómo sabemos qué orden elegir $(\\mathbf{k})$ para un modelo autorregresivo?\n",
    "\n",
    "Recuerde la ecuación para la función de autocorrelación:\n",
    "\n",
    "Dadas las medidas, $Y_{1}, Y_{2}, \\ldots, Y_{N}$ en el tiempo $t_{1}, t_{2}, \\ldots, t_{N}$, la autocorrelación para un retraso de $k$ es:\n",
    "\n",
    "$$\n",
    "r_{k}=\\frac{\\sum_{i=1}^{N-k}\\left(Y_{i}-\\bar{Y}\\right)\\left(Y_{i+k}-\\bar{Y}\\right)}{\\sum_{i=1}^{N}\\left(Y_{i}-\\bar{Y}\\right)^{2}}\n",
    "$$\n",
    "\n",
    "Cuando graficamos la función de autocorrelación (ACF) (coeficientes de correlación $\\boldsymbol{r}_{\\boldsymbol{k}}$ en función de lag $\\mathrm{k}$), a menudo obtenemos algo que se ve así, que muestra la \"memoria\" del proceso de series de tiempo decayendo con el tiempo."
   ]
  },
  {
   "cell_type": "markdown",
   "id": "d75af43e",
   "metadata": {},
   "source": [
    "<img src=\"images/autocorrelation_vs_k.png\" width=\"500\">"
   ]
  },
  {
   "cell_type": "markdown",
   "id": "5dcd73a8",
   "metadata": {
    "lang": "es"
   },
   "source": [
    "#### Función de autocorrelación parcial (PACF)\n",
    "\n",
    "Una medida relacionada es una función de autocorrelación parcial de series de tiempo (PACF). La autocorrelación parcial en el retardo $\\mathrm{k}$ es la autocorrelación entre ${y}_{{t}}$ y ${y}_{{t}-{k}}$ que no se explica por los retardos de $1$ a $\\mathrm{k}-1$.\n",
    "\n",
    "Es de esperar que tenga sentido que en un proceso de series de tiempo autocorrelacionado, la correlación entre ${y}_{{t}}$ y ${y}_{{t}-{k}}$ esté influenciada por la correlación entre ${y}_{{t}}$ y $y_{t-1}, y_{t}$ y $y_{t-2}, y_{t}$ y $y_{t-3}, \\ldots$ y así sucesivamente.\n",
    "\n",
    "El PACF es una forma de eliminar esos efectos intermedios y aislar la parte del retraso entre $y_{t}$ y $y_{t-k}$ que no depende de otros pasos de tiempo.\n",
    "\n",
    "Específicamente, las autocorrelaciones parciales son **útiles para identificar el orden (k) de un modelo autorregresivo**.\n",
    "\n",
    "En teoría, la autocorrelación parcial de un proceso $\\mathrm{AR}(\\mathrm{k})$ debería ser cero en el retardo $k+1$ y mayor.\n",
    "\n",
    "Si la gráfica de autocorrelación indica que un modelo AR puede ser apropiado, entonces se examina la gráfica de autocorrelación parcial de muestra para ayudar a identificar el orden. Buscamos el punto en la gráfica donde las autocorrelaciones parciales esencialmente se vuelven cero."
   ]
  },
  {
   "cell_type": "markdown",
   "id": "dd15d417",
   "metadata": {
    "lang": "es"
   },
   "source": [
    "##### Ejemplo: datos de precios de acciones de Google\n",
    "<img src=\"images/google-stock-price.png\" width=\"500\">\n",
    "\n",
    "Podemos trazar el *diagrama de dispersión* de $y_t$ y $y_{t-1}$:\n",
    "\n",
    "<img src=\"images/google-stock-price-lag0-lag1.png\" width=\"500\">"
   ]
  },
  {
   "cell_type": "markdown",
   "id": "5ef38ddc",
   "metadata": {
    "lang": "es"
   },
   "source": [
    "Ahora analizaremos las gráficas de autocorrelación y autocorrelación parcial.\n",
    "\n",
    "<img src=\"images/google-stock-price-ACF-PACF.png\" width=\"800\">"
   ]
  },
  {
   "cell_type": "markdown",
   "id": "1a5cf191",
   "metadata": {
    "lang": "es"
   },
   "source": [
    "**Pregunta:** ¿Cuáles son las conclusiones de los gráficos anteriores?"
   ]
  },
  {
   "cell_type": "markdown",
   "id": "50b7d43a",
   "metadata": {
    "lang": "es"
   },
   "source": [
    "La gráfica de las autocorrelaciones (izquierda) definitivamente exhibe un patrón no aleatorio y los valores altos en rezagos anteriores sugieren un modelo autorregresivo. Dado que los valores son tan altos para tantos valores más bajos de retraso, también examinamos la gráfica de autocorrelaciones parciales (derecha). Aquí notamos que hay un pico significativo en un retraso de 1 y picos mucho más bajos para los retrasos posteriores. Por lo tanto, un modelo AR (1) probablemente sería factible para este conjunto de datos."
   ]
  },
  {
   "cell_type": "markdown",
   "id": "18bffb28",
   "metadata": {
    "lang": "en"
   },
   "source": [
    "### Moving Average (MA) Model"
   ]
  },
  {
   "cell_type": "markdown",
   "id": "ae19680d",
   "metadata": {
    "lang": "es"
   },
   "source": [
    "Otro enfoque común para modelar modelos de series de tiempo univariantes es el modelo de media móvil (MA). Un término de media móvil en un modelo de serie temporal es un error pasado (multiplicado por un coeficiente).\n",
    "\n",
    "Sea $w_{t} \\sim N\\left(0, \\sigma_{w}^{2}\\right)$, lo que significa que $w_{t}$ se distribuyen de forma idéntica e independiente, cada una con una distribución normal que tiene una media de 0 y la misma varianza. Un modelo de promedio móvil de primer orden $\\mathrm{MA}(1)$ es:\n",
    "\n",
    "$$\n",
    "Y_{t}=\\mu+w_{t}+\\theta_{1} w_{t-1}\n",
    "$$\n",
    "\n",
    "Un modelo de media móvil de segundo orden $\\mathrm{MA}(2)$ es:\n",
    "\n",
    "$$\n",
    "Y_{t}=\\mu+w_{t}+\\theta_{1} w_{t-1}+\\theta_{2} w_{t-2}\n",
    "$$\n",
    "\n",
    "Un modelo de media móvil de orden ${q}^{\\text {th }}$ $\\mathrm{MA}(\\mathrm{q})$ es:\n",
    "\n",
    "$$\n",
    "Y_{t}=\\mu+w_{t}+\\theta_{1} w_{t-1}+\\theta_{2} w_{t-2} \\ldots+\\theta_{q} w_{t-q}\n",
    "$$"
   ]
  },
  {
   "cell_type": "markdown",
   "id": "87816d67",
   "metadata": {
    "lang": "es"
   },
   "source": [
    "Las siguientes son las **propiedades teóricas de una serie de tiempo con un modelo MA (1)**:\n",
    "\n",
    "- La media es $\\mathrm{E}\\left[y_{t}\\right]=\\mu$\n",
    "- La varianza es $\\operatorname{Var}\\left(y_{t}\\right)=\\sigma_{W}^{2}\\left(1+\\theta_{1}^{2}\\right)$\n",
    "- La función de autocorrelación (ACF) es:\n",
    "$\\rho_{1}=\\frac{\\theta_{1}}{1+\\theta_{1}^{2}}$ y $\\rho_{h}=0$ para $h \\geq 2$\n",
    "\n",
    "Tenga en cuenta que el *único valor distinto de cero* en el ACF teórico es para el retraso 1. Todas las demás autocorrelaciones son 0. Por lo tanto, un ACF con una autocorrelación significativa solo en el retraso 1 es un indicador de un posible modelo MA (1).\n",
    "\n",
    "Asimismo, un ACF con una autocorrelación significativa en los retrasos 1 y 2 es un indicador de un posible modelo MA (2)."
   ]
  },
  {
   "cell_type": "markdown",
   "id": "bda3805d",
   "metadata": {
    "lang": "es"
   },
   "source": [
    "##### Ejemplo de modelo de media móvil (MA)\n",
    "\n",
    "Suponga que un modelo MA (1) es:\n",
    "\n",
    "$$\n",
    "y_{t}=10+w_{t}+0.7 w_{t-1}\n",
    "$$\n",
    "\n",
    "Sea $w_{t} \\sim N(0,1)$ (distribución normal con media $=0$ y varianza $=1$). Eso significa $\\mu=10$ y $\\theta_{1}=0.7$.\n",
    "\n",
    "El ACF teórico viene dado por: $\\rho_{1}=\\frac{0.7}{1+0.7^{2}}=.4698$ y $\\rho_{h}=0$ para $h \\geq 2$\n",
    "\n",
    "Además, la gráfica teórica del ACF para el proceso MA (1) anterior es:\n",
    "\n",
    "<img src=\"images/theoretical_ACF.gif\" width=\"400\">"
   ]
  },
  {
   "cell_type": "markdown",
   "id": "0f3fa6a8",
   "metadata": {
    "lang": "es"
   },
   "source": [
    "En la práctica, una muestra no suele proporcionar un patrón de autocorrelación tan claro. Podemos simular valores de muestra aleatorios de $n=100$ usando el modelo $y_{t}=10$ $+w_{t}+.7 w_{t-1}$ donde $w_{t} \\sim N(0,1)$\n",
    "\n",
    "Para esta simulación, sigue una gráfica de series de tiempo de los datos de muestra. No podemos decir mucho de esta trama.\n",
    "\n",
    "<img src=\"images/practical_ACF.gif\" width=\"400\">"
   ]
  },
  {
   "cell_type": "markdown",
   "id": "5aec8fa1",
   "metadata": {
    "lang": "es"
   },
   "source": [
    "A continuación, se muestra el ACF de muestra para los datos simulados. Vemos un \"pico\" en el retraso 1 seguido de valores generalmente no significativos para los retrasos más allá del 1. Tenga en cuenta que el ACF de muestra no coincide con el patrón teórico del $\\mathrm{MA}(1)$ subyacente, que es que todas las autocorrelaciones para los retrasos después de 1 serán 0. Una muestra diferente tendría un ACF de muestra ligeramente diferente que se muestra a continuación, pero probablemente tendría las mismas características generales.\n",
    "\n",
    "<img src=\"images/simulated_ACF.gif\" width=\"400\">"
   ]
  },
  {
   "cell_type": "markdown",
   "id": "19461372",
   "metadata": {
    "lang": "es"
   },
   "source": [
    "**Por lo tanto, de manera similar a como usamos la función de autocorrelación parcial para obtener el orden correcto para un modelo AR, usamos la función de autocorrelación para obtener el orden correcto para un modelo MA.**"
   ]
  },
  {
   "cell_type": "markdown",
   "id": "f8575dab",
   "metadata": {},
   "source": [
    "### ARIMA models"
   ]
  },
  {
   "cell_type": "markdown",
   "id": "ecdb09c6",
   "metadata": {},
   "source": [
    "<img src=\"images/ARIMA_diagram.png\" width=\"700\">"
   ]
  },
  {
   "cell_type": "markdown",
   "id": "482e8c62",
   "metadata": {
    "lang": "es"
   },
   "source": [
    "Los modelos ARIMA, también llamados modelos Box-Jenkins, son modelos que posiblemente pueden incluir términos autorregresivos, términos de promedio móvil y \"operaciones de diferenciación\". Se utilizan varias abreviaturas:\n",
    "\n",
    "- Cuando un modelo **solo incluye términos autorregresivos**, puede denominarse modelo AR. Cuando un modelo **solo implica términos de media móvil**, se puede denominar modelo MA.\n",
    "\n",
    "- **Cuando no se trata de diferenciación**, se puede utilizar la abreviatura ARMA.\n",
    "\n",
    "En la mayoría de las librerías, **los elementos del modelo se especifican en el orden $(\\mathrm{AR}$, diferenciación, orden MA)**.\n",
    "\n",
    "- Un modelo con (solo) dos términos AR se especificaría como un ARIMA de orden $(2,0,0)$\n",
    "\n",
    "- Un modelo MA (2) se especificaría como un ARIMA de orden $(0,0,2)$.\n",
    "\n",
    "- Un modelo con un término AR, una primera diferencia y un término MA tendría el orden $(1,1,1)$"
   ]
  },
  {
   "cell_type": "markdown",
   "id": "a67a4b1a",
   "metadata": {
    "lang": "es"
   },
   "source": [
    "##### Identificación de la estructura de un posible modelo\n",
    "\n",
    "Se deben considerar tres elementos para determinar una primera estimación de un modelo ARIMA:\n",
    "\n",
    "1. Una gráfica de series de tiempo de los datos\n",
    "2. El ACF\n",
    "3. Y el PACF\n",
    "\n",
    "##### Gráfico de series de tiempo de la serie observada.\n",
    "\n",
    "Si hay una tendencia lineal hacia arriba o hacia abajo obvia, puede ser necesaria una des-tendencia lineal de la primera diferencia. Los datos también se pueden suavizar si es necesario."
   ]
  },
  {
   "cell_type": "markdown",
   "id": "7c85c09f",
   "metadata": {
    "lang": "es"
   },
   "source": [
    "### Algunos consejos para elegir una estructura de modelo basada en PACF y ACF"
   ]
  },
  {
   "cell_type": "markdown",
   "id": "178d3d0a",
   "metadata": {
    "lang": "es"
   },
   "source": [
    "Primero: si todas las autocorrelaciones no son significativas, entonces la serie es aleatoria (ruido blanco; el orden es importante, pero los datos son independientes y están distribuidos de manera idéntica). Ha terminado en ese punto."
   ]
  },
  {
   "cell_type": "markdown",
   "id": "32f8e587",
   "metadata": {
    "lang": "es"
   },
   "source": [
    "##### Ejemplo: AR (1)\n",
    "Los modelos AR tienen PACF teóricos con valores distintos de cero en los términos AR en el modelo y valores cero en otros lugares. El ACF se reducirá a cero de alguna manera.\n",
    "\n",
    "<img src=\"images/example_AR1.png\" width=\"400\">"
   ]
  },
  {
   "cell_type": "markdown",
   "id": "49ab5f04",
   "metadata": {
    "lang": "es"
   },
   "source": [
    "##### Ejemplo AR (2)\n",
    "Un AR (2) tiene un ACF sinusoidal que converge a 0.\n",
    "\n",
    "<img src=\"images/example_AR2.png\" width=\"400\">"
   ]
  },
  {
   "cell_type": "markdown",
   "id": "eb701cfd",
   "metadata": {
    "lang": "es"
   },
   "source": [
    "##### Ejemplo MA (1)\n",
    "\n",
    "Los modelos MA tienen ACF teóricos con valores distintos de cero en los términos MA en el modelo y valores cero en otros lugares.\n",
    "\n",
    "<img src=\"images/example_MA1.png\" width=\"400\">"
   ]
  },
  {
   "cell_type": "markdown",
   "id": "743409d2",
   "metadata": {
    "lang": "es"
   },
   "source": [
    "##### Ejemplo ARMA (1,1)\n",
    "\n",
    "Los modelos ARMA (incluidos los términos AR y MA) tienen ACF y PACF que se reducen a 0. Estos son los más complicados porque el orden no será particularmente obvio. Básicamente, solo tiene que adivinar que es posible que se necesiten uno o dos términos de cada tipo y luego ver qué sucede cuando estima el modelo.\n",
    "\n",
    "<img src=\"images/example_ARMA11.png\" width=\"400\">"
   ]
  },
  {
   "cell_type": "markdown",
   "id": "3635dc25",
   "metadata": {
    "lang": "es"
   },
   "source": [
    "##### Algunos consejos adicionales"
   ]
  },
  {
   "cell_type": "markdown",
   "id": "b3a3bab2",
   "metadata": {
    "lang": "es"
   },
   "source": [
    "- Si el ACF y el PACF no se reducen, sino que tienen valores que permanecen cerca de 1 durante muchos retrasos, la serie no es estacionaria y se necesitará diferenciar. **Pruebe una primera diferencia** y luego observe el ACF y PACF de los datos diferenciados.\n",
    "\n",
    "- Si ha tomado las primeras diferencias y todas las autocorrelaciones no son significativas, entonces la serie se llama **caminata aleatoria** y ya está.\n",
    "\n",
    "- Un modelo posible para una caminata aleatoria es $y_{t}=y_{t-1}+w_{t}$ (sin deriva) o $y_{t}=\\alpha+y_{t-1}+w_{t}$ (con deriva $\\boldsymbol{\\alpha}$) Los datos son dependientes y no están distribuidos de manera idéntica; de hecho, tanto la media como la varianza aumentan con el tiempo."
   ]
  },
  {
   "cell_type": "markdown",
   "id": "71313ea4",
   "metadata": {
    "lang": "es"
   },
   "source": [
    "### Ajuste del modelo"
   ]
  },
  {
   "cell_type": "markdown",
   "id": "61a5289c",
   "metadata": {
    "lang": "es"
   },
   "source": [
    "Los coeficientes del modelo para un modelo AR, MA o ARMA se estiman mediante métodos de máxima verosimilitud (no entraremos en detalle, es similar a lo que hemos visto en temas anteriores, pueden leerlo en las referencias). usted).\n",
    "\n",
    "La esencia es que queremos encontrar los coeficientes a continuación que minimicen el valor al cuadrado de todos los términos de \"error\" o ruido blanco. $\\left(\\sum_{t=1}^{n} w_{t}\\right)$\n",
    "\n",
    "<img src=\"images/model_fitting.png\" width=\"400\">"
   ]
  },
  {
   "cell_type": "markdown",
   "id": "53f1c76c",
   "metadata": {},
   "source": [
    "## Referencias\n",
    "\n",
    "- https://www.itl.nist.gov/div898/handbook/pmc/section4/pmc4.htm\n",
    "\n",
    "- https://online.stat.psu.edu/stat510/\n",
    "\n"
   ]
  }
 ],
 "metadata": {
  "kernelspec": {
   "display_name": "Python 3 (ipykernel)",
   "language": "python",
   "name": "python3"
  },
  "language_info": {
   "codemirror_mode": {
    "name": "ipython",
    "version": 3
   },
   "file_extension": ".py",
   "mimetype": "text/x-python",
   "name": "python",
   "nbconvert_exporter": "python",
   "pygments_lexer": "ipython3",
   "version": "3.9.7"
  },
  "nbTranslate": {
   "displayLangs": [
    "es",
    "en"
   ],
   "hotkey": "alt-t",
   "langInMainMenu": true,
   "sourceLang": "en",
   "targetLang": "es",
   "useGoogleTranslate": true
  }
 },
 "nbformat": 4,
 "nbformat_minor": 5
}
