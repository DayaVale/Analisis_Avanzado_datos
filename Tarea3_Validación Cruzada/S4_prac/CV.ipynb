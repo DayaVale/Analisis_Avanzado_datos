{
 "cells": [
  {
   "cell_type": "markdown",
   "metadata": {},
   "source": [
    "## Cross Validation\n",
    "\n",
    "### The validation set approach\n",
    "Por lo general, no siempre se dispone de un Test set (conjunto de prueba), por lo que una estrategia simple para crearlo es dividir los datos disponibles en training y validation (conjunto de validación). Para las respuestas cuantitativas usualmente se usa el MSE (o el RMSE), para categóricas se puede usar la tasa de error, área bajo la curva, F1-score, accuracy, kappa, matriz de confusión, etc.\n",
    "\n",
    "### Leave One Out Cross Validation (LOOCV)\n",
    "LOOCV solo tiene una observación en el conjunto de validación y usa todas las demás $n-1$ observaciones para construir un modelo. Se construyen múltiples modelos omitiendo cada observación una vez y se promedia el error en estas $n$ pruebas. LOOCV es mejor que el método anterior. El modelo se basa en casi todos los datos y no hay aleatoriedad en las divisiones ya que cada observación se omite una vez. Es computacionalmente costoso especialmente con un $n$ grande y con un modelo complejo.\n",
    "\n",
    "### k-fold cross validation\n",
    "Es similar a LOOCV pero esta vez se deja un número mayor a 1 fuera (para usarlo como conjunto de validación). Aquí, $k$ es el número de particiones de la muestra, de modo que si se tiene 1000 observaciones y $k = 10$, cada iteración (fold) será 100. Estas 100 observaciones actuarían como un conjunto de test. Posteriormente, se obtiene un MSE (o tasa de error, accuracy, etc.) por cada pliegue de estas 100 observaciones y se toma el promedio. LOOCV es un caso especial de k-fold cross validation cuando $k$ es igual al número de observaciones.\n",
    "\n",
    "### Bias-variance tradeoff entre LOOCV y k-fold CV\n",
    "Dado que LOOCV usa casi todos los datos para entrenar, la tasa de error del cojunto de Test generalmente será menor que en k-fold cross validation y menos sesgada. LOOCV tiene mayor varianza ya que todos los $n$ modelos estarán altamente correlacionados entre sí. Dado que los modelos no serán muy diferentes, la tasa de error de Test (que es lo que intenta medir la validación cruzada) variará más que usando k-fold CV, el cúal tiene menos modelos que están menos correlacionados entre sí. Un valor de $k$ entre 5 y 10 es una buena regla empírica que equilibra la compensación entre el sesgo y la varianza."
   ]
  },
  {
   "cell_type": "code",
   "execution_count": 1,
   "metadata": {},
   "outputs": [],
   "source": [
    "# Cargando los modulos basicos\n",
    "import pandas as pd\n",
    "import numpy as np\n",
    "import matplotlib.pyplot as plt\n",
    "import seaborn as sns\n",
    "%matplotlib inline\n",
    "\n",
    "from sklearn.model_selection import train_test_split, LeaveOneOut, cross_val_score, cross_val_predict, StratifiedKFold\n",
    "from sklearn.metrics import confusion_matrix, classification_report, precision_score, accuracy_score, recall_score \n",
    "from sklearn.neighbors import KNeighborsClassifier\n",
    "\n",
    "from sklearn import preprocessing\n",
    "from sklearn.pipeline import make_pipeline, Pipeline\n",
    "\n",
    "\n",
    "# Para ser reproducible\n",
    "np.random.seed(42)"
   ]
  },
  {
   "cell_type": "code",
   "execution_count": 2,
   "metadata": {},
   "outputs": [],
   "source": [
    "# Funcion para calcular y visualizar la matriz de confusion \n",
    "def plotCM(ytrue, ypred, clases=None, normalize = False, ax = None):\n",
    "    \"\"\" Funcion para calcular y visualizar la matriz de confusion\"\"\"\n",
    "    \n",
    "    if clases == None:\n",
    "        clases = list(set(ytrue))\n",
    "        clases.sort() # etiquetas unicas ordenadas alfabeticamente\n",
    "    \n",
    "    CM = confusion_matrix(ytrue,ypred, labels=clases)\n",
    "    \n",
    "    #Normaliza la matriz de confusion dividiendo cada fila por el total de verdaderos\n",
    "    if normalize:\n",
    "        CM = 100*CM / CM.sum(axis=1).reshape(-1,1) #Aprovechando el Broadcasting!\n",
    " \n",
    "    df = pd.DataFrame(CM, index=clases, columns=clases)\n",
    "    df.index.name = 'True'; df.columns.name = 'Predicted'\n",
    "    \n",
    "    sns.heatmap( df, # Visualizando la matriz de confusion\n",
    "             annot=True, fmt='2.1f', cmap='ocean_r',cbar=False,square=True, annot_kws={'fontsize':16}, ax=ax )\n",
    "    "
   ]
  },
  {
   "cell_type": "markdown",
   "metadata": {},
   "source": [
    "# Ejemplos de validación cruzada con el iris dataset"
   ]
  },
  {
   "cell_type": "code",
   "execution_count": 3,
   "metadata": {},
   "outputs": [
    {
     "data": {
      "text/html": [
       "<div>\n",
       "<style scoped>\n",
       "    .dataframe tbody tr th:only-of-type {\n",
       "        vertical-align: middle;\n",
       "    }\n",
       "\n",
       "    .dataframe tbody tr th {\n",
       "        vertical-align: top;\n",
       "    }\n",
       "\n",
       "    .dataframe thead th {\n",
       "        text-align: right;\n",
       "    }\n",
       "</style>\n",
       "<table border=\"1\" class=\"dataframe\">\n",
       "  <thead>\n",
       "    <tr style=\"text-align: right;\">\n",
       "      <th></th>\n",
       "      <th>sepal_length</th>\n",
       "      <th>sepal_width</th>\n",
       "      <th>petal_length</th>\n",
       "      <th>petal_width</th>\n",
       "      <th>species</th>\n",
       "    </tr>\n",
       "  </thead>\n",
       "  <tbody>\n",
       "    <tr>\n",
       "      <th>0</th>\n",
       "      <td>5.1</td>\n",
       "      <td>3.5</td>\n",
       "      <td>1.4</td>\n",
       "      <td>0.2</td>\n",
       "      <td>setosa</td>\n",
       "    </tr>\n",
       "    <tr>\n",
       "      <th>1</th>\n",
       "      <td>4.9</td>\n",
       "      <td>3.0</td>\n",
       "      <td>1.4</td>\n",
       "      <td>0.2</td>\n",
       "      <td>setosa</td>\n",
       "    </tr>\n",
       "    <tr>\n",
       "      <th>2</th>\n",
       "      <td>4.7</td>\n",
       "      <td>3.2</td>\n",
       "      <td>1.3</td>\n",
       "      <td>0.2</td>\n",
       "      <td>setosa</td>\n",
       "    </tr>\n",
       "    <tr>\n",
       "      <th>3</th>\n",
       "      <td>4.6</td>\n",
       "      <td>3.1</td>\n",
       "      <td>1.5</td>\n",
       "      <td>0.2</td>\n",
       "      <td>setosa</td>\n",
       "    </tr>\n",
       "    <tr>\n",
       "      <th>4</th>\n",
       "      <td>5.0</td>\n",
       "      <td>3.6</td>\n",
       "      <td>1.4</td>\n",
       "      <td>0.2</td>\n",
       "      <td>setosa</td>\n",
       "    </tr>\n",
       "  </tbody>\n",
       "</table>\n",
       "</div>"
      ],
      "text/plain": [
       "   sepal_length  sepal_width  petal_length  petal_width species\n",
       "0           5.1          3.5           1.4          0.2  setosa\n",
       "1           4.9          3.0           1.4          0.2  setosa\n",
       "2           4.7          3.2           1.3          0.2  setosa\n",
       "3           4.6          3.1           1.5          0.2  setosa\n",
       "4           5.0          3.6           1.4          0.2  setosa"
      ]
     },
     "execution_count": 3,
     "metadata": {},
     "output_type": "execute_result"
    }
   ],
   "source": [
    "# Cargamos el iris dataset usando seaborn\n",
    "iris = sns.load_dataset(\"iris\")\n",
    "iris.head()"
   ]
  },
  {
   "cell_type": "code",
   "execution_count": 4,
   "metadata": {},
   "outputs": [
    {
     "data": {
      "text/plain": [
       "array(['setosa', 'versicolor', 'virginica'], dtype=object)"
      ]
     },
     "execution_count": 4,
     "metadata": {},
     "output_type": "execute_result"
    }
   ],
   "source": [
    "iris['species'].unique()"
   ]
  },
  {
   "cell_type": "markdown",
   "metadata": {},
   "source": [
    "### The validation set approach\n",
    "El enfoque mediante un sólo conjunto de validación se implementa en scikit-learn mediante la función `sklearn.model_selection.train_test_split(*arrays, **options)`. Las entradas `*arrays` pueden ser cualquier número de secuencias indexables (listas, arrays de numpy, dataframes de pandas, etc.) con la misma longitud. La descripción completa de los parámetros se encuentra en la [documentación de la función](http://scikit-learn.org/stable/modules/generated/sklearn.model_selection.train_test_split.html). \n",
    "\n",
    "Si esta función se utiliza con los parámetros por defecto, realiza la partición de forma aleatoria, sin tener en cuenta las proporciones de las clases. Esto puede ser contraproducente en un dataset con diferentes número de elementos por clase (es decir desbalanceado). Para tener en cuenta las proporciones de las clases se debe hacer la partición de los datos de forma *estratificada* (stratified), y se puede hacer de forma muy sencilla  utilizando `train_test_split` con el parámetro `stratify=y`, donde `y` es el vector de etiquetas de las clases.\n",
    "\n",
    "Un alternativa para particionar de forma estratificada es usar la clase `sklearn.model_selection.StratifiedShuffelSplit()`, la cúal instancia un objeto de validación cruzada (cross validator) que puede generar índices para diferentes números de particiones (una partición es el enfoque de validación, más de una partición es k-fold CV). "
   ]
  },
  {
   "cell_type": "code",
   "execution_count": 5,
   "metadata": {},
   "outputs": [],
   "source": [
    "# from sklearn.model_selection import train_test_split\n",
    "\n",
    "X = iris.drop(columns='species') # Toma solo los predictores\n",
    "y = iris['species'] # Vector de etiquetas\n",
    "\n",
    "X_train, X_test, y_train, y_test = train_test_split( X,y, test_size=0.25, random_state=123)\n"
   ]
  },
  {
   "cell_type": "code",
   "execution_count": 6,
   "metadata": {},
   "outputs": [
    {
     "name": "stdout",
     "output_type": "stream",
     "text": [
      "(112, 4)\n",
      "(38, 4)\n"
     ]
    }
   ],
   "source": [
    "print(X_train.shape)\n",
    "print(X_test.shape)"
   ]
  },
  {
   "cell_type": "markdown",
   "metadata": {},
   "source": [
    "Ahora se puede usar un clasificador (o varios) y evaluar la predicción sobre el conjunto de prueba. Por ejemplo, podemos usar un KNN:"
   ]
  },
  {
   "cell_type": "code",
   "execution_count": 7,
   "metadata": {},
   "outputs": [
    {
     "data": {
      "image/png": "[encoded data removed]",
      "text/plain": [
       "<Figure size 432x288 with 1 Axes>"
      ]
     },
     "metadata": {
      "needs_background": "light"
     },
     "output_type": "display_data"
    }
   ],
   "source": [
    "#Explorar y visualizar los datos para obtener información.\n",
    "model = KNeighborsClassifier(n_neighbors=5).fit( X_train, y_train )\n",
    "y_pred = model.predict(X_test)\n",
    "\n",
    "plotCM(y_test,y_pred, normalize=True)"
   ]
  },
  {
   "cell_type": "markdown",
   "metadata": {},
   "source": [
    "### Leave One Out Cross Validation (LOOCV)\n",
    "LOOCV se implementa mediante la clase `sklearn.model_selection.LeaveOneOut`, que genera un objeto de validación cruzada (cross validator). Este \"validador\" suministra índices tanto para el conjunto de entrenamiento como el de prueba (training and test).  Esta técnica es computacionalmente intensiva, por lo tanto no es aconsejable usarla en datasets de tamaño grande.\n",
    "\n",
    "Continuando con el ejemplo del Iris:"
   ]
  },
  {
   "cell_type": "code",
   "execution_count": 8,
   "metadata": {},
   "outputs": [
    {
     "data": {
      "text/plain": [
       "150"
      ]
     },
     "execution_count": 8,
     "metadata": {},
     "output_type": "execute_result"
    }
   ],
   "source": [
    "# from sklearn.model_selection import LeaveOneOut\n",
    "\n",
    "loo = LeaveOneOut() # Se instancia al cross validator\n",
    "\n",
    "loo.get_n_splits(X) # Devuelve el numero de particiones en el validador"
   ]
  },
  {
   "cell_type": "markdown",
   "metadata": {},
   "source": [
    "Ahora se debe utilizar un bucle con el método `split()` para generar los índices:"
   ]
  },
  {
   "cell_type": "code",
   "execution_count": 9,
   "metadata": {},
   "outputs": [
    {
     "name": "stdout",
     "output_type": "stream",
     "text": [
      "(149, 4) (1, 4)\n",
      "(149, 4) (1, 4)\n",
      "(149, 4) (1, 4)\n",
      "(149, 4) (1, 4)\n",
      "(149, 4) (1, 4)\n",
      "(149, 4) (1, 4)\n",
      "(149, 4) (1, 4)\n",
      "(149, 4) (1, 4)\n",
      "(149, 4) (1, 4)\n",
      "(149, 4) (1, 4)\n",
      "(149, 4) (1, 4)\n",
      "(149, 4) (1, 4)\n",
      "(149, 4) (1, 4)\n",
      "(149, 4) (1, 4)\n",
      "(149, 4) (1, 4)\n",
      "(149, 4) (1, 4)\n",
      "(149, 4) (1, 4)\n",
      "(149, 4) (1, 4)\n",
      "(149, 4) (1, 4)\n",
      "(149, 4) (1, 4)\n",
      "(149, 4) (1, 4)\n",
      "(149, 4) (1, 4)\n",
      "(149, 4) (1, 4)\n",
      "(149, 4) (1, 4)\n",
      "(149, 4) (1, 4)\n",
      "(149, 4) (1, 4)\n",
      "(149, 4) (1, 4)\n",
      "(149, 4) (1, 4)\n",
      "(149, 4) (1, 4)\n",
      "(149, 4) (1, 4)\n",
      "(149, 4) (1, 4)\n",
      "(149, 4) (1, 4)\n",
      "(149, 4) (1, 4)\n",
      "(149, 4) (1, 4)\n",
      "(149, 4) (1, 4)\n",
      "(149, 4) (1, 4)\n",
      "(149, 4) (1, 4)\n",
      "(149, 4) (1, 4)\n",
      "(149, 4) (1, 4)\n",
      "(149, 4) (1, 4)\n",
      "(149, 4) (1, 4)\n",
      "(149, 4) (1, 4)\n",
      "(149, 4) (1, 4)\n",
      "(149, 4) (1, 4)\n",
      "(149, 4) (1, 4)\n",
      "(149, 4) (1, 4)\n",
      "(149, 4) (1, 4)\n",
      "(149, 4) (1, 4)\n",
      "(149, 4) (1, 4)\n",
      "(149, 4) (1, 4)\n",
      "(149, 4) (1, 4)\n",
      "(149, 4) (1, 4)\n",
      "(149, 4) (1, 4)\n",
      "(149, 4) (1, 4)\n",
      "(149, 4) (1, 4)\n",
      "(149, 4) (1, 4)\n",
      "(149, 4) (1, 4)\n",
      "(149, 4) (1, 4)\n",
      "(149, 4) (1, 4)\n",
      "(149, 4) (1, 4)\n",
      "(149, 4) (1, 4)\n",
      "(149, 4) (1, 4)\n",
      "(149, 4) (1, 4)\n",
      "(149, 4) (1, 4)\n",
      "(149, 4) (1, 4)\n",
      "(149, 4) (1, 4)\n",
      "(149, 4) (1, 4)\n",
      "(149, 4) (1, 4)\n",
      "(149, 4) (1, 4)\n",
      "(149, 4) (1, 4)\n",
      "(149, 4) (1, 4)\n",
      "(149, 4) (1, 4)\n",
      "(149, 4) (1, 4)\n",
      "(149, 4) (1, 4)\n",
      "(149, 4) (1, 4)\n",
      "(149, 4) (1, 4)\n",
      "(149, 4) (1, 4)\n",
      "(149, 4) (1, 4)\n",
      "(149, 4) (1, 4)\n",
      "(149, 4) (1, 4)\n",
      "(149, 4) (1, 4)\n",
      "(149, 4) (1, 4)\n",
      "(149, 4) (1, 4)\n",
      "(149, 4) (1, 4)\n",
      "(149, 4) (1, 4)\n",
      "(149, 4) (1, 4)\n",
      "(149, 4) (1, 4)\n",
      "(149, 4) (1, 4)\n",
      "(149, 4) (1, 4)\n",
      "(149, 4) (1, 4)\n",
      "(149, 4) (1, 4)\n",
      "(149, 4) (1, 4)\n",
      "(149, 4) (1, 4)\n",
      "(149, 4) (1, 4)\n",
      "(149, 4) (1, 4)\n",
      "(149, 4) (1, 4)\n",
      "(149, 4) (1, 4)\n",
      "(149, 4) (1, 4)\n",
      "(149, 4) (1, 4)\n",
      "(149, 4) (1, 4)\n",
      "(149, 4) (1, 4)\n",
      "(149, 4) (1, 4)\n",
      "(149, 4) (1, 4)\n",
      "(149, 4) (1, 4)\n",
      "(149, 4) (1, 4)\n",
      "(149, 4) (1, 4)\n",
      "(149, 4) (1, 4)\n",
      "(149, 4) (1, 4)\n",
      "(149, 4) (1, 4)\n",
      "(149, 4) (1, 4)\n",
      "(149, 4) (1, 4)\n",
      "(149, 4) (1, 4)\n",
      "(149, 4) (1, 4)\n",
      "(149, 4) (1, 4)\n",
      "(149, 4) (1, 4)\n",
      "(149, 4) (1, 4)\n",
      "(149, 4) (1, 4)\n",
      "(149, 4) (1, 4)\n",
      "(149, 4) (1, 4)\n",
      "(149, 4) (1, 4)\n",
      "(149, 4) (1, 4)\n",
      "(149, 4) (1, 4)\n",
      "(149, 4) (1, 4)\n",
      "(149, 4) (1, 4)\n",
      "(149, 4) (1, 4)\n",
      "(149, 4) (1, 4)\n",
      "(149, 4) (1, 4)\n",
      "(149, 4) (1, 4)\n",
      "(149, 4) (1, 4)\n",
      "(149, 4) (1, 4)\n",
      "(149, 4) (1, 4)\n",
      "(149, 4) (1, 4)\n",
      "(149, 4) (1, 4)\n",
      "(149, 4) (1, 4)\n",
      "(149, 4) (1, 4)\n",
      "(149, 4) (1, 4)\n",
      "(149, 4) (1, 4)\n",
      "(149, 4) (1, 4)\n",
      "(149, 4) (1, 4)\n",
      "(149, 4) (1, 4)\n",
      "(149, 4) (1, 4)\n",
      "(149, 4) (1, 4)\n",
      "(149, 4) (1, 4)\n",
      "(149, 4) (1, 4)\n",
      "(149, 4) (1, 4)\n",
      "(149, 4) (1, 4)\n",
      "(149, 4) (1, 4)\n",
      "(149, 4) (1, 4)\n",
      "(149, 4) (1, 4)\n",
      "(149, 4) (1, 4)\n"
     ]
    }
   ],
   "source": [
    "for train_index, test_index in loo.split(X):\n",
    "    \n",
    "    X_train, X_test = X.loc[train_index], X.loc[test_index] # son dataframes por eso se usa \"loc\"\n",
    "    y_train, y_test = y.loc[train_index], y.loc[test_index]\n",
    "    \n",
    "    print(X_train.shape, X_test.shape)"
   ]
  },
  {
   "cell_type": "markdown",
   "metadata": {},
   "source": [
    "¿Algo falta? No se ha realizado ninguna clasificación. Basta con introducir los clasificadores:"
   ]
  },
  {
   "cell_type": "code",
   "execution_count": 10,
   "metadata": {},
   "outputs": [
    {
     "name": "stdout",
     "output_type": "stream",
     "text": [
      "Mean accuracy =  0.9666666666666667\n"
     ]
    }
   ],
   "source": [
    "acc = [] # Define una lista para almacenar las exactitudes\n",
    "\n",
    "for train_index, test_index in loo.split(X):\n",
    "    \n",
    "    X_train, X_test = X.loc[train_index], X.loc[test_index] # son dataframes por eso se usa \"loc\"\n",
    "    y_train, y_test = y.loc[train_index], y.loc[test_index]\n",
    "    \n",
    "    # Implementacion del clasificador (no es la unica forma, ver sklearn.base.clone)\n",
    "    model = KNeighborsClassifier(n_neighbors=5).fit( X_train, y_train )\n",
    "    y_pred = model.predict(X_test)\n",
    "    acc.append( accuracy_score(y_test,y_pred) )\n",
    "    \n",
    "mean_accuracy = np.mean(acc) # Calcula la exactitud promedio\n",
    "\n",
    "print(\"Mean accuracy = \", mean_accuracy)\n",
    "    "
   ]
  },
  {
   "cell_type": "code",
   "execution_count": 11,
   "metadata": {},
   "outputs": [
    {
     "data": {
      "text/plain": [
       "[1.0,\n",
       " 1.0,\n",
       " 1.0,\n",
       " 1.0,\n",
       " 1.0,\n",
       " 1.0,\n",
       " 1.0,\n",
       " 1.0,\n",
       " 1.0,\n",
       " 1.0,\n",
       " 1.0,\n",
       " 1.0,\n",
       " 1.0,\n",
       " 1.0,\n",
       " 1.0,\n",
       " 1.0,\n",
       " 1.0,\n",
       " 1.0,\n",
       " 1.0,\n",
       " 1.0,\n",
       " 1.0,\n",
       " 1.0,\n",
       " 1.0,\n",
       " 1.0,\n",
       " 1.0,\n",
       " 1.0,\n",
       " 1.0,\n",
       " 1.0,\n",
       " 1.0,\n",
       " 1.0,\n",
       " 1.0,\n",
       " 1.0,\n",
       " 1.0,\n",
       " 1.0,\n",
       " 1.0,\n",
       " 1.0,\n",
       " 1.0,\n",
       " 1.0,\n",
       " 1.0,\n",
       " 1.0,\n",
       " 1.0,\n",
       " 1.0,\n",
       " 1.0,\n",
       " 1.0,\n",
       " 1.0,\n",
       " 1.0,\n",
       " 1.0,\n",
       " 1.0,\n",
       " 1.0,\n",
       " 1.0,\n",
       " 1.0,\n",
       " 1.0,\n",
       " 1.0,\n",
       " 1.0,\n",
       " 1.0,\n",
       " 1.0,\n",
       " 1.0,\n",
       " 1.0,\n",
       " 1.0,\n",
       " 1.0,\n",
       " 1.0,\n",
       " 1.0,\n",
       " 1.0,\n",
       " 1.0,\n",
       " 1.0,\n",
       " 1.0,\n",
       " 1.0,\n",
       " 1.0,\n",
       " 1.0,\n",
       " 1.0,\n",
       " 0.0,\n",
       " 1.0,\n",
       " 0.0,\n",
       " 1.0,\n",
       " 1.0,\n",
       " 1.0,\n",
       " 1.0,\n",
       " 1.0,\n",
       " 1.0,\n",
       " 1.0,\n",
       " 1.0,\n",
       " 1.0,\n",
       " 1.0,\n",
       " 0.0,\n",
       " 1.0,\n",
       " 1.0,\n",
       " 1.0,\n",
       " 1.0,\n",
       " 1.0,\n",
       " 1.0,\n",
       " 1.0,\n",
       " 1.0,\n",
       " 1.0,\n",
       " 1.0,\n",
       " 1.0,\n",
       " 1.0,\n",
       " 1.0,\n",
       " 1.0,\n",
       " 1.0,\n",
       " 1.0,\n",
       " 1.0,\n",
       " 1.0,\n",
       " 1.0,\n",
       " 1.0,\n",
       " 1.0,\n",
       " 1.0,\n",
       " 0.0,\n",
       " 1.0,\n",
       " 1.0,\n",
       " 1.0,\n",
       " 1.0,\n",
       " 1.0,\n",
       " 1.0,\n",
       " 1.0,\n",
       " 1.0,\n",
       " 1.0,\n",
       " 1.0,\n",
       " 1.0,\n",
       " 1.0,\n",
       " 0.0,\n",
       " 1.0,\n",
       " 1.0,\n",
       " 1.0,\n",
       " 1.0,\n",
       " 1.0,\n",
       " 1.0,\n",
       " 1.0,\n",
       " 1.0,\n",
       " 1.0,\n",
       " 1.0,\n",
       " 1.0,\n",
       " 1.0,\n",
       " 1.0,\n",
       " 1.0,\n",
       " 1.0,\n",
       " 1.0,\n",
       " 1.0,\n",
       " 1.0,\n",
       " 1.0,\n",
       " 1.0,\n",
       " 1.0,\n",
       " 1.0,\n",
       " 1.0,\n",
       " 1.0,\n",
       " 1.0,\n",
       " 1.0,\n",
       " 1.0,\n",
       " 1.0,\n",
       " 1.0,\n",
       " 1.0]"
      ]
     },
     "execution_count": 11,
     "metadata": {},
     "output_type": "execute_result"
    }
   ],
   "source": [
    "acc"
   ]
  },
  {
   "cell_type": "markdown",
   "metadata": {},
   "source": [
    "El ejemplo anterior es un bucle más importante de lo que parece ya que se usa de forma muy similar para diferentes objetos de validación cruzada (cross validator) como `LeaveOneOut`, `StratifiedShuffelSplit`, entre otros."
   ]
  },
  {
   "cell_type": "markdown",
   "metadata": {},
   "source": [
    "### k-fold cross validation"
   ]
  },
  {
   "cell_type": "markdown",
   "metadata": {},
   "source": [
    "Al igual que el enfoque con sólo un conjunto de validación, k-fold cross validation tiene dos variantes:\n",
    "- La versión \"normal\" en la cual particiona el conjunto de datos en k subconjuntos de forma aleatoria. Se puede implementar a través de la clase `sklearn.model_selection.KFold` (cross validator).\n",
    "- La versión \"estratificada\" en la cual las particiones contienen proporciones similares de los elementos de cada clase, se puede implementar ya sea mediante la clase `sklearn.model_selection.StratifiedKFold`. De forma más simple se puede usar la función `sklearn.model_selection.cross_val_score`, la cúal es mucho más general (sirve para LOOCV, k-fold CV no estratificado, etc.), sirve para evaluar específicamente una métrica de desempeño a través de la validación cruzada. Una alternativa a la función anterior es `sklearn.model_selection.cross_val_predict`, la cúal es muy similar a *cross_val_score* pero en vez de evaluar una métrica genera las predicciones de todas las observaciones.\n",
    "\n",
    "La versión estratificada es más usada y es similar a la no estratificada cuando el conjunto de datos es balanceado. Por lo tanto, se verá la *Stratified k-fold cross validation*. En la documentación de scikit-learn se puede encontrar más información sobre todas las implementaciones de validación cruzada (hay más de las que trata este notebook) del módulo `sklearn.model_selection`."
   ]
  },
  {
   "cell_type": "markdown",
   "metadata": {},
   "source": [
    "#### `cross_val_score`\n",
    "Esta función permite implementar de forma muy simple la validación cruzada (varios tipos de validación cruzada). [Es recomendable leer la documentación oficial de scikit-learn de esta función](http://scikit-learn.org/stable/modules/generated/sklearn.model_selection.cross_val_score.html#sklearn.model_selection.cross_val_score). \n",
    "\n",
    "Para el caso del Iris dataset, la *Stratified k-fold cross validation* se puede implementar así:"
   ]
  },
  {
   "cell_type": "code",
   "execution_count": 12,
   "metadata": {},
   "outputs": [],
   "source": [
    " from sklearn.model_selection import cross_val_score \n",
    "\n",
    "# Se define el modelo (sin ajustar)\n",
    "model = KNeighborsClassifier(n_neighbors=5) #KNN\n",
    "\n",
    "accuracies = cross_val_score(model, X, y, cv=5, scoring=\"accuracy\")"
   ]
  },
  {
   "cell_type": "code",
   "execution_count": 13,
   "metadata": {},
   "outputs": [
    {
     "data": {
      "text/plain": [
       "array([0.96666667, 1.        , 0.93333333, 0.96666667, 1.        ])"
      ]
     },
     "execution_count": 13,
     "metadata": {},
     "output_type": "execute_result"
    }
   ],
   "source": [
    "accuracies"
   ]
  },
  {
   "cell_type": "code",
   "execution_count": 14,
   "metadata": {},
   "outputs": [
    {
     "data": {
      "text/plain": [
       "0.9733333333333334"
      ]
     },
     "execution_count": 14,
     "metadata": {},
     "output_type": "execute_result"
    }
   ],
   "source": [
    "accuracies.mean()"
   ]
  },
  {
   "cell_type": "markdown",
   "metadata": {},
   "source": [
    "!Muy sencillo¡\n",
    "Una breve explicación de cada entrada es necesaria (recomiendo de nuevo mirar la documentación de sklearn):\n",
    "- model: es el modelo predefinido y sin ajustar\n",
    "- X: los predictores\n",
    "- y: vector de etiquetas\n",
    "- cv: es un parámetro muy importante. Cuando es un entero, especifica el número de iteraciones o folds en una (stratified) k-fold CV. También, puede ser un objeto del tipo *cross validator*.\n",
    "- scoring: normalmente es un string que especifica la métrica de evaluación, en este [link](http://scikit-learn.org/stable/modules/model_evaluation.html#scoring-parameter) se especifican todas las  posibles métricas.\n",
    "\n",
    "¿Y si, no queremos evaluar una métrica, sino por ejemplo, una matriz de confusión?"
   ]
  },
  {
   "cell_type": "markdown",
   "metadata": {},
   "source": [
    "#### `cross_val_predict`\n",
    "Esta función es similar a *cross_val_score*, pero en vez de dar una métrica de evaluación (promedio o global) de las clasificaciones realizadas durante la validación cruzada, produce las predicciones hechas sobre cada conjunto de validación en cada fold (o iteración). Esto significa que se obtiene una predicción *limpia* para cada observación del conjunto de datos (*limpio* significa que la predicción es realizada por un modelo que nunca ha visto los datos durante el entrenamiento)."
   ]
  },
  {
   "cell_type": "code",
   "execution_count": 15,
   "metadata": {},
   "outputs": [
    {
     "data": {
      "image/png": "[encoded data removed]",
      "text/plain": [
       "<Figure size 432x288 with 1 Axes>"
      ]
     },
     "metadata": {
      "needs_background": "light"
     },
     "output_type": "display_data"
    }
   ],
   "source": [
    "# from sklearn.model_selection import cross_val_predict\n",
    "\n",
    "y_total_predict = cross_val_predict(model, X, y, cv=3, method='predict', n_jobs=-1)\n",
    "\n",
    "# Matriz de confusion global para todas las predicciones hechas\n",
    "# durante la validacion cruzada\n",
    "plotCM(y,y_total_predict, normalize=True)"
   ]
  },
  {
   "cell_type": "markdown",
   "metadata": {},
   "source": [
    "#### `StratifiedKFold`\n",
    "Esta clase instancia un objeto del tipo *cross-validator*. Genera índices de training/test para dividir el conjunto de datos en training y test (en realidad validación).  Cada partición es hecha preservando las proporciones de las muestras para cada clase (a diferencia de `sklearn.model_selection.KFold`). La forma de usarlo es muy similar a la presentada anteriormente con `sklearn.model_selection.LeaveOneOut`.\n",
    "\n",
    "Veamos un ejemplo con el Iris dataset, que al ser balanceado equivale a usar sólo `Kfold`:"
   ]
  },
  {
   "cell_type": "code",
   "execution_count": 16,
   "metadata": {},
   "outputs": [
    {
     "ename": "NameError",
     "evalue": "name 'lista_model' is not defined",
     "output_type": "error",
     "traceback": [
      "\u001b[1;31m---------------------------------------------------------------------------\u001b[0m",
      "\u001b[1;31mNameError\u001b[0m                                 Traceback (most recent call last)",
      "\u001b[1;32m<ipython-input-16-a69349f8919e>\u001b[0m in \u001b[0;36m<module>\u001b[1;34m\u001b[0m\n\u001b[0;32m     12\u001b[0m     \u001b[1;31m# Implementacion del clasificador (no es la unica forma, ver sklearn.base.clone)\u001b[0m\u001b[1;33m\u001b[0m\u001b[1;33m\u001b[0m\u001b[1;33m\u001b[0m\u001b[0m\n\u001b[0;32m     13\u001b[0m     \u001b[0mmodel\u001b[0m \u001b[1;33m=\u001b[0m \u001b[0mKNeighborsClassifier\u001b[0m\u001b[1;33m(\u001b[0m\u001b[0mn_neighbors\u001b[0m\u001b[1;33m=\u001b[0m\u001b[1;36m5\u001b[0m\u001b[1;33m)\u001b[0m\u001b[1;33m.\u001b[0m\u001b[0mfit\u001b[0m\u001b[1;33m(\u001b[0m \u001b[0mX_train\u001b[0m\u001b[1;33m,\u001b[0m \u001b[0my_train\u001b[0m \u001b[1;33m)\u001b[0m\u001b[1;33m\u001b[0m\u001b[1;33m\u001b[0m\u001b[0m\n\u001b[1;32m---> 14\u001b[1;33m     \u001b[0mlista_model\u001b[0m \u001b[1;33m=\u001b[0m \u001b[0mlista_model\u001b[0m\u001b[1;33m.\u001b[0m\u001b[0mappend\u001b[0m\u001b[1;33m(\u001b[0m\u001b[0mmodel\u001b[0m\u001b[1;33m)\u001b[0m\u001b[1;33m\u001b[0m\u001b[1;33m\u001b[0m\u001b[0m\n\u001b[0m\u001b[0;32m     15\u001b[0m     \u001b[0my_pred\u001b[0m \u001b[1;33m=\u001b[0m \u001b[0mmodel\u001b[0m\u001b[1;33m.\u001b[0m\u001b[0mpredict\u001b[0m\u001b[1;33m(\u001b[0m\u001b[0mX_test\u001b[0m\u001b[1;33m)\u001b[0m\u001b[1;33m\u001b[0m\u001b[1;33m\u001b[0m\u001b[0m\n\u001b[0;32m     16\u001b[0m     \u001b[0macc\u001b[0m\u001b[1;33m.\u001b[0m\u001b[0mappend\u001b[0m\u001b[1;33m(\u001b[0m \u001b[0maccuracy_score\u001b[0m\u001b[1;33m(\u001b[0m\u001b[0my_test\u001b[0m\u001b[1;33m,\u001b[0m\u001b[0my_pred\u001b[0m\u001b[1;33m)\u001b[0m \u001b[1;33m)\u001b[0m\u001b[1;33m\u001b[0m\u001b[1;33m\u001b[0m\u001b[0m\n",
      "\u001b[1;31mNameError\u001b[0m: name 'lista_model' is not defined"
     ]
    }
   ],
   "source": [
    "# from sklearn.model_selection import StratifiedKFold\n",
    "\n",
    "skf = StratifiedKFold(n_splits=5, shuffle=True, random_state=123) # instancia al objeto cross validator con 5 folds\n",
    "\n",
    "acc = [] # Define una lista para almacenar las exactitudes\n",
    "\n",
    "for train_index, test_index in skf.split(X,y):\n",
    "    \n",
    "    X_train, X_test = X.loc[train_index], X.loc[test_index] # son dataframes por eso se usa \"loc\"\n",
    "    y_train, y_test = y.loc[train_index], y.loc[test_index]\n",
    "    \n",
    "    # Implementacion del clasificador (no es la unica forma, ver sklearn.base.clone)\n",
    "    model = KNeighborsClassifier(n_neighbors=5).fit( X_train, y_train )\n",
    "    lista_model = lista_model.append(model)\n",
    "    y_pred = model.predict(X_test)\n",
    "    acc.append( accuracy_score(y_test,y_pred) )\n",
    "    \n",
    "print(\"Accuracy = \", acc)\n"
   ]
  },
  {
   "cell_type": "markdown",
   "metadata": {},
   "source": [
    "`StratifiedKFold` no es tan simple de usar como `cross_val_score`, pero tiene una mayor flexibilidad a la hora de hacer nuestras propias implementaciones. [En la documentación se encuentra la información completa de esta clase](http://scikit-learn.org/stable/modules/generated/sklearn.model_selection.StratifiedKFold.html#sklearn.model_selection.StratifiedKFold).\n",
    "\n",
    "Un ejemplo, sería obtener una matriz de confusión por cada iteración:"
   ]
  },
  {
   "cell_type": "code",
   "execution_count": null,
   "metadata": {},
   "outputs": [],
   "source": [
    "skf = StratifiedKFold(n_splits=5, shuffle=True, random_state=123) # instancia al objeto cross validator con 5 folds\n",
    "\n",
    "# Crea los ejes y las figuras para graficar en un subplot\n",
    "fig, ax = plt.subplots(2,3, figsize = (15,10))\n",
    "j = 0 # contador para acceder a los ejes\n",
    "for train_index, test_index in skf.split(X,y):\n",
    "    \n",
    "    X_train, X_test = X.loc[train_index], X.loc[test_index] # son dataframes por eso se usa \"loc\"\n",
    "    y_train, y_test = y.loc[train_index], y.loc[test_index]\n",
    "    \n",
    "    # Implementacion del clasificador\n",
    "    model = KNeighborsClassifier(n_neighbors=5).fit( X_train, y_train )\n",
    "    y_pred = model.predict(X_test)\n",
    "    \n",
    "    # Matriz de confusion especificando los ejes (aplanados)\n",
    "    plotCM(y_test,y_pred,normalize=True, ax = ax.flatten()[j])\n",
    "    j += 1\n",
    "    \n",
    "ax[1,2].axis('off') # No muestra el eje en la ultima posicion\n",
    "plt.show() "
   ]
  },
  {
   "cell_type": "markdown",
   "metadata": {},
   "source": [
    "## Validación cruzada con preprocesamiento\n",
    "#### Una primera vista al `Pipeline`\n",
    "  \n",
    " Una primera forma de hacer el preprocesamiento dentro de una validación cruzada (si se hace afuera crea un sesgo grande que puede ocasionar un sobre-entrenamiento) es utilizando la función `StratifiedKFold` y un bucle similar a los anteriores:"
   ]
  },
  {
   "cell_type": "code",
   "execution_count": null,
   "metadata": {},
   "outputs": [],
   "source": [
    "# from sklearn import preprocessing\n",
    "\n",
    "skf = StratifiedKFold(n_splits=5, shuffle=True, random_state=123) # instancia al objeto cross validator con 5 folds\n",
    "\n",
    "acc = [] # Define una lista para almacenar las exactitudes\n",
    "\n",
    "for train_index, test_index in skf.split(X,y):\n",
    "    \n",
    "    X_train, X_test = X.loc[train_index], X.loc[test_index] # son dataframes por eso se usa \"loc\"\n",
    "    y_train, y_test = y.loc[train_index], y.loc[test_index]\n",
    "    \n",
    "    # Preprocesamiento\n",
    "    scaler = preprocessing.StandardScaler()\n",
    "    X_train_scaled = scaler.fit_transform(X_train) # ajusta y transforma\n",
    "                                                   # equivale a usar .fit() y luego .transform()\n",
    "        \n",
    "    # Implementacion del clasificador \n",
    "    model = KNeighborsClassifier(n_neighbors=5).fit( X_train_scaled, y_train )\n",
    "    y_pred = model.predict(scaler.transform(X_test))\n",
    "    acc.append( accuracy_score(y_test,y_pred) )\n",
    "    \n",
    "print(\"Accuracy = \", acc)"
   ]
  },
  {
   "cell_type": "markdown",
   "metadata": {},
   "source": [
    "Ahora usaremos un `Pipeline` muy sencillo, pero es un ejemplo de la forma tan estructurada y organizada que tiene scikit-learn y que hace que sea tan usado a nivel empresarial y de investigación.\n",
    "\n",
    "Un `Pipeline` es una secuencia de diferentes pasos del Machine learning o aprendizaje estadístico. Por ejemplo, una codificación, seguida de un escalamiento, luego una selección de predictores y por último una clasificación.\n",
    "\n",
    "A continuación se implementa el bucle anterior con un `Pipeline` de dos formas diferentes:"
   ]
  },
  {
   "cell_type": "code",
   "execution_count": null,
   "metadata": {},
   "outputs": [],
   "source": [
    "# from sklearn.pipeline import make_pipeline\n",
    "\n",
    "pipe_KNN = make_pipeline( preprocessing.StandardScaler(), KNeighborsClassifier(n_neighbors=5) )\n",
    "cross_val_score(pipe_KNN, X, y, cv=5, scoring=\"accuracy\")"
   ]
  },
  {
   "cell_type": "code",
   "execution_count": null,
   "metadata": {},
   "outputs": [],
   "source": [
    "# from sklearn.pipeline import Pipeline\n",
    "\n",
    "Pipe_KNN = Pipeline( steps=[('estandarizacion', preprocessing.StandardScaler()),\n",
    "                          ('classificador_KNN', KNeighborsClassifier(n_neighbors=5))] )\n",
    "cross_val_score(Pipe_KNN, X, y, cv=5, scoring=\"accuracy\")                    "
   ]
  },
  {
   "cell_type": "code",
   "execution_count": null,
   "metadata": {},
   "outputs": [],
   "source": [
    "pipe_KNN.fit(X_train,y_train)"
   ]
  },
  {
   "cell_type": "code",
   "execution_count": null,
   "metadata": {
    "scrolled": true
   },
   "outputs": [],
   "source": [
    "pipe_KNN.predict(X_test)"
   ]
  },
  {
   "cell_type": "code",
   "execution_count": null,
   "metadata": {},
   "outputs": [],
   "source": []
  }
 ],
 "metadata": {
  "kernelspec": {
   "display_name": "Python 3",
   "language": "python",
   "name": "python3"
  },
  "language_info": {
   "codemirror_mode": {
    "name": "ipython",
    "version": 3
   },
   "file_extension": ".py",
   "mimetype": "text/x-python",
   "name": "python",
   "nbconvert_exporter": "python",
   "pygments_lexer": "ipython3",
   "version": "3.9.6"
  },
  "nbTranslate": {
   "displayLangs": [
    "*"
   ],
   "hotkey": "alt-t",
   "langInMainMenu": true,
   "sourceLang": "en",
   "targetLang": "fr",
   "useGoogleTranslate": true
  },
  "varInspector": {
   "cols": {
    "lenName": 16,
    "lenType": 16,
    "lenVar": 40
   },
   "kernels_config": {
    "python": {
     "delete_cmd_postfix": "",
     "delete_cmd_prefix": "del ",
     "library": "var_list.py",
     "varRefreshCmd": "print(var_dic_list())"
    },
    "r": {
     "delete_cmd_postfix": ") ",
     "delete_cmd_prefix": "rm(",
     "library": "var_list.r",
     "varRefreshCmd": "cat(var_dic_list()) "
    }
   },
   "types_to_exclude": [
    "module",
    "function",
    "builtin_function_or_method",
    "instance",
    "_Feature"
   ],
   "window_display": false
  }
 },
 "nbformat": 4,
 "nbformat_minor": 2
}
