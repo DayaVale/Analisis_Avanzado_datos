{
 "cells": [
  {
   "cell_type": "markdown",
   "metadata": {},
   "source": [
    "# Multiple Correspondence Analysis (MCA)"
   ]
  },
  {
   "cell_type": "markdown",
   "metadata": {
    "lang": "es"
   },
   "source": [
    "## Introducción a MCA"
   ]
  },
  {
   "cell_type": "markdown",
   "metadata": {
    "lang": "es"
   },
   "source": [
    "### Como el análisis de correspondencia, pero con múltiples variables"
   ]
  },
  {
   "cell_type": "markdown",
   "metadata": {
    "lang": "es"
   },
   "source": [
    "El Análisis de Correspondencia Múltiple (MCA) nos permite extender el Análisis de Correspondencia (CA) simple más allá de una tabla cruzada de *dos* variables diferentes en muchas más.\n",
    "\n",
    "Por ejemplo, un conjunto de datos [bastante utilizado](https://personal.utdallas.edu/~herve/Abdi-MCA2007-pretty.pdf) para describir este método es un perfil de sabor de varios vinos a partir de diferentes expertos.\n",
    "\n",
    "Como antes, comenzamos con un conjunto de datos con individuos \"I\" como filas y columnas \"J\" como características. Sin embargo, en este caso, hay varias respuestas por función. Algunas cosas para señalar en particular:\n",
    "\n",
    "- Dos expertos diferentes tienen la misma función. Tanto el experto 2 como el 3 tienen una columna `woody` (leñoso). MCA trata estas columnas por separado, pero si existe una relación subyacente entre las dos (como es de esperar), los baricentros de las columnas terminarán cerca uno del otro.\n",
    "- También hay un par de características (`woody`,` vanillin`) que tienen más de una etiqueta binaria\n",
    "- Podemos usar `.get _dummies()` en cada característica para obtener la representación de 1-hot, sin embargo, no debemos usar `drop_ first = True`."
   ]
  },
  {
   "cell_type": "markdown",
   "metadata": {},
   "source": [
    "<img src=\"images/mca_data.png\" width=\"700\">"
   ]
  },
  {
   "cell_type": "markdown",
   "metadata": {
    "lang": "es"
   },
   "source": [
    "También vale la pena señalar que la tabla anterior es una tabla *intermedia* entre \"tabla alta con una columna para cada variable (no separada)\" y la \"tabla cruzada utilizada para hacer CA\".\n",
    "\n",
    "En última instancia, podemos hacer la representación similar de \"filas de gráficos\" o \"columnas de gráficos\" que podríamos hacer con CA, solo que esta vez tiene más niveles."
   ]
  },
  {
   "cell_type": "markdown",
   "metadata": {},
   "source": [
    "<img src=\"images/mca_wines.png\" width=\"700\">"
   ]
  },
  {
   "cell_type": "markdown",
   "metadata": {
    "lang": "es"
   },
   "source": [
    "### Un ejemplo más grande\n",
    "\n",
    "Ahora exploraremos un conjunto de datos mucho más grande (`n = 8403 >> 6`) que codifica varias características de estilo de vida para una población determinada."
   ]
  },
  {
   "cell_type": "markdown",
   "metadata": {},
   "source": [
    "<img src=\"images/mca_life_data.png\" width=\"700\">"
   ]
  },
  {
   "cell_type": "markdown",
   "metadata": {
    "lang": "es"
   },
   "source": [
    "MCA explora conceptos similares a CA, incluida la inercia, ponderando cada registro por los valores individuales, etc.\n",
    "\n",
    "Pero se vuelve particularmente interesante cuando se ajusta a dos ejes y se realiza una gráfica de dispersión que hace la representación de cada persona en este espacio bidimensional, *coloreando según el valor de descriptor* (es decir, según su categoría):"
   ]
  },
  {
   "cell_type": "markdown",
   "metadata": {},
   "source": [
    "<img src=\"images/mca_gardening_1.png\" width=\"700\">\n"
   ]
  },
  {
   "cell_type": "markdown",
   "metadata": {
    "lang": "es"
   },
   "source": [
    "Esto todavía era completamente posible en CA, simplemente no teníamos suficientes datos para que este patrón se mostrara tan claramente. En cambio, lo que obtuvimos fue una mirada a los baricentros de las columnas dadas, que luego trazó sobre la dispersión en dos triángulos de colores."
   ]
  },
  {
   "cell_type": "markdown",
   "metadata": {
    "lang": "es"
   },
   "source": [
    "De hecho, al hacer esto para todos los baricentros (centros de masa), se descubre que surge un patrón.\n",
    "\n",
    "Recuerde que todos los datos no estaban organizados como una sola columna `0 / 1`, sino como *dos*  columnas `0 / 1`, por ejemplo:\n",
    "\n",
    "```\n",
    "cinema\n",
    "   0\n",
    "   1\n",
    "   1\n",
    "```\n",
    "se convierte en\n",
    "\n",
    "```\n",
    "cine_yes cinema_no\n",
    "    0        1\n",
    "    1        0\n",
    "    1        0\n",
    "```\n",
    "\n",
    "Al examinar con detalle, se encuentra que que los baricentros en negro corresponden a los `_no` y, de manera similar, los rojos a `_yes`.\n",
    "\n",
    "Es posible que estemos pensando \"Bueno, ¿y qué tiene ver eso con los ejes?\" y ahí es donde debemos recordar que la C en MCA significa \"correspondencia\". O para decirlo de otra manera, mirando esta representación, aprendemos que las personas que no hacen una cosa se corresponden altamente con que no hacen otra cosa. Por lo tanto, **podemos pensar en el primer eje como un continuo de apatía**"
   ]
  },
  {
   "cell_type": "markdown",
   "metadata": {},
   "source": [
    "<img src=\"images/mca_barycenters.png\" width=\"600\">"
   ]
  },
  {
   "cell_type": "markdown",
   "metadata": {
    "lang": "es"
   },
   "source": [
    "Esto se hace aún más obvio cuando seleccionamos cuatro individuos en el borde de esta nube de puntos."
   ]
  },
  {
   "cell_type": "markdown",
   "metadata": {},
   "source": [
    "<img src=\"images/mca_apathy.png\" width=\"900\">"
   ]
  },
  {
   "cell_type": "markdown",
   "metadata": {
    "lang": "es"
   },
   "source": [
    "De manera similar, podemos observar los puntos en las esquinas opuestas, para ver que, el segundo eje está vagamente asociado con la juventud de las personas que realizan los pasatiempos."
   ]
  },
  {
   "cell_type": "markdown",
   "metadata": {},
   "source": [
    "<img src=\"images/mca_youth.png\" width=\"800\">"
   ]
  },
  {
   "cell_type": "markdown",
   "metadata": {
    "lang": "es"
   },
   "source": [
    "## Implementación de MCA en python (`prince`)"
   ]
  },
  {
   "cell_type": "markdown",
   "metadata": {
    "lang": "es"
   },
   "source": [
    "Para ilustrar cómo `prince` hace un trabajo eficiente de` MCA`, usaremos el conjunto de datos Titanic de `seaborn`, ya que tiene una buena cantidad de variables categóricas."
   ]
  },
  {
   "cell_type": "code",
   "execution_count": 3,
   "metadata": {},
   "outputs": [],
   "source": [
    "%matplotlib inline\n",
    "\n",
    "import pandas as pd\n",
    "import prince\n",
    "import seaborn as sns"
   ]
  },
  {
   "cell_type": "markdown",
   "metadata": {
    "lang": "es"
   },
   "source": [
    "Cargamos el dataset y descartamos cualquier valor nulo para `edad` (para hacer un ejemplo rápido)"
   ]
  },
  {
   "cell_type": "code",
   "execution_count": 4,
   "metadata": {},
   "outputs": [
    {
     "data": {
      "text/html": [
       "<div>\n",
       "<style scoped>\n",
       "    .dataframe tbody tr th:only-of-type {\n",
       "        vertical-align: middle;\n",
       "    }\n",
       "\n",
       "    .dataframe tbody tr th {\n",
       "        vertical-align: top;\n",
       "    }\n",
       "\n",
       "    .dataframe thead th {\n",
       "        text-align: right;\n",
       "    }\n",
       "</style>\n",
       "<table border=\"1\" class=\"dataframe\">\n",
       "  <thead>\n",
       "    <tr style=\"text-align: right;\">\n",
       "      <th></th>\n",
       "      <th>survived</th>\n",
       "      <th>pclass</th>\n",
       "      <th>sex</th>\n",
       "      <th>age</th>\n",
       "      <th>sibsp</th>\n",
       "      <th>parch</th>\n",
       "      <th>fare</th>\n",
       "      <th>embarked</th>\n",
       "      <th>class</th>\n",
       "      <th>who</th>\n",
       "      <th>adult_male</th>\n",
       "      <th>deck</th>\n",
       "      <th>embark_town</th>\n",
       "      <th>alive</th>\n",
       "      <th>alone</th>\n",
       "    </tr>\n",
       "  </thead>\n",
       "  <tbody>\n",
       "    <tr>\n",
       "      <th>0</th>\n",
       "      <td>0</td>\n",
       "      <td>3</td>\n",
       "      <td>male</td>\n",
       "      <td>22.0</td>\n",
       "      <td>1</td>\n",
       "      <td>0</td>\n",
       "      <td>7.2500</td>\n",
       "      <td>S</td>\n",
       "      <td>Third</td>\n",
       "      <td>man</td>\n",
       "      <td>True</td>\n",
       "      <td>NaN</td>\n",
       "      <td>Southampton</td>\n",
       "      <td>no</td>\n",
       "      <td>False</td>\n",
       "    </tr>\n",
       "    <tr>\n",
       "      <th>1</th>\n",
       "      <td>1</td>\n",
       "      <td>1</td>\n",
       "      <td>female</td>\n",
       "      <td>38.0</td>\n",
       "      <td>1</td>\n",
       "      <td>0</td>\n",
       "      <td>71.2833</td>\n",
       "      <td>C</td>\n",
       "      <td>First</td>\n",
       "      <td>woman</td>\n",
       "      <td>False</td>\n",
       "      <td>C</td>\n",
       "      <td>Cherbourg</td>\n",
       "      <td>yes</td>\n",
       "      <td>False</td>\n",
       "    </tr>\n",
       "    <tr>\n",
       "      <th>2</th>\n",
       "      <td>1</td>\n",
       "      <td>3</td>\n",
       "      <td>female</td>\n",
       "      <td>26.0</td>\n",
       "      <td>0</td>\n",
       "      <td>0</td>\n",
       "      <td>7.9250</td>\n",
       "      <td>S</td>\n",
       "      <td>Third</td>\n",
       "      <td>woman</td>\n",
       "      <td>False</td>\n",
       "      <td>NaN</td>\n",
       "      <td>Southampton</td>\n",
       "      <td>yes</td>\n",
       "      <td>True</td>\n",
       "    </tr>\n",
       "    <tr>\n",
       "      <th>3</th>\n",
       "      <td>1</td>\n",
       "      <td>1</td>\n",
       "      <td>female</td>\n",
       "      <td>35.0</td>\n",
       "      <td>1</td>\n",
       "      <td>0</td>\n",
       "      <td>53.1000</td>\n",
       "      <td>S</td>\n",
       "      <td>First</td>\n",
       "      <td>woman</td>\n",
       "      <td>False</td>\n",
       "      <td>C</td>\n",
       "      <td>Southampton</td>\n",
       "      <td>yes</td>\n",
       "      <td>False</td>\n",
       "    </tr>\n",
       "    <tr>\n",
       "      <th>4</th>\n",
       "      <td>0</td>\n",
       "      <td>3</td>\n",
       "      <td>male</td>\n",
       "      <td>35.0</td>\n",
       "      <td>0</td>\n",
       "      <td>0</td>\n",
       "      <td>8.0500</td>\n",
       "      <td>S</td>\n",
       "      <td>Third</td>\n",
       "      <td>man</td>\n",
       "      <td>True</td>\n",
       "      <td>NaN</td>\n",
       "      <td>Southampton</td>\n",
       "      <td>no</td>\n",
       "      <td>True</td>\n",
       "    </tr>\n",
       "  </tbody>\n",
       "</table>\n",
       "</div>"
      ],
      "text/plain": [
       "   survived  pclass     sex   age  sibsp  parch     fare embarked  class  \\\n",
       "0         0       3    male  22.0      1      0   7.2500        S  Third   \n",
       "1         1       1  female  38.0      1      0  71.2833        C  First   \n",
       "2         1       3  female  26.0      0      0   7.9250        S  Third   \n",
       "3         1       1  female  35.0      1      0  53.1000        S  First   \n",
       "4         0       3    male  35.0      0      0   8.0500        S  Third   \n",
       "\n",
       "     who  adult_male deck  embark_town alive  alone  \n",
       "0    man        True  NaN  Southampton    no  False  \n",
       "1  woman       False    C    Cherbourg   yes  False  \n",
       "2  woman       False  NaN  Southampton   yes   True  \n",
       "3  woman       False    C  Southampton   yes  False  \n",
       "4    man        True  NaN  Southampton    no   True  "
      ]
     },
     "execution_count": 4,
     "metadata": {},
     "output_type": "execute_result"
    }
   ],
   "source": [
    "data = sns.load_dataset('titanic').dropna(subset=['age'])\n",
    "data.head()"
   ]
  },
  {
   "cell_type": "code",
   "execution_count": 22,
   "metadata": {},
   "outputs": [
    {
     "data": {
      "text/plain": [
       "(714, 16)"
      ]
     },
     "execution_count": 22,
     "metadata": {},
     "output_type": "execute_result"
    }
   ],
   "source": [
    "data.shape"
   ]
  },
  {
   "cell_type": "markdown",
   "metadata": {
    "lang": "es"
   },
   "source": [
    "Probando con algunos bins, encontramos algunos intervalos que nos dan una buena separación de la edad en nuestros datos."
   ]
  },
  {
   "cell_type": "code",
   "execution_count": 5,
   "metadata": {},
   "outputs": [
    {
     "data": {
      "text/plain": [
       "(0, 18]      139\n",
       "(18, 30]     270\n",
       "(30, 45]     202\n",
       "(45, 999]    103\n",
       "Name: age_bin, dtype: int64"
      ]
     },
     "execution_count": 5,
     "metadata": {},
     "output_type": "execute_result"
    }
   ],
   "source": [
    "data['age_bin'] = pd.cut(data['age'],\n",
    "                         [0, 18, 30, 45, 999])\n",
    "\n",
    "data['age_bin'].value_counts().sort_index()"
   ]
  },
  {
   "cell_type": "markdown",
   "metadata": {
    "lang": "es"
   },
   "source": [
    "Y entonces usaremos este descriptor creado, así como algunas otras variables categóricas, para ver si hay alguna estructura subyacente a nuestros datos."
   ]
  },
  {
   "cell_type": "code",
   "execution_count": 53,
   "metadata": {},
   "outputs": [
    {
     "data": {
      "text/plain": [
       "MCA()"
      ]
     },
     "execution_count": 53,
     "metadata": {},
     "output_type": "execute_result"
    }
   ],
   "source": [
    "df = data[['sex', 'embarked', 'class', 'age_bin']]\n",
    "\n",
    "\n",
    "mca = prince.MCA(n_components=2)\n",
    "mca.fit(df)"
   ]
  },
  {
   "cell_type": "markdown",
   "metadata": {
    "lang": "es"
   },
   "source": [
    "Al igual que con CA, hay un buen método `.plot_coordinates()` que podemos usar para examinar la estructura de los \"loadings\".\n",
    "\n",
    "Lo primero que llama la atención es la combinación de puntos verdes y azules para el `Componente 0`: el valor \"continuo\" desde la clase baja a la clase alta para cada pasajero, parece correlacionarse con si esa persona era hombre o no.\n",
    "\n",
    "Al mirar el \"Componente 1\", intriga ver que la ciudad en la que se embarcó una persona tenía tal extensión (\"Q\", \"C\", \"S\", en orden descendente). Es decir, hasta que vemos que `age_bin` también lo hizo."
   ]
  },
  {
   "cell_type": "code",
   "execution_count": 24,
   "metadata": {
    "scrolled": false
   },
   "outputs": [
    {
     "data": {
      "image/png": "[encoded data removed]",
      "text/plain": [
       "<Figure size 720x720 with 1 Axes>"
      ]
     },
     "metadata": {
      "needs_background": "light"
     },
     "output_type": "display_data"
    }
   ],
   "source": [
    "mca.plot_coordinates(df,\n",
    "                     row_points_alpha=.2,\n",
    "                     figsize=(10, 10),\n",
    "                     show_column_labels=True\n",
    "                    );"
   ]
  },
  {
   "cell_type": "markdown",
   "metadata": {
    "lang": "es"
   },
   "source": [
    "De hecho, al observar la distribución de edades por ubicación de embarque de nuestro conjunto de datos original, podemos ver que `Q` tiene la edad media más baja, luego` C`, luego `S`, lo cual es consistente con nuestro orden en la `Componente 1`."
   ]
  },
  {
   "cell_type": "code",
   "execution_count": 9,
   "metadata": {},
   "outputs": [
    {
     "data": {
      "image/png": "[encoded data removed]",
      "text/plain": [
       "<Figure size 432x288 with 1 Axes>"
      ]
     },
     "metadata": {
      "needs_background": "light"
     },
     "output_type": "display_data"
    }
   ],
   "source": [
    "sns.boxplot(data=data, x='embarked', y='age');"
   ]
  },
  {
   "cell_type": "code",
   "execution_count": null,
   "metadata": {},
   "outputs": [],
   "source": [
    "Xs = mca.transform(df)\n",
    "Xs"
   ]
  },
  {
   "cell_type": "code",
   "execution_count": 56,
   "metadata": {},
   "outputs": [],
   "source": [
    "from sklearn.pipeline import Pipeline\n",
    "from sklearn.model_selection import GridSearchCV, cross_val_score\n",
    "from sklearn.linear_model import LogisticRegression\n"
   ]
  },
  {
   "cell_type": "code",
   "execution_count": 70,
   "metadata": {},
   "outputs": [],
   "source": [
    "pipe = Pipeline([('mca', prince.MCA(n_components=10)), ('LR', LogisticRegression())])"
   ]
  },
  {
   "cell_type": "code",
   "execution_count": 71,
   "metadata": {},
   "outputs": [
    {
     "data": {
      "text/plain": [
       "array([0.71328671, 0.81818182, 0.76223776, 0.73426573, 0.82394366])"
      ]
     },
     "execution_count": 71,
     "metadata": {},
     "output_type": "execute_result"
    }
   ],
   "source": [
    "cross_val_score(pipe, df, data.survived.values)"
   ]
  },
  {
   "cell_type": "code",
   "execution_count": 63,
   "metadata": {},
   "outputs": [],
   "source": [
    "prince.MCA??"
   ]
  },
  {
   "cell_type": "markdown",
   "metadata": {},
   "source": [
    "## Referencias\n",
    "\n",
    "- Greenacre, M., 2017. Correspondence analysis in practice. chapman and hall/crc.\n",
    "- https://youtu.be/gZ_7WWEVlTg"
   ]
  },
  {
   "cell_type": "markdown",
   "metadata": {},
   "source": [
    "# Ejercicios"
   ]
  },
  {
   "cell_type": "markdown",
   "metadata": {},
   "source": [
    "[1] Realice un pipeline que involucre MCA y un clasificador (regresion logística, LDA, etc.) y realice la validación cruzada usando sólo las variables categóricas (`df`) del dataset del Titanic.\n",
    "\n",
    "[2] Usando un pipeline similar al anterior encuentre el mejor número de componentes principales usando MCA y validación cruzada (puede usar GridSearchCV). Compruebe el mejor modelo en un test set independiente.\n",
    "\n",
    "[3] Use `sklearn.compose.ColumnTransformer`(ver [este ejemplo](https://scikit-learn.org/stable/auto_examples/compose/plot_column_transformer_mixed_types.html#sphx-glr-auto-examples-compose-plot-column-transformer-mixed-types-py)) para realizar PCA sobre las variables numéricas y MCA para las variables categóricas. Incluya este tratamiento en un pipeline junto con un clasificador y compruebe el desempeño del resultado mediante validación cruzada.\n",
    "\n",
    "[4] Ahora realice un procedimiento combinando los procesos de [3] y [2]. Es decir, realice un tratamiento de variables según el tipo, construya un pipeline combinando PCA, MCA y un clasificador, y encuentre el mejor número de componentes principales tanto para PCA cómo para MCA (usando GridSearchCV). Compruebe el resultado en un test set."
   ]
  },
  {
   "cell_type": "code",
   "execution_count": null,
   "metadata": {},
   "outputs": [],
   "source": []
  }
 ],
 "metadata": {
  "kernelspec": {
   "display_name": "Python 3 (ipykernel)",
   "language": "python",
   "name": "python3"
  },
  "language_info": {
   "codemirror_mode": {
    "name": "ipython",
    "version": 3
   },
   "file_extension": ".py",
   "mimetype": "text/x-python",
   "name": "python",
   "nbconvert_exporter": "python",
   "pygments_lexer": "ipython3",
   "version": "3.8.10"
  },
  "nbTranslate": {
   "displayLangs": [
    "es",
    "en"
   ],
   "hotkey": "alt-t",
   "langInMainMenu": true,
   "sourceLang": "en",
   "targetLang": "es",
   "useGoogleTranslate": true
  }
 },
 "nbformat": 4,
 "nbformat_minor": 2
}
