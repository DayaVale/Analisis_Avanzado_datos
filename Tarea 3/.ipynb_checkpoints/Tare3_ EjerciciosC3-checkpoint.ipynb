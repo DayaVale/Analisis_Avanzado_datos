{
 "cells": [
  {
   "cell_type": "markdown",
   "metadata": {},
   "source": [
    "# Taller 3\n",
    "## Ejercicios CV\n",
    "\n",
    "**Integrantes:** Dayana Valentina Gonzalez, Maria Fernanda Rodriguez"
   ]
  },
  {
   "cell_type": "markdown",
   "metadata": {},
   "source": [
    "**[1]** Utilice validación cruzada (10 folds) para encontrar el mejor número de vecinos para la clasificación del dataset de iris con KNN. Sugerencia: lo pueden encontrar en `sklearn.datasets.load_iris()`"
   ]
  },
  {
   "cell_type": "code",
   "execution_count": 1,
   "metadata": {},
   "outputs": [],
   "source": [
    "#importamos librerias\n",
    "import statsmodels.formula.api as smf \n",
    "\n",
    "import pandas as pd\n",
    "import numpy as np\n",
    "import matplotlib.pyplot as plt\n",
    "import seaborn as sns\n",
    "%matplotlib inline\n",
    "\n",
    "from sklearn.neighbors import KNeighborsClassifier, KNeighborsRegressor\n",
    "from sklearn.metrics import mean_squared_error\n",
    "\n",
    "from time import time"
   ]
  },
  {
   "cell_type": "code",
   "execution_count": 2,
   "metadata": {},
   "outputs": [
    {
     "data": {
      "text/html": [
       "<div>\n",
       "<style scoped>\n",
       "    .dataframe tbody tr th:only-of-type {\n",
       "        vertical-align: middle;\n",
       "    }\n",
       "\n",
       "    .dataframe tbody tr th {\n",
       "        vertical-align: top;\n",
       "    }\n",
       "\n",
       "    .dataframe thead th {\n",
       "        text-align: right;\n",
       "    }\n",
       "</style>\n",
       "<table border=\"1\" class=\"dataframe\">\n",
       "  <thead>\n",
       "    <tr style=\"text-align: right;\">\n",
       "      <th></th>\n",
       "      <th>sepal length (cm)</th>\n",
       "      <th>sepal width (cm)</th>\n",
       "      <th>petal length (cm)</th>\n",
       "      <th>petal width (cm)</th>\n",
       "    </tr>\n",
       "  </thead>\n",
       "  <tbody>\n",
       "    <tr>\n",
       "      <th>0</th>\n",
       "      <td>5.1</td>\n",
       "      <td>3.5</td>\n",
       "      <td>1.4</td>\n",
       "      <td>0.2</td>\n",
       "    </tr>\n",
       "    <tr>\n",
       "      <th>1</th>\n",
       "      <td>4.9</td>\n",
       "      <td>3.0</td>\n",
       "      <td>1.4</td>\n",
       "      <td>0.2</td>\n",
       "    </tr>\n",
       "    <tr>\n",
       "      <th>2</th>\n",
       "      <td>4.7</td>\n",
       "      <td>3.2</td>\n",
       "      <td>1.3</td>\n",
       "      <td>0.2</td>\n",
       "    </tr>\n",
       "    <tr>\n",
       "      <th>3</th>\n",
       "      <td>4.6</td>\n",
       "      <td>3.1</td>\n",
       "      <td>1.5</td>\n",
       "      <td>0.2</td>\n",
       "    </tr>\n",
       "    <tr>\n",
       "      <th>4</th>\n",
       "      <td>5.0</td>\n",
       "      <td>3.6</td>\n",
       "      <td>1.4</td>\n",
       "      <td>0.2</td>\n",
       "    </tr>\n",
       "  </tbody>\n",
       "</table>\n",
       "</div>"
      ],
      "text/plain": [
       "   sepal length (cm)  sepal width (cm)  petal length (cm)  petal width (cm)\n",
       "0                5.1               3.5                1.4               0.2\n",
       "1                4.9               3.0                1.4               0.2\n",
       "2                4.7               3.2                1.3               0.2\n",
       "3                4.6               3.1                1.5               0.2\n",
       "4                5.0               3.6                1.4               0.2"
      ]
     },
     "execution_count": 2,
     "metadata": {},
     "output_type": "execute_result"
    }
   ],
   "source": [
    "from sklearn.datasets import load_iris\n",
    "\n",
    "iris = load_iris()\n",
    "\n",
    "df = pd.DataFrame(iris.data, columns=iris.feature_names)\n",
    "df.head()"
   ]
  },
  {
   "cell_type": "code",
   "execution_count": 3,
   "metadata": {},
   "outputs": [],
   "source": [
    "y=iris.target\n",
    "X = df"
   ]
  },
  {
   "cell_type": "code",
   "execution_count": 4,
   "metadata": {},
   "outputs": [],
   "source": [
    "from sklearn.model_selection import cross_val_score\n",
    "\n",
    "# Se define el modelo (sin ajustar)\n",
    "model = KNeighborsClassifier(n_neighbors=10) #KNN\n",
    "\n",
    "accuracies = cross_val_score(model, X, y, cv=10, scoring=\"accuracy\")"
   ]
  },
  {
   "cell_type": "code",
   "execution_count": 5,
   "metadata": {},
   "outputs": [
    {
     "data": {
      "text/plain": [
       "array([1.        , 0.93333333, 1.        , 1.        , 1.        ,\n",
       "       0.86666667, 0.93333333, 0.93333333, 1.        , 1.        ])"
      ]
     },
     "execution_count": 5,
     "metadata": {},
     "output_type": "execute_result"
    }
   ],
   "source": [
    "accuracies"
   ]
  },
  {
   "cell_type": "code",
   "execution_count": 6,
   "metadata": {},
   "outputs": [
    {
     "data": {
      "text/plain": [
       "0.9666666666666668"
      ]
     },
     "execution_count": 6,
     "metadata": {},
     "output_type": "execute_result"
    }
   ],
   "source": [
    "accuracies.mean()"
   ]
  },
  {
   "cell_type": "code",
   "execution_count": 7,
   "metadata": {},
   "outputs": [],
   "source": [
    "from sklearn.model_selection import train_test_split\n",
    "X_train, X_test, y_train, y_test = train_test_split(X, y, test_size=0.4, random_state=101)"
   ]
  },
  {
   "cell_type": "code",
   "execution_count": 8,
   "metadata": {},
   "outputs": [
    {
     "data": {
      "text/plain": [
       "<matplotlib.collections.PathCollection at 0x257aa04a310>"
      ]
     },
     "execution_count": 8,
     "metadata": {},
     "output_type": "execute_result"
    },
    {
     "data": {
      "image/png": "[encoded data removed]",
      "text/plain": [
       "<Figure size 432x288 with 1 Axes>"
      ]
     },
     "metadata": {
      "needs_background": "light"
     },
     "output_type": "display_data"
    }
   ],
   "source": [
    "from sklearn import metrics\n",
    "from sklearn.model_selection import cross_val_predict\n",
    "k_range = range(1,21)\n",
    "scores = []\n",
    "for k in k_range:\n",
    "    knn = KNeighborsClassifier(n_neighbors = k)\n",
    "    knn.fit(X_train, y_train)\n",
    "    y_pred = cross_val_predict(knn, X_test, y_test, cv=10, method='predict', n_jobs=-1)\n",
    "    scores.append(metrics.accuracy_score(y_test, y_pred))\n",
    "plt.figure()\n",
    "plt.xlabel('k')\n",
    "plt.ylabel('accuracy')\n",
    "plt.scatter(k_range, scores)"
   ]
  },
  {
   "cell_type": "markdown",
   "metadata": {},
   "source": [
    "Utilizando el comanod de prediccion de validacion cruzada, teniendo en cuenta 10 folds, concluimos que el mejor numero de vecinos esta con un k de 1 a 7 y de 9 a 11."
   ]
  },
  {
   "cell_type": "markdown",
   "metadata": {},
   "source": [
    "**[2]** Realice una validación cruzada en el siguiente conjunto de datos simulados:\n",
    "\n",
    "1. Genere un conjunto de datos simulados de la siguiente manera:\n",
    "```python\n",
    "np.random.seed(1) # import numpy as np\n",
    "x = np.random.randn(100)\n",
    "e = np.random.randn(100)\n",
    "y = x - 2*x**2 + e```\n",
    "En este conjunto de datos, ¿cúal es el número de observaciones y cúal es el número de predictores?\n",
    "\n",
    "2. Cree un diagrama de dispersión de X contra Y. Comente lo que encuentra.\n",
    "\n",
    "3. Establezca una semilla aleatoria, y luego calcule los errores LOOCV que resulta de ajustar los siguientes cuatro modelos con mínimos cuadrados (regresión lineal o polinómica):\n",
    "\n",
    "  1. $Y = \\beta_0 + \\beta_1 X + \\epsilon$\n",
    "\n",
    "  2. $Y = \\beta_0 + \\beta_1 X + \\beta_2 X^2 +\\epsilon$\n",
    "\n",
    "  3. $Y = \\beta_0 + \\beta_1 X + \\beta_2 X^2 + \\beta_3 X^3 + \\epsilon$\n",
    "\n",
    "  4. $Y = \\beta_0 + \\beta_1 X + \\beta_2 X^2 + \\beta_3 X^3 + \\beta_4 X^4 + \\epsilon$\n",
    "  \n",
    "  Puede resultarle útil utilizar un dataframe de Pandas para crear un solo conjunto de datos que contenga tanto X como Y. \n",
    "  \n",
    "4. Repita (3) usando otra semilla aleatoria e informe sus resultados. ¿Los resultados son los mismos que obtuvo en (3)? ¿Por qué?\n",
    "\n",
    "5. ¿Cuál de los modelos en (3) tuvo el error LOOCV más pequeño? ¿Es esto lo que esperaba? Explique la respuesta."
   ]
  },
  {
   "cell_type": "markdown",
   "metadata": {},
   "source": [
    "#### 1. Genere un conjunto de datos simulados de la siguiente manera:"
   ]
  },
  {
   "cell_type": "code",
   "execution_count": 9,
   "metadata": {},
   "outputs": [],
   "source": [
    "np.random.seed(1) \n",
    "x = np.random.randn(100)\n",
    "e = np.random.randn(100)\n",
    "y = x - 2*x**2 + e"
   ]
  },
  {
   "cell_type": "markdown",
   "metadata": {},
   "source": [
    "El numero de observaciones es 100 y el numero de predictores es 1."
   ]
  },
  {
   "cell_type": "markdown",
   "metadata": {},
   "source": [
    "#### diagrama de dispersión "
   ]
  },
  {
   "cell_type": "code",
   "execution_count": 10,
   "metadata": {},
   "outputs": [
    {
     "data": {
      "image/png": "[encoded data removed]",
      "text/plain": [
       "<Figure size 720x432 with 1 Axes>"
      ]
     },
     "metadata": {
      "needs_background": "light"
     },
     "output_type": "display_data"
    }
   ],
   "source": [
    "fig,ax = plt.subplots(figsize=(10, 6))\n",
    "ax.scatter(x,y)\n",
    "plt.xlabel(\"predictor\")\n",
    "plt.ylabel(\"variable respuesta\")\n",
    "plt.show()"
   ]
  },
  {
   "cell_type": "markdown",
   "metadata": {},
   "source": [
    "#### Punto 3"
   ]
  },
  {
   "cell_type": "code",
   "execution_count": 11,
   "metadata": {},
   "outputs": [],
   "source": [
    "np.random.seed(0) \n",
    "x = np.random.randn(100)\n",
    "e = np.random.randn(100)\n",
    "y = x - 2*x**2 + e"
   ]
  },
  {
   "cell_type": "code",
   "execution_count": 12,
   "metadata": {},
   "outputs": [],
   "source": [
    "x2=x**2\n",
    "x3=x**3\n",
    "x4=x**4"
   ]
  },
  {
   "cell_type": "code",
   "execution_count": 13,
   "metadata": {},
   "outputs": [
    {
     "data": {
      "text/html": [
       "<div>\n",
       "<style scoped>\n",
       "    .dataframe tbody tr th:only-of-type {\n",
       "        vertical-align: middle;\n",
       "    }\n",
       "\n",
       "    .dataframe tbody tr th {\n",
       "        vertical-align: top;\n",
       "    }\n",
       "\n",
       "    .dataframe thead th {\n",
       "        text-align: right;\n",
       "    }\n",
       "</style>\n",
       "<table border=\"1\" class=\"dataframe\">\n",
       "  <thead>\n",
       "    <tr style=\"text-align: right;\">\n",
       "      <th></th>\n",
       "      <th>y</th>\n",
       "    </tr>\n",
       "  </thead>\n",
       "  <tbody>\n",
       "    <tr>\n",
       "      <th>0</th>\n",
       "      <td>-2.576558</td>\n",
       "    </tr>\n",
       "    <tr>\n",
       "      <th>1</th>\n",
       "      <td>-1.267853</td>\n",
       "    </tr>\n",
       "    <tr>\n",
       "      <th>2</th>\n",
       "      <td>-2.207603</td>\n",
       "    </tr>\n",
       "    <tr>\n",
       "      <th>3</th>\n",
       "      <td>-6.832915</td>\n",
       "    </tr>\n",
       "    <tr>\n",
       "      <th>4</th>\n",
       "      <td>-6.281111</td>\n",
       "    </tr>\n",
       "    <tr>\n",
       "      <th>...</th>\n",
       "      <td>...</td>\n",
       "    </tr>\n",
       "    <tr>\n",
       "      <th>95</th>\n",
       "      <td>-0.463464</td>\n",
       "    </tr>\n",
       "    <tr>\n",
       "      <th>96</th>\n",
       "      <td>0.782070</td>\n",
       "    </tr>\n",
       "    <tr>\n",
       "      <th>97</th>\n",
       "      <td>-3.769292</td>\n",
       "    </tr>\n",
       "    <tr>\n",
       "      <th>98</th>\n",
       "      <td>2.257935</td>\n",
       "    </tr>\n",
       "    <tr>\n",
       "      <th>99</th>\n",
       "      <td>1.415326</td>\n",
       "    </tr>\n",
       "  </tbody>\n",
       "</table>\n",
       "<p>100 rows × 1 columns</p>\n",
       "</div>"
      ],
      "text/plain": [
       "           y\n",
       "0  -2.576558\n",
       "1  -1.267853\n",
       "2  -2.207603\n",
       "3  -6.832915\n",
       "4  -6.281111\n",
       "..       ...\n",
       "95 -0.463464\n",
       "96  0.782070\n",
       "97 -3.769292\n",
       "98  2.257935\n",
       "99  1.415326\n",
       "\n",
       "[100 rows x 1 columns]"
      ]
     },
     "execution_count": 13,
     "metadata": {},
     "output_type": "execute_result"
    }
   ],
   "source": [
    "yy = pd.DataFrame({'y':y}, dtype='int64')\n",
    "yy"
   ]
  },
  {
   "cell_type": "markdown",
   "metadata": {},
   "source": [
    " 1. $Y = \\beta_0 + \\beta_1 X + \\epsilon$"
   ]
  },
  {
   "cell_type": "code",
   "execution_count": 26,
   "metadata": {},
   "outputs": [],
   "source": [
    "df = pd.DataFrame({'x': x}, dtype='int64')"
   ]
  },
  {
   "cell_type": "code",
   "execution_count": 27,
   "metadata": {},
   "outputs": [
    {
     "data": {
      "text/plain": [
       "100"
      ]
     },
     "execution_count": 27,
     "metadata": {},
     "output_type": "execute_result"
    }
   ],
   "source": [
    "from sklearn.model_selection import LeaveOneOut\n",
    "loo = LeaveOneOut() # Se instancia al cross validator\n",
    "\n",
    "loo.get_n_splits(df) # Devuelve el numero de particiones en el validador"
   ]
  },
  {
   "cell_type": "code",
   "execution_count": 28,
   "metadata": {},
   "outputs": [
    {
     "name": "stdout",
     "output_type": "stream",
     "text": [
      "Mean MSE 1 =  1.83471470454788\n"
     ]
    }
   ],
   "source": [
    "from sklearn.metrics import accuracy_score\n",
    "acc = [] # Define una lista para almacenar las exactitudes\n",
    "y_pred2 =[]\n",
    "MSE1 = []\n",
    "\n",
    "for train_index, test_index in loo.split(df):\n",
    "    \n",
    "    X_train, X_test = df.loc[train_index], df.loc[test_index] # son dataframes por eso se usa \"loc\"\n",
    "    y_train, y_test = yy.y.loc[train_index], yy.y.loc[test_index]\n",
    "    #print(y_test)\n",
    "    \n",
    "    # Implementacion regresión\n",
    "    model = KNeighborsRegressor(n_neighbors=5).fit( X_train, y_train )\n",
    "    y_pred = model.predict(X_test)\n",
    "    MSE1.append(mean_squared_error(y_test,y_pred))\n",
    "    \n",
    "mean_MSE = np.mean(MSE1) # Calcular MSE\n",
    "\n",
    "print(\"Mean MSE 1 = \", mean_MSE)\n",
    "    "
   ]
  },
  {
   "cell_type": "markdown",
   "metadata": {},
   "source": [
    " 2. $Y = \\beta_0 + \\beta_1 X + \\beta_2 X^2 + \\epsilon$"
   ]
  },
  {
   "cell_type": "code",
   "execution_count": 30,
   "metadata": {},
   "outputs": [],
   "source": [
    "df.insert(1,\"x2\",x2,True)"
   ]
  },
  {
   "cell_type": "code",
   "execution_count": 31,
   "metadata": {},
   "outputs": [
    {
     "data": {
      "text/plain": [
       "100"
      ]
     },
     "execution_count": 31,
     "metadata": {},
     "output_type": "execute_result"
    }
   ],
   "source": [
    "from sklearn.model_selection import LeaveOneOut\n",
    "loo = LeaveOneOut() # Se instancia al cross validator\n",
    "\n",
    "loo.get_n_splits(df) # Devuelve el numero de particiones en el validador"
   ]
  },
  {
   "cell_type": "code",
   "execution_count": 33,
   "metadata": {},
   "outputs": [
    {
     "name": "stdout",
     "output_type": "stream",
     "text": [
      "Mean MSE 2 =  1.8704061370467826\n"
     ]
    }
   ],
   "source": [
    "from sklearn.metrics import accuracy_score\n",
    "acc = [] # Define una lista para almacenar las exactitudes\n",
    "y_pred2 =[]\n",
    "MSE1 = []\n",
    "\n",
    "for train_index, test_index in loo.split(df):\n",
    "    \n",
    "    X_train, X_test = df.loc[train_index], df.loc[test_index] # son dataframes por eso se usa \"loc\"\n",
    "    y_train, y_test = yy.y.loc[train_index], yy.y.loc[test_index]\n",
    "    #print(y_test)\n",
    "    \n",
    "    # Implementacion regresión\n",
    "    model = KNeighborsRegressor(n_neighbors=5).fit( X_train, y_train )\n",
    "    y_pred = model.predict(X_test)\n",
    "    MSE1.append(mean_squared_error(y_test,y_pred))\n",
    "    \n",
    "mean_MSE = np.mean(MSE1) # Calcular MSE\n",
    "\n",
    "print(\"Mean MSE 2 = \", mean_MSE)\n",
    "    "
   ]
  },
  {
   "cell_type": "markdown",
   "metadata": {},
   "source": [
    " 3. $Y = \\beta_0 + \\beta_1 X + \\beta_2 X^2 + \\beta_3 X^3 + \\epsilon$"
   ]
  },
  {
   "cell_type": "code",
   "execution_count": 34,
   "metadata": {},
   "outputs": [],
   "source": [
    "df.insert(2,\"x3\",x3,True)"
   ]
  },
  {
   "cell_type": "code",
   "execution_count": 35,
   "metadata": {},
   "outputs": [
    {
     "data": {
      "text/plain": [
       "100"
      ]
     },
     "execution_count": 35,
     "metadata": {},
     "output_type": "execute_result"
    }
   ],
   "source": [
    "from sklearn.model_selection import LeaveOneOut\n",
    "loo = LeaveOneOut() # Se instancia al cross validator\n",
    "\n",
    "loo.get_n_splits(df) # Devuelve el numero de particiones en el validador"
   ]
  },
  {
   "cell_type": "code",
   "execution_count": 36,
   "metadata": {},
   "outputs": [
    {
     "name": "stdout",
     "output_type": "stream",
     "text": [
      "Mean MSE 3 =  1.8446007655978287\n"
     ]
    }
   ],
   "source": [
    "from sklearn.metrics import accuracy_score\n",
    "acc = [] # Define una lista para almacenar las exactitudes\n",
    "y_pred2 =[]\n",
    "MSE1 = []\n",
    "\n",
    "for train_index, test_index in loo.split(df):\n",
    "    \n",
    "    X_train, X_test = df.loc[train_index], df.loc[test_index] # son dataframes por eso se usa \"loc\"\n",
    "    y_train, y_test = yy.y.loc[train_index], yy.y.loc[test_index]\n",
    "    #print(y_test)\n",
    "    \n",
    "    # Implementacion regresión\n",
    "    model = KNeighborsRegressor(n_neighbors=5).fit( X_train, y_train )\n",
    "    y_pred = model.predict(X_test)\n",
    "    MSE1.append(mean_squared_error(y_test,y_pred))\n",
    "    \n",
    "mean_MSE = np.mean(MSE1) # Calcular MSE\n",
    "\n",
    "print(\"Mean MSE 3 = \", mean_MSE)\n",
    "    "
   ]
  },
  {
   "cell_type": "markdown",
   "metadata": {},
   "source": [
    " 4. $Y = \\beta_0 + \\beta_1 X + \\beta_2 X^2 + \\beta_3 X^3 + \\beta_4 X^4 + \\epsilon$"
   ]
  },
  {
   "cell_type": "code",
   "execution_count": 37,
   "metadata": {},
   "outputs": [],
   "source": [
    "df.insert(3,\"x4\",x4,True)"
   ]
  },
  {
   "cell_type": "code",
   "execution_count": 38,
   "metadata": {},
   "outputs": [
    {
     "data": {
      "text/plain": [
       "100"
      ]
     },
     "execution_count": 38,
     "metadata": {},
     "output_type": "execute_result"
    }
   ],
   "source": [
    "from sklearn.model_selection import LeaveOneOut\n",
    "loo = LeaveOneOut() # Se instancia al cross validator\n",
    "\n",
    "loo.get_n_splits(df) # Devuelve el numero de particiones en el validador"
   ]
  },
  {
   "cell_type": "code",
   "execution_count": 39,
   "metadata": {},
   "outputs": [
    {
     "name": "stdout",
     "output_type": "stream",
     "text": [
      "Mean MSE 4 =  1.8593614897163866\n"
     ]
    }
   ],
   "source": [
    "from sklearn.metrics import accuracy_score\n",
    "acc = [] # Define una lista para almacenar las exactitudes\n",
    "y_pred2 =[]\n",
    "MSE1 = []\n",
    "\n",
    "for train_index, test_index in loo.split(df):\n",
    "    \n",
    "    X_train, X_test = df.loc[train_index], df.loc[test_index] # son dataframes por eso se usa \"loc\"\n",
    "    y_train, y_test = yy.y.loc[train_index], yy.y.loc[test_index]\n",
    "    #print(y_test)\n",
    "    \n",
    "    # Implementacion regresión\n",
    "    model = KNeighborsRegressor(n_neighbors=5).fit( X_train, y_train )\n",
    "    y_pred = model.predict(X_test)\n",
    "    MSE1.append(mean_squared_error(y_test,y_pred))\n",
    "    \n",
    "mean_MSE = np.mean(MSE1) # Calcular MSE\n",
    "\n",
    "print(\"Mean MSE 4 = \", mean_MSE)\n",
    "    "
   ]
  },
  {
   "cell_type": "markdown",
   "metadata": {},
   "source": []
  },
  {
   "cell_type": "markdown",
   "metadata": {},
   "source": [
    "#### Punto 4"
   ]
  },
  {
   "cell_type": "code",
   "execution_count": 120,
   "metadata": {},
   "outputs": [],
   "source": [
    "np.random.seed(2) \n",
    "x = np.random.randn(100)\n",
    "e = np.random.randn(100)\n",
    "y = x - 2*x**2 + e"
   ]
  },
  {
   "cell_type": "code",
   "execution_count": 121,
   "metadata": {},
   "outputs": [],
   "source": [
    "x2=x**2\n",
    "x3=x**3\n",
    "x4=x**4"
   ]
  },
  {
   "cell_type": "code",
   "execution_count": 122,
   "metadata": {},
   "outputs": [],
   "source": [
    "yy = pd.DataFrame({'y':y}, dtype='int64')"
   ]
  },
  {
   "cell_type": "markdown",
   "metadata": {},
   "source": [
    " 1. $Y = \\beta_0 + \\beta_1 X + \\epsilon$"
   ]
  },
  {
   "cell_type": "code",
   "execution_count": 123,
   "metadata": {},
   "outputs": [],
   "source": [
    "df = pd.DataFrame({'x': x}, dtype='int64')"
   ]
  },
  {
   "cell_type": "code",
   "execution_count": 124,
   "metadata": {},
   "outputs": [
    {
     "data": {
      "text/plain": [
       "100"
      ]
     },
     "execution_count": 124,
     "metadata": {},
     "output_type": "execute_result"
    }
   ],
   "source": [
    "from sklearn.model_selection import LeaveOneOut\n",
    "loo = LeaveOneOut() # Se instancia al cross validator\n",
    "\n",
    "loo.get_n_splits(df) # Devuelve el numero de particiones en el validador"
   ]
  },
  {
   "cell_type": "code",
   "execution_count": 125,
   "metadata": {},
   "outputs": [
    {
     "name": "stdout",
     "output_type": "stream",
     "text": [
      "Mean MSE 1 =  2.1383627443410087\n"
     ]
    }
   ],
   "source": [
    "from sklearn.metrics import accuracy_score\n",
    "acc = [] # Define una lista para almacenar las exactitudes\n",
    "y_pred2 =[]\n",
    "MSE1 = []\n",
    "\n",
    "for train_index, test_index in loo.split(df):\n",
    "    \n",
    "    X_train, X_test = df.loc[train_index], df.loc[test_index] # son dataframes por eso se usa \"loc\"\n",
    "    y_train, y_test = yy.y.loc[train_index], yy.y.loc[test_index]\n",
    "    #print(y_test)\n",
    "    \n",
    "    # Implementacion regresión\n",
    "    model = KNeighborsRegressor(n_neighbors=5).fit( X_train, y_train )\n",
    "    y_pred = model.predict(X_test)\n",
    "    MSE1.append(mean_squared_error(y_test,y_pred))\n",
    "    \n",
    "mean_MSE = np.mean(MSE1) # Calcular MSE\n",
    "\n",
    "print(\"Mean MSE 1 = \", mean_MSE)\n",
    "    "
   ]
  },
  {
   "cell_type": "markdown",
   "metadata": {},
   "source": [
    " 2. $Y = \\beta_0 + \\beta_1 X + \\beta_2 X^2 + \\epsilon$"
   ]
  },
  {
   "cell_type": "code",
   "execution_count": 126,
   "metadata": {},
   "outputs": [],
   "source": [
    "df.insert(1,\"x2\",x2,True)"
   ]
  },
  {
   "cell_type": "code",
   "execution_count": 127,
   "metadata": {},
   "outputs": [
    {
     "data": {
      "text/plain": [
       "100"
      ]
     },
     "execution_count": 127,
     "metadata": {},
     "output_type": "execute_result"
    }
   ],
   "source": [
    "from sklearn.model_selection import LeaveOneOut\n",
    "loo = LeaveOneOut() # Se instancia al cross validator\n",
    "\n",
    "loo.get_n_splits(df) # Devuelve el numero de particiones en el validador"
   ]
  },
  {
   "cell_type": "code",
   "execution_count": 128,
   "metadata": {},
   "outputs": [
    {
     "name": "stdout",
     "output_type": "stream",
     "text": [
      "Mean MSE 2 =  2.1361204378735605\n"
     ]
    }
   ],
   "source": [
    "from sklearn.metrics import accuracy_score\n",
    "acc = [] # Define una lista para almacenar las exactitudes\n",
    "y_pred2 =[]\n",
    "MSE1 = []\n",
    "\n",
    "for train_index, test_index in loo.split(df):\n",
    "    \n",
    "    X_train, X_test = df.loc[train_index], df.loc[test_index] # son dataframes por eso se usa \"loc\"\n",
    "    y_train, y_test = yy.y.loc[train_index], yy.y.loc[test_index]\n",
    "    #print(y_test)\n",
    "    \n",
    "    # Implementacion regresión\n",
    "    model = KNeighborsRegressor(n_neighbors=5).fit( X_train, y_train )\n",
    "    y_pred = model.predict(X_test)\n",
    "    MSE1.append(mean_squared_error(y_test,y_pred))\n",
    "    \n",
    "mean_MSE = np.mean(MSE1) # Calcular MSE\n",
    "\n",
    "print(\"Mean MSE 2 = \", mean_MSE)\n",
    "    "
   ]
  },
  {
   "cell_type": "markdown",
   "metadata": {},
   "source": [
    " 3. $Y = \\beta_0 + \\beta_1 X + \\beta_2 X^2 + \\beta_3 X^3 + \\epsilon$"
   ]
  },
  {
   "cell_type": "code",
   "execution_count": 129,
   "metadata": {},
   "outputs": [],
   "source": [
    "df.insert(2,\"x3\",x3,True)"
   ]
  },
  {
   "cell_type": "code",
   "execution_count": 130,
   "metadata": {},
   "outputs": [
    {
     "data": {
      "text/plain": [
       "100"
      ]
     },
     "execution_count": 130,
     "metadata": {},
     "output_type": "execute_result"
    }
   ],
   "source": [
    "from sklearn.model_selection import LeaveOneOut\n",
    "loo = LeaveOneOut() # Se instancia al cross validator\n",
    "\n",
    "loo.get_n_splits(df) # Devuelve el numero de particiones en el validador"
   ]
  },
  {
   "cell_type": "code",
   "execution_count": 131,
   "metadata": {},
   "outputs": [
    {
     "name": "stdout",
     "output_type": "stream",
     "text": [
      "Mean MSE 3 =  2.1445351789129528\n"
     ]
    }
   ],
   "source": [
    "from sklearn.metrics import accuracy_score\n",
    "acc = [] # Define una lista para almacenar las exactitudes\n",
    "y_pred2 =[]\n",
    "MSE1 = []\n",
    "\n",
    "for train_index, test_index in loo.split(df):\n",
    "    \n",
    "    X_train, X_test = df.loc[train_index], df.loc[test_index] # son dataframes por eso se usa \"loc\"\n",
    "    y_train, y_test = yy.y.loc[train_index], yy.y.loc[test_index]\n",
    "    #print(y_test)\n",
    "    \n",
    "    # Implementacion regresión\n",
    "    model = KNeighborsRegressor(n_neighbors=5).fit( X_train, y_train )\n",
    "    y_pred = model.predict(X_test)\n",
    "    MSE1.append(mean_squared_error(y_test,y_pred))\n",
    "    \n",
    "mean_MSE = np.mean(MSE1) # Calcular MSE\n",
    "\n",
    "print(\"Mean MSE 3 = \", mean_MSE)"
   ]
  },
  {
   "cell_type": "markdown",
   "metadata": {},
   "source": [
    " 4. $Y = \\beta_0 + \\beta_1 X + \\beta_2 X^2 + \\beta_3 X^3 + \\beta_4 X^4 + \\epsilon$"
   ]
  },
  {
   "cell_type": "code",
   "execution_count": 132,
   "metadata": {},
   "outputs": [],
   "source": [
    "df.insert(3,\"x4\",x4,True)"
   ]
  },
  {
   "cell_type": "code",
   "execution_count": 133,
   "metadata": {},
   "outputs": [
    {
     "data": {
      "text/plain": [
       "100"
      ]
     },
     "execution_count": 133,
     "metadata": {},
     "output_type": "execute_result"
    }
   ],
   "source": [
    "from sklearn.model_selection import LeaveOneOut\n",
    "loo = LeaveOneOut() # Se instancia al cross validator\n",
    "\n",
    "loo.get_n_splits(df) # Devuelve el numero de particiones en el validador"
   ]
  },
  {
   "cell_type": "code",
   "execution_count": 134,
   "metadata": {},
   "outputs": [
    {
     "name": "stdout",
     "output_type": "stream",
     "text": [
      "Mean MSE 4 =  1.9177298048155538\n"
     ]
    }
   ],
   "source": [
    "from sklearn.metrics import accuracy_score\n",
    "acc = [] # Define una lista para almacenar las exactitudes\n",
    "y_pred2 =[]\n",
    "MSE1 = []\n",
    "\n",
    "for train_index, test_index in loo.split(df):\n",
    "    \n",
    "    X_train, X_test = df.loc[train_index], df.loc[test_index] # son dataframes por eso se usa \"loc\"\n",
    "    y_train, y_test = yy.y.loc[train_index], yy.y.loc[test_index]\n",
    "    #print(y_test)\n",
    "    \n",
    "    # Implementacion regresión\n",
    "    model = KNeighborsRegressor(n_neighbors=5).fit( X_train, y_train )\n",
    "    y_pred = model.predict(X_test)\n",
    "    MSE1.append(mean_squared_error(y_test,y_pred))\n",
    "    \n",
    "mean_MSE = np.mean(MSE1) # Calcular MSE\n",
    "\n",
    "print(\"Mean MSE 4 = \", mean_MSE)\n",
    "    "
   ]
  },
  {
   "cell_type": "markdown",
   "metadata": {},
   "source": [
    "Los resultados no son los mismos al punto 3 debido a que comenzamos con un punto de partida diferente (semilla 2 en vez de semilla 0); Antes teníamos un conjunto de datos muy pequeños ya que usabamos la semilla 0 y ahora podemos ver un cambio en los errores cuadraticos y en los valores tomados por la variable x e y al utilizar los números mas grandes con la semilla 2."
   ]
  },
  {
   "cell_type": "markdown",
   "metadata": {},
   "source": [
    "**¿Cuál de los modelos en (3) tuvo el error LOOCV más pequeño? ¿Es esto lo que esperaba? Explique la respuesta.**  \n",
    "El error mas pequeño lo tuvo el modelo 1. Esperabamos que el modelo 4 fuera el más preciso debido a que las otras variables lo ayudarían a acercarse al valor original, sin embargo parece que esto fue contraproducente ya que parece que las otras variables lo alejaron más de la precisión."
   ]
  }
 ],
 "metadata": {
  "kernelspec": {
   "display_name": "Python 3",
   "language": "python",
   "name": "python3"
  },
  "language_info": {
   "codemirror_mode": {
    "name": "ipython",
    "version": 3
   },
   "file_extension": ".py",
   "mimetype": "text/x-python",
   "name": "python",
   "nbconvert_exporter": "python",
   "pygments_lexer": "ipython3",
   "version": "3.9.6"
  },
  "nbTranslate": {
   "displayLangs": [
    "*"
   ],
   "hotkey": "alt-t",
   "langInMainMenu": true,
   "sourceLang": "en",
   "targetLang": "fr",
   "useGoogleTranslate": true
  },
  "varInspector": {
   "cols": {
    "lenName": 16,
    "lenType": 16,
    "lenVar": 40
   },
   "kernels_config": {
    "python": {
     "delete_cmd_postfix": "",
     "delete_cmd_prefix": "del ",
     "library": "var_list.py",
     "varRefreshCmd": "print(var_dic_list())"
    },
    "r": {
     "delete_cmd_postfix": ") ",
     "delete_cmd_prefix": "rm(",
     "library": "var_list.r",
     "varRefreshCmd": "cat(var_dic_list()) "
    }
   },
   "types_to_exclude": [
    "module",
    "function",
    "builtin_function_or_method",
    "instance",
    "_Feature"
   ],
   "window_display": false
  }
 },
 "nbformat": 4,
 "nbformat_minor": 2
}
