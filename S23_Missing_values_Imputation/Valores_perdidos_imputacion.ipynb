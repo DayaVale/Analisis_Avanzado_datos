{
 "cells": [
  {
   "cell_type": "markdown",
   "id": "aac3523d",
   "metadata": {},
   "source": [
    "# Valores perdidos e Imputación"
   ]
  },
  {
   "cell_type": "markdown",
   "id": "64a2f243",
   "metadata": {},
   "source": [
    "Los valores perdidos son unos de los problemas más comunes que hay en el análisis de datos real, puesto que casi todos los datasets reales presentan valores que se ignoran, o no se anotan, o se comenten errores y se llenan mal, entre otras formas de no obtener la información. \n",
    "\n",
    "Al ser un problema muy frecuente, es de gran importancia en el manejo de los datos. A continuación veremos en primer lugar las clases de valores perdidos que se pueden presentar y por otro lado algunas técnicas que sirven para tratar éste problema. Nos centraremos especialmente en una técnica denominada **imputación**, que consiste en reconstruir los valores perdidos observando el resto del dataset (observando sólo una variable o múltiples variables). \n",
    "\n",
    "Es muy importante aclarar que no existe la forma perfecta de manejar el problema de los valores perdidos, hay muchos tipos de soluciones y dependerá de la estructura de los datos y el tipo de problema, en encontrar una solución adecuada. "
   ]
  },
  {
   "cell_type": "markdown",
   "id": "18f676c7",
   "metadata": {},
   "source": [
    "## Suposiciones de (por qué) los valores (están) perdidos\n",
    "\n",
    "Como en muchos tipos de modelos realizar ciertas suposiciones simplifica el manejo que se le puede dar a los datos y así a la construcción de métodos que nos ayudan a solucionar el problema.\n",
    "\n",
    "En el caso de los valores perdidos veremos tres suposiciones de por qué los valores están perdidos. "
   ]
  },
  {
   "cell_type": "markdown",
   "id": "50a11c42",
   "metadata": {},
   "source": [
    "### Missing Completely at Random (MCAR) "
   ]
  },
  {
   "cell_type": "markdown",
   "id": "2916e15f",
   "metadata": {
    "lang": "en"
   },
   "source": [
    "*Missing Completely at Random* (MCAR), traducido sería algo como \"perdido completamente de forma aleatoria\",  supone que el hecho de que falte un determinado valor no tiene nada que ver con su valor hipotético ni tampoco con los valores de otras variables. De una forma más estadística, sería plantear que $\\color{green}{M_{Y} \\perp Y, X}$, siendo $M_Y$ una variable indicadora que indica cuando un valor es perdido (1 cuando es perdido, o 0 cuando es observado). Más formalmente, lo anterior es equivalente a: \n",
    "\n",
    "$$\n",
    "\\operatorname{Pr}(Y=y, X=x)=\\operatorname{Pr}\\left(Y=y, X=x \\mid M_{Y}=0\\right)\n",
    "$$"
   ]
  },
  {
   "cell_type": "markdown",
   "id": "5cbd5234",
   "metadata": {
    "lang": "es"
   },
   "source": [
    "Entonces, cualquier cosa que podamos identificar a partir de los datos completos (porque es una función de la distribución conjunta) es también algo que podemos identificar a partir de la distribución con los datos incompletos (después de eliminarlos).\n",
    "\n",
    "MCAR es la suposición más fuerte y la menos creíble en situaciones reales. "
   ]
  },
  {
   "cell_type": "markdown",
   "id": "6dad3391",
   "metadata": {
    "lang": "es"
   },
   "source": [
    "#### Ejemplo MCAR:\n",
    "Se imprimió una tabla de datos sin valores perdidos y alguien accidentalmente dejó caer un poco de tinta sobre ella, por lo que algunas celdas ya no se pueden leer. Aquí, podríamos suponer que los valores perdidos siguen la misma distribución que los valores conocidos."
   ]
  },
  {
   "cell_type": "markdown",
   "id": "de61f898",
   "metadata": {},
   "source": [
    "### Missing at Random (MAR)"
   ]
  },
  {
   "cell_type": "markdown",
   "id": "3c298b35",
   "metadata": {
    "lang": "es"
   },
   "source": [
    "*Missing at Random* (MAR) significa que la probabilidad de perderse un dato no está relacionada con los datos perdidos, sino con algunos de los datos observados."
   ]
  },
  {
   "cell_type": "markdown",
   "id": "1acf80ca",
   "metadata": {
    "lang": "es"
   },
   "source": [
    "Debido a que MCAR es una suposición tan fuerte e inverosímil, se ha buscado suposiciones más débiles. MAR supone que:\n",
    "$$\n",
    "M_{Y} \\perp Y \\mid X\n",
    "$$\n",
    "Según la definición de independencia condicional, esto equivale a decir que, para todos los $x, y$\n",
    "$$\n",
    "\\operatorname{Pr}\\left(Y=y \\mid X=x, M_{Y}=0\\right)=\\operatorname{Pr}\\left(Y=y \\mid X=x, M_{Y}=1\\right)\n",
    "$$\n",
    "En otras palabras: dado $X$, los valores perdidos de $Y$ siguen exactamente la misma distribución de probabilidad que los valores observados. O lo mismo que:\n",
    "$$\n",
    "\\operatorname{Pr}(Y=y \\mid X=x)=\\operatorname{Pr}\\left(Y=y \\mid X=x, M_{Y}=0\\right)\n",
    "$$\n",
    "Por lo tanto, bajo MAR, cualquier función de la distribución condicional de datos completos se puede calcular directamente a partir de la distribución condicional observada. "
   ]
  },
  {
   "cell_type": "markdown",
   "id": "d2b44b81",
   "metadata": {
    "lang": "es"
   },
   "source": [
    "#### Ejemplos MAR:\n",
    "- En el caso de un sensor de temperatura, el hecho de que falte un valor no depende de la temperatura, pero puede depender de algún otro factor, por ejemplo, de la carga de la batería del termómetro.\n",
    "\n",
    "- Si alguien responde o no a una pregunta en una encuesta, por ejemplo, ¿cuál es su edad? no depende de la respuesta en sí, sino que puede depender de la respuesta a otra pregunta, por ejemplo, el sexo."
   ]
  },
  {
   "cell_type": "markdown",
   "id": "fae003d5",
   "metadata": {},
   "source": [
    "### Missing Not At Random (MNAR)"
   ]
  },
  {
   "cell_type": "markdown",
   "id": "7c62200c",
   "metadata": {
    "lang": "es"
   },
   "source": [
    "Lo opuesto a *missing-at-random* es, naturalmente, *missing-not-at-random*, o MNAR:\n",
    "\n",
    "$$\n",
    "M_{Y} \\not \\perp Y \\mid X\n",
    "$$\n",
    "\n",
    "En otras palabras, la probabilidad de que un valor esté perdido puede depender del valor de la misma variable.\n",
    "\n",
    "MNAR también recibe los nombres de *non-ignorable-missingness* o *informative-missingness* (algo así como: \"los valores perdidos son informativos\")\n",
    "\n",
    "Cuando los valores perdidos son informativos, los argumentos de antes, usados en MAR nos dicen que la eliminación de los valores perdidos es una mala idea. Específicamente,\n",
    "\n",
    "$$\n",
    "\\operatorname{Pr}(Y=y \\mid X=x) \\neq \\operatorname{Pr}\\left(Y=y \\mid X=x, M_{Y}=0\\right)\n",
    "$$\n",
    "\n",
    "Es decir que, los datos observados no siguen la misma distribución condicional que los datos completos, y la eliminación de los valores perdidos nos dará una idea sesgada y sistemáticamente distorsionada de esa distribución condicional.\n",
    "\n",
    "Hay muy poco más que se pueda decir a este nivel de generalidad en el MNAR. En particular, si bien la ausencia es informativa, puede o no, ser muy informativa. "
   ]
  },
  {
   "cell_type": "markdown",
   "id": "ff02a9ca",
   "metadata": {
    "lang": "es"
   },
   "source": [
    "#### Ejemplo MNAR\n",
    "- En el caso de un sensor de temperatura, el sensor no funciona correctamente cuando hace menos de 5°C.\n",
    "- Si alguien responde o no a una pregunta en una encuesta, por ejemplo, el número de días de enfermedad - depende de la respuesta en sí misma - como podría ser para algunas personas con sobrepeso."
   ]
  },
  {
   "cell_type": "markdown",
   "id": "bca29ac2",
   "metadata": {},
   "source": [
    "## Métodos para tratar con los valores perdidos (además de eliminarlos)"
   ]
  },
  {
   "cell_type": "markdown",
   "id": "3439bfa1",
   "metadata": {
    "lang": "es"
   },
   "source": [
    "Se pueden utilizar algunos métodos para tratar los datos perdidos, ya sea que asumamos MAR o MNAR (aunque darán respuestas diferentes en los dos casos). Los más importantes son:\n",
    "\n",
    "- Reconstruir o imputar valores para las variables con valores perdidos y analizar el conjunto de datos completo;\n",
    "\n",
    "- Promediar el logaritmo de la función de verosimilitud sobre todos los valores posibles de las variables con valores perdidos, utilizando el algoritmo EM;\n",
    "\n",
    "- Ponderación de las observaciones completas, de modo que el punto que consideremos apropiado represente los valores que se perdieron.\n",
    "\n",
    "Nos centraremos particularmente en la **imputación**. Si desean conocer con más profundidad los otros métodos les recomiendo el ápendice $\\text{I}$ de [éste libro](http://www.stat.cmu.edu/~cshalizi/ADAfaEPoV/) (del cual he tomado varias cosas)."
   ]
  },
  {
   "cell_type": "markdown",
   "id": "00488c42",
   "metadata": {},
   "source": [
    "La siguiente figura, tomada [de aquí](https://towardsdatascience.com/how-to-handle-missing-data-8646b18db0d4) muestra algunos métodos para borrar elementos o realizar imputación. \n",
    "\n",
    "<img src=\"https://miro.medium.com/max/875/1*_RA3mCS30Pr0vUxbp25Yxw.png\" width=\"500\">\n",
    "\n",
    "Nota: por ahora, no veremos (en detalle) los métodos para tratar con valores perdidos en las series temporales."
   ]
  },
  {
   "cell_type": "markdown",
   "id": "8f691563",
   "metadata": {},
   "source": [
    "Siguiendo con la clasificación de los métodos, presentada anteriormente, a continuación se describen los métodos de eliminación y de imputación."
   ]
  },
  {
   "cell_type": "markdown",
   "id": "12e0d267",
   "metadata": {},
   "source": [
    "### Métodos de eliminación"
   ]
  },
  {
   "cell_type": "markdown",
   "id": "55bc8b15",
   "metadata": {
    "lang": "es"
   },
   "source": [
    "Hay tres enfoques de eliminación comunes: eliminación por lista, eliminación por pares y características de eliminación.\n",
    "\n",
    "- *Listwise Deletion*: elimine todas las filas en las que falten uno o más valores.\n",
    "- *Pairwise Deletion*: elimine solo las filas que tienen valores perdidos en las columnas utilizadas para el análisis. Solo se recomienda utilizar este método si los datos que faltan son MCAR.\n",
    "- *Dropping Features*: elimine columnas enteras con más valores perdidos que un umbral determinado, por ejemplo, 60%."
   ]
  },
  {
   "cell_type": "markdown",
   "id": "741955cb",
   "metadata": {},
   "source": [
    "La siguiente figura muestra un esquema de ejemplo para cada uno de los enfoques de eliminación.\n",
    "\n",
    "<img src=\"img/missing-values.jpg\" width=\"500\">\n"
   ]
  },
  {
   "cell_type": "markdown",
   "id": "2f10673a",
   "metadata": {},
   "source": [
    "### Métodos de Imputación"
   ]
  },
  {
   "cell_type": "markdown",
   "id": "0f55b2d6",
   "metadata": {
    "lang": "es"
   },
   "source": [
    "La idea detrás del método de imputación es reemplazar los valores perdidos con otros valores. Debido a que siempre se pierde información cuando se descartan muestras (filas) o entidades completas (columnas), la imputación suele ser un método muy valorado.\n",
    "\n",
    "Las numerosas técnicas de imputación se pueden dividir en dos subgrupos: imputación única e imputación múltiple.\n",
    "\n",
    "En la **imputación única** (*single imputation*), se genera un valor de imputación único / uno para cada una de las observaciones perdidas. El valor imputado se trata como el valor real, ignorando el hecho de que ningún método de imputación puede proporcionar el valor exacto. Por lo tanto, la imputación única no refleja la incertidumbre de los valores perdidos.\n",
    "\n",
    "En la **imputación múltiple** (*multiple imputation*), se generan muchos valores imputados para cada una de las observaciones perdidas. Esto significa que se crean muchos conjuntos de datos completos con diferentes valores imputados. El análisis (por ejemplo, entrenar una regresión lineal para predecir una columna de destino) se realiza en cada uno de estos conjuntos de datos y se infieren los resultados (por ejemplo, a través del promedio). La creación de imputaciones múltiples, a diferencia de las imputaciones únicas, explica la incertidumbre estadística en las imputaciones."
   ]
  },
  {
   "cell_type": "markdown",
   "id": "329d9b37",
   "metadata": {},
   "source": [
    "#### Imputación Única"
   ]
  },
  {
   "cell_type": "markdown",
   "id": "772aa690",
   "metadata": {
    "lang": "es"
   },
   "source": [
    "La mayoría de los métodos de imputación son métodos de imputación única, siguiendo tres estrategias principales: \n",
    "- reemplazo por valores existentes,\n",
    "- reemplazo por valores estadísticos y,\n",
    "- reemplazo por valores predichos.\n",
    "\n",
    "Dependiendo de los valores usados para cada una de estas estrategias, usamos métodos que funcionan solo con valores numéricos y métodos que funcionan con columnas tanto numéricas como categóricas. Estos métodos se resumen en la siguiente Tabla  y se explican a continuación."
   ]
  },
  {
   "cell_type": "markdown",
   "id": "f20b4a97",
   "metadata": {
    "lang": "en"
   },
   "source": [
    "| Reemplazo mediante:    | Sólo descriptores numéricos | Descriptores numéricos y categóricos |\n",
    "|---------------------------|--------------------------------------------------------------------------|--------------------------------|\n",
    "| Valores existentes   | Mínimo / Máximo                                                        | Anterior / Posterior / Fijo        |\n",
    "| Valores estadísticos | (Redondeado) Media / Mediana / Moving Average, Interpolación Lineal / Interpolación promedio | Más frecuente |\n",
    "|  Valores predichos   | Algoritmos de regresión                                                    | Algoritmos de regresión y clasificación, k-Nearest Neighbours |\n"
   ]
  },
  {
   "cell_type": "markdown",
   "id": "71030d63",
   "metadata": {
    "lang": "es"
   },
   "source": [
    "**Valor fijo**\n",
    "\n",
    "La imputación de valor fijo es un método general que funciona para todos los tipos de datos y consiste en sustituir el valor perdido por un valor fijo. Como ejemplo del uso de la imputación de valor fijo en descriptores categóricos, se puede imputar los valores perdidos en una encuesta con \"no respondido\".\n",
    "\n",
    "**Valor mínimo / máximo**\n",
    "\n",
    "Si se sabe que los datos deben ajustarse a un rango determinado [mínimo, máximo], y si sabe por el proceso de recopilación de datos que el sistema de medición deja de registrar y la señal se satura más allá de uno de esos límites, puede utilizar el rango mínimo o máximo como valor de reemplazo para los valores perdidos. Por ejemplo, si en el intercambio monetario se ha alcanzado un precio mínimo y el proceso de cambio se ha detenido, el precio de cambio monetario perdido puede reemplazarse con el valor mínimo de la frontera de cambio de la ley.\n",
    "\n",
    "**Media (redondeada) / Mediana / Media móvil**\n",
    "\n",
    "Otros métodos de imputación comunes para descriptores numéricos son: la media, la mediana o  la media móvil (moving average). En este caso, el método sustituye el valor perdido con la media o la mediana para todo el conjunto de datos. La media móvil se calcula en una ventana cercana al valor perdido, pero se suele usar más en series temporales.  En el caso de una gran cantidad de valores atípicos en su conjunto de datos, se recomienda utilizar la mediana en lugar de la media.\n",
    "\n",
    "**Valor más frecuente**\n",
    "\n",
    "Otro método común que funciona tanto para descriptores numéricos como categóricos, es usar el valor más frecuente en la columna para reemplazar los valores perdidos.\n",
    "\n",
    "**Valor anterior / siguiente**\n",
    "\n",
    "Existen métodos especiales de imputación para series de tiempo o datos ordenados. Estos métodos tienen en cuenta la naturaleza ordenada del conjunto de datos, donde los valores cercanos son probablemente más similares que los valores distantes. Un enfoque común para imputar valores perdidos en series de tiempo sustituye el valor anterior o siguiente por el valor perdido en la serie de tiempo. Este enfoque funciona tanto para valores numéricos como categóricos.\n",
    "\n",
    "**Interpolación lineal / promedio**\n",
    "\n",
    "De manera similar a la imputación de valor anterior / siguiente, pero solo aplicable a valores numéricos, es la interpolación lineal o promedio, que se calcula entre el valor disponible anterior y siguiente, y sustituye el valor perdido. Por supuesto, como para todas las operaciones con datos ordenados, es importante ordenar los datos correctamente por adelantado, por ejemplo, en el caso de datos de series de tiempo usando un *timestamp*.\n",
    "\n",
    "**K Nearest Neighbors**\n",
    "\n",
    "La idea aquí es buscar las K muestras más cercanas en el dataset, donde para el descriptor en cuestión, no se encuentre perdido su valor. Luego, se toma el valor del descriptor que ocurre con mayor frecuencia en dicha vecindad, como reemplazo del valor perdido.\n",
    "\n",
    "**Predicción del valor perdido**\n",
    "\n",
    "Otra opción común para la imputación única es entrenar un modelo de aprendizaje automático para predecir los valores de imputación para el descriptor $x$ en función de los otros descriptores. Las filas sin valores perdidos en el descriptor $x$ se utilizan como un conjunto de entrenamiento y el modelo se entrena en función de los valores de las otras columnas. Aquí podemos usar cualquier modelo de clasificación o regresión, dependiendo del tipo de datos del descriptor. Después del entrenamiento, el modelo se aplica a todas las muestras con valores perdidos del descriptor en cuestión, para predecir su valor más probable.\n",
    "\n",
    "En el caso de valores perdidos en más de una columna de descriptores, todos los valores perdidos se imputan primero temporalmente con un método de imputación básico, por ejemplo, el valor medio. A continuación, los valores de una sola columna vuelven a perderse. Posteriormente, el modelo se entrena y se aplica para completar esos valores perdidos. De esta manera, se entrena un modelo para cada descriptor con valores perdidos, hasta que todos los valores perdidos sean imputados por un modelo."
   ]
  },
  {
   "cell_type": "markdown",
   "id": "f2270d42",
   "metadata": {},
   "source": [
    "#### Imputación Múltiple"
   ]
  },
  {
   "cell_type": "markdown",
   "id": "6439cf5d",
   "metadata": {
    "lang": "es"
   },
   "source": [
    "La imputación múltiple es un enfoque de imputación derivado de la estadística. Los métodos de imputación única tienen la desventaja de que no consideran la incertidumbre de los valores imputados. Esto significa que reconocen los valores imputados como valores reales sin tener en cuenta el error estándar, lo que provoca sesgos en los resultados.\n",
    "\n",
    "Un enfoque que resuelve este problema es la imputación múltiple donde no se crea una, sino muchas imputaciones para cada valor perdido. Esto significa completar los valores perdidos varias veces, creando múltiples conjuntos de datos “completos”.\n",
    "\n",
    "Se han desarrollado varios algoritmos para la imputación múltiple. Un algoritmo bien conocido es la [imputación múltiple por ecuación encadenada](https://www.ncbi.nlm.nih.gov/pmc/articles/PMC3074241/) (MICE: Multiple Imputation by Chained Equation)."
   ]
  },
  {
   "cell_type": "markdown",
   "id": "aaaa7a16",
   "metadata": {
    "lang": "es"
   },
   "source": [
    "**Imputación múltiple por ecuaciones encadenadas (MICE)**\n",
    "\n",
    "MICE es un método robusto e informativo para tratar los valores perdidos en los conjuntos de datos. MICE opera bajo el supuesto de que los datos faltantes son *Missing At Random*(MAR) o *Missing Complete At Random* (MCAR).\n",
    "\n",
    "El procedimiento es una extensión de la imputación simple por $\\text{predicción del valor perdido} (visto anteriormente): este es el paso 1. Sin embargo, hay dos pasos adicionales en el procedimiento de MICE.\n",
    "\n",
    "- Paso 1. Este proceso es el mismo que en en el procedimiento de imputación por $\\text{predicción del valor perdido} en un subconjunto de los datos originales. Un modelo se entrena para predecir los valores perdidos en un descriptor, utilizando los otros descriptores en la fila de datos como variables independientes para el modelo. Este paso se repite para todas los descriptores. Este paso es una iteración.\n",
    "\n",
    "- Paso 2: El paso 1 se repite $k$ veces, utilizando cada vez las imputaciones más recientes para las variables independientes, hasta que se alcanza la convergencia. La mayoría de las veces es suficiente con $k = 10$ iteraciones.\n",
    "\n",
    "- Paso 3: Todo el proceso se repite $N$ veces en $N$ subconjuntos aleatorios diferentes (¡similar a boostrap!). Los $N$ modelos resultantes serán ligeramente diferentes y producirán $N$ predicciones ligeramente diferentes para cada valor perdido.\n",
    "\n",
    "El análisis, por ejemplo, a través del entrenamiento de una regresión lineal para una variable objetivo, ahora se realiza en cada uno de los $N$ conjuntos de datos finales. Finalmente, los resultados se combinan, a esto se le suele llamar *pooling*.\n",
    "\n",
    "Este método proporciona resultados más sólidos que con una sola imputación. Por supuesto, la desventaja de tal robustez es el aumento de la complejidad computacional."
   ]
  },
  {
   "cell_type": "markdown",
   "id": "5001a8b0",
   "metadata": {},
   "source": [
    "## Implementaciones del manejo de valores perdidos"
   ]
  },
  {
   "cell_type": "code",
   "execution_count": 27,
   "id": "0e2fd61b",
   "metadata": {
    "ExecuteTime": {
     "end_time": "2021-10-12T16:26:13.379886Z",
     "start_time": "2021-10-12T16:26:13.375495Z"
    }
   },
   "outputs": [],
   "source": [
    "import pandas as pd\n",
    "from numpy import mean, std, isnan, nan\n",
    "from sklearn.ensemble import RandomForestClassifier\n",
    "\n",
    "# To use this experimental feature, we need to explicitly ask for it:\n",
    "from sklearn.experimental import enable_iterative_imputer  # noqa\n",
    "\n",
    "from sklearn.impute import SimpleImputer, IterativeImputer\n",
    "from sklearn.model_selection import cross_val_score\n",
    "from sklearn.model_selection import RepeatedStratifiedKFold\n",
    "from sklearn.pipeline import Pipeline\n",
    "import matplotlib.pyplot as plt"
   ]
  },
  {
   "cell_type": "code",
   "execution_count": 6,
   "id": "475ff45f",
   "metadata": {
    "ExecuteTime": {
     "end_time": "2021-10-12T15:21:55.750811Z",
     "start_time": "2021-10-12T15:21:55.729819Z"
    },
    "scrolled": false
   },
   "outputs": [
    {
     "data": {
      "text/html": [
       "<div>\n",
       "<style scoped>\n",
       "    .dataframe tbody tr th:only-of-type {\n",
       "        vertical-align: middle;\n",
       "    }\n",
       "\n",
       "    .dataframe tbody tr th {\n",
       "        vertical-align: top;\n",
       "    }\n",
       "\n",
       "    .dataframe thead th {\n",
       "        text-align: right;\n",
       "    }\n",
       "</style>\n",
       "<table border=\"1\" class=\"dataframe\">\n",
       "  <thead>\n",
       "    <tr style=\"text-align: right;\">\n",
       "      <th></th>\n",
       "      <th>surgery</th>\n",
       "      <th>age</th>\n",
       "      <th>hospital_number</th>\n",
       "      <th>rectal_temp</th>\n",
       "      <th>pulse</th>\n",
       "      <th>respiratory_rate</th>\n",
       "      <th>temp_of_extremities</th>\n",
       "      <th>peripheral_pulse</th>\n",
       "      <th>mucous_membrane</th>\n",
       "      <th>capillary_refill_time</th>\n",
       "      <th>...</th>\n",
       "      <th>packed_cell_volume</th>\n",
       "      <th>total_protein</th>\n",
       "      <th>abdomo_appearance</th>\n",
       "      <th>abdomo_protein</th>\n",
       "      <th>outcome</th>\n",
       "      <th>surgical_lesion</th>\n",
       "      <th>lesion_1</th>\n",
       "      <th>lesion_2</th>\n",
       "      <th>lesion_3</th>\n",
       "      <th>cp_data</th>\n",
       "    </tr>\n",
       "  </thead>\n",
       "  <tbody>\n",
       "    <tr>\n",
       "      <th>0</th>\n",
       "      <td>2.0</td>\n",
       "      <td>1</td>\n",
       "      <td>530101</td>\n",
       "      <td>38.5</td>\n",
       "      <td>66.0</td>\n",
       "      <td>28.0</td>\n",
       "      <td>3.0</td>\n",
       "      <td>3.0</td>\n",
       "      <td>NaN</td>\n",
       "      <td>2.0</td>\n",
       "      <td>...</td>\n",
       "      <td>45.0</td>\n",
       "      <td>8.4</td>\n",
       "      <td>NaN</td>\n",
       "      <td>NaN</td>\n",
       "      <td>2.0</td>\n",
       "      <td>2</td>\n",
       "      <td>11300</td>\n",
       "      <td>0</td>\n",
       "      <td>0</td>\n",
       "      <td>2</td>\n",
       "    </tr>\n",
       "    <tr>\n",
       "      <th>1</th>\n",
       "      <td>1.0</td>\n",
       "      <td>1</td>\n",
       "      <td>534817</td>\n",
       "      <td>39.2</td>\n",
       "      <td>88.0</td>\n",
       "      <td>20.0</td>\n",
       "      <td>NaN</td>\n",
       "      <td>NaN</td>\n",
       "      <td>4.0</td>\n",
       "      <td>1.0</td>\n",
       "      <td>...</td>\n",
       "      <td>50.0</td>\n",
       "      <td>85.0</td>\n",
       "      <td>2.0</td>\n",
       "      <td>2.0</td>\n",
       "      <td>3.0</td>\n",
       "      <td>2</td>\n",
       "      <td>2208</td>\n",
       "      <td>0</td>\n",
       "      <td>0</td>\n",
       "      <td>2</td>\n",
       "    </tr>\n",
       "    <tr>\n",
       "      <th>2</th>\n",
       "      <td>2.0</td>\n",
       "      <td>1</td>\n",
       "      <td>530334</td>\n",
       "      <td>38.3</td>\n",
       "      <td>40.0</td>\n",
       "      <td>24.0</td>\n",
       "      <td>1.0</td>\n",
       "      <td>1.0</td>\n",
       "      <td>3.0</td>\n",
       "      <td>1.0</td>\n",
       "      <td>...</td>\n",
       "      <td>33.0</td>\n",
       "      <td>6.7</td>\n",
       "      <td>NaN</td>\n",
       "      <td>NaN</td>\n",
       "      <td>1.0</td>\n",
       "      <td>2</td>\n",
       "      <td>0</td>\n",
       "      <td>0</td>\n",
       "      <td>0</td>\n",
       "      <td>1</td>\n",
       "    </tr>\n",
       "    <tr>\n",
       "      <th>3</th>\n",
       "      <td>1.0</td>\n",
       "      <td>9</td>\n",
       "      <td>5290409</td>\n",
       "      <td>39.1</td>\n",
       "      <td>164.0</td>\n",
       "      <td>84.0</td>\n",
       "      <td>4.0</td>\n",
       "      <td>1.0</td>\n",
       "      <td>6.0</td>\n",
       "      <td>2.0</td>\n",
       "      <td>...</td>\n",
       "      <td>48.0</td>\n",
       "      <td>7.2</td>\n",
       "      <td>3.0</td>\n",
       "      <td>5.3</td>\n",
       "      <td>2.0</td>\n",
       "      <td>1</td>\n",
       "      <td>2208</td>\n",
       "      <td>0</td>\n",
       "      <td>0</td>\n",
       "      <td>1</td>\n",
       "    </tr>\n",
       "    <tr>\n",
       "      <th>4</th>\n",
       "      <td>2.0</td>\n",
       "      <td>1</td>\n",
       "      <td>530255</td>\n",
       "      <td>37.3</td>\n",
       "      <td>104.0</td>\n",
       "      <td>35.0</td>\n",
       "      <td>NaN</td>\n",
       "      <td>NaN</td>\n",
       "      <td>6.0</td>\n",
       "      <td>2.0</td>\n",
       "      <td>...</td>\n",
       "      <td>74.0</td>\n",
       "      <td>7.4</td>\n",
       "      <td>NaN</td>\n",
       "      <td>NaN</td>\n",
       "      <td>2.0</td>\n",
       "      <td>2</td>\n",
       "      <td>4300</td>\n",
       "      <td>0</td>\n",
       "      <td>0</td>\n",
       "      <td>2</td>\n",
       "    </tr>\n",
       "  </tbody>\n",
       "</table>\n",
       "<p>5 rows × 28 columns</p>\n",
       "</div>"
      ],
      "text/plain": [
       "   surgery  age  hospital_number  rectal_temp  pulse  respiratory_rate  \\\n",
       "0      2.0    1           530101         38.5   66.0              28.0   \n",
       "1      1.0    1           534817         39.2   88.0              20.0   \n",
       "2      2.0    1           530334         38.3   40.0              24.0   \n",
       "3      1.0    9          5290409         39.1  164.0              84.0   \n",
       "4      2.0    1           530255         37.3  104.0              35.0   \n",
       "\n",
       "   temp_of_extremities  peripheral_pulse  mucous_membrane  \\\n",
       "0                  3.0               3.0              NaN   \n",
       "1                  NaN               NaN              4.0   \n",
       "2                  1.0               1.0              3.0   \n",
       "3                  4.0               1.0              6.0   \n",
       "4                  NaN               NaN              6.0   \n",
       "\n",
       "   capillary_refill_time  ...  packed_cell_volume  total_protein  \\\n",
       "0                    2.0  ...                45.0            8.4   \n",
       "1                    1.0  ...                50.0           85.0   \n",
       "2                    1.0  ...                33.0            6.7   \n",
       "3                    2.0  ...                48.0            7.2   \n",
       "4                    2.0  ...                74.0            7.4   \n",
       "\n",
       "   abdomo_appearance  abdomo_protein  outcome  surgical_lesion  lesion_1  \\\n",
       "0                NaN             NaN      2.0                2     11300   \n",
       "1                2.0             2.0      3.0                2      2208   \n",
       "2                NaN             NaN      1.0                2         0   \n",
       "3                3.0             5.3      2.0                1      2208   \n",
       "4                NaN             NaN      2.0                2      4300   \n",
       "\n",
       "   lesion_2  lesion_3  cp_data  \n",
       "0         0         0        2  \n",
       "1         0         0        2  \n",
       "2         0         0        1  \n",
       "3         0         0        1  \n",
       "4         0         0        2  \n",
       "\n",
       "[5 rows x 28 columns]"
      ]
     },
     "execution_count": 6,
     "metadata": {},
     "output_type": "execute_result"
    }
   ],
   "source": [
    "df = pd.read_csv(\"data/horse-colic.csv\", na_values=\"?\")\n",
    "df.head()"
   ]
  },
  {
   "cell_type": "code",
   "execution_count": 7,
   "id": "79d736d6",
   "metadata": {
    "ExecuteTime": {
     "end_time": "2021-10-12T15:21:57.732080Z",
     "start_time": "2021-10-12T15:21:57.729092Z"
    }
   },
   "outputs": [
    {
     "data": {
      "text/plain": [
       "300"
      ]
     },
     "execution_count": 7,
     "metadata": {},
     "output_type": "execute_result"
    }
   ],
   "source": [
    "df.shape[0]"
   ]
  },
  {
   "cell_type": "markdown",
   "id": "e878288a",
   "metadata": {},
   "source": [
    "#### Eliminación de filas/columnas"
   ]
  },
  {
   "cell_type": "markdown",
   "id": "580d0b65",
   "metadata": {
    "lang": "es"
   },
   "source": [
    "Luego podemos enumerar cada columna e informar el número de filas con valores perdidos para la columna."
   ]
  },
  {
   "cell_type": "code",
   "execution_count": 16,
   "id": "b154d238",
   "metadata": {},
   "outputs": [
    {
     "data": {
      "text/plain": [
       "surgery                    1\n",
       "age                        0\n",
       "hospital_number            0\n",
       "rectal_temp               60\n",
       "pulse                     24\n",
       "respiratory_rate          58\n",
       "temp_of_extremities       56\n",
       "peripheral_pulse          69\n",
       "mucous_membrane           47\n",
       "capillary_refill_time     32\n",
       "pain                      55\n",
       "peristalsis               44\n",
       "abdominal_distention      56\n",
       "nasogastric_tube         104\n",
       "nasogastric_reflux       106\n",
       "nasogastric_reflux_ph    247\n",
       "rectal_exam_feces        102\n",
       "abdomen                  118\n",
       "packed_cell_volume        29\n",
       "total_protein             33\n",
       "abdomo_appearance        165\n",
       "abdomo_protein           198\n",
       "outcome                    1\n",
       "surgical_lesion            0\n",
       "lesion_1                   0\n",
       "lesion_2                   0\n",
       "lesion_3                   0\n",
       "cp_data                    0\n",
       "dtype: int64"
      ]
     },
     "execution_count": 16,
     "metadata": {},
     "output_type": "execute_result"
    }
   ],
   "source": [
    "df.isna().sum()"
   ]
  },
  {
   "cell_type": "markdown",
   "id": "e2e5bbdd",
   "metadata": {},
   "source": [
    "Podríamos eliminar todas las filas con valores perdidos usando `df.dropna()`"
   ]
  },
  {
   "cell_type": "code",
   "execution_count": 8,
   "id": "6f10953c",
   "metadata": {
    "ExecuteTime": {
     "end_time": "2021-10-12T15:22:00.229328Z",
     "start_time": "2021-10-12T15:22:00.224083Z"
    }
   },
   "outputs": [
    {
     "data": {
      "text/plain": [
       "(300, 6)"
      ]
     },
     "execution_count": 8,
     "metadata": {},
     "output_type": "execute_result"
    }
   ],
   "source": [
    "len(df),len(df.dropna())"
   ]
  },
  {
   "cell_type": "markdown",
   "id": "b6d387cc",
   "metadata": {},
   "source": [
    "Lo cual es absolutamente excesivo. \n",
    "\n",
    "Podríamos también eliminar las columnas con al menos un valor perdido:"
   ]
  },
  {
   "cell_type": "code",
   "execution_count": 9,
   "id": "28a0d7b1",
   "metadata": {
    "ExecuteTime": {
     "end_time": "2021-10-12T15:22:02.933715Z",
     "start_time": "2021-10-12T15:22:02.928482Z"
    }
   },
   "outputs": [
    {
     "data": {
      "text/plain": [
       "(300, 7)"
      ]
     },
     "execution_count": 9,
     "metadata": {},
     "output_type": "execute_result"
    }
   ],
   "source": [
    "df.dropna(axis=1).shape"
   ]
  },
  {
   "cell_type": "markdown",
   "id": "5f8b13ff",
   "metadata": {},
   "source": [
    "Lo cual también es exagerado ya que pasamos de 28 columnas a 7.\n",
    "\n",
    "Podríamos intentar varias formas de disminuir esto, por ejemplo, eliminando columnas con alta nulidad, o mediante un umbral. Para esto, podríámos realizar un FOR o usar el parámetro `thresh` de `df.dropna()`. También, podríamos usar algún criterio para eliminar columnas, por ejemplo, eliminar columnas que tengan una varianza baja (usando `sklearn.feature_selection.VarianceThreshold`). O también, eliminar columnas con muy pocos valores, o que tengan muchos valores duplicados. En definitiva, pueden usar múltiples criterios de eliminación dependiendo de alguna condición."
   ]
  },
  {
   "cell_type": "markdown",
   "id": "8852c1f2",
   "metadata": {},
   "source": [
    "Para las imputaciones que vienen a continuación es importante disponer de los datos X y la variable respuesta Y, en forma de array (no en dataframe)."
   ]
  },
  {
   "cell_type": "code",
   "execution_count": 17,
   "id": "fd5cf015",
   "metadata": {
    "ExecuteTime": {
     "end_time": "2021-10-12T15:24:41.647628Z",
     "start_time": "2021-10-12T15:24:41.626022Z"
    }
   },
   "outputs": [
    {
     "name": "stdout",
     "output_type": "stream",
     "text": [
      "Missing: 1605\n"
     ]
    }
   ],
   "source": [
    "data = df.values\n",
    "ix = [i for i in range(data.shape[1]) if i != 23]\n",
    "X, y = data[:, ix], data[:, 23]\n",
    "\n",
    "# imprime el total de perdidos\n",
    "print('Missing: %d' % sum(isnan(X).flatten()))"
   ]
  },
  {
   "cell_type": "markdown",
   "id": "177087f8",
   "metadata": {},
   "source": [
    "#### Imputación única con `sklearn.impute.SimpleImputer`"
   ]
  },
  {
   "cell_type": "markdown",
   "id": "eccd000e",
   "metadata": {},
   "source": [
    "Seguramente han usado `df.fill()`, que es sencillo y fácil de ejecutar, pero tiene un problema muy grande: ¿cómo aplicamos exactamente la misma transformación a nuevos datos?. Es por esta razón, que es muy recomendable usar *transformers* de scikit-learn, tal y como se hace cuando se ejecuta una estandarización o se entrena un modelo. "
   ]
  },
  {
   "cell_type": "markdown",
   "id": "d3cfb395",
   "metadata": {},
   "source": [
    "Realicemos una estrategia de imputación única con la media y apliquemosla a los datos"
   ]
  },
  {
   "cell_type": "code",
   "execution_count": 13,
   "id": "8e8bdd61",
   "metadata": {
    "ExecuteTime": {
     "end_time": "2021-10-12T15:22:43.958385Z",
     "start_time": "2021-10-12T15:22:43.954699Z"
    }
   },
   "outputs": [],
   "source": [
    "imputer = SimpleImputer(strategy='mean')\n",
    "\n",
    "Xtrans = imputer.fit_transform(X) # Ajusta y transforma"
   ]
  },
  {
   "cell_type": "code",
   "execution_count": 18,
   "id": "a0816a54",
   "metadata": {
    "ExecuteTime": {
     "end_time": "2021-10-12T15:24:47.342827Z",
     "start_time": "2021-10-12T15:24:47.321462Z"
    },
    "scrolled": true
   },
   "outputs": [
    {
     "name": "stdout",
     "output_type": "stream",
     "text": [
      "Missing: 0\n"
     ]
    }
   ],
   "source": [
    "# imprime el numero de valores perdidos\n",
    "print('Missing: %d' % sum(isnan(Xtrans).flatten()))"
   ]
  },
  {
   "cell_type": "markdown",
   "id": "6a117433",
   "metadata": {},
   "source": [
    "Es buena práctica evaluar la imputación (en este caso única) mediante la combinación con un modelo. Para esto, realizaremos un `Pipeline`, en donde el primer paso es la imputación y el segundo paso es el modelo. Posteriormente, haremos una validación cruzada (repetida) para evaluar el modelo"
   ]
  },
  {
   "cell_type": "code",
   "execution_count": 20,
   "id": "24dbe9cf",
   "metadata": {
    "ExecuteTime": {
     "end_time": "2021-10-12T15:30:17.619264Z",
     "start_time": "2021-10-12T15:30:17.616449Z"
    }
   },
   "outputs": [],
   "source": [
    "# definiendo el pipeline\n",
    "model = RandomForestClassifier()\n",
    "imputer = SimpleImputer(strategy='mean')\n",
    "pipeline = Pipeline(steps=[('i', imputer), ('m', model)])"
   ]
  },
  {
   "cell_type": "code",
   "execution_count": 21,
   "id": "492d8477",
   "metadata": {
    "ExecuteTime": {
     "end_time": "2021-10-12T15:30:55.213969Z",
     "start_time": "2021-10-12T15:30:54.264423Z"
    }
   },
   "outputs": [
    {
     "name": "stdout",
     "output_type": "stream",
     "text": [
      "Mean Accuracy: 0.854 (0.051)\n"
     ]
    }
   ],
   "source": [
    "# definiendo la evaluacion del modelo\n",
    "cv = RepeatedStratifiedKFold(n_splits=10, n_repeats=3, random_state=1)\n",
    "# evaluando el modelo\n",
    "scores = cross_val_score(pipeline, X, y, scoring='accuracy', cv=cv, n_jobs=-1)\n",
    "print('Mean Accuracy: %.3f (%.3f)' % (mean(scores), std(scores)))"
   ]
  },
  {
   "cell_type": "markdown",
   "id": "a363d1a7",
   "metadata": {},
   "source": [
    "Ahora podemos comparar diferentes métodos de imputación para este mismo tipo de modelo "
   ]
  },
  {
   "cell_type": "code",
   "execution_count": 23,
   "id": "11fcaf16",
   "metadata": {
    "ExecuteTime": {
     "end_time": "2021-10-12T16:08:01.705344Z",
     "start_time": "2021-10-12T16:07:59.849918Z"
    }
   },
   "outputs": [
    {
     "name": "stdout",
     "output_type": "stream",
     "text": [
      ">mean 0.854 (0.057)\n",
      ">median 0.868 (0.056)\n",
      ">most_frequent 0.872 (0.060)\n",
      ">constant 0.873 (0.050)\n"
     ]
    },
    {
     "data": {
      "image/png": "[encoded data removed]",
      "text/plain": [
       "<Figure size 432x288 with 1 Axes>"
      ]
     },
     "metadata": {
      "needs_background": "light"
     },
     "output_type": "display_data"
    }
   ],
   "source": [
    "# evalua cada estrategia en el dataset\n",
    "results = list()\n",
    "strategies = ['mean', 'median', 'most_frequent', 'constant']\n",
    "for s in strategies:\n",
    "\t# crea el pipeline\n",
    "\tpipeline = Pipeline(steps=[('i', SimpleImputer(strategy=s)), ('m', RandomForestClassifier())])\n",
    "\t# evalua el modelo\n",
    "\tcv = RepeatedStratifiedKFold(n_splits=10, n_repeats=3, random_state=1)\n",
    "\tscores = cross_val_score(pipeline, X, y, scoring='accuracy', cv=cv, n_jobs=-1)\n",
    "\t# almacena resultados\n",
    "\tresults.append(scores)\n",
    "\tprint('>%s %.3f (%.3f)' % (s, mean(scores), std(scores)))\n",
    "# grafica el desempeno del modelo para hacer una comparacion\n",
    "plt.boxplot(results, labels=strategies, showmeans=True)\n",
    "plt.show()"
   ]
  },
  {
   "cell_type": "markdown",
   "id": "9ea2720f",
   "metadata": {},
   "source": [
    "Ahora veamos como se realiza una predicción con el mejor método"
   ]
  },
  {
   "cell_type": "code",
   "execution_count": 26,
   "id": "ca2bf87e",
   "metadata": {
    "ExecuteTime": {
     "end_time": "2021-10-12T16:13:14.281196Z",
     "start_time": "2021-10-12T16:13:14.195581Z"
    }
   },
   "outputs": [
    {
     "name": "stdout",
     "output_type": "stream",
     "text": [
      "Predicted Class: 2\n"
     ]
    }
   ],
   "source": [
    "# crea el pipeline\n",
    "pipeline = Pipeline(steps=[('i', SimpleImputer(strategy='constant')), ('m', RandomForestClassifier())])\n",
    "# entrena el modelo \n",
    "pipeline.fit(X, y)\n",
    "# definimos un nuevo dato\n",
    "row = [2, 1, 530101, 38.50, 66, 28, 3, 3, nan, 2, 5, 4, 4, nan, nan, nan, 3, 5, 45.00, 8.40, nan, nan, 2, 11300, 00000, 00000, 2]\n",
    "# hacemos la prediccion\n",
    "yhat = pipeline.predict([row])\n",
    "# imprimimos la prediccion\n",
    "print('Predicted Class: %d' % yhat[0])"
   ]
  },
  {
   "cell_type": "markdown",
   "id": "2d9344a9",
   "metadata": {},
   "source": [
    "#### Imputación (múltiple) con `sklearn.impute.IterativeImputer`"
   ]
  },
  {
   "cell_type": "markdown",
   "id": "06c0cbff",
   "metadata": {},
   "source": [
    "\n",
    "----\n",
    "There are many well-established imputation packages in the R data science ecosystem: Amelia, mi, mice, missForest, etc. missForest is popular, and turns out to be a particular instance of different sequential imputation algorithms that can all be implemented with `IterativeImputer` by passing in different regressors to be used for predicting missing feature values. In the case of missForest, this regressor is a Random Forest. \n",
    "\n",
    "In the statistics community, it is common practice to perform multiple imputations, generating, for example, $m$ separate imputations for a single feature matrix. Each of these $m$ imputations is then put through the subsequent analysis pipeline (e.g. feature engineering, clustering, regression, classification). The m final analysis results (e.g. held-out validation errors) allow the data scientist to obtain understanding of how analytic results may differ as a consequence of the inherent uncertainty caused by the missing values. The above practice is called multiple imputation.\n",
    "\n",
    "Our implementation of `IterativeImputer` was inspired by the R MICE package (Multivariate Imputation by Chained Equations) 1, but differs from it by returning a single imputation instead of multiple imputations. However, `IterativeImputer` can also be used for multiple imputations by applying it repeatedly to the same dataset with different random seeds when `sample_posterior=True`. \n",
    "\n",
    "It is still an open problem as to how useful single vs. multiple imputation is in the context of prediction and classification when the user is not interested in measuring uncertainty due to missing values.\n",
    "\n",
    "---\n",
    "[Esto fue tomado de la documentación de scikit-learn](https://scikit-learn.org/stable/modules/impute.html)"
   ]
  },
  {
   "cell_type": "markdown",
   "id": "ab8ae272",
   "metadata": {},
   "source": [
    "A continuación, realizaremos una imputación \"múltiple\" mediante regresión Bayesiana con regularización Ridge (`BayesianRidge()`). Usaremos el mismo procedimiento que se uso para la imputación única, esto es, construir un pipeline con un modelo de Random Forest."
   ]
  },
  {
   "cell_type": "code",
   "execution_count": 28,
   "id": "1e755926",
   "metadata": {
    "ExecuteTime": {
     "end_time": "2021-10-12T16:32:24.460030Z",
     "start_time": "2021-10-12T16:32:23.575712Z"
    }
   },
   "outputs": [
    {
     "name": "stdout",
     "output_type": "stream",
     "text": [
      "Mean Accuracy: 0.870 (0.053)\n"
     ]
    }
   ],
   "source": [
    "# definiendo el modelo pipeline\n",
    "model = RandomForestClassifier()\n",
    "imputer = IterativeImputer()\n",
    "pipeline = Pipeline(steps=[('i', imputer), ('m', model)])\n",
    "# definiendo la evaluacion del modelo\n",
    "cv = RepeatedStratifiedKFold(n_splits=10, n_repeats=3, random_state=1)\n",
    "# evaluando el modelo\n",
    "scores = cross_val_score(pipeline, X, y, scoring='accuracy', cv=cv, n_jobs=-1, error_score='raise')\n",
    "print('Mean Accuracy: %.3f (%.3f)' % (mean(scores), std(scores)))"
   ]
  },
  {
   "cell_type": "markdown",
   "id": "a55652b4",
   "metadata": {},
   "source": [
    "Sin embargo, no sabemos si la estrategia iterativa por defecto en la mejor."
   ]
  },
  {
   "cell_type": "markdown",
   "id": "4b3f9446",
   "metadata": {
    "lang": "es"
   },
   "source": [
    "De forma predeterminada, la imputación se realiza en orden ascendente desde la característica con menos valores perdidos hasta la característica con más. Esto tiene sentido, ya que queremos tener datos más completos cuando llega el momento de estimar los valores perdidos para las columnas donde faltan la mayoría de los valores.\n",
    "No obstante, podemos experimentar con diferentes estrategias de orden de imputación, descending, right-to-left (Arabic), left-to-right (Roman), y random.\n",
    "\n",
    "A continuación se evalúa y se compara cada configuración de orden de imputación disponible."
   ]
  },
  {
   "cell_type": "code",
   "execution_count": 29,
   "id": "9d1194b7",
   "metadata": {
    "ExecuteTime": {
     "end_time": "2021-10-12T16:49:38.945054Z",
     "start_time": "2021-10-12T16:49:36.196424Z"
    },
    "scrolled": true
   },
   "outputs": [
    {
     "name": "stdout",
     "output_type": "stream",
     "text": [
      ">ascending 0.867 (0.054)\n",
      ">descending 0.869 (0.051)\n",
      ">roman 0.877 (0.054)\n",
      ">arabic 0.871 (0.058)\n",
      ">random 0.870 (0.054)\n"
     ]
    },
    {
     "data": {
      "image/png": "[encoded data removed]",
      "text/plain": [
       "<Figure size 432x288 with 1 Axes>"
      ]
     },
     "metadata": {
      "needs_background": "light"
     },
     "output_type": "display_data"
    }
   ],
   "source": [
    "# evalua cada estrategia sobre el dataset\n",
    "results = list()\n",
    "strategies = ['ascending', 'descending', 'roman', 'arabic', 'random']\n",
    "for s in strategies:\n",
    "\t# crea el pipeline\n",
    "\tpipeline = Pipeline(steps=[('i', IterativeImputer(imputation_order=s)), ('m', RandomForestClassifier())])\n",
    "\t# evalua el modelo\n",
    "\tcv = RepeatedStratifiedKFold(n_splits=10, n_repeats=3, random_state=1)\n",
    "\tscores = cross_val_score(pipeline, X, y, scoring='accuracy', cv=cv, n_jobs=-1)\n",
    "\t# almacena resultados\n",
    "\tresults.append(scores)\n",
    "\tprint('>%s %.3f (%.3f)' % (s, mean(scores), std(scores)))\n",
    "# grafica la comparacion entre configuraciones\n",
    "plt.boxplot(results, labels=strategies, showmeans=True)\n",
    "plt.xticks(rotation=45)\n",
    "plt.show()"
   ]
  },
  {
   "cell_type": "markdown",
   "id": "c5be242c",
   "metadata": {
    "lang": "es"
   },
   "source": [
    "De forma predeterminada, `IterativeImputer` repetirá el número de iteraciones 10 veces.\n",
    "\n",
    "Es posible que una gran cantidad de iteraciones comience a sesgar la estimación y que se prefieran pocas iteraciones. El número de iteraciones del procedimiento se puede especificar mediante el argumento `max _iter`.\n",
    "\n",
    "Puede ser interesante evaluar diferentes números de iteraciones. A continuación, compararemos diferentes valores para \"max_ iter\" de 1 a 20."
   ]
  },
  {
   "cell_type": "code",
   "execution_count": 30,
   "id": "38f553fe",
   "metadata": {
    "ExecuteTime": {
     "end_time": "2021-10-12T16:56:02.674437Z",
     "start_time": "2021-10-12T16:55:53.296944Z"
    }
   },
   "outputs": [
    {
     "name": "stdout",
     "output_type": "stream",
     "text": [
      ">1 0.867 (0.053)\n",
      ">2 0.870 (0.050)\n",
      ">3 0.868 (0.053)\n",
      ">4 0.871 (0.048)\n",
      ">5 0.872 (0.057)\n",
      ">6 0.872 (0.055)\n",
      ">7 0.876 (0.052)\n",
      ">8 0.864 (0.053)\n",
      ">9 0.871 (0.057)\n",
      ">10 0.873 (0.052)\n",
      ">11 0.874 (0.054)\n",
      ">12 0.874 (0.048)\n",
      ">13 0.869 (0.056)\n",
      ">14 0.860 (0.058)\n",
      ">15 0.872 (0.054)\n",
      ">16 0.873 (0.049)\n",
      ">17 0.873 (0.053)\n",
      ">18 0.871 (0.054)\n",
      ">19 0.872 (0.054)\n",
      ">20 0.872 (0.056)\n"
     ]
    },
    {
     "data": {
      "image/png": "[encoded data removed]",
      "text/plain": [
       "<Figure size 432x288 with 1 Axes>"
      ]
     },
     "metadata": {
      "needs_background": "light"
     },
     "output_type": "display_data"
    }
   ],
   "source": [
    "# evalua cada estrategia sobre el dataset\n",
    "results = list()\n",
    "strategies = [str(i) for i in range(1, 21)]\n",
    "for s in strategies:\n",
    "\t# pipeline\n",
    "\tpipeline = Pipeline(steps=[('i', IterativeImputer(max_iter=int(s))), ('m', RandomForestClassifier())])\n",
    "\t# evaluacion\n",
    "\tcv = RepeatedStratifiedKFold(n_splits=10, n_repeats=3, random_state=1)\n",
    "\tscores = cross_val_score(pipeline, X, y, scoring='accuracy', cv=cv, n_jobs=-1)\n",
    "\t# resultados\n",
    "\tresults.append(scores)\n",
    "\tprint('>%s %.3f (%.3f)' % (s, mean(scores), std(scores)))\n",
    "# grafica de la comparacion\n",
    "plt.boxplot(results, labels=strategies, showmeans=True)\n",
    "plt.xticks(rotation=45)\n",
    "plt.show()"
   ]
  },
  {
   "cell_type": "markdown",
   "id": "790348f0",
   "metadata": {},
   "source": [
    "Realicemos ahora una predicción para un nuevo dato:"
   ]
  },
  {
   "cell_type": "code",
   "execution_count": 33,
   "id": "4638b50f",
   "metadata": {
    "ExecuteTime": {
     "end_time": "2021-10-12T17:01:13.115971Z",
     "start_time": "2021-10-12T17:01:13.112799Z"
    }
   },
   "outputs": [],
   "source": [
    "row = [2, 1, 530101, 38.50, 66, 28, 3, 3, nan, 2, 5, 4, 4, nan, nan, nan, \\\n",
    "       3, 5, 45.00, 8.40, nan, nan, 2, 11300, 00000, 00000, 2]"
   ]
  },
  {
   "cell_type": "code",
   "execution_count": 34,
   "id": "c62bd68b",
   "metadata": {
    "ExecuteTime": {
     "end_time": "2021-10-12T17:02:05.879985Z",
     "start_time": "2021-10-12T17:02:05.754885Z"
    }
   },
   "outputs": [
    {
     "name": "stdout",
     "output_type": "stream",
     "text": [
      "Predicted Class: 2\n"
     ]
    }
   ],
   "source": [
    "#  pipeline\n",
    "pipeline = Pipeline(steps=[('i', IterativeImputer()), ('m', RandomForestClassifier())])\n",
    "# entrenamiento \n",
    "pipeline.fit(X, y)\n",
    "# haciendo la prediccion\n",
    "yhat = pipeline.predict([row])\n",
    "print('Predicted Class: %d' % yhat[0])"
   ]
  },
  {
   "cell_type": "markdown",
   "id": "69a99486",
   "metadata": {},
   "source": [
    "### Otras formas de realizar imputación\n",
    "\n",
    "scikit-learn también implementa la imputación por vecino más cercanos al usar [`sklearn.impute.KNNImputer`](https://scikit-learn.org/stable/modules/classes.html#module-sklearn.impute).\n",
    "\n",
    "Otra librería que implementa más métodos de los vistos aquí es [faceimpute](https://github.com/iskandr/fancyimpute). La desventaja es que requiere a tensorflow (que es una librería grande)."
   ]
  },
  {
   "cell_type": "markdown",
   "id": "cacb99c0",
   "metadata": {},
   "source": [
    "# Ejercicio"
   ]
  },
  {
   "cell_type": "markdown",
   "id": "df921491",
   "metadata": {},
   "source": [
    "1. Repita la imputación realizada para el dataset `horse-colic.csv` usando `KNNImputer`, variando el número de vecinos. Pruebe con el nuevo dato.\n",
    "\n",
    "2. Repita el proceso de aplicar `IterativeImputer` pero esta vez usando `GridSearchCV` y variando una combinación entre la estrategia y el número de iteraciones máximo. Evalúe en el nuevo dato.\n",
    "\n",
    "3. En el dataset trabajado las variables categóricas ya han sido convertidas a enteros (además que se están realizando predicciones no enteras de los valores perdidos). Realice una imputación (única y/o múltiple)  sobre el dataset original `horse.csv` separando la estrategia de imputación dependiendo del tipo de variable. Al final, debe producir un dataframe con los datos imputados adecuadamente. Sugerencia: vea la primera y segunda respuesta de este [link](https://stackoverflow.com/questions/25239958/impute-categorical-missing-values-in-scikit-learn)."
   ]
  }
 ],
 "metadata": {
  "kernelspec": {
   "display_name": "Python 3 (ipykernel)",
   "language": "python",
   "name": "python3"
  },
  "language_info": {
   "codemirror_mode": {
    "name": "ipython",
    "version": 3
   },
   "file_extension": ".py",
   "mimetype": "text/x-python",
   "name": "python",
   "nbconvert_exporter": "python",
   "pygments_lexer": "ipython3",
   "version": "3.9.7"
  },
  "nbTranslate": {
   "displayLangs": [
    "en",
    "es"
   ],
   "hotkey": "alt-t",
   "langInMainMenu": true,
   "sourceLang": "en",
   "targetLang": "es",
   "useGoogleTranslate": true
  }
 },
 "nbformat": 4,
 "nbformat_minor": 5
}
