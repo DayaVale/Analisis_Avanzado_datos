{
 "cells": [
  {
   "cell_type": "markdown",
   "metadata": {},
   "source": [
    "# Ejercicios Práctica Regresión "
   ]
  },
  {
   "cell_type": "markdown",
   "metadata": {},
   "source": [
    "1. Cargue el dataset `Auto.csv`\n",
    "  1. Use la librería de `statsmodels` (específicamente `import statsmodels.formula.api as smf` y luego `smf.ols`) para realizar una regresión lineal simple con *mpg* como la variable respuesta y *horsepower* como el predictor (o descriptor). Use el método `summary()` para mostrar los resultados. Comente lo siguiente sobre los resultados:\n",
    "\n",
    "    1. ¿Existe una relación entre el predictor y la respuesta?\n",
    "    2. ¿Qué tan fuerte es la relación entre el predictor y la respuesta?\n",
    "    3. ¿La relación entre el predictor y la respuesta es positiva o negativa?\n",
    "    4. ¿Cuál es el *mpg* previsto asociado con una *horsepower* de 98? ¿Cuáles son los intervalos de confianza y predicción del 95% asociados?\n",
    "\n",
    "  2. Grafique la respuesta vs el predictor. Use `seaborn` y/o `matplotlib` para mostrar la línea de regresión de mínimos cuadrados.\n",
    "  \n",
    "Sugerencia: para evitar inconvenientes con los missing values que se encuentran como \"?\", lea de la siguiente forma el dataset:\n",
    "\n",
    "```python\n",
    "    auto = pd.read_csv(\"Data/Auto.csv\", na_values='?')\n",
    "```"
   ]
  },
  {
   "cell_type": "markdown",
   "metadata": {},
   "source": [
    "2. Reproduzca el análisis hecho en el notebook `Regresion-Lineal-Scikit-Learn.ipynb` para el dataset de boston completo. Para cargar el dataset (que viene por defecto en scikit-learn) ejecute:\n",
    " \n",
    " ```python\n",
    "\n",
    "    from sklearn.datasets import load_boston\n",
    "    import pandas as pd\n",
    "\n",
    "    boston = load_boston()\n",
    "    print(boston.DESCR)\n",
    "\n",
    "    df = pd.DataFrame(boston.data, columns=boston.feature_names)\n",
    "    df['MEDV'] = boston.target\n",
    "    df.head()\n",
    "\n",
    " ```\n",
    " \n",
    " Tenga presente que los nombres de los predictores son diferentes al del ejemplo. Las variables están en proporciones (por ejm de 1000). Por ejemplo, la variable respuesta anteriormente se llamaba *Price*, ahora es *MEDV*."
   ]
  },
  {
   "cell_type": "markdown",
   "metadata": {},
   "source": [
    "$3$. Este ejercicio involucra el uso de regresión lineal múltiple sobre el dataset `Auto`\n",
    "\n",
    "  a. Grafique una matriz de dispersión que incluya todas las variables en el conjunto de datos.\n",
    "    \n",
    "  b. Calcule la matriz de correlaciones entre las variables usando el método `corr()` de Pandas. Luego grafiquela usando `seaborn`.\n",
    "    \n",
    "  c. Use la librería de `statsmodels` (específicamente `import statsmodels.formula.api as smf` y luego `smf.ols`)  para realizar una regresión lineal múltiple con *mpg* como respuesta y todas las demás variables, excepto la variable `name`, como predictores. Use el método de summary() para imprimir los resultados. Comenta sobre el resultado:\n",
    "    \n",
    "    - ¿Existe una relación entre los predictores y la respuesta?\n",
    "    - ¿Qué predictores parecen tener una relación estadísticamente significativa con la respuesta?\n",
    "    - ¿Qué sugiere el coeficiente para la variable del año?\n",
    "    - Use  multiplicaciones para ajustar  modelos de regresión lineal con efectos de interacción. ¿Alguna interacción parece ser estadísticamente significativa?. \n",
    "   \n",
    "d.  Pruebe algunas transformaciones diferentes de las variables, como $\\log{X}, \\sqrt{X}, X^2$. Comente los hallazgos. Sug: se puede usar statmodels pero también scikit-learn con `sklearn.preprocessing.PolynomialFeatures` ( con los parámetros interaction_only=True,include_bias = False).\n",
    " \n"
   ]
  }
 ],
 "metadata": {
  "kernelspec": {
   "display_name": "Python 3",
   "language": "python",
   "name": "python3"
  },
  "language_info": {
   "codemirror_mode": {
    "name": "ipython",
    "version": 3
   },
   "file_extension": ".py",
   "mimetype": "text/x-python",
   "name": "python",
   "nbconvert_exporter": "python",
   "pygments_lexer": "ipython3",
   "version": "3.8.10"
  },
  "nbTranslate": {
   "displayLangs": [
    "es",
    "en"
   ],
   "hotkey": "alt-t",
   "langInMainMenu": true,
   "sourceLang": "en",
   "targetLang": "es",
   "useGoogleTranslate": true
  },
  "varInspector": {
   "cols": {
    "lenName": 16,
    "lenType": 16,
    "lenVar": 40
   },
   "kernels_config": {
    "python": {
     "delete_cmd_postfix": "",
     "delete_cmd_prefix": "del ",
     "library": "var_list.py",
     "varRefreshCmd": "print(var_dic_list())"
    },
    "r": {
     "delete_cmd_postfix": ") ",
     "delete_cmd_prefix": "rm(",
     "library": "var_list.r",
     "varRefreshCmd": "cat(var_dic_list()) "
    }
   },
   "types_to_exclude": [
    "module",
    "function",
    "builtin_function_or_method",
    "instance",
    "_Feature"
   ],
   "window_display": false
  }
 },
 "nbformat": 4,
 "nbformat_minor": 4
}
