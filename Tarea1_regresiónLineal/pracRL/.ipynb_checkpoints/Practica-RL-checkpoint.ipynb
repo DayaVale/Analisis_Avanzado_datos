{
 "cells": [
  {
   "cell_type": "markdown",
   "metadata": {},
   "source": [
    "# Práctica - Regresión lineal"
   ]
  },
  {
   "cell_type": "markdown",
   "metadata": {},
   "source": [
    "### Subir datos en Colab (opcional si usas colab)"
   ]
  },
  {
   "cell_type": "code",
   "execution_count": null,
   "metadata": {},
   "outputs": [],
   "source": [
    "## Aplicar esto solo si vas a usar colab \n",
    "# from google.colab import files\n",
    "\n",
    "# uploaded = files.upload()\n",
    "\n",
    "# for fn in uploaded.keys():\n",
    "#   print('User uploaded file \"{name}\" with length {length} bytes'.format(\n",
    "#       name=fn, length=len(uploaded[fn])))"
   ]
  },
  {
   "cell_type": "markdown",
   "metadata": {},
   "source": [
    "### Importando modulos"
   ]
  },
  {
   "cell_type": "code",
   "execution_count": null,
   "metadata": {},
   "outputs": [],
   "source": [
    "# Importando todos los modulos necesarios\n",
    "import pandas as pd\n",
    "import numpy as np\n",
    "import matplotlib.pyplot as plt\n",
    "import seaborn as sns\n",
    "\n",
    "%matplotlib inline\n",
    "# plt.style.use('seaborn-darkgrid')\n",
    "plt.style.use('seaborn-white')"
   ]
  },
  {
   "cell_type": "markdown",
   "metadata": {},
   "source": [
    "### Cargando el dataset de Advertising.csv"
   ]
  },
  {
   "cell_type": "code",
   "execution_count": null,
   "metadata": {},
   "outputs": [],
   "source": [
    "advertising = pd.read_csv('Data/Advertising.csv', usecols=[1,2,3,4])\n",
    "\n",
    "# Si usas colab ejecuta:\n",
    "# advertising = pd.read_csv('Advertising.csv', usecols=[1,2,3,4])\n",
    "\n",
    "advertising.info()"
   ]
  },
  {
   "cell_type": "code",
   "execution_count": null,
   "metadata": {},
   "outputs": [],
   "source": [
    "advertising.head()"
   ]
  },
  {
   "cell_type": "markdown",
   "metadata": {},
   "source": [
    "¿Cuáles son los **descriptores**?\n",
    "- TV: dinero gastado en anuncios de TV por un solo producto en un mercado determinado (en miles de dólares)\n",
    "- Radio: dinero gastado en anuncios de publicidad en la radio\n",
    "- Periódico: dinero gastado en anuncios de publicidad en periódicos\n",
    "\n",
    "¿Cuál es la **respuesta**?\n",
    "- Ventas: ventas de un solo producto en un mercado determinado (en miles de unidades)"
   ]
  },
  {
   "cell_type": "markdown",
   "metadata": {},
   "source": [
    "## Preguntas sobre los datos publicitarios [`Advertising.csv`]\n",
    "\n",
    "Imaginemos que trabajas para la compañía que fabrica y comercializa el producto en cuestión. La compañía podría preguntarte lo siguiente: Sobre la base de esos datos, ¿cómo deberíamos gastar nuestro dinero en publicidad en el futuro?\n",
    "\n",
    "Esta pregunta general puede llevarte a preguntas más específicas:\n",
    "1. ¿Existe una relación entre el gasto en anuncios de publicidad y las ventas?\n",
    "2. ¿Qué tan fuerte es esa relación?\n",
    "3. ¿Qué tipos de gastos en anuncios de publicidad contribuyen a las ventas?\n",
    "4. ¿Cuál es el efecto de cada tipo de anuncio de publicidad en las ventas?\n",
    "5. Dado un gasto en anuncios de publicidad en un mercado particular, ¿se pueden predecir las ventas?\n",
    "\n",
    "Se explorarán estas preguntas a continuación"
   ]
  },
  {
   "cell_type": "markdown",
   "metadata": {},
   "source": [
    "## Estimación (\"Aprendizaje\") de los coeficientes del modelo\n",
    "\n",
    "En general, los coeficientes se estiman utilizando el **criterio de mínimos cuadrados**, es decir que se encuentra (matemáticamente) la línea que minimiza la **suma de los residuos cuadrados** (o \"suma de los errores cuadrados\"):"
   ]
  },
  {
   "cell_type": "markdown",
   "metadata": {},
   "source": [
    "<img src=\"08_estimating_coefficients.png\">"
   ]
  },
  {
   "cell_type": "markdown",
   "metadata": {},
   "source": [
    "## <p style=\"text-align: center;\"> Residual sum of squares: $RSS = \\sum_{i=1}^N{(\\hat{y_i} - y_i)^2}$ </p> "
   ]
  },
  {
   "cell_type": "markdown",
   "metadata": {},
   "source": [
    "¿Qué elementos están presentes en la figura anterior?\n",
    "- Los puntos negros son los **valores observados** de x e y.\n",
    "- La línea azul es la **línea de mínimos cuadrados**.\n",
    "- Las líneas rojas son los **residuos**, es decir, las distancias entre los valores observados y la línea de mínimos cuadrados.\n",
    "\n",
    "¿Cómo se relacionan los coeficientes del modelo con la línea de mínimos cuadrados?\n",
    "- $ \\beta_0 $ es la **intersección** (el valor de $y$ cuando $x=0$)\n",
    "- $ \\beta_1 $ es la **pendiente** (el cambio en $ y $ dividido por cambio en $ x $)\n",
    "\n",
    "Aquí hay una representación gráfica de esos cálculos:"
   ]
  },
  {
   "cell_type": "markdown",
   "metadata": {},
   "source": [
    "<img src=\"08_slope_intercept.png\">"
   ]
  },
  {
   "cell_type": "markdown",
   "metadata": {},
   "source": [
    "## Regresión lineal simple"
   ]
  },
  {
   "cell_type": "code",
   "execution_count": null,
   "metadata": {},
   "outputs": [],
   "source": [
    "# visualiza la relación entre las características y la respuesta usando diagramas de dispersión\n",
    "sns.pairplot(advertising, x_vars=['TV','Radio','Newspaper'], y_vars='Sales', height=5, aspect=0.7)\n",
    "plt.show()"
   ]
  },
  {
   "cell_type": "markdown",
   "metadata": {},
   "source": [
    "### Ajuste de mínimos cuadrados\n",
    "Realizaremos una gráfica mínimos cuadrados usando numpy, matplotlib y seaborn. (*Figura 3.1*)"
   ]
  },
  {
   "cell_type": "code",
   "execution_count": null,
   "metadata": {
    "scrolled": true
   },
   "outputs": [],
   "source": [
    "fit = np.polyfit(advertising['TV'], advertising['Sales'], deg=1)\n",
    "y_hat = fit[1] + advertising['TV'] * fit[0]\n",
    "\n",
    "plt.figure(figsize=(7, 5))\n",
    "\n",
    "sns.regplot(advertising['TV'], advertising['Sales'], order=1, ci=None, scatter_kws={'color':'r', 's':9})\n",
    "plt.xlim(-10,310)\n",
    "plt.ylim(bottom=0);\n",
    "\n",
    "plt.vlines(advertising['TV'], y_hat, advertising['Sales'], lw = .4);"
   ]
  },
  {
   "cell_type": "markdown",
   "metadata": {},
   "source": [
    "## Regresión lineal usando **statsmodels**\n"
   ]
  },
  {
   "cell_type": "code",
   "execution_count": null,
   "metadata": {},
   "outputs": [],
   "source": [
    "# Importacion para usar la \"notacion tipo formula\" (similar a R)\n",
    "import statsmodels.formula.api as smf\n",
    "\n",
    "est = smf.ols('Sales ~ TV', advertising).fit()\n",
    "est.summary().tables[1]"
   ]
  },
  {
   "cell_type": "markdown",
   "metadata": {},
   "source": [
    "### Interpretación de los coeficientes del modelo\n",
    "\n",
    "¿Cómo interpretamos el coeficiente de TV ($\\beta_1$)?\n",
    "- Un aumento de \"una unidad\" en el gasto publicitario de TV está **asociado con** un aumento de 0.047537 \"unidades\" en Ventas.\n",
    "- O más claro: 1,000 $US adicionales gastados en anuncios de televisión están **asociados con** un aumento en las ventas de 47.537 unidades.\n",
    "\n",
    "Se recalca que si un aumento en el gasto publicitario de TV se asoció con **una** disminución en las ventas, $ \\beta_1 $ sería **negativo **."
   ]
  },
  {
   "cell_type": "markdown",
   "metadata": {},
   "source": [
    "### Uso del modelo para predicción\n",
    "\n",
    "Supongamos que había un nuevo mercado en el que el gasto en publicidad televisiva era de **US$ 50,000**. ¿Cúal es predección de las ventas en ese mercado?\n",
    "\n",
    "$$ y = \\beta_0 + \\beta_1x $$\n",
    "$$ y = 7.032594 + 0.047537 \\times 50 $$"
   ]
  },
  {
   "cell_type": "code",
   "execution_count": null,
   "metadata": {},
   "outputs": [],
   "source": [
    "# Calculando manualmente\n",
    "est.params[0] + est.params[1]*50"
   ]
  },
  {
   "cell_type": "markdown",
   "metadata": {},
   "source": [
    "#### Por lo tanto, se predice unas Ventas de **9,409 unidades ** en ese mercado.\n",
    "\n",
    "Se puede también usar `Statsmodels` para hacer la predicción:"
   ]
  },
  {
   "cell_type": "code",
   "execution_count": null,
   "metadata": {},
   "outputs": [],
   "source": [
    "# Se debe crear un Dataframe puesto que (la interfaz formula de) Statsmodels lo espera\n",
    "X_new = pd.DataFrame({'TV': [50]})\n",
    "X_new.head()"
   ]
  },
  {
   "cell_type": "code",
   "execution_count": null,
   "metadata": {},
   "outputs": [],
   "source": [
    "# se usa el modelo para predecir un nuevo valor (produce una serie)\n",
    "est.predict(X_new)"
   ]
  },
  {
   "cell_type": "markdown",
   "metadata": {},
   "source": [
    "### Confianza en el modelo\n",
    "\n",
    "**Pregunta:** ¿La regresión lineal es un modelo de alto sesgo/baja varianza, o un modelo de bajo sesgo/alta varianza?\n",
    "\n",
    "**Respuesta:** Alto sesgo/baja varianza. realizando un muestreo repetido, la línea permanecerá más o menos en el mismo lugar (baja varianza), pero el promedio de esos modelos no hará un gran trabajo al capturar la verdadera relación (alto sesgo). Se debe tener en cuenta que la baja varianza es una característica útil cuando no se tiene una gran cantidad de datos de entrenamiento.\n",
    "\n",
    "Un concepto estrechamente relacionado son los **intervalos de confianza**. `Statsmodels` calcula intervalos de confianza del 95% para los coeficientes de nuestro modelo, que se interpretan de la siguiente manera: si la población, de la que se tomó esta muestra, fue **muestreada 100 veces**, aproximadamente **95 de esos intervalos de confianza** podrían contener al \"verdadero \"coeficiente\".\n",
    "\n"
   ]
  },
  {
   "cell_type": "code",
   "execution_count": null,
   "metadata": {},
   "outputs": [],
   "source": [
    "#est.conf_int()\n",
    "est.summary().tables[1]"
   ]
  },
  {
   "cell_type": "markdown",
   "metadata": {},
   "source": [
    "Note que solo se tiene una **muestra de datos**, y no la **población completa de datos**. El coeficiente \"verdadero\" puede estár dentro de este intervalo o puede que no, pero no hay manera de sabelo realmente. Lo que se hace es estimar el coeficiente con los datos que se tienen, y se calcula la incertidumbre sobre esa estimación al proporcionar un rango en el que el coeficiente **probablemente** está dentro.\n",
    "\n",
    "Se debe tener en cuenta que el uso de intervalos de confianza del 95% es solo una convención. Se pueden crear intervalos de confianza del 90% (que serán más estrechos), intervalos de confianza del 99% (que serán más amplios) o los intervalos que desee."
   ]
  },
  {
   "cell_type": "markdown",
   "metadata": {},
   "source": [
    "### Prueba de hipótesis y valores de p\n",
    "\n",
    "Los intervalos de confianza están estrechamente relacionados con **la prueba de hipótesis**. Generalmente, se inicia con una **hipótesis nula** y una **hipótesis alternativa** (que es opuesta a la nula). Luego, se verifica si los datos son compatibles **rechazando la hipótesis nula** o **no rechazando la hipótesis nula**.\n",
    "\n",
    "(Note que \"no rechazar\" el valor nulo no es lo mismo que \"aceptar\" la hipótesis nula. La hipótesis alternativa puede ser verdadera, excepto que simplemente no tiene suficientes datos para mostrar eso).\n",
    "\n",
    "En lo que se refiere a los coeficientes del modelo, está es la prueba de hipótesis convencional:\n",
    "- **Hipótesis nula:** No hay relación entre los anuncios de TV y las Ventas (y por lo tanto $\\beta_1$ es igual a cero)\n",
    "- **Hipótesis alternativa:** Existe una relación entre los anuncios de TV y las Ventas (y por lo tanto $\\beta_1$ no es igual a cero)\n",
    "\n",
    "¿Cómo probamos esta hipótesis? Intuitivamente, rechazamos la hipótesis nula (y por lo tanto, creemos en la alternativa) si el intervalo de confianza del 95% **no incluye al cero**. Por el contrario, el **p-valor** representa la probabilidad de que el coeficiente sea realmente cero:"
   ]
  },
  {
   "cell_type": "code",
   "execution_count": null,
   "metadata": {},
   "outputs": [],
   "source": [
    "# mostrando los p-valores para los coeficientes del modelo\n",
    "est.pvalues"
   ]
  },
  {
   "cell_type": "markdown",
   "metadata": {},
   "source": [
    "Si el intervalo de confianza del 95% **incluye al cero**, el p-valor para ese coeficiente será **mayor que 0.05**. Si el intervalo de confianza del 95% **no incluye al cero**, el p-valor será **menor que 0.05**. Por lo tanto, un p-valor menor que 0.05 es una forma de decidir si existe una relación entre el descriptor y la respuesta. (Usar 0.05 como el umbral es solo una convención.)\n",
    "\n",
    "En este caso, el p-valor para la TV es muy inferior a 0.05, por lo que **se cree** que existe una relación entre los anuncios de TV y las ventas.\n",
    "\n",
    "Tenga en cuenta que generalmente ignoramos el p-valor para la intersección."
   ]
  },
  {
   "cell_type": "markdown",
   "metadata": {},
   "source": [
    "### ¿Qué tan bien se ajusta el modelo  a los datos?\n",
    "Una primera forma de evaluar el modelo es calculando error estándar residual (residual standard error):"
   ]
  },
  {
   "cell_type": "markdown",
   "metadata": {},
   "source": [
    "#### Residual standard error: $$RSE =  \\sqrt{ \\frac{1}{n-2}RSS } $$"
   ]
  },
  {
   "cell_type": "markdown",
   "metadata": {},
   "source": [
    "#### Primero se calcula el RSS"
   ]
  },
  {
   "cell_type": "code",
   "execution_count": null,
   "metadata": {},
   "outputs": [],
   "source": [
    "# RSS con los coeficientes de regresion\n",
    "RSS = ( ( advertising['Sales'] - (est.params[0] + est.params[1]*advertising['TV']) )**2 ).sum()\n",
    "\n",
    "print(\"RSS = {:1.2f}\".format(RSS))"
   ]
  },
  {
   "cell_type": "code",
   "execution_count": null,
   "metadata": {},
   "outputs": [],
   "source": [
    "n = advertising.shape[0]\n",
    "RSE = np.sqrt( RSS/(n-2)) # Residual standard error\n",
    "print(\"RSS = {:1.2f}\".format(RSE))"
   ]
  },
  {
   "cell_type": "markdown",
   "metadata": {},
   "source": [
    "## $R^2$\n",
    "\n",
    "La forma más común de evaluar el ajuste general de un modelo lineal es mediante el valor de __$R^2$__ (R-squared). $R^2$ es la **proporción de la varianza explicada**, es decir, la proporción de la varianza en los datos observados que el modelo explica, o la reducción en el error sobre el **modelo nulo**. (El modelo nulo simplemente hace una predicción mediante el cálculo de la media de la respuesta observada, y así, tiene sólo una intersección y no tiene pendiente).\n",
    "\n",
    "$R^2$ yace entre 0 y 1, y entre más alto es mejor porque significa que el modelo explica más varianza. Aquí hay un ejemplo de cómo se ve R-squared:"
   ]
  },
  {
   "cell_type": "markdown",
   "metadata": {},
   "source": [
    "<img src=\"08_r_squared.png\">"
   ]
  },
  {
   "cell_type": "markdown",
   "metadata": {},
   "source": [
    "Se puede ver que la **línea azul** explica parte de la varianza en los datos ($R^2$ = 0.54), la **línea verde** explica más de la varianza ($R^2$ = 0.64) y la **la línea roja** ajusta los datos de entrenamiento aún más ($R^2$ = 0.66). (¿Parece que la línea roja está sobreajustada?)\n",
    "\n",
    "A continuación se calcula el valor R-cuadrado para el modelo lineal simple:"
   ]
  },
  {
   "cell_type": "code",
   "execution_count": null,
   "metadata": {},
   "outputs": [],
   "source": [
    "# R-squared para el modelo\n",
    "est.rsquared"
   ]
  },
  {
   "cell_type": "markdown",
   "metadata": {},
   "source": [
    "###  Otros modelos de regresión lineal simple usando de forma independiente otros descriptores"
   ]
  },
  {
   "cell_type": "code",
   "execution_count": null,
   "metadata": {},
   "outputs": [],
   "source": [
    "est = smf.ols('Sales ~ Radio', advertising).fit()\n",
    "est.summary().tables[1]"
   ]
  },
  {
   "cell_type": "code",
   "execution_count": null,
   "metadata": {},
   "outputs": [],
   "source": [
    "est = smf.ols('Sales ~ Newspaper', advertising).fit()\n",
    "est.summary().tables[1]"
   ]
  },
  {
   "cell_type": "markdown",
   "metadata": {},
   "source": [
    "##  Regresión lineal múltiple\n",
    "La regresión lineal simple se puede extender fácilmente para incluir múltiples descriptores, a esto se le llama** regresión lineal múltiple**:\n",
    "\n",
    "$ y = \\beta_0 + \\beta_1x_1 + ... + \\beta_nx_n $\n",
    "\n",
    "Cada $x$ representa un descriptor diferente, y cada descriptor tiene su propio coeficiente. En este caso:\n",
    "\n",
    "$ y = \\beta_0 + \\beta_1 \\times TV + \\beta_2 \\times Radio + \\beta_3 \\times Newspaper $\n",
    "\n",
    "A continuación se usa `Statsmodels` para estimar estos coeficientes, de forma similar al caso de sólo una variable, usando el modo formula:"
   ]
  },
  {
   "cell_type": "code",
   "execution_count": null,
   "metadata": {},
   "outputs": [],
   "source": [
    "est = smf.ols('Sales ~ TV + Radio + Newspaper', advertising).fit()\n",
    "est.summary()"
   ]
  },
  {
   "cell_type": "markdown",
   "metadata": {},
   "source": [
    "### Hipótesis nula en la regresión lineal múltiple\n",
    "La hipótesis nula se expande aquí para decir que todos los coeficientes son iguales a 0. La alternativa es solo que al menos uno de ellos es significativo. Se realiza una prueba F para probar la significancia.\n",
    "$$F = \\frac {(TSS - RSS) / p} {RSS / (n - p - 1)}$$"
   ]
  },
  {
   "cell_type": "markdown",
   "metadata": {},
   "source": [
    "### Matriz de correlación \n",
    "Se puede utilizar la matriz de correlación usando simplemente el método `corr()` para los DataFrames de Pandas."
   ]
  },
  {
   "cell_type": "code",
   "execution_count": null,
   "metadata": {
    "scrolled": true
   },
   "outputs": [],
   "source": [
    "advertising.corr()"
   ]
  },
  {
   "cell_type": "markdown",
   "metadata": {},
   "source": [
    "## Regresión lineal simple con  Scikit-learn"
   ]
  },
  {
   "cell_type": "code",
   "execution_count": null,
   "metadata": {},
   "outputs": [],
   "source": [
    "# Importando especificamente la regresion lineal\n",
    "from sklearn.linear_model import LinearRegression\n",
    "\n",
    "regr = LinearRegression()\n",
    "\n",
    "# X = advertising['TV'].values.reshape(-1,1)\n",
    "X = advertising[['TV']]\n",
    "y = advertising['Sales'] \n",
    "\n",
    "regr.fit(X,y)\n",
    "print(regr.intercept_)\n",
    "print(regr.coef_)"
   ]
  },
  {
   "cell_type": "code",
   "execution_count": null,
   "metadata": {},
   "outputs": [],
   "source": [
    "type(X)"
   ]
  },
  {
   "cell_type": "markdown",
   "metadata": {},
   "source": [
    "#### Predicción con scikit-learn"
   ]
  },
  {
   "cell_type": "code",
   "execution_count": null,
   "metadata": {},
   "outputs": [],
   "source": [
    "Sales_pred = regr.predict(X)"
   ]
  },
  {
   "cell_type": "code",
   "execution_count": null,
   "metadata": {},
   "outputs": [],
   "source": [
    "Sales_pred"
   ]
  },
  {
   "cell_type": "markdown",
   "metadata": {},
   "source": [
    "#### Evaluando el modelo con scikit-learn"
   ]
  },
  {
   "cell_type": "code",
   "execution_count": null,
   "metadata": {},
   "outputs": [],
   "source": [
    "from sklearn.metrics import mean_squared_error, r2_score\n",
    "\n",
    "R2 = r2_score(y, Sales_pred)\n",
    "MSE = mean_squared_error(y,Sales_pred)\n",
    "RSE = np.sqrt( MSE*n/(n-2) )\n",
    "\n",
    "print(\"R^2 = {:1.3f}\".format(R2) )\n",
    "print(\"RSE = {:1.3f}\".format(RSE))"
   ]
  },
  {
   "cell_type": "markdown",
   "metadata": {},
   "source": [
    "### Regresión lineal múltiple con Scikit learn"
   ]
  },
  {
   "cell_type": "code",
   "execution_count": null,
   "metadata": {},
   "outputs": [],
   "source": [
    "regr = LinearRegression()\n",
    "\n",
    "X = advertising[['Radio', 'TV']]\n",
    "y = advertising.Sales\n",
    "\n",
    "regr.fit(X,y)\n",
    "print(regr.coef_)\n",
    "print(regr.intercept_)"
   ]
  },
  {
   "cell_type": "code",
   "execution_count": null,
   "metadata": {},
   "outputs": [],
   "source": [
    "pd.DataFrame(regr.coef_, X.columns, columns=['coef'])"
   ]
  },
  {
   "cell_type": "markdown",
   "metadata": {},
   "source": [
    "## Otras consideraciones de la regresión"
   ]
  },
  {
   "cell_type": "markdown",
   "metadata": {},
   "source": [
    "### Cargando el dataset ```Credit```"
   ]
  },
  {
   "cell_type": "code",
   "execution_count": null,
   "metadata": {
    "scrolled": true
   },
   "outputs": [],
   "source": [
    "credit = pd.read_csv('Data/Credit.csv', usecols=list(range(1,12)))\n",
    "credit['Student2'] = credit.Student.map({'No':0, 'Yes':1})\n",
    "credit.head(3)"
   ]
  },
  {
   "cell_type": "markdown",
   "metadata": {},
   "source": [
    "Algunas de los predictores son categóricos (texto)"
   ]
  },
  {
   "cell_type": "code",
   "execution_count": null,
   "metadata": {},
   "outputs": [],
   "source": [
    "credit.dtypes"
   ]
  },
  {
   "cell_type": "markdown",
   "metadata": {},
   "source": [
    "### Matriz de dispersión entre varias variables\n",
    "Graficamos la matriz de dispersión usando `seaborn`"
   ]
  },
  {
   "cell_type": "code",
   "execution_count": null,
   "metadata": {},
   "outputs": [],
   "source": [
    "sns.pairplot(credit[['Balance','Age','Cards','Education','Income','Limit','Rating']]);"
   ]
  },
  {
   "cell_type": "markdown",
   "metadata": {},
   "source": [
    "###  Regresión con variables categóricas\n",
    "Estimaciones de los coeficientes por el método de mínimos cuadrados asociados con la regresión de balance respecto al género in el dataset de `credit`. El género es codificado automáticamente por `statsmodels` como una variable dummy. "
   ]
  },
  {
   "cell_type": "code",
   "execution_count": null,
   "metadata": {},
   "outputs": [],
   "source": [
    "est = smf.ols('Balance ~ Gender', credit).fit()\n",
    "est.summary().tables[1]"
   ]
  },
  {
   "cell_type": "markdown",
   "metadata": {},
   "source": [
    "### Variables con más de una categoría\n",
    "\n",
    "Ahora realizamos la regresión de *Balance* con respecto a *Ethnicity* en el dataset de `credit`. Aquí, la variable *Ethnicity* tiene tres categorias:"
   ]
  },
  {
   "cell_type": "code",
   "execution_count": null,
   "metadata": {},
   "outputs": [],
   "source": [
    "credit.Ethnicity.value_counts()"
   ]
  },
  {
   "cell_type": "markdown",
   "metadata": {},
   "source": [
    "`statmodels` codifica al predictor  *Ethnicity*  mediante dos variables *dummy*"
   ]
  },
  {
   "cell_type": "code",
   "execution_count": null,
   "metadata": {},
   "outputs": [],
   "source": [
    "est = smf.ols('Balance ~ Ethnicity', credit).fit()\n",
    "est.summary().tables[1]"
   ]
  },
  {
   "cell_type": "markdown",
   "metadata": {},
   "source": [
    "### Variables de interacción\n",
    "Para el dataset de Advertising,  las estimaciones de coeficientes de mínimos cuadrados asociadas con la regresión de las ventas respecto al gasto en los anuncios de TV y radio, con un término de interacción, se calcula como:\n"
   ]
  },
  {
   "cell_type": "code",
   "execution_count": null,
   "metadata": {},
   "outputs": [],
   "source": [
    "est = smf.ols('Sales ~ TV + Radio + TV*Radio', advertising).fit()\n",
    "est.summary().tables[1]"
   ]
  },
  {
   "cell_type": "markdown",
   "metadata": {},
   "source": [
    "### Interacción entre variables cuantitativas y cualitativas"
   ]
  },
  {
   "cell_type": "code",
   "execution_count": null,
   "metadata": {},
   "outputs": [],
   "source": [
    "est1 = smf.ols('Balance ~ Income + Student2', credit).fit()\n",
    "regr1 = est1.params\n",
    "est2 = smf.ols('Balance ~ Income + Income*Student2', credit).fit()\n",
    "regr2 = est2.params\n",
    "\n",
    "print('Regression 1 - without interaction term')\n",
    "print(regr1)\n",
    "print('\\nRegression 2 - with interaction term')\n",
    "print(regr2)"
   ]
  },
  {
   "cell_type": "markdown",
   "metadata": {},
   "source": [
    "## Variables categoricas con scikit-learn"
   ]
  },
  {
   "cell_type": "code",
   "execution_count": null,
   "metadata": {},
   "outputs": [],
   "source": [
    "from sklearn.linear_model import LinearRegression\n",
    "model  = LinearRegression()"
   ]
  },
  {
   "cell_type": "code",
   "execution_count": null,
   "metadata": {},
   "outputs": [],
   "source": [
    "try:\n",
    "    model.fit(credit.drop(columns='Balance'), credit['Balance'])\n",
    "except Exception as e:\n",
    "    print(e)\n",
    "    "
   ]
  },
  {
   "cell_type": "markdown",
   "metadata": {},
   "source": [
    "scikit-learn no convierte automáticamente las variables categóricas. Hay que convertirlas previamente. Una forma es usando la función `get_dummies` de Pandas. Esta es la forma más sencilla. Sin embargo, en procesos encadenados reales (pipelines) es mejor usar transformadores de scikit-learn como `preprocessing.OneHotEncoder`. Pueden encontrar más información esta [guía de scikit-learn](https://scikit-learn.org/stable/modules/preprocessing.html#encoding-categorical-features).\n",
    "\n",
    "Veamos como sería usando `get_dummies`"
   ]
  },
  {
   "cell_type": "code",
   "execution_count": null,
   "metadata": {
    "scrolled": true
   },
   "outputs": [],
   "source": [
    "credit_num = pd.get_dummies(credit, drop_first=True)\n",
    "credit_num.sample(3)"
   ]
  },
  {
   "cell_type": "code",
   "execution_count": null,
   "metadata": {},
   "outputs": [],
   "source": [
    "model.fit(credit_num.drop(columns='Balance'), credit_num['Balance'])"
   ]
  },
  {
   "cell_type": "code",
   "execution_count": null,
   "metadata": {},
   "outputs": [],
   "source": [
    "# Calcula el R^2\n",
    "model.score(credit_num.drop(columns='Balance'), credit_num['Balance'])"
   ]
  },
  {
   "cell_type": "code",
   "execution_count": null,
   "metadata": {},
   "outputs": [],
   "source": [
    "coeff_df = pd.DataFrame(model.coef_,\n",
    "                        credit_num.drop(columns='Balance').columns,\n",
    "                        columns=['Coefficient'])\n",
    "coeff_df"
   ]
  }
 ],
 "metadata": {
  "kernelspec": {
   "display_name": "Python 3 (ipykernel)",
   "language": "python",
   "name": "python3"
  },
  "language_info": {
   "codemirror_mode": {
    "name": "ipython",
    "version": 3
   },
   "file_extension": ".py",
   "mimetype": "text/x-python",
   "name": "python",
   "nbconvert_exporter": "python",
   "pygments_lexer": "ipython3",
   "version": "3.8.10"
  },
  "nbTranslate": {
   "displayLangs": [
    "es",
    "en"
   ],
   "hotkey": "alt-t",
   "langInMainMenu": true,
   "sourceLang": "en",
   "targetLang": "es",
   "useGoogleTranslate": true
  },
  "varInspector": {
   "cols": {
    "lenName": 16,
    "lenType": 16,
    "lenVar": 40
   },
   "kernels_config": {
    "python": {
     "delete_cmd_postfix": "",
     "delete_cmd_prefix": "del ",
     "library": "var_list.py",
     "varRefreshCmd": "print(var_dic_list())"
    },
    "r": {
     "delete_cmd_postfix": ") ",
     "delete_cmd_prefix": "rm(",
     "library": "var_list.r",
     "varRefreshCmd": "cat(var_dic_list()) "
    }
   },
   "types_to_exclude": [
    "module",
    "function",
    "builtin_function_or_method",
    "instance",
    "_Feature"
   ],
   "window_display": false
  }
 },
 "nbformat": 4,
 "nbformat_minor": 1
}
