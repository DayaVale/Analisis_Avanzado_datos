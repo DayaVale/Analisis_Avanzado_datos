{
 "cells": [
  {
   "cell_type": "markdown",
   "metadata": {},
   "source": [
    "# Ejercicios GLM\n",
    "**Integrantes**: Dayana Valentina Gonzalez, Maria Fernanda Rodriguez "
   ]
  },
  {
   "cell_type": "code",
   "execution_count": 1,
   "metadata": {},
   "outputs": [],
   "source": [
    "import numpy as np\n",
    "import scipy as sp\n",
    "import pandas as pd\n",
    "import patsy\n",
    "import seaborn as sns\n",
    "\n",
    "import statsmodels.formula.api as smf\n",
    "import statsmodels.api as sm\n",
    "\n",
    "from sklearn.model_selection import train_test_split\n",
    "from sklearn.metrics import r2_score\n",
    "from sklearn.metrics import mean_squared_error\n",
    "from sklearn.preprocessing import StandardScaler\n",
    "\n",
    "import matplotlib.pyplot as plt\n",
    "import itertools\n",
    "\n",
    "%matplotlib inline"
   ]
  },
  {
   "cell_type": "markdown",
   "metadata": {},
   "source": [
    "# Ejercicio 1"
   ]
  },
  {
   "cell_type": "markdown",
   "metadata": {},
   "source": [
    "**[1]** Esta pregunta debe responderse utilizando el dataset ``Weekly``. Esta información es contiene 1,089 declaraciones semanales durante 21 años, desde el comienzo de 1990 hasta el final de 2010.\n",
    "\n",
    "Realice una regresión logística con ``Direction`` como respuesta y las cinco variables ``lag`` más ``Volume`` como predictores. Usando `glm` de statmodels, use diferentes funciones de enlace y comente las diferencias. Use la función `summary` (de statmodels) para imprimir los resultados. ¿Que conclusiones puede obtener de cada modelo?\n"
   ]
  },
  {
   "cell_type": "code",
   "execution_count": 2,
   "metadata": {},
   "outputs": [
    {
     "data": {
      "text/html": [
       "<div>\n",
       "<style scoped>\n",
       "    .dataframe tbody tr th:only-of-type {\n",
       "        vertical-align: middle;\n",
       "    }\n",
       "\n",
       "    .dataframe tbody tr th {\n",
       "        vertical-align: top;\n",
       "    }\n",
       "\n",
       "    .dataframe thead th {\n",
       "        text-align: right;\n",
       "    }\n",
       "</style>\n",
       "<table border=\"1\" class=\"dataframe\">\n",
       "  <thead>\n",
       "    <tr style=\"text-align: right;\">\n",
       "      <th></th>\n",
       "      <th>Year</th>\n",
       "      <th>Lag1</th>\n",
       "      <th>Lag2</th>\n",
       "      <th>Lag3</th>\n",
       "      <th>Lag4</th>\n",
       "      <th>Lag5</th>\n",
       "      <th>Volume</th>\n",
       "      <th>Today</th>\n",
       "      <th>Direction</th>\n",
       "    </tr>\n",
       "  </thead>\n",
       "  <tbody>\n",
       "    <tr>\n",
       "      <th>0</th>\n",
       "      <td>1990</td>\n",
       "      <td>0.816</td>\n",
       "      <td>1.572</td>\n",
       "      <td>-3.936</td>\n",
       "      <td>-0.229</td>\n",
       "      <td>-3.484</td>\n",
       "      <td>0.154976</td>\n",
       "      <td>-0.270</td>\n",
       "      <td>Down</td>\n",
       "    </tr>\n",
       "    <tr>\n",
       "      <th>1</th>\n",
       "      <td>1990</td>\n",
       "      <td>-0.270</td>\n",
       "      <td>0.816</td>\n",
       "      <td>1.572</td>\n",
       "      <td>-3.936</td>\n",
       "      <td>-0.229</td>\n",
       "      <td>0.148574</td>\n",
       "      <td>-2.576</td>\n",
       "      <td>Down</td>\n",
       "    </tr>\n",
       "    <tr>\n",
       "      <th>2</th>\n",
       "      <td>1990</td>\n",
       "      <td>-2.576</td>\n",
       "      <td>-0.270</td>\n",
       "      <td>0.816</td>\n",
       "      <td>1.572</td>\n",
       "      <td>-3.936</td>\n",
       "      <td>0.159837</td>\n",
       "      <td>3.514</td>\n",
       "      <td>Up</td>\n",
       "    </tr>\n",
       "    <tr>\n",
       "      <th>3</th>\n",
       "      <td>1990</td>\n",
       "      <td>3.514</td>\n",
       "      <td>-2.576</td>\n",
       "      <td>-0.270</td>\n",
       "      <td>0.816</td>\n",
       "      <td>1.572</td>\n",
       "      <td>0.161630</td>\n",
       "      <td>0.712</td>\n",
       "      <td>Up</td>\n",
       "    </tr>\n",
       "    <tr>\n",
       "      <th>4</th>\n",
       "      <td>1990</td>\n",
       "      <td>0.712</td>\n",
       "      <td>3.514</td>\n",
       "      <td>-2.576</td>\n",
       "      <td>-0.270</td>\n",
       "      <td>0.816</td>\n",
       "      <td>0.153728</td>\n",
       "      <td>1.178</td>\n",
       "      <td>Up</td>\n",
       "    </tr>\n",
       "  </tbody>\n",
       "</table>\n",
       "</div>"
      ],
      "text/plain": [
       "   Year   Lag1   Lag2   Lag3   Lag4   Lag5    Volume  Today Direction\n",
       "0  1990  0.816  1.572 -3.936 -0.229 -3.484  0.154976 -0.270      Down\n",
       "1  1990 -0.270  0.816  1.572 -3.936 -0.229  0.148574 -2.576      Down\n",
       "2  1990 -2.576 -0.270  0.816  1.572 -3.936  0.159837  3.514        Up\n",
       "3  1990  3.514 -2.576 -0.270  0.816  1.572  0.161630  0.712        Up\n",
       "4  1990  0.712  3.514 -2.576 -0.270  0.816  0.153728  1.178        Up"
      ]
     },
     "execution_count": 2,
     "metadata": {},
     "output_type": "execute_result"
    }
   ],
   "source": [
    "weekly = pd.read_csv('weekly.csv' )\n",
    "weekly.head()"
   ]
  },
  {
   "cell_type": "markdown",
   "metadata": {},
   "source": [
    "**funcion de enlace: logit**"
   ]
  },
  {
   "cell_type": "code",
   "execution_count": 3,
   "metadata": {},
   "outputs": [
    {
     "name": "stdout",
     "output_type": "stream",
     "text": [
      "                          Generalized Linear Model Regression Results                           \n",
      "================================================================================================\n",
      "Dep. Variable:     ['Direction[Down]', 'Direction[Up]']   No. Observations:                 1089\n",
      "Model:                                              GLM   Df Residuals:                     1082\n",
      "Model Family:                                  Binomial   Df Model:                            6\n",
      "Link Function:                                    logit   Scale:                          1.0000\n",
      "Method:                                            IRLS   Log-Likelihood:                -743.18\n",
      "Date:                                  Mon, 08 Nov 2021   Deviance:                       1486.4\n",
      "Time:                                          16:14:41   Pearson chi2:                 1.09e+03\n",
      "No. Iterations:                                       4                                         \n",
      "Covariance Type:                              nonrobust                                         \n",
      "==============================================================================\n",
      "                 coef    std err          z      P>|z|      [0.025      0.975]\n",
      "------------------------------------------------------------------------------\n",
      "Intercept     -0.2669      0.086     -3.106      0.002      -0.435      -0.098\n",
      "Lag1           0.0413      0.026      1.563      0.118      -0.010       0.093\n",
      "Lag2          -0.0584      0.027     -2.175      0.030      -0.111      -0.006\n",
      "Lag3           0.0161      0.027      0.602      0.547      -0.036       0.068\n",
      "Lag4           0.0278      0.026      1.050      0.294      -0.024       0.080\n",
      "Lag5           0.0145      0.026      0.549      0.583      -0.037       0.066\n",
      "Volume         0.0227      0.037      0.616      0.538      -0.050       0.095\n",
      "==============================================================================\n"
     ]
    }
   ],
   "source": [
    "fit = smf.glm('Direction ~ Lag1+Lag2+Lag3+Lag4+Lag5+Volume', \n",
    "              data=weekly, \n",
    "              family=sm.families.Binomial(link=sm.families.links.logit())).fit() \n",
    "print(fit.summary())"
   ]
  },
  {
   "cell_type": "markdown",
   "metadata": {},
   "source": [
    "De acuerdo con este modelo obtuvimos que la variable que mas afecta los resultados es **Lag2** pues tiene un valor p de 0.03 el cual es muy pequeño."
   ]
  },
  {
   "cell_type": "markdown",
   "metadata": {},
   "source": []
  },
  {
   "cell_type": "markdown",
   "metadata": {},
   "source": [
    "**funcion de enlace: probit**"
   ]
  },
  {
   "cell_type": "code",
   "execution_count": 4,
   "metadata": {
    "scrolled": false
   },
   "outputs": [
    {
     "name": "stdout",
     "output_type": "stream",
     "text": [
      "                          Generalized Linear Model Regression Results                           \n",
      "================================================================================================\n",
      "Dep. Variable:     ['Direction[Down]', 'Direction[Up]']   No. Observations:                 1089\n",
      "Model:                                              GLM   Df Residuals:                     1082\n",
      "Model Family:                                  Binomial   Df Model:                            6\n",
      "Link Function:                                   probit   Scale:                          1.0000\n",
      "Method:                                            IRLS   Log-Likelihood:                -743.17\n",
      "Date:                                  Mon, 08 Nov 2021   Deviance:                       1486.3\n",
      "Time:                                          16:14:41   Pearson chi2:                 1.09e+03\n",
      "No. Iterations:                                       5                                         \n",
      "Covariance Type:                              nonrobust                                         \n",
      "==============================================================================\n",
      "                 coef    std err          z      P>|z|      [0.025      0.975]\n",
      "------------------------------------------------------------------------------\n",
      "Intercept     -0.1670      0.054     -3.117      0.002      -0.272      -0.062\n",
      "Lag1           0.0256      0.016      1.557      0.120      -0.007       0.058\n",
      "Lag2          -0.0364      0.017     -2.190      0.029      -0.069      -0.004\n",
      "Lag3           0.0101      0.017      0.609      0.543      -0.022       0.042\n",
      "Lag4           0.0175      0.016      1.062      0.288      -0.015       0.050\n",
      "Lag5           0.0087      0.016      0.530      0.596      -0.023       0.041\n",
      "Volume         0.0144      0.023      0.625      0.532      -0.031       0.059\n",
      "==============================================================================\n"
     ]
    }
   ],
   "source": [
    "fit = smf.glm('Direction ~ Lag1+Lag2+Lag3+Lag4+Lag5+Volume', \n",
    "              data=weekly, \n",
    "              family=sm.families.Binomial(link=sm.families.links.probit())).fit() \n",
    "print(fit.summary())"
   ]
  },
  {
   "cell_type": "markdown",
   "metadata": {},
   "source": [
    "De acuerdo con este modelo obtuvimos que la variable que mas afecta los resultados es **Lag2** pues tiene un valor p de 0.029 el cual es muy pequeño. Este modelo resulto ser muy parecido a los resultados de la funcion de enlace **logit**"
   ]
  },
  {
   "cell_type": "markdown",
   "metadata": {},
   "source": [
    "**funcion de enlace: cauchy**"
   ]
  },
  {
   "cell_type": "code",
   "execution_count": 5,
   "metadata": {},
   "outputs": [
    {
     "name": "stdout",
     "output_type": "stream",
     "text": [
      "                          Generalized Linear Model Regression Results                           \n",
      "================================================================================================\n",
      "Dep. Variable:     ['Direction[Down]', 'Direction[Up]']   No. Observations:                 1089\n",
      "Model:                                              GLM   Df Residuals:                     1082\n",
      "Model Family:                                  Binomial   Df Model:                            6\n",
      "Link Function:                                   cauchy   Scale:                          1.0000\n",
      "Method:                                            IRLS   Log-Likelihood:                -743.19\n",
      "Date:                                  Mon, 08 Nov 2021   Deviance:                       1486.4\n",
      "Time:                                          16:14:41   Pearson chi2:                 1.09e+03\n",
      "No. Iterations:                                       6                                         \n",
      "Covariance Type:                              nonrobust                                         \n",
      "==============================================================================\n",
      "                 coef    std err          z      P>|z|      [0.025      0.975]\n",
      "------------------------------------------------------------------------------\n",
      "Intercept     -0.2113      0.070     -3.032      0.002      -0.348      -0.075\n",
      "Lag1           0.0348      0.022      1.601      0.109      -0.008       0.077\n",
      "Lag2          -0.0477      0.023     -2.107      0.035      -0.092      -0.003\n",
      "Lag3           0.0126      0.022      0.569      0.569      -0.031       0.056\n",
      "Lag4           0.0218      0.022      1.005      0.315      -0.021       0.064\n",
      "Lag5           0.0137      0.022      0.631      0.528      -0.029       0.056\n",
      "Volume         0.0169      0.030      0.566      0.572      -0.042       0.076\n",
      "==============================================================================\n"
     ]
    }
   ],
   "source": [
    "fit = smf.glm('Direction ~ Lag1+Lag2+Lag3+Lag4+Lag5+Volume', \n",
    "              data=weekly, \n",
    "              family=sm.families.Binomial(link=sm.families.links.cauchy())).fit() \n",
    "print(fit.summary())"
   ]
  },
  {
   "cell_type": "markdown",
   "metadata": {},
   "source": [
    "De acuerdo con este modelo obtuvimos que la variable que mas afecta los resultados es **Lag2** pues tiene un valor p de 0.035 el cual es muy pequeño. Aunque es mas alto que los anteriores modelos tambien nos muestra resultados similares."
   ]
  },
  {
   "cell_type": "markdown",
   "metadata": {},
   "source": [
    "# Ejercicio 2"
   ]
  },
  {
   "cell_type": "markdown",
   "metadata": {},
   "source": [
    "En este ejercicio trabajaremos con el conjunto da datos de  `gotelli.csv`. Este dataset investiga los determinantes biográficos de la riqueza de especies a escala regional (Gotelli y Everson, 2002). El objetivo principal de este ejercicio es replicar la **regresión de Poisson** de la riqueza de una especie de hormiga contra la latitud, la elevación y el tipo de hábitat en su papel. "
   ]
  },
  {
   "cell_type": "markdown",
   "metadata": {},
   "source": [
    "**(1)** Cargue el dataset y grafique una matriz de dispersión, y evalue si hay algún tipo de colinealidad entre las variables."
   ]
  },
  {
   "cell_type": "markdown",
   "metadata": {},
   "source": [
    "**Cargamos el dataset gotelli.csv:**"
   ]
  },
  {
   "cell_type": "code",
   "execution_count": 6,
   "metadata": {},
   "outputs": [
    {
     "data": {
      "text/html": [
       "<div>\n",
       "<style scoped>\n",
       "    .dataframe tbody tr th:only-of-type {\n",
       "        vertical-align: middle;\n",
       "    }\n",
       "\n",
       "    .dataframe tbody tr th {\n",
       "        vertical-align: top;\n",
       "    }\n",
       "\n",
       "    .dataframe thead th {\n",
       "        text-align: right;\n",
       "    }\n",
       "</style>\n",
       "<table border=\"1\" class=\"dataframe\">\n",
       "  <thead>\n",
       "    <tr style=\"text-align: right;\">\n",
       "      <th></th>\n",
       "      <th>Site</th>\n",
       "      <th>Srich</th>\n",
       "      <th>Habitat</th>\n",
       "      <th>Latitude</th>\n",
       "      <th>Elevation</th>\n",
       "    </tr>\n",
       "  </thead>\n",
       "  <tbody>\n",
       "    <tr>\n",
       "      <th>0</th>\n",
       "      <td>TPB</td>\n",
       "      <td>6</td>\n",
       "      <td>Forest</td>\n",
       "      <td>41.97</td>\n",
       "      <td>389</td>\n",
       "    </tr>\n",
       "    <tr>\n",
       "      <th>1</th>\n",
       "      <td>HBC</td>\n",
       "      <td>16</td>\n",
       "      <td>Forest</td>\n",
       "      <td>42.00</td>\n",
       "      <td>8</td>\n",
       "    </tr>\n",
       "    <tr>\n",
       "      <th>2</th>\n",
       "      <td>CKB</td>\n",
       "      <td>18</td>\n",
       "      <td>Forest</td>\n",
       "      <td>42.03</td>\n",
       "      <td>152</td>\n",
       "    </tr>\n",
       "    <tr>\n",
       "      <th>3</th>\n",
       "      <td>SKP</td>\n",
       "      <td>17</td>\n",
       "      <td>Forest</td>\n",
       "      <td>42.05</td>\n",
       "      <td>1</td>\n",
       "    </tr>\n",
       "    <tr>\n",
       "      <th>4</th>\n",
       "      <td>CB</td>\n",
       "      <td>9</td>\n",
       "      <td>Forest</td>\n",
       "      <td>42.05</td>\n",
       "      <td>210</td>\n",
       "    </tr>\n",
       "  </tbody>\n",
       "</table>\n",
       "</div>"
      ],
      "text/plain": [
       "  Site  Srich Habitat  Latitude  Elevation\n",
       "0  TPB      6  Forest     41.97        389\n",
       "1  HBC     16  Forest     42.00          8\n",
       "2  CKB     18  Forest     42.03        152\n",
       "3  SKP     17  Forest     42.05          1\n",
       "4   CB      9  Forest     42.05        210"
      ]
     },
     "execution_count": 6,
     "metadata": {},
     "output_type": "execute_result"
    }
   ],
   "source": [
    "gotelli = pd.read_csv('gotelli.csv' )\n",
    "gotelli.head()"
   ]
  },
  {
   "cell_type": "markdown",
   "metadata": {},
   "source": [
    "**Matriz de dispersión**"
   ]
  },
  {
   "cell_type": "code",
   "execution_count": 7,
   "metadata": {},
   "outputs": [
    {
     "data": {
      "text/plain": [
       "<seaborn.axisgrid.PairGrid at 0x24283e77e20>"
      ]
     },
     "execution_count": 7,
     "metadata": {},
     "output_type": "execute_result"
    },
    {
     "data": {
      "image/png": "[encoded data removed]",
      "text/plain": [
       "<Figure size 540x540 with 12 Axes>"
      ]
     },
     "metadata": {
      "needs_background": "light"
     },
     "output_type": "display_data"
    }
   ],
   "source": [
    "sns.pairplot(gotelli)"
   ]
  },
  {
   "cell_type": "markdown",
   "metadata": {},
   "source": [
    "**Evaluamos colinealidad**"
   ]
  },
  {
   "cell_type": "code",
   "execution_count": 8,
   "metadata": {},
   "outputs": [
    {
     "data": {
      "image/png": "[encoded data removed]",
      "text/plain": [
       "<Figure size 576x504 with 2 Axes>"
      ]
     },
     "metadata": {
      "needs_background": "light"
     },
     "output_type": "display_data"
    }
   ],
   "source": [
    "f,ax = plt.subplots(figsize=(8,7))\n",
    "sns.heatmap(gotelli.corr(),cmap = 'ocean_r', annot=True, cbar=True )\n",
    "ax.set_title('Correlation matrix')\n",
    "plt.show()"
   ]
  },
  {
   "cell_type": "markdown",
   "metadata": {},
   "source": [
    "Las variables latitude y srich estan moderadamente correlacionadas de forma negativa, de igual forma las variables elevation y srich. Latitude con Elevation tienen una correlacion pequeña. Por estas razones existe colinealidad."
   ]
  },
  {
   "cell_type": "markdown",
   "metadata": {},
   "source": [
    "**(2)** Divida el conjunto en un training y test set. A partir de ahora sólo trabaje con el Training set."
   ]
  },
  {
   "cell_type": "code",
   "execution_count": 9,
   "metadata": {},
   "outputs": [
    {
     "data": {
      "text/html": [
       "<div>\n",
       "<style scoped>\n",
       "    .dataframe tbody tr th:only-of-type {\n",
       "        vertical-align: middle;\n",
       "    }\n",
       "\n",
       "    .dataframe tbody tr th {\n",
       "        vertical-align: top;\n",
       "    }\n",
       "\n",
       "    .dataframe thead th {\n",
       "        text-align: right;\n",
       "    }\n",
       "</style>\n",
       "<table border=\"1\" class=\"dataframe\">\n",
       "  <thead>\n",
       "    <tr style=\"text-align: right;\">\n",
       "      <th></th>\n",
       "      <th>Site</th>\n",
       "      <th>Srich</th>\n",
       "      <th>Habitat</th>\n",
       "      <th>Latitude</th>\n",
       "      <th>Elevation</th>\n",
       "      <th>Forest</th>\n",
       "    </tr>\n",
       "  </thead>\n",
       "  <tbody>\n",
       "    <tr>\n",
       "      <th>0</th>\n",
       "      <td>TPB</td>\n",
       "      <td>6</td>\n",
       "      <td>Forest</td>\n",
       "      <td>41.97</td>\n",
       "      <td>389</td>\n",
       "      <td>1</td>\n",
       "    </tr>\n",
       "    <tr>\n",
       "      <th>1</th>\n",
       "      <td>HBC</td>\n",
       "      <td>16</td>\n",
       "      <td>Forest</td>\n",
       "      <td>42.00</td>\n",
       "      <td>8</td>\n",
       "      <td>1</td>\n",
       "    </tr>\n",
       "    <tr>\n",
       "      <th>2</th>\n",
       "      <td>CKB</td>\n",
       "      <td>18</td>\n",
       "      <td>Forest</td>\n",
       "      <td>42.03</td>\n",
       "      <td>152</td>\n",
       "      <td>1</td>\n",
       "    </tr>\n",
       "    <tr>\n",
       "      <th>3</th>\n",
       "      <td>SKP</td>\n",
       "      <td>17</td>\n",
       "      <td>Forest</td>\n",
       "      <td>42.05</td>\n",
       "      <td>1</td>\n",
       "      <td>1</td>\n",
       "    </tr>\n",
       "    <tr>\n",
       "      <th>4</th>\n",
       "      <td>CB</td>\n",
       "      <td>9</td>\n",
       "      <td>Forest</td>\n",
       "      <td>42.05</td>\n",
       "      <td>210</td>\n",
       "      <td>1</td>\n",
       "    </tr>\n",
       "  </tbody>\n",
       "</table>\n",
       "</div>"
      ],
      "text/plain": [
       "  Site  Srich Habitat  Latitude  Elevation  Forest\n",
       "0  TPB      6  Forest     41.97        389       1\n",
       "1  HBC     16  Forest     42.00          8       1\n",
       "2  CKB     18  Forest     42.03        152       1\n",
       "3  SKP     17  Forest     42.05          1       1\n",
       "4   CB      9  Forest     42.05        210       1"
      ]
     },
     "execution_count": 9,
     "metadata": {},
     "output_type": "execute_result"
    }
   ],
   "source": [
    "gotelli['Forest'] =  np.where(gotelli['Habitat'] == 'Forest', 1, 0)\n",
    "gotelli.head()"
   ]
  },
  {
   "cell_type": "code",
   "execution_count": 10,
   "metadata": {},
   "outputs": [],
   "source": [
    "X_train, X_test = train_test_split(gotelli[['Srich','Forest','Latitude','Elevation']], test_size=0.33, random_state=42)"
   ]
  },
  {
   "cell_type": "markdown",
   "metadata": {},
   "source": [
    "**(3)** Realice una regresión de Poisson, involucrando las variables de habitat, latitude y la elevación y sus interacciones. Determine los VIF para cada variable. Evalue el modelo con alguna métrica sobre el Test set (R2, varianza explicada, RMSE, etc)."
   ]
  },
  {
   "cell_type": "code",
   "execution_count": 11,
   "metadata": {},
   "outputs": [
    {
     "name": "stdout",
     "output_type": "stream",
     "text": [
      "                 Generalized Linear Model Regression Results                  \n",
      "==============================================================================\n",
      "Dep. Variable:                  Srich   No. Observations:                   29\n",
      "Model:                            GLM   Df Residuals:                       25\n",
      "Model Family:                 Poisson   Df Model:                            3\n",
      "Link Function:                    log   Scale:                          1.0000\n",
      "Method:                          IRLS   Log-Likelihood:                -63.979\n",
      "Date:                Mon, 08 Nov 2021   Deviance:                       22.880\n",
      "Time:                        16:14:45   Pearson chi2:                     22.9\n",
      "No. Iterations:                     4                                         \n",
      "Covariance Type:            nonrobust                                         \n",
      "==============================================================================\n",
      "                 coef    std err          z      P>|z|      [0.025      0.975]\n",
      "------------------------------------------------------------------------------\n",
      "Intercept     11.2029      3.116      3.595      0.000       5.095      17.311\n",
      "Forest         0.7573      0.155      4.892      0.000       0.454       1.061\n",
      "Latitude      -0.2227      0.073     -3.044      0.002      -0.366      -0.079\n",
      "Elevation     -0.0007      0.000     -1.525      0.127      -0.002       0.000\n",
      "==============================================================================\n"
     ]
    }
   ],
   "source": [
    "fit = smf.glm('Srich ~ Forest+Latitude+Elevation', \n",
    "              data=X_train, \n",
    "              family=sm.families.Poisson(link=sm.families.links.log())).fit()\n",
    "print(fit.summary())"
   ]
  },
  {
   "cell_type": "code",
   "execution_count": 12,
   "metadata": {},
   "outputs": [
    {
     "data": {
      "text/plain": [
       "37     3.183330\n",
       "24     5.639559\n",
       "25     6.282143\n",
       "36     4.203146\n",
       "34     3.729888\n",
       "40     3.056396\n",
       "4     11.467779\n",
       "12     7.954402\n",
       "8     11.667097\n",
       "3     13.397370\n",
       "6     12.549139\n",
       "27     5.775886\n",
       "31     5.528210\n",
       "19     7.513742\n",
       "17     6.163752\n",
       "dtype: float64"
      ]
     },
     "execution_count": 12,
     "metadata": {},
     "output_type": "execute_result"
    }
   ],
   "source": [
    "predi=fit.predict(X_test)\n",
    "predi"
   ]
  },
  {
   "cell_type": "code",
   "execution_count": 13,
   "metadata": {},
   "outputs": [
    {
     "data": {
      "text/plain": [
       "0.45339304634886757"
      ]
     },
     "execution_count": 13,
     "metadata": {},
     "output_type": "execute_result"
    }
   ],
   "source": [
    "r2_score(X_test[['Srich']], predi)"
   ]
  },
  {
   "cell_type": "code",
   "execution_count": 14,
   "metadata": {},
   "outputs": [
    {
     "data": {
      "text/plain": [
       "10.703778834608396"
      ]
     },
     "execution_count": 14,
     "metadata": {},
     "output_type": "execute_result"
    }
   ],
   "source": [
    "mean_squared_error(X_test[['Srich']], predi)"
   ]
  },
  {
   "cell_type": "code",
   "execution_count": 15,
   "metadata": {},
   "outputs": [],
   "source": [
    "def calc_vif(fit):\n",
    "    \"\"\"Calcula el VIF para un modelo fit resultado del ajuste de GLM (o OLS)\"\"\"\n",
    "\n",
    "    cov = fit.cov_params() # extrae la covarianza\n",
    "    corr = cov / fit.bse / fit.bse # Calcula la correlacion con base en los parametros\n",
    "    \n",
    "    vif = pd.Series(np.diag(np.linalg.inv(corr.values[1:, 1:])), index=fit.bse.index[1:])\n",
    "\n",
    "    return(vif)"
   ]
  },
  {
   "cell_type": "code",
   "execution_count": 16,
   "metadata": {},
   "outputs": [
    {
     "data": {
      "text/plain": [
       "Forest       1.000016\n",
       "Latitude     1.037349\n",
       "Elevation    1.037332\n",
       "dtype: float64"
      ]
     },
     "execution_count": 16,
     "metadata": {},
     "output_type": "execute_result"
    }
   ],
   "source": [
    "calc_vif(fit)"
   ]
  },
  {
   "cell_type": "markdown",
   "metadata": {},
   "source": [
    "* Forest tiene VIF de casi 1 por lo cual no hay relacion entre la variable independiente y las otras variables.\n",
    "* Latitude tiene VIF de casi 1 por lo cual no hay relacion entre la variable independiente y las otras variables.\n",
    "* Elevation tiene VIF de casi 1 por lo cual no hay relacion entre la variable independiente y las otras variables."
   ]
  },
  {
   "cell_type": "markdown",
   "metadata": {},
   "source": [
    "**(4)** Si hay una covariación alta centre las variables (restar la media)."
   ]
  },
  {
   "cell_type": "markdown",
   "metadata": {},
   "source": [
    "No hay covarianza alta entre las variables."
   ]
  },
  {
   "cell_type": "markdown",
   "metadata": {},
   "source": [
    "**(5)** Realice de nuevo el modelo con la regresión de Poisson y evalue la colinealidad con el VIF. Evalue el modelo sobre el Test set."
   ]
  },
  {
   "cell_type": "code",
   "execution_count": 17,
   "metadata": {},
   "outputs": [
    {
     "name": "stdout",
     "output_type": "stream",
     "text": [
      "                 Generalized Linear Model Regression Results                  \n",
      "==============================================================================\n",
      "Dep. Variable:               Latitude   No. Observations:                   29\n",
      "Model:                            GLM   Df Residuals:                       24\n",
      "Model Family:                 Poisson   Df Model:                            4\n",
      "Link Function:                    log   Scale:                          1.0000\n",
      "Method:                          IRLS   Log-Likelihood:                -81.573\n",
      "Date:                Mon, 08 Nov 2021   Deviance:                      0.60366\n",
      "Time:                        16:14:46   Pearson chi2:                    0.605\n",
      "No. Iterations:                     3                                         \n",
      "Covariance Type:            nonrobust                                         \n",
      "================================================================================\n",
      "                   coef    std err          z      P>|z|      [0.025      0.975]\n",
      "--------------------------------------------------------------------------------\n",
      "Intercept        3.7805      0.116     32.467      0.000       3.552       4.009\n",
      "Srich           -0.0037      0.023     -0.160      0.873      -0.048       0.041\n",
      "Forest           0.0213      0.146      0.146      0.884      -0.264       0.307\n",
      "Srich:Forest    -0.0004      0.025     -0.017      0.987      -0.049       0.049\n",
      "Elevation    -5.314e-06      0.000     -0.026      0.979      -0.000       0.000\n",
      "================================================================================\n"
     ]
    }
   ],
   "source": [
    "fit = smf.glm('Latitude ~ Srich*Forest+Elevation', \n",
    "              data=X_train, \n",
    "              family=sm.families.Poisson(link=sm.families.links.log())).fit()\n",
    "print(fit.summary())"
   ]
  },
  {
   "cell_type": "code",
   "execution_count": 18,
   "metadata": {},
   "outputs": [
    {
     "data": {
      "text/plain": [
       "37    43.288784\n",
       "24    41.620387\n",
       "25    42.732008\n",
       "36    43.482913\n",
       "34    43.394044\n",
       "40    43.306500\n",
       "4     43.122146\n",
       "12    43.931398\n",
       "8     42.272955\n",
       "3     41.786275\n",
       "6     43.512476\n",
       "27    42.558869\n",
       "31    42.555024\n",
       "19    43.339551\n",
       "17    43.616968\n",
       "dtype: float64"
      ]
     },
     "execution_count": 18,
     "metadata": {},
     "output_type": "execute_result"
    }
   ],
   "source": [
    "predi=fit.predict(X_test)\n",
    "predi"
   ]
  },
  {
   "cell_type": "code",
   "execution_count": 19,
   "metadata": {},
   "outputs": [
    {
     "data": {
      "text/plain": [
       "-64.63696388063435"
      ]
     },
     "execution_count": 19,
     "metadata": {},
     "output_type": "execute_result"
    }
   ],
   "source": [
    "r2_score(X_test[['Srich']], predi)"
   ]
  },
  {
   "cell_type": "code",
   "execution_count": 20,
   "metadata": {},
   "outputs": [
    {
     "data": {
      "text/plain": [
       "1285.3176127025552"
      ]
     },
     "execution_count": 20,
     "metadata": {},
     "output_type": "execute_result"
    }
   ],
   "source": [
    "mean_squared_error(X_test[['Srich']], predi)"
   ]
  },
  {
   "cell_type": "code",
   "execution_count": 21,
   "metadata": {},
   "outputs": [
    {
     "data": {
      "text/plain": [
       "Srich           10.491038\n",
       "Forest           6.617783\n",
       "Srich:Forest    22.950447\n",
       "Elevation        1.132530\n",
       "dtype: float64"
      ]
     },
     "execution_count": 21,
     "metadata": {},
     "output_type": "execute_result"
    }
   ],
   "source": [
    "calc_vif(fit)"
   ]
  },
  {
   "cell_type": "markdown",
   "metadata": {},
   "source": [
    "Evaluando la interaccion entre Srich y Forest obtuvimos una mayor correlacion entre las variables, con un VIF de 10 en Srich, 6 en Forest y 22 entre ambos, lo cual indica una alta multicolinealidad entre estas variables y las demás."
   ]
  },
  {
   "cell_type": "code",
   "execution_count": null,
   "metadata": {},
   "outputs": [],
   "source": []
  }
 ],
 "metadata": {
  "kernelspec": {
   "display_name": "Python 3",
   "language": "python",
   "name": "python3"
  },
  "language_info": {
   "codemirror_mode": {
    "name": "ipython",
    "version": 3
   },
   "file_extension": ".py",
   "mimetype": "text/x-python",
   "name": "python",
   "nbconvert_exporter": "python",
   "pygments_lexer": "ipython3",
   "version": "3.8.5"
  },
  "nbTranslate": {
   "displayLangs": [
    "*"
   ],
   "hotkey": "alt-t",
   "langInMainMenu": true,
   "sourceLang": "en",
   "targetLang": "fr",
   "useGoogleTranslate": true
  },
  "varInspector": {
   "cols": {
    "lenName": 16,
    "lenType": 16,
    "lenVar": 40
   },
   "kernels_config": {
    "python": {
     "delete_cmd_postfix": "",
     "delete_cmd_prefix": "del ",
     "library": "var_list.py",
     "varRefreshCmd": "print(var_dic_list())"
    },
    "r": {
     "delete_cmd_postfix": ") ",
     "delete_cmd_prefix": "rm(",
     "library": "var_list.r",
     "varRefreshCmd": "cat(var_dic_list()) "
    }
   },
   "types_to_exclude": [
    "module",
    "function",
    "builtin_function_or_method",
    "instance",
    "_Feature"
   ],
   "window_display": false
  }
 },
 "nbformat": 4,
 "nbformat_minor": 4
}
